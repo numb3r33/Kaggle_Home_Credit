{
 "cells": [
  {
   "cell_type": "code",
   "execution_count": 1,
   "metadata": {},
   "outputs": [
    {
     "name": "stdout",
     "output_type": "stream",
     "text": [
      "Libraries have been loaded\n"
     ]
    }
   ],
   "source": [
    "__imp"
   ]
  },
  {
   "cell_type": "markdown",
   "metadata": {},
   "source": [
    "### Load Additional Libraries"
   ]
  },
  {
   "cell_type": "code",
   "execution_count": 2,
   "metadata": {},
   "outputs": [],
   "source": [
    "import time\n",
    "import lightgbm as lgb\n",
    "\n",
    "from sklearn.model_selection import train_test_split\n",
    "from sklearn.preprocessing import StandardScaler\n",
    "from sklearn.decomposition import PCA\n",
    "from sklearn.model_selection import cross_val_predict, KFold\n",
    "\n",
    "basepath = os.path.expanduser('../')"
   ]
  },
  {
   "cell_type": "markdown",
   "metadata": {},
   "source": [
    "## Load Data"
   ]
  },
  {
   "cell_type": "code",
   "execution_count": 3,
   "metadata": {},
   "outputs": [
    {
     "name": "stdout",
     "output_type": "stream",
     "text": [
      "CPU times: user 31.5 ms, sys: 56.7 ms, total: 88.1 ms\n",
      "Wall time: 87.7 ms\n"
     ]
    }
   ],
   "source": [
    "%%time\n",
    "\n",
    "# contains feature pertaining to raw application file\n",
    "train = pd.read_pickle('../data/interim/feature_groups/application_train.pkl')\n",
    "test  = pd.read_pickle('../data/interim/feature_groups/application_test.pkl')"
   ]
  },
  {
   "cell_type": "code",
   "execution_count": 3,
   "metadata": {},
   "outputs": [
    {
     "name": "stdout",
     "output_type": "stream",
     "text": [
      "CPU times: user 4.76 s, sys: 1.01 s, total: 5.77 s\n",
      "Wall time: 5.82 s\n"
     ]
    }
   ],
   "source": [
    "%%time\n",
    "\n",
    "data = pd.read_hdf('../data/interim/dataset1/data.h5', key='data')"
   ]
  },
  {
   "cell_type": "markdown",
   "metadata": {},
   "source": [
    "## Adversarial Validation"
   ]
  },
  {
   "cell_type": "code",
   "execution_count": 8,
   "metadata": {},
   "outputs": [
    {
     "name": "stdout",
     "output_type": "stream",
     "text": [
      "CPU times: user 107 ms, sys: 32 ms, total: 139 ms\n",
      "Wall time: 139 ms\n"
     ]
    }
   ],
   "source": [
    "%%time\n",
    "\n",
    "data       = pd.concat((train, test))\n",
    "data.index = np.arange(len(data))"
   ]
  },
  {
   "cell_type": "code",
   "execution_count": 9,
   "metadata": {},
   "outputs": [],
   "source": [
    "for c in data.select_dtypes(include=['category']).columns:\n",
    "    data[c] = data[c].cat.codes"
   ]
  },
  {
   "cell_type": "code",
   "execution_count": 4,
   "metadata": {},
   "outputs": [],
   "source": [
    "data['is_test'] = 1\n",
    "data['is_test'].iloc[:307511] = 0"
   ]
  },
  {
   "cell_type": "code",
   "execution_count": 5,
   "metadata": {},
   "outputs": [],
   "source": [
    "SKIP_FLDS = ['SK_ID_CURR', 'TARGET', 'is_test']\n",
    "\n",
    "df, y = data.loc[:, data.columns.drop(SKIP_FLDS)], data.loc[:, 'is_test']"
   ]
  },
  {
   "cell_type": "code",
   "execution_count": 6,
   "metadata": {},
   "outputs": [],
   "source": [
    "X_train, X_val, y_train, y_val = train_test_split(df, y, random_state=SEED, test_size=.3)"
   ]
  },
  {
   "cell_type": "code",
   "execution_count": 7,
   "metadata": {},
   "outputs": [
    {
     "name": "stdout",
     "output_type": "stream",
     "text": [
      "Training until validation scores don't improve for 100 rounds.\n",
      "[20]\ttrain's auc: 0.94716\teval's auc: 0.946534\n",
      "[40]\ttrain's auc: 0.95495\teval's auc: 0.953928\n",
      "[60]\ttrain's auc: 0.960335\teval's auc: 0.959067\n",
      "[80]\ttrain's auc: 0.964323\teval's auc: 0.962768\n",
      "[100]\ttrain's auc: 0.967128\teval's auc: 0.965407\n",
      "[120]\ttrain's auc: 0.96924\teval's auc: 0.967311\n",
      "[140]\ttrain's auc: 0.970881\teval's auc: 0.96863\n",
      "[160]\ttrain's auc: 0.972636\teval's auc: 0.970105\n",
      "[180]\ttrain's auc: 0.973816\teval's auc: 0.971045\n",
      "[200]\ttrain's auc: 0.975076\teval's auc: 0.971971\n",
      "[220]\ttrain's auc: 0.976259\teval's auc: 0.972878\n",
      "[240]\ttrain's auc: 0.97707\teval's auc: 0.9734\n",
      "[260]\ttrain's auc: 0.97792\teval's auc: 0.974041\n",
      "[280]\ttrain's auc: 0.978522\teval's auc: 0.974401\n",
      "[300]\ttrain's auc: 0.979237\teval's auc: 0.974864\n",
      "[320]\ttrain's auc: 0.98006\teval's auc: 0.975476\n",
      "[340]\ttrain's auc: 0.980629\teval's auc: 0.975759\n",
      "[360]\ttrain's auc: 0.981118\teval's auc: 0.97597\n",
      "[380]\ttrain's auc: 0.981729\teval's auc: 0.976396\n",
      "[400]\ttrain's auc: 0.982253\teval's auc: 0.976657\n",
      "[420]\ttrain's auc: 0.982625\teval's auc: 0.976782\n",
      "[440]\ttrain's auc: 0.983057\teval's auc: 0.977046\n",
      "[460]\ttrain's auc: 0.983413\teval's auc: 0.977167\n",
      "[480]\ttrain's auc: 0.983869\teval's auc: 0.977378\n",
      "[500]\ttrain's auc: 0.984326\teval's auc: 0.977622\n",
      "[520]\ttrain's auc: 0.984725\teval's auc: 0.977846\n",
      "[540]\ttrain's auc: 0.985075\teval's auc: 0.977967\n",
      "[560]\ttrain's auc: 0.985447\teval's auc: 0.978222\n",
      "[580]\ttrain's auc: 0.985735\teval's auc: 0.978307\n",
      "[600]\ttrain's auc: 0.986075\teval's auc: 0.978427\n",
      "[620]\ttrain's auc: 0.986459\teval's auc: 0.978641\n",
      "[640]\ttrain's auc: 0.986746\teval's auc: 0.978768\n",
      "[660]\ttrain's auc: 0.987023\teval's auc: 0.978876\n",
      "[680]\ttrain's auc: 0.987265\teval's auc: 0.978944\n",
      "[700]\ttrain's auc: 0.987636\teval's auc: 0.979165\n",
      "[720]\ttrain's auc: 0.987921\teval's auc: 0.979273\n",
      "[740]\ttrain's auc: 0.988181\teval's auc: 0.979334\n",
      "[760]\ttrain's auc: 0.988483\teval's auc: 0.979439\n",
      "[780]\ttrain's auc: 0.988787\teval's auc: 0.979596\n",
      "[800]\ttrain's auc: 0.98905\teval's auc: 0.979658\n",
      "[820]\ttrain's auc: 0.989306\teval's auc: 0.979737\n",
      "[840]\ttrain's auc: 0.989526\teval's auc: 0.979749\n",
      "[860]\ttrain's auc: 0.989893\teval's auc: 0.980008\n",
      "[880]\ttrain's auc: 0.990096\teval's auc: 0.980049\n",
      "[900]\ttrain's auc: 0.990349\teval's auc: 0.980134\n",
      "[920]\ttrain's auc: 0.990565\teval's auc: 0.980195\n",
      "[940]\ttrain's auc: 0.990756\teval's auc: 0.980252\n",
      "[960]\ttrain's auc: 0.990938\teval's auc: 0.980289\n",
      "[980]\ttrain's auc: 0.991143\teval's auc: 0.980383\n",
      "[1000]\ttrain's auc: 0.991331\teval's auc: 0.980452\n",
      "[1020]\ttrain's auc: 0.991531\teval's auc: 0.980467\n",
      "[1040]\ttrain's auc: 0.991741\teval's auc: 0.980513\n",
      "[1060]\ttrain's auc: 0.991917\teval's auc: 0.980561\n",
      "[1080]\ttrain's auc: 0.992109\teval's auc: 0.980595\n",
      "[1100]\ttrain's auc: 0.992261\teval's auc: 0.980583\n",
      "[1120]\ttrain's auc: 0.992429\teval's auc: 0.980601\n",
      "[1140]\ttrain's auc: 0.992603\teval's auc: 0.980654\n",
      "[1160]\ttrain's auc: 0.992783\teval's auc: 0.980714\n",
      "[1180]\ttrain's auc: 0.992969\teval's auc: 0.98073\n",
      "[1200]\ttrain's auc: 0.993113\teval's auc: 0.980748\n",
      "[1220]\ttrain's auc: 0.99326\teval's auc: 0.980798\n",
      "[1240]\ttrain's auc: 0.993384\teval's auc: 0.980838\n",
      "[1260]\ttrain's auc: 0.993552\teval's auc: 0.980838\n",
      "[1280]\ttrain's auc: 0.993713\teval's auc: 0.980854\n",
      "[1300]\ttrain's auc: 0.993847\teval's auc: 0.980864\n",
      "[1320]\ttrain's auc: 0.99397\teval's auc: 0.980875\n",
      "[1340]\ttrain's auc: 0.994133\teval's auc: 0.980917\n",
      "[1360]\ttrain's auc: 0.994262\teval's auc: 0.98093\n",
      "[1380]\ttrain's auc: 0.994391\teval's auc: 0.980966\n",
      "[1400]\ttrain's auc: 0.994545\teval's auc: 0.980983\n",
      "[1420]\ttrain's auc: 0.994678\teval's auc: 0.981029\n",
      "[1440]\ttrain's auc: 0.994814\teval's auc: 0.981064\n",
      "[1460]\ttrain's auc: 0.99495\teval's auc: 0.98112\n",
      "[1480]\ttrain's auc: 0.995083\teval's auc: 0.981206\n",
      "[1500]\ttrain's auc: 0.995191\teval's auc: 0.981195\n",
      "[1520]\ttrain's auc: 0.995303\teval's auc: 0.981182\n",
      "[1540]\ttrain's auc: 0.995416\teval's auc: 0.9812\n",
      "[1560]\ttrain's auc: 0.995528\teval's auc: 0.981185\n",
      "[1580]\ttrain's auc: 0.995627\teval's auc: 0.981187\n",
      "[1600]\ttrain's auc: 0.995747\teval's auc: 0.981242\n",
      "[1620]\ttrain's auc: 0.995845\teval's auc: 0.981224\n",
      "[1640]\ttrain's auc: 0.995949\teval's auc: 0.981231\n",
      "[1660]\ttrain's auc: 0.996015\teval's auc: 0.981224\n",
      "[1680]\ttrain's auc: 0.996103\teval's auc: 0.98123\n",
      "[1700]\ttrain's auc: 0.996192\teval's auc: 0.981256\n",
      "[1720]\ttrain's auc: 0.996277\teval's auc: 0.981271\n",
      "[1740]\ttrain's auc: 0.99638\teval's auc: 0.981295\n",
      "[1760]\ttrain's auc: 0.99647\teval's auc: 0.981311\n",
      "[1780]\ttrain's auc: 0.996557\teval's auc: 0.981334\n",
      "[1800]\ttrain's auc: 0.996642\teval's auc: 0.981327\n",
      "[1820]\ttrain's auc: 0.996732\teval's auc: 0.981331\n",
      "[1840]\ttrain's auc: 0.996815\teval's auc: 0.981355\n",
      "[1860]\ttrain's auc: 0.996888\teval's auc: 0.98136\n",
      "[1880]\ttrain's auc: 0.996936\teval's auc: 0.98135\n",
      "[1900]\ttrain's auc: 0.997004\teval's auc: 0.981385\n",
      "[1920]\ttrain's auc: 0.997084\teval's auc: 0.981384\n",
      "[1940]\ttrain's auc: 0.997138\teval's auc: 0.981385\n",
      "[1960]\ttrain's auc: 0.997203\teval's auc: 0.981365\n",
      "[1980]\ttrain's auc: 0.997285\teval's auc: 0.981419\n",
      "[2000]\ttrain's auc: 0.997375\teval's auc: 0.981403\n",
      "[2020]\ttrain's auc: 0.997438\teval's auc: 0.981419\n",
      "[2040]\ttrain's auc: 0.997488\teval's auc: 0.981401\n",
      "[2060]\ttrain's auc: 0.997542\teval's auc: 0.9814\n",
      "[2080]\ttrain's auc: 0.997607\teval's auc: 0.981404\n",
      "[2100]\ttrain's auc: 0.997667\teval's auc: 0.981411\n",
      "Early stopping, best iteration is:\n",
      "[2015]\ttrain's auc: 0.99742\teval's auc: 0.981424\n"
     ]
    }
   ],
   "source": [
    "params = {\n",
    "    'objective': 'binary',\n",
    "    'max_depth': 4,\n",
    "    'metric': 'auc',\n",
    "    'nthread': 4,\n",
    "    'seed': SEED\n",
    "}\n",
    "\n",
    "num_boost_round       = 10000\n",
    "early_stopping_rounds = 100\n",
    "\n",
    "ltrain = lgb.Dataset(X_train, y_train, feature_name=X_train.columns.tolist())\n",
    "lval   = lgb.Dataset(X_val, y_val, feature_name=X_val.columns.tolist())\n",
    "\n",
    "val_sets  = [ltrain, lval]\n",
    "val_names = ['train', 'eval'] \n",
    "\n",
    "m      = lgb.train(params, \n",
    "                   ltrain, \n",
    "                   num_boost_round, \n",
    "                   valid_sets=val_sets, \n",
    "                   valid_names=val_names, \n",
    "                   early_stopping_rounds=early_stopping_rounds,\n",
    "                   verbose_eval=20\n",
    "                  )"
   ]
  },
  {
   "cell_type": "code",
   "execution_count": 8,
   "metadata": {},
   "outputs": [],
   "source": [
    "m.save_model('../data/processed/models/adversarial_model.txt')"
   ]
  },
  {
   "cell_type": "code",
   "execution_count": 10,
   "metadata": {},
   "outputs": [
    {
     "data": {
      "image/png": "[encoded data removed]",
      "text/plain": [
       "<Figure size 864x360 with 1 Axes>"
      ]
     },
     "metadata": {},
     "output_type": "display_data"
    }
   ],
   "source": [
    "fig, ax = plt.subplots(1, figsize=(12, 5))\n",
    "lgb.plot_importance(m, importance_type='split', max_num_features=20, ax=ax);"
   ]
  },
  {
   "cell_type": "code",
   "execution_count": 11,
   "metadata": {},
   "outputs": [
    {
     "data": {
      "image/png": "[encoded data removed]",
      "text/plain": [
       "<Figure size 864x360 with 1 Axes>"
      ]
     },
     "metadata": {},
     "output_type": "display_data"
    }
   ],
   "source": [
    "fig, ax = plt.subplots(1, figsize=(12, 5))\n",
    "lgb.plot_importance(m, importance_type='gain', max_num_features=20, ax=ax);"
   ]
  },
  {
   "cell_type": "markdown",
   "metadata": {},
   "source": [
    "### OOF prediction for training set"
   ]
  },
  {
   "cell_type": "code",
   "execution_count": 4,
   "metadata": {},
   "outputs": [],
   "source": [
    "SKIP_FLDS = ['SK_ID_CURR', 'TARGET', 'is_test']\n",
    "\n",
    "data['is_test'] = 1\n",
    "data['is_test'].iloc[:307511] = 0\n",
    "\n",
    "data  = data.sample(frac=1.) # shuffle rows\n",
    "df, y = data.loc[:, data.columns.drop(SKIP_FLDS)], data.loc[:, 'is_test']"
   ]
  },
  {
   "cell_type": "code",
   "execution_count": 5,
   "metadata": {},
   "outputs": [
    {
     "name": "stdout",
     "output_type": "stream",
     "text": [
      "CPU times: user 2h 35min 49s, sys: 26.8 s, total: 2h 36min 15s\n",
      "Wall time: 42min 55s\n"
     ]
    }
   ],
   "source": [
    "%%time\n",
    "\n",
    "estimator  = lgb.LGBMClassifier(n_estimators=2015, max_depth=4, objective='binary')\n",
    "oof_scores = cross_val_predict(estimator, df, y, cv=5, method='predict_proba')"
   ]
  },
  {
   "cell_type": "code",
   "execution_count": 6,
   "metadata": {},
   "outputs": [],
   "source": [
    "np.save('../data/processed/models/oof_scores.npy', oof_scores)"
   ]
  },
  {
   "cell_type": "code",
   "execution_count": null,
   "metadata": {},
   "outputs": [],
   "source": [
    "oof_scores = np.load('../data/processed/models/oof_scores.npy')"
   ]
  },
  {
   "cell_type": "code",
   "execution_count": 8,
   "metadata": {},
   "outputs": [],
   "source": [
    "df_copy                        = df.copy()\n",
    "df_copy.loc[:, 'is_test_prob'] = oof_scores[:, 1]\n",
    "df_copy.loc[:, 'is_test']      = y\n",
    "df_copy.loc[:, 'SK_ID_CURR']   = data.SK_ID_CURR\n",
    "\n",
    "target                         = data.TARGET.iloc[:307511]"
   ]
  },
  {
   "cell_type": "code",
   "execution_count": 9,
   "metadata": {},
   "outputs": [
    {
     "data": {
      "text/plain": [
       "41"
      ]
     },
     "execution_count": 9,
     "metadata": {},
     "output_type": "execute_result"
    }
   ],
   "source": [
    "del data\n",
    "gc.collect()"
   ]
  },
  {
   "cell_type": "code",
   "execution_count": 10,
   "metadata": {},
   "outputs": [
    {
     "data": {
      "text/html": [
       "<div>\n",
       "<style scoped>\n",
       "    .dataframe tbody tr th:only-of-type {\n",
       "        vertical-align: middle;\n",
       "    }\n",
       "\n",
       "    .dataframe tbody tr th {\n",
       "        vertical-align: top;\n",
       "    }\n",
       "\n",
       "    .dataframe thead th {\n",
       "        text-align: right;\n",
       "    }\n",
       "</style>\n",
       "<table border=\"1\" class=\"dataframe\">\n",
       "  <thead>\n",
       "    <tr style=\"text-align: right;\">\n",
       "      <th></th>\n",
       "      <th>SK_ID_CURR</th>\n",
       "      <th>is_test_prob</th>\n",
       "    </tr>\n",
       "  </thead>\n",
       "  <tbody>\n",
       "    <tr>\n",
       "      <th>122198</th>\n",
       "      <td>241677</td>\n",
       "      <td>9.977956e-01</td>\n",
       "    </tr>\n",
       "    <tr>\n",
       "      <th>169662</th>\n",
       "      <td>296636</td>\n",
       "      <td>9.948267e-01</td>\n",
       "    </tr>\n",
       "    <tr>\n",
       "      <th>165807</th>\n",
       "      <td>292206</td>\n",
       "      <td>9.941103e-01</td>\n",
       "    </tr>\n",
       "    <tr>\n",
       "      <th>22096</th>\n",
       "      <td>125733</td>\n",
       "      <td>9.936265e-01</td>\n",
       "    </tr>\n",
       "    <tr>\n",
       "      <th>226966</th>\n",
       "      <td>362902</td>\n",
       "      <td>9.930864e-01</td>\n",
       "    </tr>\n",
       "    <tr>\n",
       "      <th>128724</th>\n",
       "      <td>249306</td>\n",
       "      <td>9.930038e-01</td>\n",
       "    </tr>\n",
       "    <tr>\n",
       "      <th>166744</th>\n",
       "      <td>293302</td>\n",
       "      <td>9.928986e-01</td>\n",
       "    </tr>\n",
       "    <tr>\n",
       "      <th>4052</th>\n",
       "      <td>104738</td>\n",
       "      <td>9.914845e-01</td>\n",
       "    </tr>\n",
       "    <tr>\n",
       "      <th>84549</th>\n",
       "      <td>198087</td>\n",
       "      <td>9.913126e-01</td>\n",
       "    </tr>\n",
       "    <tr>\n",
       "      <th>117614</th>\n",
       "      <td>236383</td>\n",
       "      <td>9.898453e-01</td>\n",
       "    </tr>\n",
       "    <tr>\n",
       "      <th>182966</th>\n",
       "      <td>312068</td>\n",
       "      <td>9.891086e-01</td>\n",
       "    </tr>\n",
       "    <tr>\n",
       "      <th>262283</th>\n",
       "      <td>403617</td>\n",
       "      <td>9.887556e-01</td>\n",
       "    </tr>\n",
       "    <tr>\n",
       "      <th>185258</th>\n",
       "      <td>314751</td>\n",
       "      <td>9.881531e-01</td>\n",
       "    </tr>\n",
       "    <tr>\n",
       "      <th>125776</th>\n",
       "      <td>245852</td>\n",
       "      <td>9.878210e-01</td>\n",
       "    </tr>\n",
       "    <tr>\n",
       "      <th>264785</th>\n",
       "      <td>406626</td>\n",
       "      <td>9.877984e-01</td>\n",
       "    </tr>\n",
       "    <tr>\n",
       "      <th>162778</th>\n",
       "      <td>288709</td>\n",
       "      <td>9.874479e-01</td>\n",
       "    </tr>\n",
       "    <tr>\n",
       "      <th>147412</th>\n",
       "      <td>270920</td>\n",
       "      <td>9.871137e-01</td>\n",
       "    </tr>\n",
       "    <tr>\n",
       "      <th>14266</th>\n",
       "      <td>116640</td>\n",
       "      <td>9.870938e-01</td>\n",
       "    </tr>\n",
       "    <tr>\n",
       "      <th>256246</th>\n",
       "      <td>396519</td>\n",
       "      <td>9.870531e-01</td>\n",
       "    </tr>\n",
       "    <tr>\n",
       "      <th>62448</th>\n",
       "      <td>172413</td>\n",
       "      <td>9.870475e-01</td>\n",
       "    </tr>\n",
       "    <tr>\n",
       "      <th>288452</th>\n",
       "      <td>434165</td>\n",
       "      <td>9.867028e-01</td>\n",
       "    </tr>\n",
       "    <tr>\n",
       "      <th>245451</th>\n",
       "      <td>384062</td>\n",
       "      <td>9.866650e-01</td>\n",
       "    </tr>\n",
       "    <tr>\n",
       "      <th>6305</th>\n",
       "      <td>107360</td>\n",
       "      <td>9.865422e-01</td>\n",
       "    </tr>\n",
       "    <tr>\n",
       "      <th>161136</th>\n",
       "      <td>286796</td>\n",
       "      <td>9.862660e-01</td>\n",
       "    </tr>\n",
       "    <tr>\n",
       "      <th>220255</th>\n",
       "      <td>355156</td>\n",
       "      <td>9.855232e-01</td>\n",
       "    </tr>\n",
       "    <tr>\n",
       "      <th>179922</th>\n",
       "      <td>308503</td>\n",
       "      <td>9.852721e-01</td>\n",
       "    </tr>\n",
       "    <tr>\n",
       "      <th>174677</th>\n",
       "      <td>302427</td>\n",
       "      <td>9.851522e-01</td>\n",
       "    </tr>\n",
       "    <tr>\n",
       "      <th>235195</th>\n",
       "      <td>372436</td>\n",
       "      <td>9.845370e-01</td>\n",
       "    </tr>\n",
       "    <tr>\n",
       "      <th>210938</th>\n",
       "      <td>344453</td>\n",
       "      <td>9.841827e-01</td>\n",
       "    </tr>\n",
       "    <tr>\n",
       "      <th>42278</th>\n",
       "      <td>148941</td>\n",
       "      <td>9.838710e-01</td>\n",
       "    </tr>\n",
       "    <tr>\n",
       "      <th>...</th>\n",
       "      <td>...</td>\n",
       "      <td>...</td>\n",
       "    </tr>\n",
       "    <tr>\n",
       "      <th>222064</th>\n",
       "      <td>357242</td>\n",
       "      <td>2.263402e-15</td>\n",
       "    </tr>\n",
       "    <tr>\n",
       "      <th>241080</th>\n",
       "      <td>379163</td>\n",
       "      <td>2.203972e-15</td>\n",
       "    </tr>\n",
       "    <tr>\n",
       "      <th>89056</th>\n",
       "      <td>203403</td>\n",
       "      <td>2.053947e-15</td>\n",
       "    </tr>\n",
       "    <tr>\n",
       "      <th>270239</th>\n",
       "      <td>413199</td>\n",
       "      <td>1.853038e-15</td>\n",
       "    </tr>\n",
       "    <tr>\n",
       "      <th>102529</th>\n",
       "      <td>219021</td>\n",
       "      <td>1.662282e-15</td>\n",
       "    </tr>\n",
       "    <tr>\n",
       "      <th>274095</th>\n",
       "      <td>417711</td>\n",
       "      <td>1.567329e-15</td>\n",
       "    </tr>\n",
       "    <tr>\n",
       "      <th>280068</th>\n",
       "      <td>424481</td>\n",
       "      <td>1.510356e-15</td>\n",
       "    </tr>\n",
       "    <tr>\n",
       "      <th>164332</th>\n",
       "      <td>290498</td>\n",
       "      <td>1.225111e-15</td>\n",
       "    </tr>\n",
       "    <tr>\n",
       "      <th>130871</th>\n",
       "      <td>251797</td>\n",
       "      <td>1.177337e-15</td>\n",
       "    </tr>\n",
       "    <tr>\n",
       "      <th>33757</th>\n",
       "      <td>139111</td>\n",
       "      <td>1.148902e-15</td>\n",
       "    </tr>\n",
       "    <tr>\n",
       "      <th>46524</th>\n",
       "      <td>153899</td>\n",
       "      <td>1.104640e-15</td>\n",
       "    </tr>\n",
       "    <tr>\n",
       "      <th>4914</th>\n",
       "      <td>105751</td>\n",
       "      <td>1.055634e-15</td>\n",
       "    </tr>\n",
       "    <tr>\n",
       "      <th>270247</th>\n",
       "      <td>413207</td>\n",
       "      <td>1.055337e-15</td>\n",
       "    </tr>\n",
       "    <tr>\n",
       "      <th>211139</th>\n",
       "      <td>344675</td>\n",
       "      <td>7.190999e-16</td>\n",
       "    </tr>\n",
       "    <tr>\n",
       "      <th>188794</th>\n",
       "      <td>318881</td>\n",
       "      <td>5.941797e-16</td>\n",
       "    </tr>\n",
       "    <tr>\n",
       "      <th>27655</th>\n",
       "      <td>132148</td>\n",
       "      <td>4.382907e-16</td>\n",
       "    </tr>\n",
       "    <tr>\n",
       "      <th>150630</th>\n",
       "      <td>274618</td>\n",
       "      <td>4.262460e-16</td>\n",
       "    </tr>\n",
       "    <tr>\n",
       "      <th>152898</th>\n",
       "      <td>277210</td>\n",
       "      <td>4.243888e-16</td>\n",
       "    </tr>\n",
       "    <tr>\n",
       "      <th>149253</th>\n",
       "      <td>273042</td>\n",
       "      <td>4.160786e-16</td>\n",
       "    </tr>\n",
       "    <tr>\n",
       "      <th>16142</th>\n",
       "      <td>118827</td>\n",
       "      <td>2.040399e-16</td>\n",
       "    </tr>\n",
       "    <tr>\n",
       "      <th>264909</th>\n",
       "      <td>406762</td>\n",
       "      <td>1.877787e-16</td>\n",
       "    </tr>\n",
       "    <tr>\n",
       "      <th>114501</th>\n",
       "      <td>232775</td>\n",
       "      <td>1.581902e-16</td>\n",
       "    </tr>\n",
       "    <tr>\n",
       "      <th>56964</th>\n",
       "      <td>166026</td>\n",
       "      <td>1.394292e-16</td>\n",
       "    </tr>\n",
       "    <tr>\n",
       "      <th>303603</th>\n",
       "      <td>451760</td>\n",
       "      <td>1.292682e-16</td>\n",
       "    </tr>\n",
       "    <tr>\n",
       "      <th>258669</th>\n",
       "      <td>399346</td>\n",
       "      <td>9.815873e-17</td>\n",
       "    </tr>\n",
       "    <tr>\n",
       "      <th>145137</th>\n",
       "      <td>268295</td>\n",
       "      <td>9.462099e-17</td>\n",
       "    </tr>\n",
       "    <tr>\n",
       "      <th>133548</th>\n",
       "      <td>254889</td>\n",
       "      <td>8.890211e-17</td>\n",
       "    </tr>\n",
       "    <tr>\n",
       "      <th>238146</th>\n",
       "      <td>375796</td>\n",
       "      <td>5.329520e-17</td>\n",
       "    </tr>\n",
       "    <tr>\n",
       "      <th>247786</th>\n",
       "      <td>386703</td>\n",
       "      <td>4.144626e-17</td>\n",
       "    </tr>\n",
       "    <tr>\n",
       "      <th>266771</th>\n",
       "      <td>409061</td>\n",
       "      <td>4.518780e-18</td>\n",
       "    </tr>\n",
       "  </tbody>\n",
       "</table>\n",
       "<p>307511 rows × 2 columns</p>\n",
       "</div>"
      ],
      "text/plain": [
       "        SK_ID_CURR  is_test_prob\n",
       "122198      241677  9.977956e-01\n",
       "169662      296636  9.948267e-01\n",
       "165807      292206  9.941103e-01\n",
       "22096       125733  9.936265e-01\n",
       "226966      362902  9.930864e-01\n",
       "128724      249306  9.930038e-01\n",
       "166744      293302  9.928986e-01\n",
       "4052        104738  9.914845e-01\n",
       "84549       198087  9.913126e-01\n",
       "117614      236383  9.898453e-01\n",
       "182966      312068  9.891086e-01\n",
       "262283      403617  9.887556e-01\n",
       "185258      314751  9.881531e-01\n",
       "125776      245852  9.878210e-01\n",
       "264785      406626  9.877984e-01\n",
       "162778      288709  9.874479e-01\n",
       "147412      270920  9.871137e-01\n",
       "14266       116640  9.870938e-01\n",
       "256246      396519  9.870531e-01\n",
       "62448       172413  9.870475e-01\n",
       "288452      434165  9.867028e-01\n",
       "245451      384062  9.866650e-01\n",
       "6305        107360  9.865422e-01\n",
       "161136      286796  9.862660e-01\n",
       "220255      355156  9.855232e-01\n",
       "179922      308503  9.852721e-01\n",
       "174677      302427  9.851522e-01\n",
       "235195      372436  9.845370e-01\n",
       "210938      344453  9.841827e-01\n",
       "42278       148941  9.838710e-01\n",
       "...            ...           ...\n",
       "222064      357242  2.263402e-15\n",
       "241080      379163  2.203972e-15\n",
       "89056       203403  2.053947e-15\n",
       "270239      413199  1.853038e-15\n",
       "102529      219021  1.662282e-15\n",
       "274095      417711  1.567329e-15\n",
       "280068      424481  1.510356e-15\n",
       "164332      290498  1.225111e-15\n",
       "130871      251797  1.177337e-15\n",
       "33757       139111  1.148902e-15\n",
       "46524       153899  1.104640e-15\n",
       "4914        105751  1.055634e-15\n",
       "270247      413207  1.055337e-15\n",
       "211139      344675  7.190999e-16\n",
       "188794      318881  5.941797e-16\n",
       "27655       132148  4.382907e-16\n",
       "150630      274618  4.262460e-16\n",
       "152898      277210  4.243888e-16\n",
       "149253      273042  4.160786e-16\n",
       "16142       118827  2.040399e-16\n",
       "264909      406762  1.877787e-16\n",
       "114501      232775  1.581902e-16\n",
       "56964       166026  1.394292e-16\n",
       "303603      451760  1.292682e-16\n",
       "258669      399346  9.815873e-17\n",
       "145137      268295  9.462099e-17\n",
       "133548      254889  8.890211e-17\n",
       "238146      375796  5.329520e-17\n",
       "247786      386703  4.144626e-17\n",
       "266771      409061  4.518780e-18\n",
       "\n",
       "[307511 rows x 2 columns]"
      ]
     },
     "execution_count": 10,
     "metadata": {},
     "output_type": "execute_result"
    }
   ],
   "source": [
    "df_copy[df_copy.is_test == 0].sort_values(by='is_test_prob', ascending=False)\\\n",
    "                             .loc[:, ['SK_ID_CURR', 'is_test_prob']]"
   ]
  },
  {
   "cell_type": "code",
   "execution_count": 12,
   "metadata": {},
   "outputs": [
    {
     "data": {
      "image/png": "[encoded data removed]",
      "text/plain": [
       "<Figure size 432x288 with 1 Axes>"
      ]
     },
     "metadata": {},
     "output_type": "display_data"
    }
   ],
   "source": [
    "df_copy[df_copy.is_test == 0].is_test_prob.hist(bins=50);"
   ]
  },
  {
   "cell_type": "code",
   "execution_count": 77,
   "metadata": {},
   "outputs": [],
   "source": [
    "def fold_gen(df_copy):\n",
    "    x = df_copy[(df_copy.is_test == 0) & (df_copy.is_test_prob > .15)]\n",
    "\n",
    "    for fold in range(5):\n",
    "        test_index  = list(x.sample(frac=48744).index)\n",
    "        train_index = list(set(df_copy[(df_copy.is_test == 0)].index) - set(test_index))\n",
    "\n",
    "        yield train_index,  test_index"
   ]
  },
  {
   "cell_type": "code",
   "execution_count": 22,
   "metadata": {},
   "outputs": [
    {
     "data": {
      "text/plain": [
       "16668"
      ]
     },
     "execution_count": 22,
     "metadata": {},
     "output_type": "execute_result"
    }
   ],
   "source": [
    "df_copy[(df_copy.is_test == 0) & (df_copy.is_test_prob > .3)].shape[0]"
   ]
  },
  {
   "cell_type": "code",
   "execution_count": 23,
   "metadata": {},
   "outputs": [
    {
     "data": {
      "text/plain": [
       "290843"
      ]
     },
     "execution_count": 23,
     "metadata": {},
     "output_type": "execute_result"
    }
   ],
   "source": [
    "df_copy[(df_copy.is_test == 0) & (df_copy.is_test_prob <= 0.3)].shape[0]"
   ]
  },
  {
   "cell_type": "code",
   "execution_count": 24,
   "metadata": {},
   "outputs": [
    {
     "data": {
      "text/plain": [
       "0.05420293908185398"
      ]
     },
     "execution_count": 24,
     "metadata": {},
     "output_type": "execute_result"
    }
   ],
   "source": [
    "16668 / 307511"
   ]
  },
  {
   "cell_type": "code",
   "execution_count": 26,
   "metadata": {},
   "outputs": [
    {
     "data": {
      "text/plain": [
       "9748.800000000001"
      ]
     },
     "execution_count": 26,
     "metadata": {},
     "output_type": "execute_result"
    }
   ],
   "source": [
    ".2 * 48744"
   ]
  },
  {
   "cell_type": "code",
   "execution_count": 33,
   "metadata": {},
   "outputs": [],
   "source": [
    "def save_folds(df_copy):\n",
    "    x = df_copy[(df_copy.is_test == 0) & (df_copy.is_test_prob > .3)]\n",
    "    test_folds = []\n",
    "    \n",
    "    for fold in range(6):\n",
    "        test_index  = list(x.sample(n=9748).index)\n",
    "        train_index = list(set(df_copy[(df_copy.is_test == 0)].index) - set(test_index))\n",
    "\n",
    "        test_folds.append(test_index)\n",
    "    \n",
    "    test_folds = np.array(test_folds).T\n",
    "    cv_df      = pd.DataFrame(test_folds, columns=[f'F{i}' for i in range(6)])\n",
    "    \n",
    "    cv_df.to_csv('../data/raw/cv_adversarial_idx_v1.csv', index=False)\n",
    "#     return cv_df"
   ]
  },
  {
   "cell_type": "code",
   "execution_count": 34,
   "metadata": {},
   "outputs": [],
   "source": [
    "save_folds(df_copy)"
   ]
  },
  {
   "cell_type": "code",
   "execution_count": 29,
   "metadata": {},
   "outputs": [],
   "source": [
    "cv_folds = save_folds(df_copy)"
   ]
  },
  {
   "cell_type": "code",
   "execution_count": 30,
   "metadata": {},
   "outputs": [
    {
     "data": {
      "text/plain": [
       "0.5812474353713583"
      ]
     },
     "execution_count": 30,
     "metadata": {},
     "output_type": "execute_result"
    }
   ],
   "source": [
    "len((set(cv_folds['F0'].values) & set(cv_folds['F2'].values))) / len(cv_folds['F0'])"
   ]
  },
  {
   "cell_type": "code",
   "execution_count": 31,
   "metadata": {},
   "outputs": [
    {
     "data": {
      "text/plain": [
       "0.5853508411981945"
      ]
     },
     "execution_count": 31,
     "metadata": {},
     "output_type": "execute_result"
    }
   ],
   "source": [
    "len((set(cv_folds['F0'].values) & set(cv_folds['F3'].values))) / len(cv_folds['F0'])"
   ]
  },
  {
   "cell_type": "code",
   "execution_count": 32,
   "metadata": {},
   "outputs": [
    {
     "data": {
      "text/plain": [
       "0.5860689372178909"
      ]
     },
     "execution_count": 32,
     "metadata": {},
     "output_type": "execute_result"
    }
   ],
   "source": [
    "len((set(cv_folds['F0'].values) & set(cv_folds['F4'].values))) / len(cv_folds['F0'])"
   ]
  },
  {
   "cell_type": "code",
   "execution_count": null,
   "metadata": {},
   "outputs": [],
   "source": []
  },
  {
   "cell_type": "code",
   "execution_count": 84,
   "metadata": {},
   "outputs": [
    {
     "data": {
      "text/plain": [
       "(356255, 123)"
      ]
     },
     "execution_count": 84,
     "metadata": {},
     "output_type": "execute_result"
    }
   ],
   "source": [
    "df_copy.shape"
   ]
  },
  {
   "cell_type": "code",
   "execution_count": 82,
   "metadata": {},
   "outputs": [
    {
     "name": "stdout",
     "output_type": "stream",
     "text": [
      "[20]\tcv_agg's auc: 0.618144 + 0.00514626\n",
      "[40]\tcv_agg's auc: 0.631824 + 0.0046029\n",
      "[60]\tcv_agg's auc: 0.63968 + 0.00515748\n",
      "[80]\tcv_agg's auc: 0.64062 + 0.00485862\n",
      "[100]\tcv_agg's auc: 0.642104 + 0.00573209\n",
      "[120]\tcv_agg's auc: 0.642286 + 0.00572781\n",
      "[140]\tcv_agg's auc: 0.642618 + 0.00600976\n",
      "[160]\tcv_agg's auc: 0.642657 + 0.00613822\n",
      "[180]\tcv_agg's auc: 0.642169 + 0.0060855\n",
      "[200]\tcv_agg's auc: 0.64151 + 0.00599734\n",
      "[220]\tcv_agg's auc: 0.641801 + 0.0057658\n",
      "[240]\tcv_agg's auc: 0.642513 + 0.00623979\n",
      "[260]\tcv_agg's auc: 0.64221 + 0.00644424\n"
     ]
    },
    {
     "data": {
      "text/plain": [
       "{'auc-mean': [0.6042937582096902,\n",
       "  0.6063851080102118,\n",
       "  0.6094948735497355,\n",
       "  0.6105071593059883,\n",
       "  0.6103113565861819,\n",
       "  0.609949146327001,\n",
       "  0.6112450210864804,\n",
       "  0.611922664355651,\n",
       "  0.6130385780092173,\n",
       "  0.6135514649349239,\n",
       "  0.6140567851372335,\n",
       "  0.6138722483547333,\n",
       "  0.6138905358882123,\n",
       "  0.6144706221804735,\n",
       "  0.6154927026924676,\n",
       "  0.6163287187043333,\n",
       "  0.616554768416919,\n",
       "  0.6173352621591126,\n",
       "  0.6174060247445852,\n",
       "  0.6181444201569033,\n",
       "  0.6187143963227383,\n",
       "  0.6194944579588235,\n",
       "  0.6198957050849789,\n",
       "  0.6207915448273522,\n",
       "  0.6219778419869648,\n",
       "  0.6230271612099727,\n",
       "  0.6237795045767934,\n",
       "  0.6248345699284803,\n",
       "  0.6255729154444939,\n",
       "  0.626186580135842,\n",
       "  0.6268817748326054,\n",
       "  0.6272010226809934,\n",
       "  0.6273822084294582,\n",
       "  0.6275895204726845,\n",
       "  0.6282070344389259,\n",
       "  0.6287205101248088,\n",
       "  0.6293304442291344,\n",
       "  0.6304520246260321,\n",
       "  0.6314348211934767,\n",
       "  0.63182393503278,\n",
       "  0.6320910920507157,\n",
       "  0.6328286905792679,\n",
       "  0.6332499251145899,\n",
       "  0.6335400030841262,\n",
       "  0.6339219347473423,\n",
       "  0.6343780667135362,\n",
       "  0.6346656651477633,\n",
       "  0.6349522144932271,\n",
       "  0.6353209898883408,\n",
       "  0.6356968195404458,\n",
       "  0.6359998834256626,\n",
       "  0.6363617635330536,\n",
       "  0.6369724234738492,\n",
       "  0.6375781529757194,\n",
       "  0.6381613008585463,\n",
       "  0.6384957144657488,\n",
       "  0.6388081248826987,\n",
       "  0.639168234515903,\n",
       "  0.6395366360813741,\n",
       "  0.6396795980666191,\n",
       "  0.6395382281034806,\n",
       "  0.6396315254901586,\n",
       "  0.6398699734574732,\n",
       "  0.639993284093243,\n",
       "  0.64009498346821,\n",
       "  0.6401310548549672,\n",
       "  0.6402020743791693,\n",
       "  0.6402583302985331,\n",
       "  0.6403213750619002,\n",
       "  0.6404226249840557,\n",
       "  0.6404818686068311,\n",
       "  0.6404023807914939,\n",
       "  0.6405132501639998,\n",
       "  0.6405452749097411,\n",
       "  0.6405667604476457,\n",
       "  0.6407519876138268,\n",
       "  0.6407843449566194,\n",
       "  0.6408416212845321,\n",
       "  0.6406586577632332,\n",
       "  0.6406201118276573,\n",
       "  0.6407159979004323,\n",
       "  0.6407096049942117,\n",
       "  0.6409291933437938,\n",
       "  0.640926003700698,\n",
       "  0.6409211397705461,\n",
       "  0.6409315574303437,\n",
       "  0.6410666333459278,\n",
       "  0.6413117346973489,\n",
       "  0.6414656568474456,\n",
       "  0.6415688151194138,\n",
       "  0.6415708853085518,\n",
       "  0.6416102705947025,\n",
       "  0.6413866388163599,\n",
       "  0.6416514634511084,\n",
       "  0.6416447561945183,\n",
       "  0.6414640254630886,\n",
       "  0.6417540092054829,\n",
       "  0.6418223483441018,\n",
       "  0.6419943930194878,\n",
       "  0.642104462203737,\n",
       "  0.642245550392162,\n",
       "  0.6423227493760979,\n",
       "  0.6422872659207058,\n",
       "  0.6422760361474482,\n",
       "  0.6424121525852928,\n",
       "  0.6424229148846636,\n",
       "  0.6425242614966201,\n",
       "  0.642469769490148,\n",
       "  0.6424516288059134,\n",
       "  0.6423725842034094,\n",
       "  0.642336103731624,\n",
       "  0.6423002832713327,\n",
       "  0.642241287091818,\n",
       "  0.642247165168908,\n",
       "  0.6422940937765882,\n",
       "  0.6421971743624968,\n",
       "  0.6422776788130863,\n",
       "  0.6422093975384787,\n",
       "  0.6422663793884261,\n",
       "  0.6422856214218517,\n",
       "  0.6424646309193586,\n",
       "  0.6424974639530654,\n",
       "  0.6423897452061829,\n",
       "  0.6423963974407256,\n",
       "  0.6426776952985541,\n",
       "  0.6425632397922009,\n",
       "  0.6425591104756718,\n",
       "  0.6425110960890391,\n",
       "  0.6425451026705288,\n",
       "  0.642394136355649,\n",
       "  0.6425246807666702,\n",
       "  0.6424580104332829,\n",
       "  0.6425446635025396,\n",
       "  0.642668917935197,\n",
       "  0.6426807907856416,\n",
       "  0.6425793442792361,\n",
       "  0.642766680155767,\n",
       "  0.6427401826549437,\n",
       "  0.6426404035324386,\n",
       "  0.6426183752031068,\n",
       "  0.6425213183985082,\n",
       "  0.6424105533536922,\n",
       "  0.6424204431563492,\n",
       "  0.6423469156207445,\n",
       "  0.6423774486588412,\n",
       "  0.6422775337139296,\n",
       "  0.6422302940558424,\n",
       "  0.6421831699063747,\n",
       "  0.6423797467361745,\n",
       "  0.6424590483790013,\n",
       "  0.642289190626001,\n",
       "  0.6425023960235381,\n",
       "  0.6423962750542388,\n",
       "  0.6423851363219832,\n",
       "  0.6426587004494907,\n",
       "  0.6426675953771712,\n",
       "  0.6426908843883844,\n",
       "  0.6426663486655441,\n",
       "  0.6426619234329148,\n",
       "  0.6426565329859882,\n",
       "  0.6428019956953784,\n",
       "  0.6427920320220052,\n",
       "  0.6427658101540814,\n",
       "  0.6429256494442572],\n",
       " 'auc-stdv': [0.00512912018944699,\n",
       "  0.003515085974907629,\n",
       "  0.004936672183546796,\n",
       "  0.004797838608662887,\n",
       "  0.004776430647091392,\n",
       "  0.004119221736265533,\n",
       "  0.004419445470788351,\n",
       "  0.004539075255867678,\n",
       "  0.004468915656686704,\n",
       "  0.004071232616739615,\n",
       "  0.004369766527785765,\n",
       "  0.004030087924064952,\n",
       "  0.004116359664074525,\n",
       "  0.004367252444562883,\n",
       "  0.004982811096923678,\n",
       "  0.00509954318540309,\n",
       "  0.004765622973593432,\n",
       "  0.0047845143926993836,\n",
       "  0.0050665764196308775,\n",
       "  0.005146256579824296,\n",
       "  0.005569096152244219,\n",
       "  0.005736393906925377,\n",
       "  0.0051630963136394025,\n",
       "  0.005086064984554734,\n",
       "  0.004964331653349426,\n",
       "  0.004807192864803007,\n",
       "  0.004666934554599634,\n",
       "  0.004497913969094599,\n",
       "  0.004484449480936886,\n",
       "  0.004687497282743121,\n",
       "  0.004610051707980979,\n",
       "  0.00455435420067136,\n",
       "  0.004485157506309568,\n",
       "  0.00463234346124793,\n",
       "  0.004870154595627253,\n",
       "  0.0048876993610741295,\n",
       "  0.004903658251353498,\n",
       "  0.004534718505912623,\n",
       "  0.004761467381446262,\n",
       "  0.004602895363852451,\n",
       "  0.004382362919715359,\n",
       "  0.004642895770217151,\n",
       "  0.004339737833206117,\n",
       "  0.004442061492152256,\n",
       "  0.0045237909865258625,\n",
       "  0.004472930416387803,\n",
       "  0.004462985899003326,\n",
       "  0.0044675367955533925,\n",
       "  0.004091831818825537,\n",
       "  0.0043973398950010074,\n",
       "  0.004517587113836264,\n",
       "  0.0043240652282521596,\n",
       "  0.004462874251343114,\n",
       "  0.004517568166620857,\n",
       "  0.0043238554455433086,\n",
       "  0.00459129735614248,\n",
       "  0.004759171812414822,\n",
       "  0.004887015689585078,\n",
       "  0.0052249498976220995,\n",
       "  0.005157479687483753,\n",
       "  0.005008468770574246,\n",
       "  0.004724817769234554,\n",
       "  0.004625431519623132,\n",
       "  0.004699177576075931,\n",
       "  0.004803962337540562,\n",
       "  0.004886717614215755,\n",
       "  0.0049929219337960466,\n",
       "  0.004784865187952661,\n",
       "  0.00480927236921334,\n",
       "  0.004992894097158431,\n",
       "  0.005060556281925097,\n",
       "  0.004897942143966512,\n",
       "  0.005037917411956933,\n",
       "  0.005263283417814951,\n",
       "  0.0053233681402642865,\n",
       "  0.005061712345645281,\n",
       "  0.005054997409653459,\n",
       "  0.004964448192411501,\n",
       "  0.004869817631022359,\n",
       "  0.004858618244445743,\n",
       "  0.004884475471004149,\n",
       "  0.004757095803223102,\n",
       "  0.004477859532198307,\n",
       "  0.004488307054029088,\n",
       "  0.004531531252552345,\n",
       "  0.004617420784557731,\n",
       "  0.004854387436401775,\n",
       "  0.005072106316503696,\n",
       "  0.004938385906768402,\n",
       "  0.005070575627633122,\n",
       "  0.005170902572327301,\n",
       "  0.005374647047356456,\n",
       "  0.005284267009543554,\n",
       "  0.00542596542817806,\n",
       "  0.005362974021071941,\n",
       "  0.005357210640528218,\n",
       "  0.005862482257808296,\n",
       "  0.005821762877598596,\n",
       "  0.005713335327357327,\n",
       "  0.005732089640682306,\n",
       "  0.00585022608470778,\n",
       "  0.005635579260587219,\n",
       "  0.005594810361634043,\n",
       "  0.0056112345471733575,\n",
       "  0.00544977755767749,\n",
       "  0.005410151875088747,\n",
       "  0.005534518929437502,\n",
       "  0.005582372126830278,\n",
       "  0.0057189839280882716,\n",
       "  0.005758471922686358,\n",
       "  0.00581301442348812,\n",
       "  0.005889794766924112,\n",
       "  0.005844880645154527,\n",
       "  0.005877509311746442,\n",
       "  0.005853544694604229,\n",
       "  0.005751634561026784,\n",
       "  0.005708170933223629,\n",
       "  0.005682529403397486,\n",
       "  0.005688109572072617,\n",
       "  0.005727810927162747,\n",
       "  0.005693781591317337,\n",
       "  0.0056342822754772955,\n",
       "  0.006035212433710651,\n",
       "  0.006219541049297061,\n",
       "  0.006042028451023598,\n",
       "  0.006057696217848868,\n",
       "  0.0059216907474174876,\n",
       "  0.005943466188113063,\n",
       "  0.006004815411955597,\n",
       "  0.0058831552776904125,\n",
       "  0.005881423168319366,\n",
       "  0.005834686271660986,\n",
       "  0.005890023350697445,\n",
       "  0.005794394977627641,\n",
       "  0.005768716279364491,\n",
       "  0.005847960764522294,\n",
       "  0.005955892283680286,\n",
       "  0.006025988042627285,\n",
       "  0.006042571074659609,\n",
       "  0.00600975506585842,\n",
       "  0.0061214644058726125,\n",
       "  0.006104047511896248,\n",
       "  0.006021490571872292,\n",
       "  0.006089363495134917,\n",
       "  0.006055315139342701,\n",
       "  0.006077458937238393,\n",
       "  0.0062016869566260645,\n",
       "  0.0063042382665712505,\n",
       "  0.006359710785168512,\n",
       "  0.0064397817394419785,\n",
       "  0.006571139375911888,\n",
       "  0.006506718938393913,\n",
       "  0.006519726673707286,\n",
       "  0.006501036931254823,\n",
       "  0.006175175501912033,\n",
       "  0.006199608162423484,\n",
       "  0.006109739970348343,\n",
       "  0.006204957248183726,\n",
       "  0.0061271938878663165,\n",
       "  0.00613822026667708,\n",
       "  0.006016458494599559,\n",
       "  0.006039883327154048,\n",
       "  0.006130437777708497,\n",
       "  0.00615227208468138]}"
      ]
     },
     "execution_count": 82,
     "metadata": {},
     "output_type": "execute_result"
    }
   ],
   "source": [
    "params = {\n",
    "    'objective': 'binary',\n",
    "    'metric': 'auc',\n",
    "    'seed': SEED\n",
    "}\n",
    "\n",
    "num_boost_round       = 500\n",
    "early_stopping_rounds = 100\n",
    "\n",
    "ltrain = lgb.Dataset(df.iloc[:len(train)].copy(), TARGET, feature_name=df.columns.tolist())\n",
    "\n",
    "lgb.cv(params, \n",
    "       ltrain, \n",
    "       num_boost_round, \n",
    "       folds=fold_gen(df_copy), \n",
    "       early_stopping_rounds=early_stopping_rounds, \n",
    "       verbose_eval=20)"
   ]
  }
 ],
 "metadata": {
  "kernelspec": {
   "display_name": "Python 3",
   "language": "python",
   "name": "python3"
  },
  "language_info": {
   "codemirror_mode": {
    "name": "ipython",
    "version": 3
   },
   "file_extension": ".py",
   "mimetype": "text/x-python",
   "name": "python",
   "nbconvert_exporter": "python",
   "pygments_lexer": "ipython3",
   "version": "3.6.1"
  }
 },
 "nbformat": 4,
 "nbformat_minor": 2
}
