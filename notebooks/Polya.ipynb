{
 "cells": [
  {
   "cell_type": "code",
   "execution_count": 1,
   "metadata": {},
   "outputs": [
    {
     "name": "stdout",
     "output_type": "stream",
     "text": [
      "Libraries have been loaded\n"
     ]
    }
   ],
   "source": [
    "__imp"
   ]
  },
  {
   "cell_type": "markdown",
   "metadata": {},
   "source": [
    "### Load Additional Libraries"
   ]
  },
  {
   "cell_type": "code",
   "execution_count": 3,
   "metadata": {},
   "outputs": [],
   "source": [
    "import time\n",
    "import lightgbm as lgb\n",
    "import xgboost as xgb\n",
    "\n",
    "from sklearn.model_selection import train_test_split\n",
    "from sklearn.preprocessing import StandardScaler\n",
    "from sklearn.decomposition import PCA\n",
    "from sklearn.model_selection import cross_val_predict, KFold\n",
    "from sklearn.externals import joblib\n",
    "from sklearn.metrics import roc_auc_score\n",
    "\n",
    "from bayes_opt import BayesianOptimization\n",
    "\n",
    "basepath = os.path.expanduser('../')\n",
    "\n",
    "from tqdm import tqdm_notebook"
   ]
  },
  {
   "cell_type": "markdown",
   "metadata": {},
   "source": [
    "Load Raw Dataset"
   ]
  },
  {
   "cell_type": "code",
   "execution_count": 4,
   "metadata": {},
   "outputs": [
    {
     "name": "stdout",
     "output_type": "stream",
     "text": [
      "(307511, 122) (48744, 122)\n",
      "CPU times: user 46.7 ms, sys: 148 ms, total: 194 ms\n",
      "Wall time: 2.04 s\n"
     ]
    }
   ],
   "source": [
    "%%time\n",
    "\n",
    "# contains feature pertaining to raw application file\n",
    "train = pd.read_pickle('../data/interim/feature_groups/application_train.pkl')\n",
    "test  = pd.read_pickle('../data/interim/feature_groups/application_test.pkl')\n",
    "\n",
    "print(train.shape, test.shape)\n",
    "del train, test\n",
    "gc.collect();"
   ]
  },
  {
   "cell_type": "code",
   "execution_count": null,
   "metadata": {},
   "outputs": [],
   "source": [
    "%%time\n",
    "\n",
    "data       = pd.concat((train, test))\n",
    "data.index = np.arange(len(data))"
   ]
  },
  {
   "cell_type": "markdown",
   "metadata": {},
   "source": [
    "Load Processed Dataset"
   ]
  },
  {
   "cell_type": "code",
   "execution_count": 3,
   "metadata": {},
   "outputs": [
    {
     "name": "stdout",
     "output_type": "stream",
     "text": [
      "CPU times: user 4.76 s, sys: 1.14 s, total: 5.91 s\n",
      "Wall time: 15.2 s\n"
     ]
    }
   ],
   "source": [
    "%%time\n",
    "\n",
    "data = pd.read_hdf('../data/interim/dataset2/data.h5', key='data')"
   ]
  },
  {
   "cell_type": "markdown",
   "metadata": {
    "heading_collapsed": true
   },
   "source": [
    "## Adversarial Validation"
   ]
  },
  {
   "cell_type": "code",
   "execution_count": 5,
   "metadata": {
    "hidden": true
   },
   "outputs": [],
   "source": [
    "for c in data.select_dtypes(include=['category']).columns:\n",
    "    data[c] = data[c].cat.codes"
   ]
  },
  {
   "cell_type": "code",
   "execution_count": 6,
   "metadata": {
    "hidden": true
   },
   "outputs": [],
   "source": [
    "data['is_test'] = 1\n",
    "data['is_test'].iloc[:307511] = 0"
   ]
  },
  {
   "cell_type": "code",
   "execution_count": 7,
   "metadata": {
    "hidden": true
   },
   "outputs": [],
   "source": [
    "SKIP_FLDS = ['SK_ID_CURR', 'TARGET', 'is_test']\n",
    "\n",
    "df, y = data.loc[:, data.columns.drop(SKIP_FLDS)], data.loc[:, 'is_test']"
   ]
  },
  {
   "cell_type": "code",
   "execution_count": 8,
   "metadata": {
    "hidden": true
   },
   "outputs": [],
   "source": [
    "X_train, X_val, y_train, y_val = train_test_split(df, y, random_state=SEED, test_size=.3)"
   ]
  },
  {
   "cell_type": "code",
   "execution_count": 10,
   "metadata": {
    "hidden": true
   },
   "outputs": [],
   "source": [
    "del df, y, data\n",
    "gc.collect();"
   ]
  },
  {
   "cell_type": "code",
   "execution_count": 15,
   "metadata": {
    "hidden": true
   },
   "outputs": [
    {
     "name": "stdout",
     "output_type": "stream",
     "text": [
      "Training until validation scores don't improve for 100 rounds.\n",
      "[20]\ttrain's auc: 0.959119\teval's auc: 0.958474\n",
      "[40]\ttrain's auc: 0.965849\teval's auc: 0.964612\n",
      "[60]\ttrain's auc: 0.970606\teval's auc: 0.968958\n",
      "[80]\ttrain's auc: 0.973969\teval's auc: 0.971971\n",
      "[100]\ttrain's auc: 0.976065\teval's auc: 0.973746\n",
      "[120]\ttrain's auc: 0.977772\teval's auc: 0.975032\n",
      "[140]\ttrain's auc: 0.979204\teval's auc: 0.97606\n",
      "[160]\ttrain's auc: 0.980475\teval's auc: 0.976939\n",
      "[180]\ttrain's auc: 0.981491\teval's auc: 0.977471\n",
      "[200]\ttrain's auc: 0.982375\teval's auc: 0.977978\n",
      "[220]\ttrain's auc: 0.983106\teval's auc: 0.978119\n",
      "[240]\ttrain's auc: 0.983793\teval's auc: 0.978352\n",
      "[260]\ttrain's auc: 0.984499\teval's auc: 0.978603\n",
      "[280]\ttrain's auc: 0.985088\teval's auc: 0.97873\n",
      "[300]\ttrain's auc: 0.985713\teval's auc: 0.978906\n",
      "[320]\ttrain's auc: 0.986262\teval's auc: 0.979015\n",
      "[340]\ttrain's auc: 0.986933\teval's auc: 0.979315\n",
      "[360]\ttrain's auc: 0.987507\teval's auc: 0.979502\n",
      "[380]\ttrain's auc: 0.987963\teval's auc: 0.979576\n",
      "[400]\ttrain's auc: 0.988386\teval's auc: 0.979613\n",
      "[420]\ttrain's auc: 0.988879\teval's auc: 0.979766\n",
      "[440]\ttrain's auc: 0.989349\teval's auc: 0.97987\n",
      "[460]\ttrain's auc: 0.989815\teval's auc: 0.980018\n",
      "[480]\ttrain's auc: 0.990264\teval's auc: 0.980123\n",
      "[500]\ttrain's auc: 0.990622\teval's auc: 0.980207\n",
      "[520]\ttrain's auc: 0.991005\teval's auc: 0.98026\n",
      "[540]\ttrain's auc: 0.991356\teval's auc: 0.980269\n",
      "[560]\ttrain's auc: 0.991684\teval's auc: 0.980284\n",
      "[580]\ttrain's auc: 0.992019\teval's auc: 0.980356\n",
      "[600]\ttrain's auc: 0.992325\teval's auc: 0.980409\n",
      "[620]\ttrain's auc: 0.992592\teval's auc: 0.980414\n",
      "[640]\ttrain's auc: 0.992929\teval's auc: 0.980494\n",
      "[660]\ttrain's auc: 0.993214\teval's auc: 0.980534\n",
      "[680]\ttrain's auc: 0.993456\teval's auc: 0.980522\n",
      "[700]\ttrain's auc: 0.993683\teval's auc: 0.980521\n",
      "[720]\ttrain's auc: 0.993957\teval's auc: 0.980582\n",
      "[740]\ttrain's auc: 0.994188\teval's auc: 0.980596\n",
      "[760]\ttrain's auc: 0.994436\teval's auc: 0.980627\n",
      "[780]\ttrain's auc: 0.994662\teval's auc: 0.980627\n",
      "[800]\ttrain's auc: 0.994856\teval's auc: 0.980653\n",
      "[820]\ttrain's auc: 0.995054\teval's auc: 0.980655\n",
      "[840]\ttrain's auc: 0.995268\teval's auc: 0.980657\n",
      "[860]\ttrain's auc: 0.995444\teval's auc: 0.980659\n",
      "[880]\ttrain's auc: 0.995643\teval's auc: 0.980709\n",
      "[900]\ttrain's auc: 0.99581\teval's auc: 0.980741\n",
      "[920]\ttrain's auc: 0.996006\teval's auc: 0.980843\n",
      "[940]\ttrain's auc: 0.996187\teval's auc: 0.980869\n",
      "[960]\ttrain's auc: 0.996331\teval's auc: 0.980867\n",
      "[980]\ttrain's auc: 0.996501\teval's auc: 0.980978\n",
      "[1000]\ttrain's auc: 0.996647\teval's auc: 0.981081\n",
      "[1020]\ttrain's auc: 0.9968\teval's auc: 0.981099\n",
      "[1040]\ttrain's auc: 0.996958\teval's auc: 0.981073\n",
      "[1060]\ttrain's auc: 0.99708\teval's auc: 0.981083\n",
      "[1080]\ttrain's auc: 0.997207\teval's auc: 0.981083\n",
      "[1100]\ttrain's auc: 0.997325\teval's auc: 0.981067\n",
      "Early stopping, best iteration is:\n",
      "[1010]\ttrain's auc: 0.996724\teval's auc: 0.98111\n"
     ]
    }
   ],
   "source": [
    "params = {\n",
    "    'objective': 'binary',\n",
    "    'learning_rate': .1,\n",
    "    'num_leaves': 20,\n",
    "    'min_data_in_leaf': 75,\n",
    "    'metric': 'auc',\n",
    "    'nthread': 4,\n",
    "    'seed': SEED\n",
    "}\n",
    "\n",
    "num_boost_round       = 10000\n",
    "early_stopping_rounds = 100\n",
    "\n",
    "ltrain = lgb.Dataset(X_train, y_train, feature_name=X_train.columns.tolist())\n",
    "lval   = lgb.Dataset(X_val, y_val, feature_name=X_val.columns.tolist())\n",
    "\n",
    "val_sets  = [ltrain, lval]\n",
    "val_names = ['train', 'eval'] \n",
    "\n",
    "m      = lgb.train(params, \n",
    "                   ltrain, \n",
    "                   num_boost_round, \n",
    "                   valid_sets=val_sets, \n",
    "                   valid_names=val_names, \n",
    "                   early_stopping_rounds=early_stopping_rounds,\n",
    "                   verbose_eval=20\n",
    "                  )"
   ]
  },
  {
   "cell_type": "code",
   "execution_count": 22,
   "metadata": {
    "hidden": true
   },
   "outputs": [],
   "source": [
    "m.save_model('../data/processed/models/adversarial_model_subset.txt')"
   ]
  },
  {
   "cell_type": "code",
   "execution_count": 23,
   "metadata": {
    "hidden": true
   },
   "outputs": [
    {
     "data": {
      "image/png": "[encoded data removed]",
      "text/plain": [
       "<Figure size 864x360 with 1 Axes>"
      ]
     },
     "metadata": {},
     "output_type": "display_data"
    }
   ],
   "source": [
    "fig, ax = plt.subplots(1, figsize=(12, 5))\n",
    "lgb.plot_importance(m, importance_type='split', max_num_features=20, ax=ax);"
   ]
  },
  {
   "cell_type": "code",
   "execution_count": 16,
   "metadata": {
    "hidden": true
   },
   "outputs": [
    {
     "data": {
      "image/png": "[encoded data removed]",
      "text/plain": [
       "<Figure size 864x360 with 1 Axes>"
      ]
     },
     "metadata": {},
     "output_type": "display_data"
    }
   ],
   "source": [
    "fig, ax = plt.subplots(1, figsize=(12, 5))\n",
    "lgb.plot_importance(m, importance_type='gain', max_num_features=20, ax=ax);"
   ]
  },
  {
   "cell_type": "markdown",
   "metadata": {
    "hidden": true
   },
   "source": [
    "### OOF prediction for training set"
   ]
  },
  {
   "cell_type": "code",
   "execution_count": 5,
   "metadata": {
    "hidden": true
   },
   "outputs": [],
   "source": [
    "SKIP_FLDS = ['SK_ID_CURR', 'TARGET', 'is_test']\n",
    "\n",
    "data['is_test'] = 1\n",
    "data['is_test'].iloc[:303576] = 0\n",
    "\n",
    "data  = data.sample(frac=1.) # shuffle rows\n",
    "df, y = data.loc[:, data.columns.drop(SKIP_FLDS)], data.loc[:, 'is_test']"
   ]
  },
  {
   "cell_type": "code",
   "execution_count": 6,
   "metadata": {
    "hidden": true
   },
   "outputs": [
    {
     "name": "stdout",
     "output_type": "stream",
     "text": [
      "CPU times: user 2h 51min 43s, sys: 22 s, total: 2h 52min 5s\n",
      "Wall time: 44min 51s\n"
     ]
    }
   ],
   "source": [
    "%%time\n",
    "\n",
    "estimator  = lgb.LGBMClassifier(n_estimators=2015, max_depth=4, objective='binary')\n",
    "oof_scores = cross_val_predict(estimator, df, y, cv=5, method='predict_proba')"
   ]
  },
  {
   "cell_type": "code",
   "execution_count": 7,
   "metadata": {
    "hidden": true
   },
   "outputs": [],
   "source": [
    "np.save('../data/processed/models/oof_scores_sub.npy', oof_scores)"
   ]
  },
  {
   "cell_type": "code",
   "execution_count": 6,
   "metadata": {
    "hidden": true
   },
   "outputs": [],
   "source": [
    "oof_scores = np.load('../data/processed/models/oof_scores.npy')"
   ]
  },
  {
   "cell_type": "code",
   "execution_count": 8,
   "metadata": {
    "hidden": true
   },
   "outputs": [],
   "source": [
    "df_copy                        = df.copy()\n",
    "df_copy.loc[:, 'is_test_prob'] = oof_scores[:, 1]\n",
    "df_copy.loc[:, 'is_test']      = y\n",
    "df_copy.loc[:, 'SK_ID_CURR']   = data.SK_ID_CURR\n",
    "\n",
    "target                         = data.TARGET.iloc[:303576]"
   ]
  },
  {
   "cell_type": "code",
   "execution_count": 9,
   "metadata": {
    "hidden": true
   },
   "outputs": [
    {
     "data": {
      "text/plain": [
       "82"
      ]
     },
     "execution_count": 9,
     "metadata": {},
     "output_type": "execute_result"
    }
   ],
   "source": [
    "del data\n",
    "gc.collect()"
   ]
  },
  {
   "cell_type": "code",
   "execution_count": 10,
   "metadata": {
    "hidden": true
   },
   "outputs": [
    {
     "data": {
      "text/html": [
       "<div>\n",
       "<style scoped>\n",
       "    .dataframe tbody tr th:only-of-type {\n",
       "        vertical-align: middle;\n",
       "    }\n",
       "\n",
       "    .dataframe tbody tr th {\n",
       "        vertical-align: top;\n",
       "    }\n",
       "\n",
       "    .dataframe thead th {\n",
       "        text-align: right;\n",
       "    }\n",
       "</style>\n",
       "<table border=\"1\" class=\"dataframe\">\n",
       "  <thead>\n",
       "    <tr style=\"text-align: right;\">\n",
       "      <th></th>\n",
       "      <th>SK_ID_CURR</th>\n",
       "      <th>is_test_prob</th>\n",
       "    </tr>\n",
       "  </thead>\n",
       "  <tbody>\n",
       "    <tr>\n",
       "      <th>72358</th>\n",
       "      <td>185021</td>\n",
       "      <td>9.999868e-01</td>\n",
       "    </tr>\n",
       "    <tr>\n",
       "      <th>131849</th>\n",
       "      <td>254911</td>\n",
       "      <td>9.974637e-01</td>\n",
       "    </tr>\n",
       "    <tr>\n",
       "      <th>176317</th>\n",
       "      <td>307008</td>\n",
       "      <td>9.966514e-01</td>\n",
       "    </tr>\n",
       "    <tr>\n",
       "      <th>163651</th>\n",
       "      <td>292206</td>\n",
       "      <td>9.949051e-01</td>\n",
       "    </tr>\n",
       "    <tr>\n",
       "      <th>252925</th>\n",
       "      <td>396519</td>\n",
       "      <td>9.937778e-01</td>\n",
       "    </tr>\n",
       "    <tr>\n",
       "      <th>59929</th>\n",
       "      <td>170445</td>\n",
       "      <td>9.932063e-01</td>\n",
       "    </tr>\n",
       "    <tr>\n",
       "      <th>167459</th>\n",
       "      <td>296636</td>\n",
       "      <td>9.931919e-01</td>\n",
       "    </tr>\n",
       "    <tr>\n",
       "      <th>107132</th>\n",
       "      <td>225900</td>\n",
       "      <td>9.925747e-01</td>\n",
       "    </tr>\n",
       "    <tr>\n",
       "      <th>66538</th>\n",
       "      <td>178204</td>\n",
       "      <td>9.920861e-01</td>\n",
       "    </tr>\n",
       "    <tr>\n",
       "      <th>120631</th>\n",
       "      <td>241677</td>\n",
       "      <td>9.918937e-01</td>\n",
       "    </tr>\n",
       "    <tr>\n",
       "      <th>116103</th>\n",
       "      <td>236383</td>\n",
       "      <td>9.909907e-01</td>\n",
       "    </tr>\n",
       "    <tr>\n",
       "      <th>180843</th>\n",
       "      <td>312379</td>\n",
       "      <td>9.909414e-01</td>\n",
       "    </tr>\n",
       "    <tr>\n",
       "      <th>9591</th>\n",
       "      <td>111314</td>\n",
       "      <td>9.907346e-01</td>\n",
       "    </tr>\n",
       "    <tr>\n",
       "      <th>21784</th>\n",
       "      <td>125733</td>\n",
       "      <td>9.900832e-01</td>\n",
       "    </tr>\n",
       "    <tr>\n",
       "      <th>145510</th>\n",
       "      <td>270920</td>\n",
       "      <td>9.889256e-01</td>\n",
       "    </tr>\n",
       "    <tr>\n",
       "      <th>14066</th>\n",
       "      <td>116640</td>\n",
       "      <td>9.888058e-01</td>\n",
       "    </tr>\n",
       "    <tr>\n",
       "      <th>34887</th>\n",
       "      <td>140959</td>\n",
       "      <td>9.882605e-01</td>\n",
       "    </tr>\n",
       "    <tr>\n",
       "      <th>91276</th>\n",
       "      <td>207386</td>\n",
       "      <td>9.880874e-01</td>\n",
       "    </tr>\n",
       "    <tr>\n",
       "      <th>130271</th>\n",
       "      <td>253054</td>\n",
       "      <td>9.879732e-01</td>\n",
       "    </tr>\n",
       "    <tr>\n",
       "      <th>162892</th>\n",
       "      <td>291318</td>\n",
       "      <td>9.876858e-01</td>\n",
       "    </tr>\n",
       "    <tr>\n",
       "      <th>258891</th>\n",
       "      <td>403617</td>\n",
       "      <td>9.876093e-01</td>\n",
       "    </tr>\n",
       "    <tr>\n",
       "      <th>41287</th>\n",
       "      <td>148467</td>\n",
       "      <td>9.873312e-01</td>\n",
       "    </tr>\n",
       "    <tr>\n",
       "      <th>41706</th>\n",
       "      <td>148941</td>\n",
       "      <td>9.869483e-01</td>\n",
       "    </tr>\n",
       "    <tr>\n",
       "      <th>177585</th>\n",
       "      <td>308503</td>\n",
       "      <td>9.867295e-01</td>\n",
       "    </tr>\n",
       "    <tr>\n",
       "      <th>25088</th>\n",
       "      <td>129591</td>\n",
       "      <td>9.846298e-01</td>\n",
       "    </tr>\n",
       "    <tr>\n",
       "      <th>94151</th>\n",
       "      <td>210747</td>\n",
       "      <td>9.843430e-01</td>\n",
       "    </tr>\n",
       "    <tr>\n",
       "      <th>42227</th>\n",
       "      <td>149552</td>\n",
       "      <td>9.841028e-01</td>\n",
       "    </tr>\n",
       "    <tr>\n",
       "      <th>283643</th>\n",
       "      <td>432839</td>\n",
       "      <td>9.840849e-01</td>\n",
       "    </tr>\n",
       "    <tr>\n",
       "      <th>261368</th>\n",
       "      <td>406626</td>\n",
       "      <td>9.838723e-01</td>\n",
       "    </tr>\n",
       "    <tr>\n",
       "      <th>3997</th>\n",
       "      <td>104738</td>\n",
       "      <td>9.836837e-01</td>\n",
       "    </tr>\n",
       "    <tr>\n",
       "      <th>...</th>\n",
       "      <td>...</td>\n",
       "      <td>...</td>\n",
       "    </tr>\n",
       "    <tr>\n",
       "      <th>156095</th>\n",
       "      <td>283339</td>\n",
       "      <td>5.685245e-16</td>\n",
       "    </tr>\n",
       "    <tr>\n",
       "      <th>240074</th>\n",
       "      <td>381572</td>\n",
       "      <td>5.430020e-16</td>\n",
       "    </tr>\n",
       "    <tr>\n",
       "      <th>220063</th>\n",
       "      <td>358244</td>\n",
       "      <td>5.164536e-16</td>\n",
       "    </tr>\n",
       "    <tr>\n",
       "      <th>45892</th>\n",
       "      <td>153899</td>\n",
       "      <td>4.250628e-16</td>\n",
       "    </tr>\n",
       "    <tr>\n",
       "      <th>189340</th>\n",
       "      <td>322471</td>\n",
       "      <td>4.100509e-16</td>\n",
       "    </tr>\n",
       "    <tr>\n",
       "      <th>116833</th>\n",
       "      <td>237240</td>\n",
       "      <td>4.014814e-16</td>\n",
       "    </tr>\n",
       "    <tr>\n",
       "      <th>294879</th>\n",
       "      <td>446061</td>\n",
       "      <td>3.179580e-16</td>\n",
       "    </tr>\n",
       "    <tr>\n",
       "      <th>34025</th>\n",
       "      <td>139961</td>\n",
       "      <td>3.064455e-16</td>\n",
       "    </tr>\n",
       "    <tr>\n",
       "      <th>148691</th>\n",
       "      <td>274618</td>\n",
       "      <td>2.085595e-16</td>\n",
       "    </tr>\n",
       "    <tr>\n",
       "      <th>235065</th>\n",
       "      <td>375796</td>\n",
       "      <td>2.068852e-16</td>\n",
       "    </tr>\n",
       "    <tr>\n",
       "      <th>265866</th>\n",
       "      <td>412116</td>\n",
       "      <td>1.949128e-16</td>\n",
       "    </tr>\n",
       "    <tr>\n",
       "      <th>255318</th>\n",
       "      <td>399346</td>\n",
       "      <td>1.693264e-16</td>\n",
       "    </tr>\n",
       "    <tr>\n",
       "      <th>145373</th>\n",
       "      <td>270748</td>\n",
       "      <td>5.725209e-17</td>\n",
       "    </tr>\n",
       "    <tr>\n",
       "      <th>59604</th>\n",
       "      <td>170040</td>\n",
       "      <td>2.869251e-17</td>\n",
       "    </tr>\n",
       "    <tr>\n",
       "      <th>45091</th>\n",
       "      <td>152952</td>\n",
       "      <td>2.840485e-17</td>\n",
       "    </tr>\n",
       "    <tr>\n",
       "      <th>31161</th>\n",
       "      <td>136646</td>\n",
       "      <td>1.769206e-17</td>\n",
       "    </tr>\n",
       "    <tr>\n",
       "      <th>174972</th>\n",
       "      <td>305430</td>\n",
       "      <td>1.396249e-17</td>\n",
       "    </tr>\n",
       "    <tr>\n",
       "      <th>212360</th>\n",
       "      <td>349315</td>\n",
       "      <td>6.337119e-18</td>\n",
       "    </tr>\n",
       "    <tr>\n",
       "      <th>28002</th>\n",
       "      <td>133004</td>\n",
       "      <td>1.227439e-18</td>\n",
       "    </tr>\n",
       "    <tr>\n",
       "      <th>46993</th>\n",
       "      <td>155173</td>\n",
       "      <td>3.456265e-19</td>\n",
       "    </tr>\n",
       "    <tr>\n",
       "      <th>291075</th>\n",
       "      <td>441600</td>\n",
       "      <td>6.936824e-20</td>\n",
       "    </tr>\n",
       "    <tr>\n",
       "      <th>296631</th>\n",
       "      <td>448123</td>\n",
       "      <td>2.345732e-20</td>\n",
       "    </tr>\n",
       "    <tr>\n",
       "      <th>116359</th>\n",
       "      <td>236682</td>\n",
       "      <td>4.596008e-21</td>\n",
       "    </tr>\n",
       "    <tr>\n",
       "      <th>261677</th>\n",
       "      <td>407006</td>\n",
       "      <td>2.048261e-22</td>\n",
       "    </tr>\n",
       "    <tr>\n",
       "      <th>128028</th>\n",
       "      <td>250420</td>\n",
       "      <td>6.711654e-23</td>\n",
       "    </tr>\n",
       "    <tr>\n",
       "      <th>58059</th>\n",
       "      <td>168226</td>\n",
       "      <td>6.158970e-24</td>\n",
       "    </tr>\n",
       "    <tr>\n",
       "      <th>206027</th>\n",
       "      <td>341952</td>\n",
       "      <td>1.045635e-27</td>\n",
       "    </tr>\n",
       "    <tr>\n",
       "      <th>60352</th>\n",
       "      <td>170938</td>\n",
       "      <td>9.065562e-49</td>\n",
       "    </tr>\n",
       "    <tr>\n",
       "      <th>186937</th>\n",
       "      <td>319627</td>\n",
       "      <td>5.746880e-49</td>\n",
       "    </tr>\n",
       "    <tr>\n",
       "      <th>1138</th>\n",
       "      <td>101364</td>\n",
       "      <td>3.493015e-51</td>\n",
       "    </tr>\n",
       "  </tbody>\n",
       "</table>\n",
       "<p>303576 rows × 2 columns</p>\n",
       "</div>"
      ],
      "text/plain": [
       "        SK_ID_CURR  is_test_prob\n",
       "72358       185021  9.999868e-01\n",
       "131849      254911  9.974637e-01\n",
       "176317      307008  9.966514e-01\n",
       "163651      292206  9.949051e-01\n",
       "252925      396519  9.937778e-01\n",
       "59929       170445  9.932063e-01\n",
       "167459      296636  9.931919e-01\n",
       "107132      225900  9.925747e-01\n",
       "66538       178204  9.920861e-01\n",
       "120631      241677  9.918937e-01\n",
       "116103      236383  9.909907e-01\n",
       "180843      312379  9.909414e-01\n",
       "9591        111314  9.907346e-01\n",
       "21784       125733  9.900832e-01\n",
       "145510      270920  9.889256e-01\n",
       "14066       116640  9.888058e-01\n",
       "34887       140959  9.882605e-01\n",
       "91276       207386  9.880874e-01\n",
       "130271      253054  9.879732e-01\n",
       "162892      291318  9.876858e-01\n",
       "258891      403617  9.876093e-01\n",
       "41287       148467  9.873312e-01\n",
       "41706       148941  9.869483e-01\n",
       "177585      308503  9.867295e-01\n",
       "25088       129591  9.846298e-01\n",
       "94151       210747  9.843430e-01\n",
       "42227       149552  9.841028e-01\n",
       "283643      432839  9.840849e-01\n",
       "261368      406626  9.838723e-01\n",
       "3997        104738  9.836837e-01\n",
       "...            ...           ...\n",
       "156095      283339  5.685245e-16\n",
       "240074      381572  5.430020e-16\n",
       "220063      358244  5.164536e-16\n",
       "45892       153899  4.250628e-16\n",
       "189340      322471  4.100509e-16\n",
       "116833      237240  4.014814e-16\n",
       "294879      446061  3.179580e-16\n",
       "34025       139961  3.064455e-16\n",
       "148691      274618  2.085595e-16\n",
       "235065      375796  2.068852e-16\n",
       "265866      412116  1.949128e-16\n",
       "255318      399346  1.693264e-16\n",
       "145373      270748  5.725209e-17\n",
       "59604       170040  2.869251e-17\n",
       "45091       152952  2.840485e-17\n",
       "31161       136646  1.769206e-17\n",
       "174972      305430  1.396249e-17\n",
       "212360      349315  6.337119e-18\n",
       "28002       133004  1.227439e-18\n",
       "46993       155173  3.456265e-19\n",
       "291075      441600  6.936824e-20\n",
       "296631      448123  2.345732e-20\n",
       "116359      236682  4.596008e-21\n",
       "261677      407006  2.048261e-22\n",
       "128028      250420  6.711654e-23\n",
       "58059       168226  6.158970e-24\n",
       "206027      341952  1.045635e-27\n",
       "60352       170938  9.065562e-49\n",
       "186937      319627  5.746880e-49\n",
       "1138        101364  3.493015e-51\n",
       "\n",
       "[303576 rows x 2 columns]"
      ]
     },
     "execution_count": 10,
     "metadata": {},
     "output_type": "execute_result"
    }
   ],
   "source": [
    "df_copy[df_copy.is_test == 0].sort_values(by='is_test_prob', ascending=False)\\\n",
    "                             .loc[:, ['SK_ID_CURR', 'is_test_prob']]"
   ]
  },
  {
   "cell_type": "code",
   "execution_count": 11,
   "metadata": {
    "hidden": true
   },
   "outputs": [
    {
     "data": {
      "image/png": "[encoded data removed]",
      "text/plain": [
       "<Figure size 432x288 with 1 Axes>"
      ]
     },
     "metadata": {},
     "output_type": "display_data"
    }
   ],
   "source": [
    "df_copy[df_copy.is_test == 0].is_test_prob.hist(bins=50);"
   ]
  },
  {
   "cell_type": "code",
   "execution_count": 77,
   "metadata": {
    "hidden": true
   },
   "outputs": [],
   "source": [
    "def fold_gen(df_copy):\n",
    "    x = df_copy[(df_copy.is_test == 0) & (df_copy.is_test_prob > .15)]\n",
    "\n",
    "    for fold in range(5):\n",
    "        test_index  = list(x.sample(frac=48744).index)\n",
    "        train_index = list(set(df_copy[(df_copy.is_test == 0)].index) - set(test_index))\n",
    "\n",
    "        yield train_index,  test_index"
   ]
  },
  {
   "cell_type": "code",
   "execution_count": 12,
   "metadata": {
    "hidden": true
   },
   "outputs": [
    {
     "data": {
      "text/plain": [
       "12798"
      ]
     },
     "execution_count": 12,
     "metadata": {},
     "output_type": "execute_result"
    }
   ],
   "source": [
    "df_copy[(df_copy.is_test == 0) & (df_copy.is_test_prob > .4)].shape[0]"
   ]
  },
  {
   "cell_type": "code",
   "execution_count": 13,
   "metadata": {
    "hidden": true
   },
   "outputs": [
    {
     "data": {
      "text/plain": [
       "286674"
      ]
     },
     "execution_count": 13,
     "metadata": {},
     "output_type": "execute_result"
    }
   ],
   "source": [
    "df_copy[(df_copy.is_test == 0) & (df_copy.is_test_prob <= 0.3)].shape[0]"
   ]
  },
  {
   "cell_type": "code",
   "execution_count": 24,
   "metadata": {
    "hidden": true
   },
   "outputs": [
    {
     "data": {
      "text/plain": [
       "0.05420293908185398"
      ]
     },
     "execution_count": 24,
     "metadata": {},
     "output_type": "execute_result"
    }
   ],
   "source": [
    "16668 / 307511"
   ]
  },
  {
   "cell_type": "code",
   "execution_count": 26,
   "metadata": {
    "hidden": true
   },
   "outputs": [
    {
     "data": {
      "text/plain": [
       "9748.800000000001"
      ]
     },
     "execution_count": 26,
     "metadata": {},
     "output_type": "execute_result"
    }
   ],
   "source": [
    ".2 * 48744"
   ]
  },
  {
   "cell_type": "code",
   "execution_count": 20,
   "metadata": {
    "hidden": true
   },
   "outputs": [],
   "source": [
    "def save_folds(df_copy):\n",
    "    x = df_copy[(df_copy.is_test == 0) & (df_copy.is_test_prob > .3)]\n",
    "    test_folds = []\n",
    "    \n",
    "    for fold in range(6):\n",
    "        test_index  = list(x.sample(n=9748).index)\n",
    "        train_index = list(set(df_copy[(df_copy.is_test == 0)].index) - set(test_index))\n",
    "\n",
    "        test_folds.append(test_index)\n",
    "    \n",
    "    test_folds = np.array(test_folds).T\n",
    "    cv_df      = pd.DataFrame(test_folds, columns=[f'F{i}' for i in range(6)])\n",
    "    \n",
    "    cv_df.to_csv('../data/raw/cv_adversarial_idx_sub_v1.csv', index=False)\n",
    "#     return cv_df"
   ]
  },
  {
   "cell_type": "code",
   "execution_count": 34,
   "metadata": {
    "hidden": true
   },
   "outputs": [],
   "source": [
    "save_folds(df_copy)"
   ]
  },
  {
   "cell_type": "code",
   "execution_count": 15,
   "metadata": {
    "hidden": true
   },
   "outputs": [],
   "source": [
    "cv_folds = save_folds(df_copy)"
   ]
  },
  {
   "cell_type": "code",
   "execution_count": 16,
   "metadata": {
    "hidden": true
   },
   "outputs": [
    {
     "data": {
      "text/plain": [
       "0.5820681165367255"
      ]
     },
     "execution_count": 16,
     "metadata": {},
     "output_type": "execute_result"
    }
   ],
   "source": [
    "len((set(cv_folds['F0'].values) & set(cv_folds['F2'].values))) / len(cv_folds['F0'])"
   ]
  },
  {
   "cell_type": "code",
   "execution_count": 17,
   "metadata": {
    "hidden": true
   },
   "outputs": [
    {
     "data": {
      "text/plain": [
       "0.5770414443988511"
      ]
     },
     "execution_count": 17,
     "metadata": {},
     "output_type": "execute_result"
    }
   ],
   "source": [
    "len((set(cv_folds['F0'].values) & set(cv_folds['F3'].values))) / len(cv_folds['F0'])"
   ]
  },
  {
   "cell_type": "code",
   "execution_count": 32,
   "metadata": {
    "hidden": true
   },
   "outputs": [
    {
     "data": {
      "text/plain": [
       "0.5860689372178909"
      ]
     },
     "execution_count": 32,
     "metadata": {},
     "output_type": "execute_result"
    }
   ],
   "source": [
    "len((set(cv_folds['F0'].values) & set(cv_folds['F4'].values))) / len(cv_folds['F0'])"
   ]
  },
  {
   "cell_type": "code",
   "execution_count": 18,
   "metadata": {
    "hidden": true
   },
   "outputs": [
    {
     "data": {
      "text/plain": [
       "0.5798112433319655"
      ]
     },
     "execution_count": 18,
     "metadata": {},
     "output_type": "execute_result"
    }
   ],
   "source": [
    "len((set(cv_folds['F0'].values) & set(cv_folds['F1'].values))) / len(cv_folds['F0'])"
   ]
  },
  {
   "cell_type": "code",
   "execution_count": 19,
   "metadata": {
    "hidden": true
   },
   "outputs": [
    {
     "data": {
      "text/plain": [
       "(352321, 710)"
      ]
     },
     "execution_count": 19,
     "metadata": {},
     "output_type": "execute_result"
    }
   ],
   "source": [
    "df_copy.shape"
   ]
  },
  {
   "cell_type": "code",
   "execution_count": 82,
   "metadata": {
    "hidden": true
   },
   "outputs": [
    {
     "name": "stdout",
     "output_type": "stream",
     "text": [
      "[20]\tcv_agg's auc: 0.618144 + 0.00514626\n",
      "[40]\tcv_agg's auc: 0.631824 + 0.0046029\n",
      "[60]\tcv_agg's auc: 0.63968 + 0.00515748\n",
      "[80]\tcv_agg's auc: 0.64062 + 0.00485862\n",
      "[100]\tcv_agg's auc: 0.642104 + 0.00573209\n",
      "[120]\tcv_agg's auc: 0.642286 + 0.00572781\n",
      "[140]\tcv_agg's auc: 0.642618 + 0.00600976\n",
      "[160]\tcv_agg's auc: 0.642657 + 0.00613822\n",
      "[180]\tcv_agg's auc: 0.642169 + 0.0060855\n",
      "[200]\tcv_agg's auc: 0.64151 + 0.00599734\n",
      "[220]\tcv_agg's auc: 0.641801 + 0.0057658\n",
      "[240]\tcv_agg's auc: 0.642513 + 0.00623979\n",
      "[260]\tcv_agg's auc: 0.64221 + 0.00644424\n"
     ]
    },
    {
     "data": {
      "text/plain": [
       "{'auc-mean': [0.6042937582096902,\n",
       "  0.6063851080102118,\n",
       "  0.6094948735497355,\n",
       "  0.6105071593059883,\n",
       "  0.6103113565861819,\n",
       "  0.609949146327001,\n",
       "  0.6112450210864804,\n",
       "  0.611922664355651,\n",
       "  0.6130385780092173,\n",
       "  0.6135514649349239,\n",
       "  0.6140567851372335,\n",
       "  0.6138722483547333,\n",
       "  0.6138905358882123,\n",
       "  0.6144706221804735,\n",
       "  0.6154927026924676,\n",
       "  0.6163287187043333,\n",
       "  0.616554768416919,\n",
       "  0.6173352621591126,\n",
       "  0.6174060247445852,\n",
       "  0.6181444201569033,\n",
       "  0.6187143963227383,\n",
       "  0.6194944579588235,\n",
       "  0.6198957050849789,\n",
       "  0.6207915448273522,\n",
       "  0.6219778419869648,\n",
       "  0.6230271612099727,\n",
       "  0.6237795045767934,\n",
       "  0.6248345699284803,\n",
       "  0.6255729154444939,\n",
       "  0.626186580135842,\n",
       "  0.6268817748326054,\n",
       "  0.6272010226809934,\n",
       "  0.6273822084294582,\n",
       "  0.6275895204726845,\n",
       "  0.6282070344389259,\n",
       "  0.6287205101248088,\n",
       "  0.6293304442291344,\n",
       "  0.6304520246260321,\n",
       "  0.6314348211934767,\n",
       "  0.63182393503278,\n",
       "  0.6320910920507157,\n",
       "  0.6328286905792679,\n",
       "  0.6332499251145899,\n",
       "  0.6335400030841262,\n",
       "  0.6339219347473423,\n",
       "  0.6343780667135362,\n",
       "  0.6346656651477633,\n",
       "  0.6349522144932271,\n",
       "  0.6353209898883408,\n",
       "  0.6356968195404458,\n",
       "  0.6359998834256626,\n",
       "  0.6363617635330536,\n",
       "  0.6369724234738492,\n",
       "  0.6375781529757194,\n",
       "  0.6381613008585463,\n",
       "  0.6384957144657488,\n",
       "  0.6388081248826987,\n",
       "  0.639168234515903,\n",
       "  0.6395366360813741,\n",
       "  0.6396795980666191,\n",
       "  0.6395382281034806,\n",
       "  0.6396315254901586,\n",
       "  0.6398699734574732,\n",
       "  0.639993284093243,\n",
       "  0.64009498346821,\n",
       "  0.6401310548549672,\n",
       "  0.6402020743791693,\n",
       "  0.6402583302985331,\n",
       "  0.6403213750619002,\n",
       "  0.6404226249840557,\n",
       "  0.6404818686068311,\n",
       "  0.6404023807914939,\n",
       "  0.6405132501639998,\n",
       "  0.6405452749097411,\n",
       "  0.6405667604476457,\n",
       "  0.6407519876138268,\n",
       "  0.6407843449566194,\n",
       "  0.6408416212845321,\n",
       "  0.6406586577632332,\n",
       "  0.6406201118276573,\n",
       "  0.6407159979004323,\n",
       "  0.6407096049942117,\n",
       "  0.6409291933437938,\n",
       "  0.640926003700698,\n",
       "  0.6409211397705461,\n",
       "  0.6409315574303437,\n",
       "  0.6410666333459278,\n",
       "  0.6413117346973489,\n",
       "  0.6414656568474456,\n",
       "  0.6415688151194138,\n",
       "  0.6415708853085518,\n",
       "  0.6416102705947025,\n",
       "  0.6413866388163599,\n",
       "  0.6416514634511084,\n",
       "  0.6416447561945183,\n",
       "  0.6414640254630886,\n",
       "  0.6417540092054829,\n",
       "  0.6418223483441018,\n",
       "  0.6419943930194878,\n",
       "  0.642104462203737,\n",
       "  0.642245550392162,\n",
       "  0.6423227493760979,\n",
       "  0.6422872659207058,\n",
       "  0.6422760361474482,\n",
       "  0.6424121525852928,\n",
       "  0.6424229148846636,\n",
       "  0.6425242614966201,\n",
       "  0.642469769490148,\n",
       "  0.6424516288059134,\n",
       "  0.6423725842034094,\n",
       "  0.642336103731624,\n",
       "  0.6423002832713327,\n",
       "  0.642241287091818,\n",
       "  0.642247165168908,\n",
       "  0.6422940937765882,\n",
       "  0.6421971743624968,\n",
       "  0.6422776788130863,\n",
       "  0.6422093975384787,\n",
       "  0.6422663793884261,\n",
       "  0.6422856214218517,\n",
       "  0.6424646309193586,\n",
       "  0.6424974639530654,\n",
       "  0.6423897452061829,\n",
       "  0.6423963974407256,\n",
       "  0.6426776952985541,\n",
       "  0.6425632397922009,\n",
       "  0.6425591104756718,\n",
       "  0.6425110960890391,\n",
       "  0.6425451026705288,\n",
       "  0.642394136355649,\n",
       "  0.6425246807666702,\n",
       "  0.6424580104332829,\n",
       "  0.6425446635025396,\n",
       "  0.642668917935197,\n",
       "  0.6426807907856416,\n",
       "  0.6425793442792361,\n",
       "  0.642766680155767,\n",
       "  0.6427401826549437,\n",
       "  0.6426404035324386,\n",
       "  0.6426183752031068,\n",
       "  0.6425213183985082,\n",
       "  0.6424105533536922,\n",
       "  0.6424204431563492,\n",
       "  0.6423469156207445,\n",
       "  0.6423774486588412,\n",
       "  0.6422775337139296,\n",
       "  0.6422302940558424,\n",
       "  0.6421831699063747,\n",
       "  0.6423797467361745,\n",
       "  0.6424590483790013,\n",
       "  0.642289190626001,\n",
       "  0.6425023960235381,\n",
       "  0.6423962750542388,\n",
       "  0.6423851363219832,\n",
       "  0.6426587004494907,\n",
       "  0.6426675953771712,\n",
       "  0.6426908843883844,\n",
       "  0.6426663486655441,\n",
       "  0.6426619234329148,\n",
       "  0.6426565329859882,\n",
       "  0.6428019956953784,\n",
       "  0.6427920320220052,\n",
       "  0.6427658101540814,\n",
       "  0.6429256494442572],\n",
       " 'auc-stdv': [0.00512912018944699,\n",
       "  0.003515085974907629,\n",
       "  0.004936672183546796,\n",
       "  0.004797838608662887,\n",
       "  0.004776430647091392,\n",
       "  0.004119221736265533,\n",
       "  0.004419445470788351,\n",
       "  0.004539075255867678,\n",
       "  0.004468915656686704,\n",
       "  0.004071232616739615,\n",
       "  0.004369766527785765,\n",
       "  0.004030087924064952,\n",
       "  0.004116359664074525,\n",
       "  0.004367252444562883,\n",
       "  0.004982811096923678,\n",
       "  0.00509954318540309,\n",
       "  0.004765622973593432,\n",
       "  0.0047845143926993836,\n",
       "  0.0050665764196308775,\n",
       "  0.005146256579824296,\n",
       "  0.005569096152244219,\n",
       "  0.005736393906925377,\n",
       "  0.0051630963136394025,\n",
       "  0.005086064984554734,\n",
       "  0.004964331653349426,\n",
       "  0.004807192864803007,\n",
       "  0.004666934554599634,\n",
       "  0.004497913969094599,\n",
       "  0.004484449480936886,\n",
       "  0.004687497282743121,\n",
       "  0.004610051707980979,\n",
       "  0.00455435420067136,\n",
       "  0.004485157506309568,\n",
       "  0.00463234346124793,\n",
       "  0.004870154595627253,\n",
       "  0.0048876993610741295,\n",
       "  0.004903658251353498,\n",
       "  0.004534718505912623,\n",
       "  0.004761467381446262,\n",
       "  0.004602895363852451,\n",
       "  0.004382362919715359,\n",
       "  0.004642895770217151,\n",
       "  0.004339737833206117,\n",
       "  0.004442061492152256,\n",
       "  0.0045237909865258625,\n",
       "  0.004472930416387803,\n",
       "  0.004462985899003326,\n",
       "  0.0044675367955533925,\n",
       "  0.004091831818825537,\n",
       "  0.0043973398950010074,\n",
       "  0.004517587113836264,\n",
       "  0.0043240652282521596,\n",
       "  0.004462874251343114,\n",
       "  0.004517568166620857,\n",
       "  0.0043238554455433086,\n",
       "  0.00459129735614248,\n",
       "  0.004759171812414822,\n",
       "  0.004887015689585078,\n",
       "  0.0052249498976220995,\n",
       "  0.005157479687483753,\n",
       "  0.005008468770574246,\n",
       "  0.004724817769234554,\n",
       "  0.004625431519623132,\n",
       "  0.004699177576075931,\n",
       "  0.004803962337540562,\n",
       "  0.004886717614215755,\n",
       "  0.0049929219337960466,\n",
       "  0.004784865187952661,\n",
       "  0.00480927236921334,\n",
       "  0.004992894097158431,\n",
       "  0.005060556281925097,\n",
       "  0.004897942143966512,\n",
       "  0.005037917411956933,\n",
       "  0.005263283417814951,\n",
       "  0.0053233681402642865,\n",
       "  0.005061712345645281,\n",
       "  0.005054997409653459,\n",
       "  0.004964448192411501,\n",
       "  0.004869817631022359,\n",
       "  0.004858618244445743,\n",
       "  0.004884475471004149,\n",
       "  0.004757095803223102,\n",
       "  0.004477859532198307,\n",
       "  0.004488307054029088,\n",
       "  0.004531531252552345,\n",
       "  0.004617420784557731,\n",
       "  0.004854387436401775,\n",
       "  0.005072106316503696,\n",
       "  0.004938385906768402,\n",
       "  0.005070575627633122,\n",
       "  0.005170902572327301,\n",
       "  0.005374647047356456,\n",
       "  0.005284267009543554,\n",
       "  0.00542596542817806,\n",
       "  0.005362974021071941,\n",
       "  0.005357210640528218,\n",
       "  0.005862482257808296,\n",
       "  0.005821762877598596,\n",
       "  0.005713335327357327,\n",
       "  0.005732089640682306,\n",
       "  0.00585022608470778,\n",
       "  0.005635579260587219,\n",
       "  0.005594810361634043,\n",
       "  0.0056112345471733575,\n",
       "  0.00544977755767749,\n",
       "  0.005410151875088747,\n",
       "  0.005534518929437502,\n",
       "  0.005582372126830278,\n",
       "  0.0057189839280882716,\n",
       "  0.005758471922686358,\n",
       "  0.00581301442348812,\n",
       "  0.005889794766924112,\n",
       "  0.005844880645154527,\n",
       "  0.005877509311746442,\n",
       "  0.005853544694604229,\n",
       "  0.005751634561026784,\n",
       "  0.005708170933223629,\n",
       "  0.005682529403397486,\n",
       "  0.005688109572072617,\n",
       "  0.005727810927162747,\n",
       "  0.005693781591317337,\n",
       "  0.0056342822754772955,\n",
       "  0.006035212433710651,\n",
       "  0.006219541049297061,\n",
       "  0.006042028451023598,\n",
       "  0.006057696217848868,\n",
       "  0.0059216907474174876,\n",
       "  0.005943466188113063,\n",
       "  0.006004815411955597,\n",
       "  0.0058831552776904125,\n",
       "  0.005881423168319366,\n",
       "  0.005834686271660986,\n",
       "  0.005890023350697445,\n",
       "  0.005794394977627641,\n",
       "  0.005768716279364491,\n",
       "  0.005847960764522294,\n",
       "  0.005955892283680286,\n",
       "  0.006025988042627285,\n",
       "  0.006042571074659609,\n",
       "  0.00600975506585842,\n",
       "  0.0061214644058726125,\n",
       "  0.006104047511896248,\n",
       "  0.006021490571872292,\n",
       "  0.006089363495134917,\n",
       "  0.006055315139342701,\n",
       "  0.006077458937238393,\n",
       "  0.0062016869566260645,\n",
       "  0.0063042382665712505,\n",
       "  0.006359710785168512,\n",
       "  0.0064397817394419785,\n",
       "  0.006571139375911888,\n",
       "  0.006506718938393913,\n",
       "  0.006519726673707286,\n",
       "  0.006501036931254823,\n",
       "  0.006175175501912033,\n",
       "  0.006199608162423484,\n",
       "  0.006109739970348343,\n",
       "  0.006204957248183726,\n",
       "  0.0061271938878663165,\n",
       "  0.00613822026667708,\n",
       "  0.006016458494599559,\n",
       "  0.006039883327154048,\n",
       "  0.006130437777708497,\n",
       "  0.00615227208468138]}"
      ]
     },
     "execution_count": 82,
     "metadata": {},
     "output_type": "execute_result"
    }
   ],
   "source": [
    "params = {\n",
    "    'objective': 'binary',\n",
    "    'metric': 'auc',\n",
    "    'seed': SEED\n",
    "}\n",
    "\n",
    "num_boost_round       = 500\n",
    "early_stopping_rounds = 100\n",
    "\n",
    "ltrain = lgb.Dataset(df.iloc[:len(train)].copy(), TARGET, feature_name=df.columns.tolist())\n",
    "\n",
    "lgb.cv(params, \n",
    "       ltrain, \n",
    "       num_boost_round, \n",
    "       folds=fold_gen(df_copy), \n",
    "       early_stopping_rounds=early_stopping_rounds, \n",
    "       verbose_eval=20)"
   ]
  },
  {
   "cell_type": "markdown",
   "metadata": {
    "heading_collapsed": true
   },
   "source": [
    "## Feature Selection"
   ]
  },
  {
   "cell_type": "code",
   "execution_count": 5,
   "metadata": {
    "hidden": true
   },
   "outputs": [],
   "source": [
    "SKIP_FLDS                      = ['SK_ID_CURR', 'TARGET']\n",
    "\n",
    "df, y                          = data.iloc[:307511].loc[:, data.columns.drop(SKIP_FLDS)], data.iloc[:307511].loc[:, 'TARGET']\n",
    "X_train, X_val, y_train, y_val = train_test_split(df, y, random_state=SEED, test_size=.3)"
   ]
  },
  {
   "cell_type": "code",
   "execution_count": 12,
   "metadata": {
    "hidden": true
   },
   "outputs": [
    {
     "name": "stdout",
     "output_type": "stream",
     "text": [
      "Training until validation scores don't improve for 100 rounds.\n",
      "[20]\ttrain's auc: 0.753514\teval's auc: 0.743248\n",
      "[40]\ttrain's auc: 0.760975\teval's auc: 0.749357\n",
      "[60]\ttrain's auc: 0.764638\teval's auc: 0.751588\n",
      "[80]\ttrain's auc: 0.76911\teval's auc: 0.754965\n",
      "[100]\ttrain's auc: 0.772924\teval's auc: 0.757673\n",
      "[120]\ttrain's auc: 0.775898\teval's auc: 0.759636\n",
      "[140]\ttrain's auc: 0.779077\teval's auc: 0.76191\n",
      "[160]\ttrain's auc: 0.7821\teval's auc: 0.764041\n",
      "[180]\ttrain's auc: 0.784601\teval's auc: 0.765846\n",
      "[200]\ttrain's auc: 0.787142\teval's auc: 0.767497\n",
      "[220]\ttrain's auc: 0.789478\teval's auc: 0.769111\n",
      "[240]\ttrain's auc: 0.791481\teval's auc: 0.770514\n",
      "[260]\ttrain's auc: 0.793569\teval's auc: 0.771994\n",
      "[280]\ttrain's auc: 0.795471\teval's auc: 0.77316\n",
      "[300]\ttrain's auc: 0.797254\teval's auc: 0.774265\n",
      "[320]\ttrain's auc: 0.798912\teval's auc: 0.775219\n",
      "[340]\ttrain's auc: 0.800393\teval's auc: 0.77598\n",
      "[360]\ttrain's auc: 0.801907\teval's auc: 0.776758\n",
      "[380]\ttrain's auc: 0.803453\teval's auc: 0.777704\n",
      "[400]\ttrain's auc: 0.804793\teval's auc: 0.778434\n",
      "[420]\ttrain's auc: 0.806135\teval's auc: 0.779074\n",
      "[440]\ttrain's auc: 0.807435\teval's auc: 0.77968\n",
      "[460]\ttrain's auc: 0.808661\teval's auc: 0.780251\n",
      "[480]\ttrain's auc: 0.809839\teval's auc: 0.780833\n",
      "[500]\ttrain's auc: 0.810973\teval's auc: 0.781376\n",
      "[520]\ttrain's auc: 0.812095\teval's auc: 0.781852\n",
      "[540]\ttrain's auc: 0.813212\teval's auc: 0.782327\n",
      "[560]\ttrain's auc: 0.814334\teval's auc: 0.782773\n",
      "[580]\ttrain's auc: 0.815383\teval's auc: 0.783226\n",
      "[600]\ttrain's auc: 0.81635\teval's auc: 0.783593\n",
      "[620]\ttrain's auc: 0.817362\teval's auc: 0.783976\n",
      "[640]\ttrain's auc: 0.818319\teval's auc: 0.784333\n",
      "[660]\ttrain's auc: 0.819313\teval's auc: 0.784625\n",
      "[680]\ttrain's auc: 0.82036\teval's auc: 0.785007\n",
      "[700]\ttrain's auc: 0.8213\teval's auc: 0.78531\n",
      "[720]\ttrain's auc: 0.822195\teval's auc: 0.785575\n",
      "[740]\ttrain's auc: 0.823103\teval's auc: 0.785831\n",
      "[760]\ttrain's auc: 0.823953\teval's auc: 0.786078\n",
      "[780]\ttrain's auc: 0.824762\teval's auc: 0.786306\n",
      "[800]\ttrain's auc: 0.825559\teval's auc: 0.786553\n",
      "[820]\ttrain's auc: 0.826324\teval's auc: 0.786771\n",
      "[840]\ttrain's auc: 0.827107\teval's auc: 0.787\n",
      "[860]\ttrain's auc: 0.82784\teval's auc: 0.787183\n",
      "[880]\ttrain's auc: 0.828532\teval's auc: 0.787355\n",
      "[900]\ttrain's auc: 0.829366\teval's auc: 0.787574\n",
      "[920]\ttrain's auc: 0.830157\teval's auc: 0.787813\n",
      "[940]\ttrain's auc: 0.830904\teval's auc: 0.788006\n",
      "[960]\ttrain's auc: 0.83163\teval's auc: 0.788151\n",
      "[980]\ttrain's auc: 0.832377\teval's auc: 0.78829\n",
      "[1000]\ttrain's auc: 0.833045\teval's auc: 0.788429\n",
      "[1020]\ttrain's auc: 0.833659\teval's auc: 0.788579\n",
      "[1040]\ttrain's auc: 0.834323\teval's auc: 0.788745\n",
      "[1060]\ttrain's auc: 0.835034\teval's auc: 0.788933\n",
      "[1080]\ttrain's auc: 0.835696\teval's auc: 0.789053\n",
      "[1100]\ttrain's auc: 0.836305\teval's auc: 0.789187\n",
      "[1120]\ttrain's auc: 0.836903\teval's auc: 0.789279\n",
      "[1140]\ttrain's auc: 0.837508\teval's auc: 0.789361\n",
      "[1160]\ttrain's auc: 0.838211\teval's auc: 0.789541\n",
      "[1180]\ttrain's auc: 0.838833\teval's auc: 0.789623\n",
      "[1200]\ttrain's auc: 0.83951\teval's auc: 0.789768\n",
      "[1220]\ttrain's auc: 0.840099\teval's auc: 0.789861\n",
      "[1240]\ttrain's auc: 0.84069\teval's auc: 0.789967\n",
      "[1260]\ttrain's auc: 0.841251\teval's auc: 0.790044\n",
      "[1280]\ttrain's auc: 0.841874\teval's auc: 0.79017\n",
      "[1300]\ttrain's auc: 0.842463\teval's auc: 0.790267\n",
      "[1320]\ttrain's auc: 0.843046\teval's auc: 0.790347\n",
      "[1340]\ttrain's auc: 0.843619\teval's auc: 0.790429\n",
      "[1360]\ttrain's auc: 0.844157\teval's auc: 0.79049\n",
      "[1380]\ttrain's auc: 0.844737\teval's auc: 0.790598\n",
      "[1400]\ttrain's auc: 0.845241\teval's auc: 0.790647\n",
      "[1420]\ttrain's auc: 0.845798\teval's auc: 0.790768\n",
      "[1440]\ttrain's auc: 0.846367\teval's auc: 0.790853\n",
      "[1460]\ttrain's auc: 0.84686\teval's auc: 0.790899\n",
      "[1480]\ttrain's auc: 0.847414\teval's auc: 0.790968\n",
      "[1500]\ttrain's auc: 0.847957\teval's auc: 0.791009\n",
      "[1520]\ttrain's auc: 0.848454\teval's auc: 0.79107\n",
      "[1540]\ttrain's auc: 0.848967\teval's auc: 0.791097\n",
      "[1560]\ttrain's auc: 0.849467\teval's auc: 0.791189\n",
      "[1580]\ttrain's auc: 0.85005\teval's auc: 0.791282\n",
      "[1600]\ttrain's auc: 0.850553\teval's auc: 0.791374\n",
      "[1620]\ttrain's auc: 0.851087\teval's auc: 0.791438\n",
      "[1640]\ttrain's auc: 0.851619\teval's auc: 0.791471\n",
      "[1660]\ttrain's auc: 0.852162\teval's auc: 0.791537\n",
      "[1680]\ttrain's auc: 0.852669\teval's auc: 0.791577\n",
      "[1700]\ttrain's auc: 0.85315\teval's auc: 0.791643\n",
      "[1720]\ttrain's auc: 0.853604\teval's auc: 0.791669\n",
      "[1740]\ttrain's auc: 0.854126\teval's auc: 0.79169\n",
      "[1760]\ttrain's auc: 0.854634\teval's auc: 0.791716\n",
      "[1780]\ttrain's auc: 0.855093\teval's auc: 0.791729\n",
      "[1800]\ttrain's auc: 0.855537\teval's auc: 0.791773\n",
      "[1820]\ttrain's auc: 0.856037\teval's auc: 0.791823\n",
      "[1840]\ttrain's auc: 0.856519\teval's auc: 0.791843\n",
      "[1860]\ttrain's auc: 0.856974\teval's auc: 0.791904\n",
      "[1880]\ttrain's auc: 0.857438\teval's auc: 0.791923\n",
      "[1900]\ttrain's auc: 0.857885\teval's auc: 0.791926\n",
      "[1920]\ttrain's auc: 0.858306\teval's auc: 0.791949\n",
      "[1940]\ttrain's auc: 0.858745\teval's auc: 0.792002\n",
      "[1960]\ttrain's auc: 0.85915\teval's auc: 0.792026\n",
      "[1980]\ttrain's auc: 0.859658\teval's auc: 0.792024\n",
      "[2000]\ttrain's auc: 0.860086\teval's auc: 0.792033\n",
      "[2020]\ttrain's auc: 0.860542\teval's auc: 0.792029\n",
      "[2040]\ttrain's auc: 0.86091\teval's auc: 0.79203\n",
      "[2060]\ttrain's auc: 0.861305\teval's auc: 0.79205\n",
      "[2080]\ttrain's auc: 0.861729\teval's auc: 0.792087\n",
      "[2100]\ttrain's auc: 0.86213\teval's auc: 0.79209\n",
      "[2120]\ttrain's auc: 0.862667\teval's auc: 0.792134\n",
      "[2140]\ttrain's auc: 0.863081\teval's auc: 0.792176\n",
      "[2160]\ttrain's auc: 0.863523\teval's auc: 0.792238\n",
      "[2180]\ttrain's auc: 0.86395\teval's auc: 0.792231\n",
      "[2200]\ttrain's auc: 0.864331\teval's auc: 0.792258\n",
      "[2220]\ttrain's auc: 0.864745\teval's auc: 0.792235\n",
      "[2240]\ttrain's auc: 0.86516\teval's auc: 0.792247\n",
      "[2260]\ttrain's auc: 0.865497\teval's auc: 0.792248\n",
      "[2280]\ttrain's auc: 0.86596\teval's auc: 0.792283\n",
      "[2300]\ttrain's auc: 0.866355\teval's auc: 0.792295\n",
      "[2320]\ttrain's auc: 0.866767\teval's auc: 0.792327\n",
      "[2340]\ttrain's auc: 0.867166\teval's auc: 0.79234\n",
      "[2360]\ttrain's auc: 0.867614\teval's auc: 0.792349\n",
      "[2380]\ttrain's auc: 0.868028\teval's auc: 0.792365\n",
      "[2400]\ttrain's auc: 0.868429\teval's auc: 0.792351\n",
      "[2420]\ttrain's auc: 0.868818\teval's auc: 0.792351\n",
      "[2440]\ttrain's auc: 0.869225\teval's auc: 0.792415\n",
      "[2460]\ttrain's auc: 0.869608\teval's auc: 0.792428\n",
      "[2480]\ttrain's auc: 0.870005\teval's auc: 0.792433\n",
      "[2500]\ttrain's auc: 0.870358\teval's auc: 0.792465\n",
      "[2520]\ttrain's auc: 0.870748\teval's auc: 0.792464\n",
      "[2540]\ttrain's auc: 0.871143\teval's auc: 0.792478\n",
      "[2560]\ttrain's auc: 0.871561\teval's auc: 0.792493\n",
      "[2580]\ttrain's auc: 0.871919\teval's auc: 0.792503\n",
      "[2600]\ttrain's auc: 0.872298\teval's auc: 0.792521\n",
      "[2620]\ttrain's auc: 0.872688\teval's auc: 0.792547\n",
      "[2640]\ttrain's auc: 0.873136\teval's auc: 0.79255\n",
      "[2660]\ttrain's auc: 0.873544\teval's auc: 0.792532\n",
      "[2680]\ttrain's auc: 0.873896\teval's auc: 0.792515\n",
      "[2700]\ttrain's auc: 0.87426\teval's auc: 0.792545\n",
      "[2720]\ttrain's auc: 0.874574\teval's auc: 0.79257\n",
      "[2740]\ttrain's auc: 0.874993\teval's auc: 0.792574\n",
      "[2760]\ttrain's auc: 0.875343\teval's auc: 0.79259\n",
      "[2780]\ttrain's auc: 0.875698\teval's auc: 0.792597\n",
      "[2800]\ttrain's auc: 0.876071\teval's auc: 0.792657\n",
      "[2820]\ttrain's auc: 0.876498\teval's auc: 0.792654\n",
      "[2840]\ttrain's auc: 0.876847\teval's auc: 0.792635\n",
      "[2860]\ttrain's auc: 0.877219\teval's auc: 0.792636\n",
      "[2880]\ttrain's auc: 0.87755\teval's auc: 0.792651\n",
      "[2900]\ttrain's auc: 0.877892\teval's auc: 0.79264\n",
      "[2920]\ttrain's auc: 0.878269\teval's auc: 0.792648\n",
      "[2940]\ttrain's auc: 0.878659\teval's auc: 0.79265\n",
      "[2960]\ttrain's auc: 0.878964\teval's auc: 0.792665\n",
      "[2980]\ttrain's auc: 0.879328\teval's auc: 0.792699\n",
      "[3000]\ttrain's auc: 0.879718\teval's auc: 0.792684\n",
      "[3020]\ttrain's auc: 0.880108\teval's auc: 0.79268\n",
      "[3040]\ttrain's auc: 0.880468\teval's auc: 0.792697\n",
      "[3060]\ttrain's auc: 0.880843\teval's auc: 0.792708\n",
      "[3080]\ttrain's auc: 0.881161\teval's auc: 0.792727\n",
      "[3100]\ttrain's auc: 0.881514\teval's auc: 0.792721\n",
      "[3120]\ttrain's auc: 0.881853\teval's auc: 0.792737\n",
      "[3140]\ttrain's auc: 0.88217\teval's auc: 0.792759\n",
      "[3160]\ttrain's auc: 0.882519\teval's auc: 0.792778\n",
      "[3180]\ttrain's auc: 0.882848\teval's auc: 0.792788\n",
      "[3200]\ttrain's auc: 0.883172\teval's auc: 0.792801\n",
      "[3220]\ttrain's auc: 0.883544\teval's auc: 0.792805\n",
      "[3240]\ttrain's auc: 0.883878\teval's auc: 0.7928\n",
      "[3260]\ttrain's auc: 0.884207\teval's auc: 0.792802\n",
      "[3280]\ttrain's auc: 0.884531\teval's auc: 0.792799\n",
      "[3300]\ttrain's auc: 0.884863\teval's auc: 0.792812\n"
     ]
    },
    {
     "name": "stdout",
     "output_type": "stream",
     "text": [
      "[3320]\ttrain's auc: 0.885139\teval's auc: 0.7928\n",
      "[3340]\ttrain's auc: 0.885479\teval's auc: 0.792798\n",
      "[3360]\ttrain's auc: 0.885814\teval's auc: 0.792752\n",
      "[3380]\ttrain's auc: 0.886105\teval's auc: 0.792733\n",
      "[3400]\ttrain's auc: 0.886396\teval's auc: 0.792724\n",
      "Early stopping, best iteration is:\n",
      "[3302]\ttrain's auc: 0.884891\teval's auc: 0.792815\n"
     ]
    }
   ],
   "source": [
    "params = {\n",
    "    'objective': 'binary',\n",
    "    'learning_rate': 0.02,\n",
    "    'metric': 'auc',\n",
    "    'max_depth': 6,\n",
    "    'sub_feature': .05,\n",
    "    'reg_lambda': 100,\n",
    "    'num_leaves': 30,\n",
    "    'min_data_in_leaf': 100,\n",
    "    'feature_fraction_seed': SEED,\n",
    "    'min_data_in_leaf': 100,\n",
    "    'max_bin': 300,\n",
    "    'reg_lambda': 100,\n",
    "    'nthread': 4,\n",
    "    'verbose': -1,\n",
    "    'seed': SEED\n",
    "}\n",
    "\n",
    "num_boost_round       = 10000\n",
    "early_stopping_rounds = 100\n",
    "\n",
    "ltrain = lgb.Dataset(X_train, y_train, feature_name=X_train.columns.tolist())\n",
    "lval   = lgb.Dataset(X_val, y_val, feature_name=X_val.columns.tolist())\n",
    "\n",
    "val_sets  = [ltrain, lval]\n",
    "val_names = ['train', 'eval'] \n",
    "\n",
    "m      = lgb.train(params, \n",
    "                   ltrain, \n",
    "                   num_boost_round, \n",
    "                   valid_sets=val_sets, \n",
    "                   valid_names=val_names, \n",
    "                   early_stopping_rounds=early_stopping_rounds,\n",
    "                   verbose_eval=20\n",
    "                  )"
   ]
  },
  {
   "cell_type": "code",
   "execution_count": 13,
   "metadata": {
    "hidden": true
   },
   "outputs": [],
   "source": [
    "feat_imp = pd.DataFrame({'feat': m.feature_name(), 'imp': m.feature_importance(importance_type='gain')})\\\n",
    "             .sort_values(by='imp', ascending=False)"
   ]
  },
  {
   "cell_type": "code",
   "execution_count": 20,
   "metadata": {
    "hidden": true
   },
   "outputs": [
    {
     "data": {
      "text/plain": [
       "['NAME_GOODS_CATEGORY_6',\n",
       " 'NAME_EDUCATION_TYPE__2',\n",
       " 'NAME_HOUSING_TYPE__1',\n",
       " 'FONDKAPREMONT_MODE',\n",
       " 'STATUS1.0',\n",
       " 'FLAG_DOCUMENT_6',\n",
       " 'num_high_int_no_info_loans',\n",
       " 'NUM_NULLS_EXT_SCORES',\n",
       " 'STATUS3.0',\n",
       " 'AMT_REQ_CREDIT_BUREAU_HOUR',\n",
       " 'FLAG_PHONE',\n",
       " 'NAME_INCOME_TYPE__7',\n",
       " 'OCCUPATION_TYPE__10',\n",
       " 'STATUS2.0',\n",
       " 'OCCUPATION_TYPE__-1',\n",
       " 'OCCUPATION_TYPE__6',\n",
       " 'OCCUPATION_TYPE__14',\n",
       " 'NAME_INCOME_TYPE__1',\n",
       " 'OCCUPATION_TYPE__3',\n",
       " 'STATUS5.0',\n",
       " 'ORGANIZATION_TYPE__31',\n",
       " 'LIVE_REGION_NOT_WORK_REGION',\n",
       " 'PRODUCT_COMBINATION_15',\n",
       " 'FLAG_EMAIL',\n",
       " 'sum_CODE_GENDER_NAME_EDUCATION_TYPE_OWN_CAR_AGE',\n",
       " 'OCCUPATION_TYPE__0',\n",
       " 'REG_REGION_NOT_WORK_REGION',\n",
       " 'sum_num_times_prolonged',\n",
       " 'total_cash_credit_dpd',\n",
       " 'AMT_REQ_CREDIT_BUREAU_DAY',\n",
       " 'ORGANIZATION_TYPE__11',\n",
       " 'HOUSETYPE_MODE',\n",
       " 'OCCUPATION_TYPE__8',\n",
       " 'EMERGENCYSTATE_MODE',\n",
       " 'ORGANIZATION_TYPE__55',\n",
       " 'NAME_GOODS_CATEGORY_3',\n",
       " 'ORGANIZATION_TYPE__33',\n",
       " 'FLAG_DOCUMENT_5',\n",
       " 'ORGANIZATION_TYPE__28',\n",
       " 'ORGANIZATION_TYPE__51',\n",
       " 'NAME_GOODS_CATEGORY_22',\n",
       " 'NAME_INCOME_TYPE__3',\n",
       " 'FLAG_EMP_PHONE',\n",
       " 'CODE_REJECT_REASON_8',\n",
       " 'NAME_HOUSING_TYPE__5',\n",
       " 'ORGANIZATION_TYPE__30',\n",
       " 'ORGANIZATION_TYPE__57',\n",
       " 'ORGANIZATION_TYPE__47',\n",
       " 'ORGANIZATION_TYPE__35',\n",
       " 'ORGANIZATION_TYPE__4',\n",
       " 'ORGANIZATION_TYPE__56',\n",
       " 'ORGANIZATION_TYPE__40',\n",
       " 'ORGANIZATION_TYPE__41',\n",
       " 'ORGANIZATION_TYPE__43',\n",
       " 'ORGANIZATION_TYPE__53',\n",
       " 'ORGANIZATION_TYPE__45',\n",
       " 'ORGANIZATION_TYPE__52',\n",
       " 'ORGANIZATION_TYPE__50',\n",
       " 'ORGANIZATION_TYPE__44',\n",
       " 'ORGANIZATION_TYPE__49',\n",
       " 'ORGANIZATION_TYPE__6',\n",
       " 'ORGANIZATION_TYPE__46',\n",
       " 'ORGANIZATION_TYPE__48',\n",
       " 'NAME_EDUCATION_TYPE__0',\n",
       " 'NAME_INCOME_TYPE__6',\n",
       " 'OCCUPATION_TYPE__12',\n",
       " 'OCCUPATION_TYPE__nan',\n",
       " 'OCCUPATION_TYPE__9',\n",
       " 'OCCUPATION_TYPE__7',\n",
       " 'OCCUPATION_TYPE__5',\n",
       " 'NAME_EDUCATION_TYPE__3',\n",
       " 'OCCUPATION_TYPE__2',\n",
       " 'OCCUPATION_TYPE__17',\n",
       " 'OCCUPATION_TYPE__16',\n",
       " 'OCCUPATION_TYPE__15',\n",
       " 'OCCUPATION_TYPE__13',\n",
       " 'NAME_EDUCATION_TYPE__nan',\n",
       " 'OCCUPATION_TYPE__11',\n",
       " 'ORGANIZATION_TYPE__8',\n",
       " 'ORGANIZATION_TYPE__38',\n",
       " 'NAME_HOUSING_TYPE__0',\n",
       " 'OCCUPATION_TYPE__1',\n",
       " 'NAME_HOUSING_TYPE__2',\n",
       " 'NAME_HOUSING_TYPE__4',\n",
       " 'NAME_HOUSING_TYPE__nan',\n",
       " 'NAME_INCOME_TYPE__0',\n",
       " 'NAME_INCOME_TYPE__2',\n",
       " 'NAME_INCOME_TYPE__5',\n",
       " 'ORGANIZATION_TYPE__nan',\n",
       " 'ORGANIZATION_TYPE__9',\n",
       " 'FLAG_DOCUMENT_10',\n",
       " 'ORGANIZATION_TYPE__2',\n",
       " 'ORGANIZATION_TYPE__37',\n",
       " 'NAME_GOODS_CATEGORY_0',\n",
       " 'FLAG_MOBIL',\n",
       " 'PRODUCT_COMBINATION_-1',\n",
       " 'NAME_GOODS_CATEGORY_10',\n",
       " 'PRODUCT_COMBINATION_16',\n",
       " 'NAME_GOODS_CATEGORY_20',\n",
       " 'NAME_GOODS_CATEGORY_13',\n",
       " 'CODE_REJECT_REASON_5',\n",
       " 'ORGANIZATION_TYPE__36',\n",
       " 'NAME_GOODS_CATEGORY_15',\n",
       " 'NAME_GOODS_CATEGORY_12',\n",
       " 'NAME_GOODS_CATEGORY_14',\n",
       " 'NAME_GOODS_CATEGORY_25',\n",
       " 'CODE_REJECT_REASON_6',\n",
       " 'NAME_GOODS_CATEGORY_18',\n",
       " 'FLAG_DOCUMENT_9',\n",
       " 'FLAG_DOCUMENT_7',\n",
       " 'FLAG_DOCUMENT_4',\n",
       " 'FLAG_DOCUMENT_21',\n",
       " 'FLAG_DOCUMENT_20',\n",
       " 'FLAG_DOCUMENT_2',\n",
       " 'FLAG_DOCUMENT_19',\n",
       " 'diff_code_gender_organization_type_days_reg_mean',\n",
       " 'mean_CODE_GENDER_ORGANIZATION_TYPE_DAYS_REGISTRATION',\n",
       " 'FLAG_DOCUMENT_18',\n",
       " 'FLAG_DOCUMENT_17',\n",
       " 'FLAG_DOCUMENT_16',\n",
       " 'FLAG_DOCUMENT_15',\n",
       " 'FLAG_DOCUMENT_14',\n",
       " 'FLAG_DOCUMENT_13',\n",
       " 'FLAG_DOCUMENT_12',\n",
       " 'FLAG_DOCUMENT_11',\n",
       " 'NAME_GOODS_CATEGORY_9',\n",
       " 'NAME_GOODS_CATEGORY_17',\n",
       " 'NAME_GOODS_CATEGORY_8',\n",
       " 'ORGANIZATION_TYPE__18',\n",
       " 'ORGANIZATION_TYPE__34',\n",
       " 'ORGANIZATION_TYPE__32',\n",
       " 'ORGANIZATION_TYPE__3',\n",
       " 'ORGANIZATION_TYPE__29',\n",
       " 'ORGANIZATION_TYPE__27',\n",
       " 'ORGANIZATION_TYPE__26',\n",
       " 'ORGANIZATION_TYPE__25',\n",
       " 'ORGANIZATION_TYPE__24',\n",
       " 'ORGANIZATION_TYPE__23',\n",
       " 'ORGANIZATION_TYPE__22',\n",
       " 'ORGANIZATION_TYPE__21',\n",
       " 'ORGANIZATION_TYPE__20',\n",
       " 'FLAG_CONT_MOBILE',\n",
       " 'ORGANIZATION_TYPE__19',\n",
       " 'ORGANIZATION_TYPE__17',\n",
       " 'NAME_GOODS_CATEGORY_1',\n",
       " 'ORGANIZATION_TYPE__16',\n",
       " 'ORGANIZATION_TYPE__15',\n",
       " 'ORGANIZATION_TYPE__14',\n",
       " 'ORGANIZATION_TYPE__13',\n",
       " 'ORGANIZATION_TYPE__12',\n",
       " 'ORGANIZATION_TYPE__10',\n",
       " 'ORGANIZATION_TYPE__1',\n",
       " 'ORGANIZATION_TYPE__0',\n",
       " 'diff_max_min_credit_term',\n",
       " 'most_recent_min_pos_cash_dpd',\n",
       " 'NAME_GOODS_CATEGORY_26',\n",
       " 'NAME_GOODS_CATEGORY_24',\n",
       " 'PRODUCT_COMBINATION_12',\n",
       " 'NAME_GOODS_CATEGORY_21',\n",
       " 'NAME_INCOME_TYPE__nan']"
      ]
     },
     "execution_count": 20,
     "metadata": {},
     "output_type": "execute_result"
    }
   ],
   "source": [
    "feat_imp[feat_imp['imp'] < 43].feat.tolist()"
   ]
  },
  {
   "cell_type": "markdown",
   "metadata": {
    "hidden": true
   },
   "source": [
    "### Shuffle target"
   ]
  },
  {
   "cell_type": "code",
   "execution_count": 15,
   "metadata": {
    "hidden": true
   },
   "outputs": [],
   "source": [
    "SKIP_FLDS                      = ['SK_ID_CURR', 'TARGET']\n",
    "\n",
    "df, y                          = data.iloc[:307511].loc[:, data.columns.drop(SKIP_FLDS)], data.iloc[:307511].loc[:, 'TARGET']\n",
    "y = y.sample(frac=1.)\n",
    "X_train, X_val, y_train, y_val = train_test_split(df, y, random_state=SEED, test_size=.3)"
   ]
  },
  {
   "cell_type": "code",
   "execution_count": 16,
   "metadata": {
    "hidden": true
   },
   "outputs": [
    {
     "name": "stdout",
     "output_type": "stream",
     "text": [
      "Training until validation scores don't improve for 100 rounds.\n",
      "[20]\ttrain's auc: 0.620242\teval's auc: 0.504715\n",
      "[40]\ttrain's auc: 0.643405\teval's auc: 0.507732\n",
      "[60]\ttrain's auc: 0.659297\teval's auc: 0.506849\n",
      "[80]\ttrain's auc: 0.669136\teval's auc: 0.50663\n",
      "[100]\ttrain's auc: 0.677299\teval's auc: 0.50754\n",
      "Early stopping, best iteration is:\n",
      "[2]\ttrain's auc: 0.54556\teval's auc: 0.508101\n"
     ]
    }
   ],
   "source": [
    "params = {\n",
    "    'objective': 'binary',\n",
    "    'learning_rate': 0.02,\n",
    "    'metric': 'auc',\n",
    "    'max_depth': 6,\n",
    "    'sub_feature': .05,\n",
    "    'reg_lambda': 100,\n",
    "    'num_leaves': 30,\n",
    "    'min_data_in_leaf': 100,\n",
    "    'feature_fraction_seed': SEED,\n",
    "    'min_data_in_leaf': 100,\n",
    "    'max_bin': 300,\n",
    "    'reg_lambda': 100,\n",
    "    'nthread': 4,\n",
    "    'verbose': -1,\n",
    "    'seed': SEED\n",
    "}\n",
    "\n",
    "num_boost_round       = 10000\n",
    "early_stopping_rounds = 100\n",
    "\n",
    "ltrain = lgb.Dataset(X_train, y_train, feature_name=X_train.columns.tolist())\n",
    "lval   = lgb.Dataset(X_val, y_val, feature_name=X_val.columns.tolist())\n",
    "\n",
    "val_sets  = [ltrain, lval]\n",
    "val_names = ['train', 'eval'] \n",
    "\n",
    "m      = lgb.train(params, \n",
    "                   ltrain, \n",
    "                   num_boost_round, \n",
    "                   valid_sets=val_sets, \n",
    "                   valid_names=val_names, \n",
    "                   early_stopping_rounds=early_stopping_rounds,\n",
    "                   verbose_eval=20\n",
    "                  )"
   ]
  },
  {
   "cell_type": "code",
   "execution_count": 17,
   "metadata": {
    "hidden": true
   },
   "outputs": [],
   "source": [
    "feat_imp_shuffled = pd.DataFrame({\n",
    "            'feat': m.feature_name(), \n",
    "            'imp': m.feature_importance(importance_type='gain')\n",
    "})\\\n",
    "             .sort_values(by='imp', ascending=False)"
   ]
  },
  {
   "cell_type": "code",
   "execution_count": 18,
   "metadata": {
    "hidden": true
   },
   "outputs": [
    {
     "data": {
      "text/html": [
       "<div>\n",
       "<style scoped>\n",
       "    .dataframe tbody tr th:only-of-type {\n",
       "        vertical-align: middle;\n",
       "    }\n",
       "\n",
       "    .dataframe tbody tr th {\n",
       "        vertical-align: top;\n",
       "    }\n",
       "\n",
       "    .dataframe thead th {\n",
       "        text-align: right;\n",
       "    }\n",
       "</style>\n",
       "<table border=\"1\" class=\"dataframe\">\n",
       "  <thead>\n",
       "    <tr style=\"text-align: right;\">\n",
       "      <th></th>\n",
       "      <th>feat</th>\n",
       "      <th>imp</th>\n",
       "    </tr>\n",
       "  </thead>\n",
       "  <tbody>\n",
       "    <tr>\n",
       "      <th>26</th>\n",
       "      <td>DAYS_REGISTRATION</td>\n",
       "      <td>42.132000</td>\n",
       "    </tr>\n",
       "    <tr>\n",
       "      <th>229</th>\n",
       "      <td>latest_credit</td>\n",
       "      <td>27.934580</td>\n",
       "    </tr>\n",
       "    <tr>\n",
       "      <th>175</th>\n",
       "      <td>phone_to_birth_ratio</td>\n",
       "      <td>24.029550</td>\n",
       "    </tr>\n",
       "    <tr>\n",
       "      <th>285</th>\n",
       "      <td>mean_last_decision</td>\n",
       "      <td>21.535850</td>\n",
       "    </tr>\n",
       "    <tr>\n",
       "      <th>565</th>\n",
       "      <td>diff_education_occupation_source_3_mean</td>\n",
       "      <td>21.534780</td>\n",
       "    </tr>\n",
       "    <tr>\n",
       "      <th>317</th>\n",
       "      <td>var_pos_installments_left</td>\n",
       "      <td>20.391211</td>\n",
       "    </tr>\n",
       "    <tr>\n",
       "      <th>557</th>\n",
       "      <td>diff_income_type_education_type_source_2_mean</td>\n",
       "      <td>19.343680</td>\n",
       "    </tr>\n",
       "    <tr>\n",
       "      <th>158</th>\n",
       "      <td>ratio_annuity_score_1</td>\n",
       "      <td>13.551420</td>\n",
       "    </tr>\n",
       "    <tr>\n",
       "      <th>580</th>\n",
       "      <td>mean_OCCUPATION_TYPE_EXT_SOURCE_2</td>\n",
       "      <td>13.188700</td>\n",
       "    </tr>\n",
       "    <tr>\n",
       "      <th>262</th>\n",
       "      <td>min_credit_goods_price_bureau</td>\n",
       "      <td>12.960310</td>\n",
       "    </tr>\n",
       "    <tr>\n",
       "      <th>204</th>\n",
       "      <td>mean_cb_credit_annuity</td>\n",
       "      <td>12.647580</td>\n",
       "    </tr>\n",
       "    <tr>\n",
       "      <th>109</th>\n",
       "      <td>YEARS_BEGINEXPLUATATION_AVG</td>\n",
       "      <td>11.028100</td>\n",
       "    </tr>\n",
       "    <tr>\n",
       "      <th>119</th>\n",
       "      <td>EXT_1_3</td>\n",
       "      <td>10.829360</td>\n",
       "    </tr>\n",
       "    <tr>\n",
       "      <th>145</th>\n",
       "      <td>ratio_goods_income</td>\n",
       "      <td>10.678500</td>\n",
       "    </tr>\n",
       "    <tr>\n",
       "      <th>519</th>\n",
       "      <td>mean_CODE_GENDER_NAME_EDUCATION_TYPE_EXT_SOURCE_2</td>\n",
       "      <td>9.027940</td>\n",
       "    </tr>\n",
       "    <tr>\n",
       "      <th>399</th>\n",
       "      <td>annuity_to_total_income</td>\n",
       "      <td>8.766770</td>\n",
       "    </tr>\n",
       "    <tr>\n",
       "      <th>242</th>\n",
       "      <td>min_num_bureau_balance</td>\n",
       "      <td>7.935860</td>\n",
       "    </tr>\n",
       "    <tr>\n",
       "      <th>400</th>\n",
       "      <td>stacked_loan_credit_start</td>\n",
       "      <td>7.331750</td>\n",
       "    </tr>\n",
       "    <tr>\n",
       "      <th>328</th>\n",
       "      <td>mean_amt_balance</td>\n",
       "      <td>5.832110</td>\n",
       "    </tr>\n",
       "    <tr>\n",
       "      <th>585</th>\n",
       "      <td>diff_occupation_annuity_credit_mean</td>\n",
       "      <td>5.764100</td>\n",
       "    </tr>\n",
       "    <tr>\n",
       "      <th>527</th>\n",
       "      <td>diff_code_gender_name_education_type_amt_annui...</td>\n",
       "      <td>5.514800</td>\n",
       "    </tr>\n",
       "    <tr>\n",
       "      <th>159</th>\n",
       "      <td>ratio_annuity_score_2</td>\n",
       "      <td>5.513890</td>\n",
       "    </tr>\n",
       "    <tr>\n",
       "      <th>263</th>\n",
       "      <td>past_annuity_to_credit_cnt_payment_mean</td>\n",
       "      <td>5.322260</td>\n",
       "    </tr>\n",
       "    <tr>\n",
       "      <th>148</th>\n",
       "      <td>ratio_goods_credit</td>\n",
       "      <td>5.279140</td>\n",
       "    </tr>\n",
       "    <tr>\n",
       "      <th>334</th>\n",
       "      <td>MONTHS_BALANCE_sum</td>\n",
       "      <td>5.072690</td>\n",
       "    </tr>\n",
       "    <tr>\n",
       "      <th>392</th>\n",
       "      <td>mean_num_installments_prev_application</td>\n",
       "      <td>4.999700</td>\n",
       "    </tr>\n",
       "    <tr>\n",
       "      <th>338</th>\n",
       "      <td>MONTHS_BALANCE_mean</td>\n",
       "      <td>4.412240</td>\n",
       "    </tr>\n",
       "    <tr>\n",
       "      <th>382</th>\n",
       "      <td>change_in_credit_limit_ot</td>\n",
       "      <td>3.370030</td>\n",
       "    </tr>\n",
       "    <tr>\n",
       "      <th>508</th>\n",
       "      <td>diff_credit_annuity_age</td>\n",
       "      <td>0.000000</td>\n",
       "    </tr>\n",
       "    <tr>\n",
       "      <th>523</th>\n",
       "      <td>diff_code_gender_name_education_type_source_1_...</td>\n",
       "      <td>0.000000</td>\n",
       "    </tr>\n",
       "    <tr>\n",
       "      <th>...</th>\n",
       "      <td>...</td>\n",
       "      <td>...</td>\n",
       "    </tr>\n",
       "    <tr>\n",
       "      <th>260</th>\n",
       "      <td>diff_first_due_days_var</td>\n",
       "      <td>0.000000</td>\n",
       "    </tr>\n",
       "    <tr>\n",
       "      <th>261</th>\n",
       "      <td>diff_termination_decision_sum</td>\n",
       "      <td>0.000000</td>\n",
       "    </tr>\n",
       "    <tr>\n",
       "      <th>264</th>\n",
       "      <td>mean_hour_process</td>\n",
       "      <td>0.000000</td>\n",
       "    </tr>\n",
       "    <tr>\n",
       "      <th>265</th>\n",
       "      <td>dev_weekday_process</td>\n",
       "      <td>0.000000</td>\n",
       "    </tr>\n",
       "    <tr>\n",
       "      <th>266</th>\n",
       "      <td>running_loans</td>\n",
       "      <td>0.000000</td>\n",
       "    </tr>\n",
       "    <tr>\n",
       "      <th>267</th>\n",
       "      <td>prev_app_decision</td>\n",
       "      <td>0.000000</td>\n",
       "    </tr>\n",
       "    <tr>\n",
       "      <th>268</th>\n",
       "      <td>ratio_prev_curr_annuity</td>\n",
       "      <td>0.000000</td>\n",
       "    </tr>\n",
       "    <tr>\n",
       "      <th>269</th>\n",
       "      <td>mean_prev_app</td>\n",
       "      <td>0.000000</td>\n",
       "    </tr>\n",
       "    <tr>\n",
       "      <th>249</th>\n",
       "      <td>STATUS7.0</td>\n",
       "      <td>0.000000</td>\n",
       "    </tr>\n",
       "    <tr>\n",
       "      <th>248</th>\n",
       "      <td>STATUS6.0</td>\n",
       "      <td>0.000000</td>\n",
       "    </tr>\n",
       "    <tr>\n",
       "      <th>247</th>\n",
       "      <td>completed_to_total</td>\n",
       "      <td>0.000000</td>\n",
       "    </tr>\n",
       "    <tr>\n",
       "      <th>246</th>\n",
       "      <td>mean_status</td>\n",
       "      <td>0.000000</td>\n",
       "    </tr>\n",
       "    <tr>\n",
       "      <th>227</th>\n",
       "      <td>recent_bureau_loans</td>\n",
       "      <td>0.000000</td>\n",
       "    </tr>\n",
       "    <tr>\n",
       "      <th>228</th>\n",
       "      <td>var_amt_credit_sum_limit</td>\n",
       "      <td>0.000000</td>\n",
       "    </tr>\n",
       "    <tr>\n",
       "      <th>230</th>\n",
       "      <td>credits_ended_bureau</td>\n",
       "      <td>0.000000</td>\n",
       "    </tr>\n",
       "    <tr>\n",
       "      <th>231</th>\n",
       "      <td>total_credit_active_to_closed</td>\n",
       "      <td>0.000000</td>\n",
       "    </tr>\n",
       "    <tr>\n",
       "      <th>232</th>\n",
       "      <td>ratio_max_min_amt_credit_sum</td>\n",
       "      <td>0.000000</td>\n",
       "    </tr>\n",
       "    <tr>\n",
       "      <th>233</th>\n",
       "      <td>div_deltas</td>\n",
       "      <td>0.000000</td>\n",
       "    </tr>\n",
       "    <tr>\n",
       "      <th>234</th>\n",
       "      <td>mean_max_amt_overdue</td>\n",
       "      <td>0.000000</td>\n",
       "    </tr>\n",
       "    <tr>\n",
       "      <th>235</th>\n",
       "      <td>median_amt_credit_sum_limit</td>\n",
       "      <td>0.000000</td>\n",
       "    </tr>\n",
       "    <tr>\n",
       "      <th>236</th>\n",
       "      <td>closed_credit_duration</td>\n",
       "      <td>0.000000</td>\n",
       "    </tr>\n",
       "    <tr>\n",
       "      <th>237</th>\n",
       "      <td>oldest_loan_employment</td>\n",
       "      <td>0.000000</td>\n",
       "    </tr>\n",
       "    <tr>\n",
       "      <th>238</th>\n",
       "      <td>diff_curr_prev_num_credits</td>\n",
       "      <td>0.000000</td>\n",
       "    </tr>\n",
       "    <tr>\n",
       "      <th>239</th>\n",
       "      <td>total_debt_to_income</td>\n",
       "      <td>0.000000</td>\n",
       "    </tr>\n",
       "    <tr>\n",
       "      <th>240</th>\n",
       "      <td>AMT_CREDIT_SUM_min</td>\n",
       "      <td>0.000000</td>\n",
       "    </tr>\n",
       "    <tr>\n",
       "      <th>241</th>\n",
       "      <td>max_num_bureau_balance</td>\n",
       "      <td>0.000000</td>\n",
       "    </tr>\n",
       "    <tr>\n",
       "      <th>243</th>\n",
       "      <td>STATUS4.0</td>\n",
       "      <td>0.000000</td>\n",
       "    </tr>\n",
       "    <tr>\n",
       "      <th>244</th>\n",
       "      <td>STATUS0.0</td>\n",
       "      <td>0.000000</td>\n",
       "    </tr>\n",
       "    <tr>\n",
       "      <th>245</th>\n",
       "      <td>STATUS1.0</td>\n",
       "      <td>0.000000</td>\n",
       "    </tr>\n",
       "    <tr>\n",
       "      <th>706</th>\n",
       "      <td>NAME_INCOME_TYPE__nan</td>\n",
       "      <td>0.000000</td>\n",
       "    </tr>\n",
       "  </tbody>\n",
       "</table>\n",
       "<p>707 rows × 2 columns</p>\n",
       "</div>"
      ],
      "text/plain": [
       "                                                  feat        imp\n",
       "26                                   DAYS_REGISTRATION  42.132000\n",
       "229                                      latest_credit  27.934580\n",
       "175                               phone_to_birth_ratio  24.029550\n",
       "285                                 mean_last_decision  21.535850\n",
       "565            diff_education_occupation_source_3_mean  21.534780\n",
       "317                          var_pos_installments_left  20.391211\n",
       "557      diff_income_type_education_type_source_2_mean  19.343680\n",
       "158                              ratio_annuity_score_1  13.551420\n",
       "580                  mean_OCCUPATION_TYPE_EXT_SOURCE_2  13.188700\n",
       "262                      min_credit_goods_price_bureau  12.960310\n",
       "204                             mean_cb_credit_annuity  12.647580\n",
       "109                        YEARS_BEGINEXPLUATATION_AVG  11.028100\n",
       "119                                            EXT_1_3  10.829360\n",
       "145                                 ratio_goods_income  10.678500\n",
       "519  mean_CODE_GENDER_NAME_EDUCATION_TYPE_EXT_SOURCE_2   9.027940\n",
       "399                            annuity_to_total_income   8.766770\n",
       "242                             min_num_bureau_balance   7.935860\n",
       "400                          stacked_loan_credit_start   7.331750\n",
       "328                                   mean_amt_balance   5.832110\n",
       "585                diff_occupation_annuity_credit_mean   5.764100\n",
       "527  diff_code_gender_name_education_type_amt_annui...   5.514800\n",
       "159                              ratio_annuity_score_2   5.513890\n",
       "263            past_annuity_to_credit_cnt_payment_mean   5.322260\n",
       "148                                 ratio_goods_credit   5.279140\n",
       "334                                 MONTHS_BALANCE_sum   5.072690\n",
       "392             mean_num_installments_prev_application   4.999700\n",
       "338                                MONTHS_BALANCE_mean   4.412240\n",
       "382                          change_in_credit_limit_ot   3.370030\n",
       "508                            diff_credit_annuity_age   0.000000\n",
       "523  diff_code_gender_name_education_type_source_1_...   0.000000\n",
       "..                                                 ...        ...\n",
       "260                            diff_first_due_days_var   0.000000\n",
       "261                      diff_termination_decision_sum   0.000000\n",
       "264                                  mean_hour_process   0.000000\n",
       "265                                dev_weekday_process   0.000000\n",
       "266                                      running_loans   0.000000\n",
       "267                                  prev_app_decision   0.000000\n",
       "268                            ratio_prev_curr_annuity   0.000000\n",
       "269                                      mean_prev_app   0.000000\n",
       "249                                          STATUS7.0   0.000000\n",
       "248                                          STATUS6.0   0.000000\n",
       "247                                 completed_to_total   0.000000\n",
       "246                                        mean_status   0.000000\n",
       "227                                recent_bureau_loans   0.000000\n",
       "228                           var_amt_credit_sum_limit   0.000000\n",
       "230                               credits_ended_bureau   0.000000\n",
       "231                      total_credit_active_to_closed   0.000000\n",
       "232                       ratio_max_min_amt_credit_sum   0.000000\n",
       "233                                         div_deltas   0.000000\n",
       "234                               mean_max_amt_overdue   0.000000\n",
       "235                        median_amt_credit_sum_limit   0.000000\n",
       "236                             closed_credit_duration   0.000000\n",
       "237                             oldest_loan_employment   0.000000\n",
       "238                         diff_curr_prev_num_credits   0.000000\n",
       "239                               total_debt_to_income   0.000000\n",
       "240                                 AMT_CREDIT_SUM_min   0.000000\n",
       "241                             max_num_bureau_balance   0.000000\n",
       "243                                          STATUS4.0   0.000000\n",
       "244                                          STATUS0.0   0.000000\n",
       "245                                          STATUS1.0   0.000000\n",
       "706                              NAME_INCOME_TYPE__nan   0.000000\n",
       "\n",
       "[707 rows x 2 columns]"
      ]
     },
     "execution_count": 18,
     "metadata": {},
     "output_type": "execute_result"
    }
   ],
   "source": [
    "feat_imp_shuffled"
   ]
  },
  {
   "cell_type": "markdown",
   "metadata": {
    "heading_collapsed": true
   },
   "source": [
    "## Bayesian Optimization"
   ]
  },
  {
   "cell_type": "code",
   "execution_count": 13,
   "metadata": {
    "hidden": true
   },
   "outputs": [
    {
     "name": "stdout",
     "output_type": "stream",
     "text": [
      "CPU times: user 6.47 s, sys: 1.6 s, total: 8.07 s\n",
      "Wall time: 8.08 s\n"
     ]
    }
   ],
   "source": [
    "%%time\n",
    "\n",
    "data = pd.read_hdf('../data/interim/dataset5/data.h5', key='data')\n",
    "features = np.load('../data/interim/dataset5/v89_features.npy')\n",
    "data  = data.iloc[:307511]\n",
    "\n",
    "# create sample\n",
    "# data  = data.sample(n=1000)\n",
    "\n",
    "df, y = data.loc[:, features], data.TARGET\n",
    "\n",
    "del data\n",
    "gc.collect();"
   ]
  },
  {
   "cell_type": "markdown",
   "metadata": {
    "hidden": true
   },
   "source": [
    "### LGB"
   ]
  },
  {
   "cell_type": "code",
   "execution_count": 4,
   "metadata": {
    "hidden": true
   },
   "outputs": [],
   "source": [
    "def bayes_parameter_opt_lgb(X, y, init_round=15, \n",
    "                            opt_round=25, \n",
    "                            n_folds=5, \n",
    "                            random_seed=6,\n",
    "                            n_estimators=50000, \n",
    "                            learning_rate=0.01, \n",
    "                            output_process=False):\n",
    "    \n",
    "    # prepare data\n",
    "    train_data = lgb.Dataset(data=X, label=y, free_raw_data=False)\n",
    "    \n",
    "    # parameters\n",
    "    def lgb_eval(num_leaves, \n",
    "                 feature_fraction, \n",
    "                 bagging_fraction, \n",
    "                 max_depth, \n",
    "                 lambda_l1, \n",
    "                 lambda_l2, \n",
    "                 min_split_gain, \n",
    "                 min_child_weight,\n",
    "                 min_data_in_leaf\n",
    "                ):\n",
    "        \n",
    "        params = {'application':'binary',\n",
    "                  'num_iterations': n_estimators, \n",
    "                  'learning_rate':learning_rate, \n",
    "                  'early_stopping_round':200,\n",
    "                  'metric':'auc',\n",
    "                  'seed': 4457\n",
    "                 }\n",
    "        \n",
    "        params[\"num_leaves\"] = int(round(num_leaves))\n",
    "        params['feature_fraction'] = max(min(feature_fraction, 1), 0)\n",
    "        params['bagging_fraction'] = max(min(bagging_fraction, 1), 0)\n",
    "        params['bagging_seed'] = params['seed']\n",
    "        params['feature_fraction_seed'] = params['seed']\n",
    "        params['max_depth'] = int(round(max_depth))\n",
    "        params['lambda_l1'] = max(lambda_l1, 0)\n",
    "        params['lambda_l2'] = max(lambda_l2, 0)\n",
    "        params['min_split_gain'] = min_split_gain\n",
    "        params['min_child_weight'] = min_child_weight\n",
    "        params['min_data_in_leaf'] = int(round(min_data_in_leaf))\n",
    "        \n",
    "        def get_folds(X, cv_df):\n",
    "            FOLD_NUM = [0, 2, 3, 4, 5]\n",
    "\n",
    "            for fold in FOLD_NUM:\n",
    "                test_idx  = list(cv_df[f'F{fold}'].values)\n",
    "                train_idx = list(set(X.index) - set(test_idx))\n",
    "\n",
    "                yield train_idx, test_idx\n",
    "\n",
    "        \n",
    "        cv_df     = pd.read_csv('../data/raw/cv_adversarial_idx_v1.csv')\n",
    "        cv_result = lgb.cv(params, \n",
    "                           train_data, \n",
    "                           folds=get_folds(X, cv_df), \n",
    "                           seed=random_seed, \n",
    "                           verbose_eval=200, \n",
    "                           metrics=['auc'])\n",
    "        \n",
    "        return max(cv_result['auc-mean'])\n",
    "    \n",
    "    # range \n",
    "    lgbBO = BayesianOptimization(lgb_eval, {'num_leaves': (10, 100),\n",
    "                                            'feature_fraction': (0.01, 1),\n",
    "                                            'bagging_fraction': (0.8, 1),\n",
    "                                            'max_depth': (4, 9),\n",
    "                                            'lambda_l1': (0, 100),\n",
    "                                            'lambda_l2': (0, 200),\n",
    "                                            'min_split_gain': (0.001, 0.1),\n",
    "                                            'min_child_weight': (1, 200),\n",
    "                                            'min_data_in_leaf': (20, 300)\n",
    "                                           }, random_state=0)\n",
    "    \n",
    "    # optimize\n",
    "    lgbBO.maximize(init_points=init_round, n_iter=opt_round)\n",
    "    \n",
    "    # output optimization process\n",
    "    if output_process==True: lgbBO.points_to_csv(\"bayes_opt_result.csv\")\n",
    "    \n",
    "    # return best parameters\n",
    "    return lgbBO.res['max']['max_params']"
   ]
  },
  {
   "cell_type": "code",
   "execution_count": 5,
   "metadata": {
    "hidden": true
   },
   "outputs": [
    {
     "name": "stdout",
     "output_type": "stream",
     "text": [
      "\u001b[31mInitialization\u001b[0m\n",
      "\u001b[94m---------------------------------------------------------------------------------------------------------------------------------------------------------------------------------------------\u001b[0m\n",
      " Step |   Time |      Value |   bagging_fraction |   feature_fraction |   lambda_l1 |   lambda_l2 |   max_depth |   min_child_weight |   min_data_in_leaf |   min_split_gain |   num_leaves | \n",
      "[200]\tcv_agg's auc: 0.744739 + 0.0122541\n",
      "[400]\tcv_agg's auc: 0.759323 + 0.0119972\n",
      "[600]\tcv_agg's auc: 0.767049 + 0.0115447\n",
      "[800]\tcv_agg's auc: 0.771988 + 0.0110609\n",
      "[1000]\tcv_agg's auc: 0.774993 + 0.0109011\n",
      "[1200]\tcv_agg's auc: 0.777233 + 0.0107943\n",
      "[1400]\tcv_agg's auc: 0.779233 + 0.0106538\n",
      "[1600]\tcv_agg's auc: 0.780913 + 0.0105478\n",
      "[1800]\tcv_agg's auc: 0.782181 + 0.0104106\n",
      "[2000]\tcv_agg's auc: 0.783307 + 0.0103566\n",
      "[2200]\tcv_agg's auc: 0.784242 + 0.0102572\n",
      "[2400]\tcv_agg's auc: 0.785006 + 0.0101904\n",
      "[2600]\tcv_agg's auc: 0.785659 + 0.0101055\n",
      "[2800]\tcv_agg's auc: 0.786207 + 0.0100303\n",
      "[3000]\tcv_agg's auc: 0.786744 + 0.0100252\n",
      "[3200]\tcv_agg's auc: 0.787231 + 0.00998375\n",
      "[3400]\tcv_agg's auc: 0.78774 + 0.00991632\n",
      "[3600]\tcv_agg's auc: 0.788204 + 0.00987101\n",
      "[3800]\tcv_agg's auc: 0.788677 + 0.00984765\n",
      "[4000]\tcv_agg's auc: 0.789075 + 0.00982414\n",
      "[4200]\tcv_agg's auc: 0.789363 + 0.00979001\n",
      "[4400]\tcv_agg's auc: 0.789561 + 0.00976151\n",
      "[4600]\tcv_agg's auc: 0.789567 + 0.00975505\n",
      "    1 | 98m09s | \u001b[35m   0.78957\u001b[0m | \u001b[32m            0.9583\u001b[0m | \u001b[32m            0.6494\u001b[0m | \u001b[32m    97.8618\u001b[0m | \u001b[32m   127.9842\u001b[0m | \u001b[32m     4.4356\u001b[0m | \u001b[32m          123.9095\u001b[0m | \u001b[32m          120.6622\u001b[0m | \u001b[32m          0.0272\u001b[0m | \u001b[32m     59.3932\u001b[0m | \n",
      "[200]\tcv_agg's auc: 0.745597 + 0.0124118\n",
      "[400]\tcv_agg's auc: 0.76046 + 0.0119251\n",
      "[600]\tcv_agg's auc: 0.7685 + 0.0114426\n",
      "[800]\tcv_agg's auc: 0.773335 + 0.0110112\n",
      "[1000]\tcv_agg's auc: 0.776184 + 0.0108634\n",
      "[1200]\tcv_agg's auc: 0.778645 + 0.010799\n",
      "[1400]\tcv_agg's auc: 0.780523 + 0.0107382\n",
      "[1600]\tcv_agg's auc: 0.782177 + 0.0106821\n",
      "[1800]\tcv_agg's auc: 0.78356 + 0.01054\n",
      "[2000]\tcv_agg's auc: 0.784631 + 0.0104289\n",
      "[2200]\tcv_agg's auc: 0.785575 + 0.0103033\n",
      "[2400]\tcv_agg's auc: 0.786358 + 0.0102565\n",
      "[2600]\tcv_agg's auc: 0.787052 + 0.0101525\n",
      "[2800]\tcv_agg's auc: 0.787685 + 0.0100901\n",
      "[3000]\tcv_agg's auc: 0.78822 + 0.0100056\n",
      "[3200]\tcv_agg's auc: 0.788756 + 0.00997742\n",
      "[3400]\tcv_agg's auc: 0.789228 + 0.00997502\n",
      "[3600]\tcv_agg's auc: 0.789711 + 0.00992229\n",
      "[3800]\tcv_agg's auc: 0.790158 + 0.00989753\n",
      "[4000]\tcv_agg's auc: 0.790522 + 0.00984501\n",
      "[4200]\tcv_agg's auc: 0.790871 + 0.00980731\n",
      "[4400]\tcv_agg's auc: 0.791144 + 0.00977167\n",
      "[4600]\tcv_agg's auc: 0.791425 + 0.00971132\n",
      "[4800]\tcv_agg's auc: 0.791482 + 0.00969484\n",
      "    2 | 70m36s | \u001b[35m   0.79148\u001b[0m | \u001b[32m            0.9058\u001b[0m | \u001b[32m            0.4432\u001b[0m | \u001b[32m    79.9159\u001b[0m | \u001b[32m    28.6707\u001b[0m | \u001b[32m     4.1011\u001b[0m | \u001b[32m          122.8070\u001b[0m | \u001b[32m          142.3689\u001b[0m | \u001b[32m          0.0776\u001b[0m | \u001b[32m     74.3670\u001b[0m | \n",
      "[200]\tcv_agg's auc: 0.75839 + 0.011445\n",
      "[400]\tcv_agg's auc: 0.77031 + 0.011043\n",
      "[600]\tcv_agg's auc: 0.778105 + 0.0105485\n",
      "[800]\tcv_agg's auc: 0.782156 + 0.01014\n",
      "[1000]\tcv_agg's auc: 0.784737 + 0.00995612\n",
      "[1200]\tcv_agg's auc: 0.786653 + 0.0097948\n",
      "[1400]\tcv_agg's auc: 0.788223 + 0.00961786\n",
      "[1600]\tcv_agg's auc: 0.789452 + 0.00957816\n",
      "[1800]\tcv_agg's auc: 0.790411 + 0.00950679\n",
      "[2000]\tcv_agg's auc: 0.791301 + 0.00945947\n",
      "[2200]\tcv_agg's auc: 0.791996 + 0.00942399\n",
      "[2400]\tcv_agg's auc: 0.79267 + 0.0093666\n",
      "[2600]\tcv_agg's auc: 0.793242 + 0.00934255\n",
      "[2800]\tcv_agg's auc: 0.793717 + 0.00935721\n",
      "[3000]\tcv_agg's auc: 0.794133 + 0.00933546\n",
      "[3200]\tcv_agg's auc: 0.794524 + 0.00935815\n",
      "[3400]\tcv_agg's auc: 0.794789 + 0.00927385\n",
      "[3600]\tcv_agg's auc: 0.795028 + 0.00929907\n",
      "[3800]\tcv_agg's auc: 0.7953 + 0.00924708\n",
      "[4000]\tcv_agg's auc: 0.795526 + 0.00917079\n",
      "[4200]\tcv_agg's auc: 0.795748 + 0.00911417\n",
      "[4400]\tcv_agg's auc: 0.795912 + 0.00901404\n",
      "[4600]\tcv_agg's auc: 0.796062 + 0.00893845\n",
      "[4800]\tcv_agg's auc: 0.796154 + 0.00880594\n",
      "[5000]\tcv_agg's auc: 0.796204 + 0.00879054\n",
      "[5200]\tcv_agg's auc: 0.796351 + 0.00868644\n",
      "[5400]\tcv_agg's auc: 0.796471 + 0.00862939\n",
      "[5600]\tcv_agg's auc: 0.796579 + 0.0086107\n",
      "[5800]\tcv_agg's auc: 0.796667 + 0.0085444\n",
      "[6000]\tcv_agg's auc: 0.796706 + 0.00854535\n",
      "    3 | 249m35s | \u001b[35m   0.79671\u001b[0m | \u001b[32m            0.9136\u001b[0m | \u001b[32m            0.8929\u001b[0m | \u001b[32m    46.1479\u001b[0m | \u001b[32m   188.9338\u001b[0m | \u001b[32m     8.1631\u001b[0m | \u001b[32m          123.7699\u001b[0m | \u001b[32m          215.3367\u001b[0m | \u001b[32m          0.0462\u001b[0m | \u001b[32m     64.2487\u001b[0m | \n",
      "[200]\tcv_agg's auc: 0.75666 + 0.0117636\n",
      "[400]\tcv_agg's auc: 0.768601 + 0.0112358\n",
      "[600]\tcv_agg's auc: 0.775982 + 0.0106277\n",
      "[800]\tcv_agg's auc: 0.779884 + 0.0103018\n",
      "[1000]\tcv_agg's auc: 0.78275 + 0.0101101\n",
      "[1200]\tcv_agg's auc: 0.784783 + 0.0100464\n",
      "[1400]\tcv_agg's auc: 0.786271 + 0.00994038\n",
      "[1600]\tcv_agg's auc: 0.787411 + 0.00970587\n"
     ]
    },
    {
     "ename": "KeyboardInterrupt",
     "evalue": "",
     "output_type": "error",
     "traceback": [
      "\u001b[0;31m---------------------------------------------------------------------------\u001b[0m",
      "\u001b[0;31mKeyboardInterrupt\u001b[0m                         Traceback (most recent call last)",
      "\u001b[0;32m<ipython-input-5-7f114a1df3e4>\u001b[0m in \u001b[0;36m<module>\u001b[0;34m()\u001b[0m\n\u001b[1;32m      6\u001b[0m                                      \u001b[0mrandom_seed\u001b[0m\u001b[0;34m=\u001b[0m\u001b[0;36m4457\u001b[0m\u001b[0;34m,\u001b[0m\u001b[0;34m\u001b[0m\u001b[0m\n\u001b[1;32m      7\u001b[0m                                      \u001b[0mn_estimators\u001b[0m\u001b[0;34m=\u001b[0m\u001b[0;36m50000\u001b[0m\u001b[0;34m,\u001b[0m\u001b[0;34m\u001b[0m\u001b[0m\n\u001b[0;32m----> 8\u001b[0;31m                                      learning_rate=0.01)\n\u001b[0m",
      "\u001b[0;32m<ipython-input-4-a3aefc4eef92>\u001b[0m in \u001b[0;36mbayes_parameter_opt_lgb\u001b[0;34m(X, y, init_round, opt_round, n_folds, random_seed, n_estimators, learning_rate, output_process)\u001b[0m\n\u001b[1;32m     75\u001b[0m \u001b[0;34m\u001b[0m\u001b[0m\n\u001b[1;32m     76\u001b[0m     \u001b[0;31m# optimize\u001b[0m\u001b[0;34m\u001b[0m\u001b[0;34m\u001b[0m\u001b[0m\n\u001b[0;32m---> 77\u001b[0;31m     \u001b[0mlgbBO\u001b[0m\u001b[0;34m.\u001b[0m\u001b[0mmaximize\u001b[0m\u001b[0;34m(\u001b[0m\u001b[0minit_points\u001b[0m\u001b[0;34m=\u001b[0m\u001b[0minit_round\u001b[0m\u001b[0;34m,\u001b[0m \u001b[0mn_iter\u001b[0m\u001b[0;34m=\u001b[0m\u001b[0mopt_round\u001b[0m\u001b[0;34m)\u001b[0m\u001b[0;34m\u001b[0m\u001b[0m\n\u001b[0m\u001b[1;32m     78\u001b[0m \u001b[0;34m\u001b[0m\u001b[0m\n\u001b[1;32m     79\u001b[0m     \u001b[0;31m# output optimization process\u001b[0m\u001b[0;34m\u001b[0m\u001b[0;34m\u001b[0m\u001b[0m\n",
      "\u001b[0;32m~/anaconda3/lib/python3.6/site-packages/bayes_opt/bayesian_optimization.py\u001b[0m in \u001b[0;36mmaximize\u001b[0;34m(self, init_points, n_iter, acq, kappa, xi, **gp_params)\u001b[0m\n\u001b[1;32m    268\u001b[0m             \u001b[0;32mif\u001b[0m \u001b[0mself\u001b[0m\u001b[0;34m.\u001b[0m\u001b[0mverbose\u001b[0m\u001b[0;34m:\u001b[0m\u001b[0;34m\u001b[0m\u001b[0m\n\u001b[1;32m    269\u001b[0m                 \u001b[0mself\u001b[0m\u001b[0;34m.\u001b[0m\u001b[0mplog\u001b[0m\u001b[0;34m.\u001b[0m\u001b[0mprint_header\u001b[0m\u001b[0;34m(\u001b[0m\u001b[0;34m)\u001b[0m\u001b[0;34m\u001b[0m\u001b[0m\n\u001b[0;32m--> 270\u001b[0;31m             \u001b[0mself\u001b[0m\u001b[0;34m.\u001b[0m\u001b[0minit\u001b[0m\u001b[0;34m(\u001b[0m\u001b[0minit_points\u001b[0m\u001b[0;34m)\u001b[0m\u001b[0;34m\u001b[0m\u001b[0m\n\u001b[0m\u001b[1;32m    271\u001b[0m \u001b[0;34m\u001b[0m\u001b[0m\n\u001b[1;32m    272\u001b[0m         \u001b[0my_max\u001b[0m \u001b[0;34m=\u001b[0m \u001b[0mself\u001b[0m\u001b[0;34m.\u001b[0m\u001b[0mY\u001b[0m\u001b[0;34m.\u001b[0m\u001b[0mmax\u001b[0m\u001b[0;34m(\u001b[0m\u001b[0;34m)\u001b[0m\u001b[0;34m\u001b[0m\u001b[0m\n",
      "\u001b[0;32m~/anaconda3/lib/python3.6/site-packages/bayes_opt/bayesian_optimization.py\u001b[0m in \u001b[0;36minit\u001b[0;34m(self, init_points)\u001b[0m\n\u001b[1;32m    111\u001b[0m         \u001b[0;32mfor\u001b[0m \u001b[0mx\u001b[0m \u001b[0;32min\u001b[0m \u001b[0mself\u001b[0m\u001b[0;34m.\u001b[0m\u001b[0minit_points\u001b[0m\u001b[0;34m:\u001b[0m\u001b[0;34m\u001b[0m\u001b[0m\n\u001b[1;32m    112\u001b[0m             \u001b[0mself\u001b[0m\u001b[0;34m.\u001b[0m\u001b[0mX\u001b[0m \u001b[0;34m=\u001b[0m \u001b[0mnp\u001b[0m\u001b[0;34m.\u001b[0m\u001b[0mvstack\u001b[0m\u001b[0;34m(\u001b[0m\u001b[0;34m(\u001b[0m\u001b[0mself\u001b[0m\u001b[0;34m.\u001b[0m\u001b[0mX\u001b[0m\u001b[0;34m,\u001b[0m \u001b[0mnp\u001b[0m\u001b[0;34m.\u001b[0m\u001b[0masarray\u001b[0m\u001b[0;34m(\u001b[0m\u001b[0mx\u001b[0m\u001b[0;34m)\u001b[0m\u001b[0;34m.\u001b[0m\u001b[0mreshape\u001b[0m\u001b[0;34m(\u001b[0m\u001b[0;34m(\u001b[0m\u001b[0;36m1\u001b[0m\u001b[0;34m,\u001b[0m \u001b[0;34m-\u001b[0m\u001b[0;36m1\u001b[0m\u001b[0;34m)\u001b[0m\u001b[0;34m)\u001b[0m\u001b[0;34m)\u001b[0m\u001b[0;34m)\u001b[0m\u001b[0;34m\u001b[0m\u001b[0m\n\u001b[0;32m--> 113\u001b[0;31m             \u001b[0mself\u001b[0m\u001b[0;34m.\u001b[0m\u001b[0mY\u001b[0m \u001b[0;34m=\u001b[0m \u001b[0mnp\u001b[0m\u001b[0;34m.\u001b[0m\u001b[0mappend\u001b[0m\u001b[0;34m(\u001b[0m\u001b[0mself\u001b[0m\u001b[0;34m.\u001b[0m\u001b[0mY\u001b[0m\u001b[0;34m,\u001b[0m \u001b[0mself\u001b[0m\u001b[0;34m.\u001b[0m\u001b[0mf\u001b[0m\u001b[0;34m(\u001b[0m\u001b[0;34m**\u001b[0m\u001b[0mdict\u001b[0m\u001b[0;34m(\u001b[0m\u001b[0mzip\u001b[0m\u001b[0;34m(\u001b[0m\u001b[0mself\u001b[0m\u001b[0;34m.\u001b[0m\u001b[0mkeys\u001b[0m\u001b[0;34m,\u001b[0m \u001b[0mx\u001b[0m\u001b[0;34m)\u001b[0m\u001b[0;34m)\u001b[0m\u001b[0;34m)\u001b[0m\u001b[0;34m)\u001b[0m\u001b[0;34m\u001b[0m\u001b[0m\n\u001b[0m\u001b[1;32m    114\u001b[0m \u001b[0;34m\u001b[0m\u001b[0m\n\u001b[1;32m    115\u001b[0m             \u001b[0;32mif\u001b[0m \u001b[0mself\u001b[0m\u001b[0;34m.\u001b[0m\u001b[0mverbose\u001b[0m\u001b[0;34m:\u001b[0m\u001b[0;34m\u001b[0m\u001b[0m\n",
      "\u001b[0;32m<ipython-input-4-a3aefc4eef92>\u001b[0m in \u001b[0;36mlgb_eval\u001b[0;34m(num_leaves, feature_fraction, bagging_fraction, max_depth, lambda_l1, lambda_l2, min_split_gain, min_child_weight, min_data_in_leaf)\u001b[0m\n\u001b[1;32m     58\u001b[0m                            \u001b[0mseed\u001b[0m\u001b[0;34m=\u001b[0m\u001b[0mrandom_seed\u001b[0m\u001b[0;34m,\u001b[0m\u001b[0;34m\u001b[0m\u001b[0m\n\u001b[1;32m     59\u001b[0m                            \u001b[0mverbose_eval\u001b[0m\u001b[0;34m=\u001b[0m\u001b[0;36m200\u001b[0m\u001b[0;34m,\u001b[0m\u001b[0;34m\u001b[0m\u001b[0m\n\u001b[0;32m---> 60\u001b[0;31m                            metrics=['auc'])\n\u001b[0m\u001b[1;32m     61\u001b[0m \u001b[0;34m\u001b[0m\u001b[0m\n\u001b[1;32m     62\u001b[0m         \u001b[0;32mreturn\u001b[0m \u001b[0mmax\u001b[0m\u001b[0;34m(\u001b[0m\u001b[0mcv_result\u001b[0m\u001b[0;34m[\u001b[0m\u001b[0;34m'auc-mean'\u001b[0m\u001b[0;34m]\u001b[0m\u001b[0;34m)\u001b[0m\u001b[0;34m\u001b[0m\u001b[0m\n",
      "\u001b[0;32m~/anaconda3/lib/python3.6/site-packages/lightgbm/engine.py\u001b[0m in \u001b[0;36mcv\u001b[0;34m(params, train_set, num_boost_round, folds, nfold, stratified, shuffle, metrics, fobj, feval, init_model, feature_name, categorical_feature, early_stopping_rounds, fpreproc, verbose_eval, show_stdv, seed, callbacks)\u001b[0m\n\u001b[1;32m    449\u001b[0m                                     \u001b[0mend_iteration\u001b[0m\u001b[0;34m=\u001b[0m\u001b[0mnum_boost_round\u001b[0m\u001b[0;34m,\u001b[0m\u001b[0;34m\u001b[0m\u001b[0m\n\u001b[1;32m    450\u001b[0m                                     evaluation_result_list=None))\n\u001b[0;32m--> 451\u001b[0;31m         \u001b[0mcvfolds\u001b[0m\u001b[0;34m.\u001b[0m\u001b[0mupdate\u001b[0m\u001b[0;34m(\u001b[0m\u001b[0mfobj\u001b[0m\u001b[0;34m=\u001b[0m\u001b[0mfobj\u001b[0m\u001b[0;34m)\u001b[0m\u001b[0;34m\u001b[0m\u001b[0m\n\u001b[0m\u001b[1;32m    452\u001b[0m         \u001b[0mres\u001b[0m \u001b[0;34m=\u001b[0m \u001b[0m_agg_cv_result\u001b[0m\u001b[0;34m(\u001b[0m\u001b[0mcvfolds\u001b[0m\u001b[0;34m.\u001b[0m\u001b[0meval_valid\u001b[0m\u001b[0;34m(\u001b[0m\u001b[0mfeval\u001b[0m\u001b[0;34m)\u001b[0m\u001b[0;34m)\u001b[0m\u001b[0;34m\u001b[0m\u001b[0m\n\u001b[1;32m    453\u001b[0m         \u001b[0;32mfor\u001b[0m \u001b[0m_\u001b[0m\u001b[0;34m,\u001b[0m \u001b[0mkey\u001b[0m\u001b[0;34m,\u001b[0m \u001b[0mmean\u001b[0m\u001b[0;34m,\u001b[0m \u001b[0m_\u001b[0m\u001b[0;34m,\u001b[0m \u001b[0mstd\u001b[0m \u001b[0;32min\u001b[0m \u001b[0mres\u001b[0m\u001b[0;34m:\u001b[0m\u001b[0;34m\u001b[0m\u001b[0m\n",
      "\u001b[0;32m~/anaconda3/lib/python3.6/site-packages/lightgbm/engine.py\u001b[0m in \u001b[0;36mhandlerFunction\u001b[0;34m(*args, **kwargs)\u001b[0m\n\u001b[1;32m    247\u001b[0m             \u001b[0mret\u001b[0m \u001b[0;34m=\u001b[0m \u001b[0;34m[\u001b[0m\u001b[0;34m]\u001b[0m\u001b[0;34m\u001b[0m\u001b[0m\n\u001b[1;32m    248\u001b[0m             \u001b[0;32mfor\u001b[0m \u001b[0mbooster\u001b[0m \u001b[0;32min\u001b[0m \u001b[0mself\u001b[0m\u001b[0;34m.\u001b[0m\u001b[0mboosters\u001b[0m\u001b[0;34m:\u001b[0m\u001b[0;34m\u001b[0m\u001b[0m\n\u001b[0;32m--> 249\u001b[0;31m                 \u001b[0mret\u001b[0m\u001b[0;34m.\u001b[0m\u001b[0mappend\u001b[0m\u001b[0;34m(\u001b[0m\u001b[0mgetattr\u001b[0m\u001b[0;34m(\u001b[0m\u001b[0mbooster\u001b[0m\u001b[0;34m,\u001b[0m \u001b[0mname\u001b[0m\u001b[0;34m)\u001b[0m\u001b[0;34m(\u001b[0m\u001b[0;34m*\u001b[0m\u001b[0margs\u001b[0m\u001b[0;34m,\u001b[0m \u001b[0;34m**\u001b[0m\u001b[0mkwargs\u001b[0m\u001b[0;34m)\u001b[0m\u001b[0;34m)\u001b[0m\u001b[0;34m\u001b[0m\u001b[0m\n\u001b[0m\u001b[1;32m    250\u001b[0m             \u001b[0;32mreturn\u001b[0m \u001b[0mret\u001b[0m\u001b[0;34m\u001b[0m\u001b[0m\n\u001b[1;32m    251\u001b[0m         \u001b[0;32mreturn\u001b[0m \u001b[0mhandlerFunction\u001b[0m\u001b[0;34m\u001b[0m\u001b[0m\n",
      "\u001b[0;32m~/anaconda3/lib/python3.6/site-packages/lightgbm/basic.py\u001b[0m in \u001b[0;36mupdate\u001b[0;34m(self, train_set, fobj)\u001b[0m\n\u001b[1;32m   1526\u001b[0m             _safe_call(_LIB.LGBM_BoosterUpdateOneIter(\n\u001b[1;32m   1527\u001b[0m                 \u001b[0mself\u001b[0m\u001b[0;34m.\u001b[0m\u001b[0mhandle\u001b[0m\u001b[0;34m,\u001b[0m\u001b[0;34m\u001b[0m\u001b[0m\n\u001b[0;32m-> 1528\u001b[0;31m                 ctypes.byref(is_finished)))\n\u001b[0m\u001b[1;32m   1529\u001b[0m             \u001b[0mself\u001b[0m\u001b[0;34m.\u001b[0m\u001b[0m__is_predicted_cur_iter\u001b[0m \u001b[0;34m=\u001b[0m \u001b[0;34m[\u001b[0m\u001b[0;32mFalse\u001b[0m \u001b[0;32mfor\u001b[0m \u001b[0m_\u001b[0m \u001b[0;32min\u001b[0m \u001b[0mrange_\u001b[0m\u001b[0;34m(\u001b[0m\u001b[0mself\u001b[0m\u001b[0;34m.\u001b[0m\u001b[0m__num_dataset\u001b[0m\u001b[0;34m)\u001b[0m\u001b[0;34m]\u001b[0m\u001b[0;34m\u001b[0m\u001b[0m\n\u001b[1;32m   1530\u001b[0m             \u001b[0;32mreturn\u001b[0m \u001b[0mis_finished\u001b[0m\u001b[0;34m.\u001b[0m\u001b[0mvalue\u001b[0m \u001b[0;34m==\u001b[0m \u001b[0;36m1\u001b[0m\u001b[0;34m\u001b[0m\u001b[0m\n",
      "\u001b[0;31mKeyboardInterrupt\u001b[0m: "
     ]
    }
   ],
   "source": [
    "opt_params = bayes_parameter_opt_lgb(df, \n",
    "                                     y, \n",
    "                                     init_round=5, \n",
    "                                     opt_round=10, \n",
    "                                     n_folds=5, \n",
    "                                     random_seed=4457, \n",
    "                                     n_estimators=50000, \n",
    "                                     learning_rate=0.01)"
   ]
  },
  {
   "cell_type": "code",
   "execution_count": null,
   "metadata": {
    "hidden": true
   },
   "outputs": [],
   "source": [
    "opt_params"
   ]
  },
  {
   "cell_type": "code",
   "execution_count": 8,
   "metadata": {
    "hidden": true
   },
   "outputs": [
    {
     "data": {
      "text/plain": [
       "{'num_leaves': 90.1038886747769,\n",
       " 'feature_fraction': 0.25922779025993026,\n",
       " 'bagging_fraction': 0.8545401681825219,\n",
       " 'max_depth': 8.36120043475591,\n",
       " 'lambda_l1': 1.2905881944748177,\n",
       " 'lambda_l2': 99.31304247302758,\n",
       " 'min_split_gain': 0.006678387645986113,\n",
       " 'min_child_weight': 84.50339511445843,\n",
       " 'min_data_in_leaf': 199.16211041831193}"
      ]
     },
     "execution_count": 8,
     "metadata": {},
     "output_type": "execute_result"
    }
   ],
   "source": [
    "opt_params"
   ]
  },
  {
   "cell_type": "code",
   "execution_count": 30,
   "metadata": {
    "hidden": true
   },
   "outputs": [
    {
     "data": {
      "text/plain": [
       "{'num_leaves': 58.90115643923338,\n",
       " 'feature_fraction': 0.10365793567780747,\n",
       " 'bagging_fraction': 0.8973031258439608,\n",
       " 'max_depth': 4.023325017204941,\n",
       " 'lambda_l1': 0.09769178929222022,\n",
       " 'lambda_l2': 51.347676077479576,\n",
       " 'min_split_gain': 0.0568555464713031,\n",
       " 'min_child_weight': 77.39510611656549,\n",
       " 'min_data_in_leaf': 57.52765760435166}"
      ]
     },
     "execution_count": 30,
     "metadata": {},
     "output_type": "execute_result"
    }
   ],
   "source": [
    "opt_params"
   ]
  },
  {
   "cell_type": "markdown",
   "metadata": {
    "hidden": true
   },
   "source": [
    "### XGB"
   ]
  },
  {
   "cell_type": "code",
   "execution_count": 14,
   "metadata": {
    "hidden": true
   },
   "outputs": [],
   "source": [
    "def bayes_parameter_opt_xgb(X, y, init_round=15, \n",
    "                            opt_round=25, \n",
    "                            n_folds=5, \n",
    "                            random_seed=6,\n",
    "                            n_estimators=50000, \n",
    "                            learning_rate=0.03, \n",
    "                            output_process=False):\n",
    "    \n",
    "    # prepare data\n",
    "    train_data = xgb.DMatrix(data=X, label=y)\n",
    "    \n",
    "    # parameters\n",
    "    def xgb_eval(max_depth, \n",
    "                 colsample_bytree, \n",
    "                 colsample_bylevel,\n",
    "                 subsample,\n",
    "                 gamma, \n",
    "                 min_child_weight\n",
    "                ):\n",
    "        \n",
    "        params = {'objective': 'binary:logistic',\n",
    "                  'num_iterations': n_estimators, \n",
    "                  'eta':learning_rate, \n",
    "                  'early_stopping_round':200,\n",
    "                  'eval_metric':'auc',\n",
    "                  'seed': 4457\n",
    "                 }\n",
    "        \n",
    "        params['max_depth'] = int(round(max_depth))\n",
    "        params['colsample_bytree'] = max(min(colsample_bytree, 1), 0)\n",
    "        params['colsample_bylevel'] = max(min(colsample_bylevel, 1), 0)\n",
    "        params['subsample'] = max(min(subsample, 1), 0)\n",
    "        params['gamma'] = int(round(gamma))\n",
    "        params['min_child_weight'] = int(round(min_child_weight))\n",
    "        \n",
    "        def get_folds(X, cv_df):\n",
    "            FOLD_NUM = [0, 2, 3, 4, 5]\n",
    "\n",
    "            for fold in FOLD_NUM:\n",
    "                test_idx  = list(cv_df[f'F{fold}'].values)\n",
    "                train_idx = list(set(X.index) - set(test_idx))\n",
    "\n",
    "                yield train_idx, test_idx\n",
    "\n",
    "        \n",
    "#         cv_df     = pd.read_csv('../data/raw/cv_adversarial_idx_v1.csv')\n",
    "        cv_result = xgb.cv(params, \n",
    "                           train_data, \n",
    "                           folds=5, \n",
    "                           seed=random_seed, \n",
    "                           verbose_eval=200, \n",
    "                           metrics=['auc'])\n",
    "        \n",
    "        return max(cv_result['test-auc-mean'])\n",
    "    \n",
    "    # range \n",
    "    xgbBO = BayesianOptimization(xgb_eval, {'max_depth': (2, 9),\n",
    "                                            'colsample_bytree': (0.01, 1),\n",
    "                                            'colsample_bylevel': (0.01, 1),\n",
    "                                            'subsample': (.6, 1.),\n",
    "                                            'gamma': (0, 20),\n",
    "                                            'min_child_weight': (1, 200)\n",
    "                                           }, random_state=0)\n",
    "    \n",
    "    # optimize\n",
    "    xgbBO.maximize(init_points=init_round, n_iter=opt_round)\n",
    "    \n",
    "    # output optimization process\n",
    "    if output_process==True: xgbBO.points_to_csv(\"bayes_opt_result.csv\")\n",
    "    \n",
    "    # return best parameters\n",
    "    return xgbBO.res['max']['max_params']"
   ]
  },
  {
   "cell_type": "code",
   "execution_count": null,
   "metadata": {
    "hidden": true
   },
   "outputs": [
    {
     "name": "stdout",
     "output_type": "stream",
     "text": [
      "\u001b[31mInitialization\u001b[0m\n",
      "\u001b[94m-------------------------------------------------------------------------------------------------------------------------------------\u001b[0m\n",
      " Step |   Time |      Value |   colsample_bylevel |   colsample_bytree |     gamma |   max_depth |   min_child_weight |   subsample | \n",
      "[0]\ttrain-auc:0.716633+0.00498025\ttest-auc:0.71236+0.00715286\n"
     ]
    }
   ],
   "source": [
    "opt_params = bayes_parameter_opt_xgb(df, \n",
    "                                     y, \n",
    "                                     init_round=5, \n",
    "                                     opt_round=10, \n",
    "                                     n_folds=5, \n",
    "                                     random_seed=4457, \n",
    "                                     n_estimators=50000, \n",
    "                                     learning_rate=0.03)"
   ]
  },
  {
   "cell_type": "code",
   "execution_count": null,
   "metadata": {
    "hidden": true
   },
   "outputs": [],
   "source": [
    "opt_params"
   ]
  },
  {
   "cell_type": "markdown",
   "metadata": {},
   "source": [
    "## Model Prediction Analysis"
   ]
  },
  {
   "cell_type": "markdown",
   "metadata": {},
   "source": [
    "```\n",
    "- Look at prediction of model\n",
    "- Look for examples where it has performed poorly.\n",
    "- Analyze those examples to find any patterns.\n",
    "```"
   ]
  },
  {
   "cell_type": "code",
   "execution_count": 3,
   "metadata": {},
   "outputs": [
    {
     "data": {
      "text/plain": [
       "((297763, 122), (9748, 122))"
      ]
     },
     "execution_count": 3,
     "metadata": {},
     "output_type": "execute_result"
    }
   ],
   "source": [
    "# load predictions of best model so far\n",
    "\n",
    "preds      = np.load('../data/interim/dataset2/v86_F1_819_preds_holdout.npy')\n",
    "true       = np.load('../data/interim/dataset2/v86F1_true_holdout.npy')\n",
    "f1_indices = pd.read_csv('../data/raw/cv_adversarial_idx_v1.csv', usecols=['F1'])['F1'].values\n",
    "\n",
    "app_train  = pd.read_pickle('../data/interim/feature_groups/application_train.pkl')\n",
    "\n",
    "te         = app_train.loc[app_train.index.isin(f1_indices)]\n",
    "tr         = app_train.loc[app_train.index.isin(list(set(app_train.index) - set(f1_indices)))]\n",
    "\n",
    "tr.shape, te.shape"
   ]
  },
  {
   "cell_type": "code",
   "execution_count": 4,
   "metadata": {},
   "outputs": [],
   "source": [
    "del tr\n",
    "gc.collect();"
   ]
  },
  {
   "cell_type": "code",
   "execution_count": 6,
   "metadata": {},
   "outputs": [],
   "source": [
    "# create copy of the validation dataset\n",
    "\n",
    "df                  = te.copy()\n",
    "\n",
    "df.loc[:, 'target'] = true\n",
    "df.loc[:, 'preds']  = preds"
   ]
  },
  {
   "cell_type": "code",
   "execution_count": 7,
   "metadata": {},
   "outputs": [
    {
     "data": {
      "text/plain": [
       "297559    0.005893\n",
       "120272    0.006737\n",
       "37210     0.007983\n",
       "80929     0.009353\n",
       "127865    0.011011\n",
       "251771    0.011384\n",
       "121078    0.012951\n",
       "100284    0.013377\n",
       "270133    0.013464\n",
       "193197    0.014316\n",
       "Name: preds, dtype: float64"
      ]
     },
     "execution_count": 7,
     "metadata": {},
     "output_type": "execute_result"
    }
   ],
   "source": [
    "df.loc[df.target == 1, 'preds'].sort_values(ascending=True).iloc[:10]"
   ]
  },
  {
   "cell_type": "code",
   "execution_count": 10,
   "metadata": {},
   "outputs": [
    {
     "data": {
      "image/png": "[encoded data removed]",
      "text/plain": [
       "<Figure size 432x288 with 1 Axes>"
      ]
     },
     "metadata": {},
     "output_type": "display_data"
    }
   ],
   "source": [
    "# Default ( cases )\n",
    "\n",
    "sns.kdeplot(-df.loc[(df.target == 1) & (df.preds < .2), 'DAYS_BIRTH'] / 365, label='miss')\n",
    "sns.kdeplot(-df.loc[(df.target == 1) & (df.preds >= .5), 'DAYS_BIRTH'] / 365, label='hit')\n",
    "\n",
    "plt.title('TARGET == 1');"
   ]
  },
  {
   "cell_type": "markdown",
   "metadata": {},
   "source": [
    "Looking at this we have realized that we are not able to perform very well with older people, we mark them as low risk but in fact they are high risk credits."
   ]
  },
  {
   "cell_type": "code",
   "execution_count": 11,
   "metadata": {},
   "outputs": [
    {
     "data": {
      "image/png": "[encoded data removed]",
      "text/plain": [
       "<Figure size 432x288 with 1 Axes>"
      ]
     },
     "metadata": {},
     "output_type": "display_data"
    }
   ],
   "source": [
    "# No Default\n",
    "\n",
    "sns.kdeplot(-df.loc[(df.target == 0) & (df.preds > .5), 'DAYS_BIRTH'] / 365, label='miss')\n",
    "sns.kdeplot(-df.loc[(df.target == 0) & (df.preds < .2), 'DAYS_BIRTH'] / 365, label='hit')\n",
    "plt.title('TARGET == 0');"
   ]
  },
  {
   "cell_type": "code",
   "execution_count": 9,
   "metadata": {},
   "outputs": [
    {
     "data": {
      "image/png": "[encoded data removed]",
      "text/plain": [
       "<Figure size 432x288 with 1 Axes>"
      ]
     },
     "metadata": {},
     "output_type": "display_data"
    }
   ],
   "source": [
    "x = df.loc[:, ['DAYS_BIRTH', 'DAYS_EMPLOYED', 'EXT_SOURCE_1', 'EXT_SOURCE_2', 'EXT_SOURCE_3']]\n",
    "x.loc[:, 'age'] = -(x.DAYS_BIRTH / 365)\n",
    "x.loc[:, 'emp'] = -(x.DAYS_EMPLOYED.replace({365243: np.nan}) / 365)\n",
    "\n",
    "\n",
    "sns.kdeplot(x[x.age < 43]['EXT_SOURCE_1'], label='<43')\n",
    "sns.kdeplot(x[x.age >= 43]['EXT_SOURCE_1'], label='>=43')\n",
    "plt.title('EXT_SOURCE_1');"
   ]
  },
  {
   "cell_type": "markdown",
   "metadata": {},
   "source": [
    "Completely different distribution for EXT_SOURCE_1 for different age threshold and the reason "
   ]
  },
  {
   "cell_type": "code",
   "execution_count": 25,
   "metadata": {},
   "outputs": [
    {
     "data": {
      "image/png": "[encoded data removed]",
      "text/plain": [
       "<Figure size 864x288 with 1 Axes>"
      ]
     },
     "metadata": {},
     "output_type": "display_data"
    }
   ],
   "source": [
    "# Default\n",
    "plt.figure(figsize=(12, 4))\n",
    "sns.kdeplot(df.loc[(df.target == 1) & (df.preds < .05), 'AMT_CREDIT'], label='miss')\n",
    "sns.kdeplot(df.loc[(df.target == 1) & (df.preds >= .3), 'AMT_CREDIT'], label='hit')\n",
    "plt.title('TARGET == 1');"
   ]
  },
  {
   "cell_type": "markdown",
   "metadata": {},
   "source": [
    "#### Name Income Type"
   ]
  },
  {
   "cell_type": "code",
   "execution_count": 7,
   "metadata": {},
   "outputs": [
    {
     "data": {
      "text/plain": [
       "Working                 0.562753\n",
       "Commercial associate    0.232794\n",
       "Pensioner               0.153846\n",
       "State servant           0.050607\n",
       "Unemployed              0.000000\n",
       "Student                 0.000000\n",
       "Maternity leave         0.000000\n",
       "Businessman             0.000000\n",
       "Name: NAME_INCOME_TYPE, dtype: float64"
      ]
     },
     "execution_count": 7,
     "metadata": {},
     "output_type": "execute_result"
    }
   ],
   "source": [
    "# errors\n",
    "df.loc[(df.target == 1) & (df.preds < .2), 'NAME_INCOME_TYPE'].value_counts(normalize=True)"
   ]
  },
  {
   "cell_type": "code",
   "execution_count": 8,
   "metadata": {},
   "outputs": [
    {
     "data": {
      "text/plain": [
       "Working                 0.645161\n",
       "Commercial associate    0.290323\n",
       "State servant           0.032258\n",
       "Pensioner               0.032258\n",
       "Unemployed              0.000000\n",
       "Student                 0.000000\n",
       "Maternity leave         0.000000\n",
       "Businessman             0.000000\n",
       "Name: NAME_INCOME_TYPE, dtype: float64"
      ]
     },
     "execution_count": 8,
     "metadata": {},
     "output_type": "execute_result"
    }
   ],
   "source": [
    "df.loc[(df.target == 1) & (df.preds > .5), 'NAME_INCOME_TYPE'].value_counts(normalize=True)"
   ]
  },
  {
   "cell_type": "markdown",
   "metadata": {},
   "source": [
    "Looks like Pensioners are considered as low risk credits by our model but they are actually high risk loanee."
   ]
  },
  {
   "cell_type": "code",
   "execution_count": 8,
   "metadata": {},
   "outputs": [
    {
     "data": {
      "text/plain": [
       "['AMT_ANNUITY',\n",
       " 'AMT_CREDIT',\n",
       " 'AMT_GOODS_PRICE',\n",
       " 'AMT_INCOME_TOTAL',\n",
       " 'AMT_REQ_CREDIT_BUREAU_DAY',\n",
       " 'AMT_REQ_CREDIT_BUREAU_HOUR',\n",
       " 'AMT_REQ_CREDIT_BUREAU_MON',\n",
       " 'AMT_REQ_CREDIT_BUREAU_QRT',\n",
       " 'AMT_REQ_CREDIT_BUREAU_WEEK',\n",
       " 'AMT_REQ_CREDIT_BUREAU_YEAR',\n",
       " 'APARTMENTS_AVG',\n",
       " 'APARTMENTS_MEDI',\n",
       " 'APARTMENTS_MODE',\n",
       " 'BASEMENTAREA_AVG',\n",
       " 'BASEMENTAREA_MEDI',\n",
       " 'BASEMENTAREA_MODE',\n",
       " 'CNT_CHILDREN',\n",
       " 'CNT_FAM_MEMBERS',\n",
       " 'CODE_GENDER',\n",
       " 'COMMONAREA_AVG',\n",
       " 'COMMONAREA_MEDI',\n",
       " 'COMMONAREA_MODE',\n",
       " 'DAYS_BIRTH',\n",
       " 'DAYS_EMPLOYED',\n",
       " 'DAYS_ID_PUBLISH',\n",
       " 'DAYS_LAST_PHONE_CHANGE',\n",
       " 'DAYS_REGISTRATION',\n",
       " 'DEF_30_CNT_SOCIAL_CIRCLE',\n",
       " 'DEF_60_CNT_SOCIAL_CIRCLE',\n",
       " 'ELEVATORS_AVG',\n",
       " 'ELEVATORS_MEDI',\n",
       " 'ELEVATORS_MODE',\n",
       " 'EMERGENCYSTATE_MODE',\n",
       " 'ENTRANCES_AVG',\n",
       " 'ENTRANCES_MEDI',\n",
       " 'ENTRANCES_MODE',\n",
       " 'EXT_SOURCE_1',\n",
       " 'EXT_SOURCE_2',\n",
       " 'EXT_SOURCE_3',\n",
       " 'FLAG_CONT_MOBILE',\n",
       " 'FLAG_DOCUMENT_10',\n",
       " 'FLAG_DOCUMENT_11',\n",
       " 'FLAG_DOCUMENT_12',\n",
       " 'FLAG_DOCUMENT_13',\n",
       " 'FLAG_DOCUMENT_14',\n",
       " 'FLAG_DOCUMENT_15',\n",
       " 'FLAG_DOCUMENT_16',\n",
       " 'FLAG_DOCUMENT_17',\n",
       " 'FLAG_DOCUMENT_18',\n",
       " 'FLAG_DOCUMENT_19',\n",
       " 'FLAG_DOCUMENT_2',\n",
       " 'FLAG_DOCUMENT_20',\n",
       " 'FLAG_DOCUMENT_21',\n",
       " 'FLAG_DOCUMENT_3',\n",
       " 'FLAG_DOCUMENT_4',\n",
       " 'FLAG_DOCUMENT_5',\n",
       " 'FLAG_DOCUMENT_6',\n",
       " 'FLAG_DOCUMENT_7',\n",
       " 'FLAG_DOCUMENT_8',\n",
       " 'FLAG_DOCUMENT_9',\n",
       " 'FLAG_EMAIL',\n",
       " 'FLAG_EMP_PHONE',\n",
       " 'FLAG_MOBIL',\n",
       " 'FLAG_OWN_CAR',\n",
       " 'FLAG_OWN_REALTY',\n",
       " 'FLAG_PHONE',\n",
       " 'FLAG_WORK_PHONE',\n",
       " 'FLOORSMAX_AVG',\n",
       " 'FLOORSMAX_MEDI',\n",
       " 'FLOORSMAX_MODE',\n",
       " 'FLOORSMIN_AVG',\n",
       " 'FLOORSMIN_MEDI',\n",
       " 'FLOORSMIN_MODE',\n",
       " 'FONDKAPREMONT_MODE',\n",
       " 'HOUR_APPR_PROCESS_START',\n",
       " 'HOUSETYPE_MODE',\n",
       " 'LANDAREA_AVG',\n",
       " 'LANDAREA_MEDI',\n",
       " 'LANDAREA_MODE',\n",
       " 'LIVE_CITY_NOT_WORK_CITY',\n",
       " 'LIVE_REGION_NOT_WORK_REGION',\n",
       " 'LIVINGAPARTMENTS_AVG',\n",
       " 'LIVINGAPARTMENTS_MEDI',\n",
       " 'LIVINGAPARTMENTS_MODE',\n",
       " 'LIVINGAREA_AVG',\n",
       " 'LIVINGAREA_MEDI',\n",
       " 'LIVINGAREA_MODE',\n",
       " 'NAME_CONTRACT_TYPE',\n",
       " 'NAME_EDUCATION_TYPE',\n",
       " 'NAME_FAMILY_STATUS',\n",
       " 'NAME_HOUSING_TYPE',\n",
       " 'NAME_INCOME_TYPE',\n",
       " 'NAME_TYPE_SUITE',\n",
       " 'NONLIVINGAPARTMENTS_AVG',\n",
       " 'NONLIVINGAPARTMENTS_MEDI',\n",
       " 'NONLIVINGAPARTMENTS_MODE',\n",
       " 'NONLIVINGAREA_AVG',\n",
       " 'NONLIVINGAREA_MEDI',\n",
       " 'NONLIVINGAREA_MODE',\n",
       " 'OBS_30_CNT_SOCIAL_CIRCLE',\n",
       " 'OBS_60_CNT_SOCIAL_CIRCLE',\n",
       " 'OCCUPATION_TYPE',\n",
       " 'ORGANIZATION_TYPE',\n",
       " 'OWN_CAR_AGE',\n",
       " 'REGION_POPULATION_RELATIVE',\n",
       " 'REGION_RATING_CLIENT',\n",
       " 'REGION_RATING_CLIENT_W_CITY',\n",
       " 'REG_CITY_NOT_LIVE_CITY',\n",
       " 'REG_CITY_NOT_WORK_CITY',\n",
       " 'REG_REGION_NOT_LIVE_REGION',\n",
       " 'REG_REGION_NOT_WORK_REGION',\n",
       " 'SK_ID_CURR',\n",
       " 'TARGET',\n",
       " 'TOTALAREA_MODE',\n",
       " 'WALLSMATERIAL_MODE',\n",
       " 'WEEKDAY_APPR_PROCESS_START',\n",
       " 'YEARS_BEGINEXPLUATATION_AVG',\n",
       " 'YEARS_BEGINEXPLUATATION_MEDI',\n",
       " 'YEARS_BEGINEXPLUATATION_MODE',\n",
       " 'YEARS_BUILD_AVG',\n",
       " 'YEARS_BUILD_MEDI',\n",
       " 'YEARS_BUILD_MODE',\n",
       " 'target',\n",
       " 'preds']"
      ]
     },
     "execution_count": 8,
     "metadata": {},
     "output_type": "execute_result"
    }
   ],
   "source": [
    "df.columns.tolist()"
   ]
  },
  {
   "cell_type": "code",
   "execution_count": 9,
   "metadata": {},
   "outputs": [
    {
     "data": {
      "image/png": "[encoded data removed]",
      "text/plain": [
       "<Figure size 432x288 with 1 Axes>"
      ]
     },
     "metadata": {},
     "output_type": "display_data"
    }
   ],
   "source": [
    "sns.kdeplot(-df.loc[(df.target == 1) & (df.preds < .2), 'DAYS_ID_PUBLISH'] / 365, label='miss')\n",
    "sns.kdeplot(-df.loc[(df.target == 1) & (df.preds >= .5), 'DAYS_ID_PUBLISH'] / 365, label='hit')\n",
    "\n",
    "plt.title('TARGET == 1');"
   ]
  },
  {
   "cell_type": "code",
   "execution_count": 10,
   "metadata": {},
   "outputs": [
    {
     "data": {
      "image/png": "[encoded data removed]",
      "text/plain": [
       "<Figure size 432x288 with 1 Axes>"
      ]
     },
     "metadata": {},
     "output_type": "display_data"
    }
   ],
   "source": [
    "sns.kdeplot(-df.loc[(df.target == 0) & (df.preds > .5), 'DAYS_ID_PUBLISH'] / 365, label='miss')\n",
    "sns.kdeplot(-df.loc[(df.target == 0) & (df.preds < .2), 'DAYS_ID_PUBLISH'] / 365, label='hit')\n",
    "\n",
    "plt.title('TARGET == 0');"
   ]
  },
  {
   "cell_type": "code",
   "execution_count": 11,
   "metadata": {},
   "outputs": [
    {
     "data": {
      "image/png": "[encoded data removed]",
      "text/plain": [
       "<Figure size 432x288 with 1 Axes>"
      ]
     },
     "metadata": {},
     "output_type": "display_data"
    }
   ],
   "source": [
    "sns.kdeplot(df.loc[(df.target == 1) & (df.preds < .2), 'EXT_SOURCE_2'], label='miss')\n",
    "sns.kdeplot(df.loc[(df.target == 1) & (df.preds >= .5), 'EXT_SOURCE_2'], label='hit')\n",
    "\n",
    "plt.title('TARGET == 1');"
   ]
  },
  {
   "cell_type": "code",
   "execution_count": 12,
   "metadata": {},
   "outputs": [
    {
     "data": {
      "image/png": "[encoded data removed]",
      "text/plain": [
       "<Figure size 432x288 with 1 Axes>"
      ]
     },
     "metadata": {},
     "output_type": "display_data"
    }
   ],
   "source": [
    "sns.kdeplot(df.loc[(df.target == 0) & (df.preds > .5), 'EXT_SOURCE_2'], label='miss')\n",
    "sns.kdeplot(df.loc[(df.target == 0) & (df.preds < .2), 'EXT_SOURCE_2'], label='hit')\n",
    "\n",
    "plt.title('TARGET == 0');"
   ]
  },
  {
   "cell_type": "code",
   "execution_count": 13,
   "metadata": {},
   "outputs": [
    {
     "data": {
      "image/png": "[encoded data removed]",
      "text/plain": [
       "<Figure size 432x288 with 1 Axes>"
      ]
     },
     "metadata": {},
     "output_type": "display_data"
    }
   ],
   "source": [
    "sns.kdeplot(df.loc[(df.target == 1) & (df.preds < .2), 'EXT_SOURCE_1'], label='miss')\n",
    "sns.kdeplot(df.loc[(df.target == 1) & (df.preds >= .5), 'EXT_SOURCE_1'], label='hit')\n",
    "\n",
    "plt.title('TARGET == 1');"
   ]
  },
  {
   "cell_type": "code",
   "execution_count": 14,
   "metadata": {},
   "outputs": [
    {
     "data": {
      "image/png": "[encoded data removed]",
      "text/plain": [
       "<Figure size 432x288 with 1 Axes>"
      ]
     },
     "metadata": {},
     "output_type": "display_data"
    }
   ],
   "source": [
    "sns.kdeplot(df.loc[(df.target == 0) & (df.preds > .5), 'EXT_SOURCE_1'], label='miss')\n",
    "sns.kdeplot(df.loc[(df.target == 0) & (df.preds < .2), 'EXT_SOURCE_1'], label='hit')\n",
    "\n",
    "plt.title('TARGET == 0');"
   ]
  },
  {
   "cell_type": "code",
   "execution_count": 15,
   "metadata": {},
   "outputs": [
    {
     "data": {
      "image/png": "[encoded data removed]",
      "text/plain": [
       "<Figure size 432x288 with 1 Axes>"
      ]
     },
     "metadata": {},
     "output_type": "display_data"
    }
   ],
   "source": [
    "sns.kdeplot(df.loc[(df.target == 1) & (df.preds < .2), 'EXT_SOURCE_3'], label='miss')\n",
    "sns.kdeplot(df.loc[(df.target == 1) & (df.preds >= .5), 'EXT_SOURCE_3'], label='hit')\n",
    "\n",
    "plt.title('TARGET == 1');"
   ]
  },
  {
   "cell_type": "code",
   "execution_count": 16,
   "metadata": {},
   "outputs": [
    {
     "data": {
      "image/png": "[encoded data removed]",
      "text/plain": [
       "<Figure size 432x288 with 1 Axes>"
      ]
     },
     "metadata": {},
     "output_type": "display_data"
    }
   ],
   "source": [
    "sns.kdeplot(df.loc[(df.target == 0) & (df.preds > .5), 'EXT_SOURCE_3'], label='miss')\n",
    "sns.kdeplot(df.loc[(df.target == 0) & (df.preds < .2), 'EXT_SOURCE_3'], label='hit')\n",
    "\n",
    "plt.title('TARGET == 0');"
   ]
  },
  {
   "cell_type": "markdown",
   "metadata": {},
   "source": [
    "### Correlated features"
   ]
  },
  {
   "cell_type": "code",
   "execution_count": 3,
   "metadata": {},
   "outputs": [],
   "source": [
    "data     = pd.read_hdf('../data/interim/dataset2/data.h5', key='data')\n",
    "v86_feat = np.load('../data/interim/dataset2/v86_features.npy')"
   ]
  },
  {
   "cell_type": "code",
   "execution_count": 12,
   "metadata": {},
   "outputs": [
    {
     "name": "stdout",
     "output_type": "stream",
     "text": [
      "CPU times: user 6min 17s, sys: 752 ms, total: 6min 18s\n",
      "Wall time: 6min 18s\n"
     ]
    }
   ],
   "source": [
    "%%time\n",
    "\n",
    "corr = data.loc[:, list(v86_feat) + ['TARGET']].iloc[:307511].corr()"
   ]
  },
  {
   "cell_type": "code",
   "execution_count": 14,
   "metadata": {},
   "outputs": [],
   "source": [
    "corr.to_csv('../data/tmp/corr.csv', index=True)"
   ]
  },
  {
   "cell_type": "markdown",
   "metadata": {},
   "source": [
    "### OOF Preds"
   ]
  },
  {
   "cell_type": "code",
   "execution_count": 39,
   "metadata": {},
   "outputs": [
    {
     "name": "stdout",
     "output_type": "stream",
     "text": [
      "CPU times: user 4.44 s, sys: 1.05 s, total: 5.48 s\n",
      "Wall time: 5.49 s\n"
     ]
    }
   ],
   "source": [
    "%%time \n",
    "\n",
    "data     = pd.read_hdf('../data/interim/dataset2/data.h5', key='data')\n",
    "v86_feat = np.load('../data/interim/dataset2/v86_features.npy')\n",
    "\n",
    "# sample\n",
    "data     = data.iloc[:307511].sample(n=5000, random_state=SEED)\n",
    "df, y     = data.loc[:, v86_feat], data.TARGET\n",
    "\n",
    "del data\n",
    "gc.collect();"
   ]
  },
  {
   "cell_type": "code",
   "execution_count": 71,
   "metadata": {},
   "outputs": [],
   "source": [
    "Xtr, Xte, ytr, yte = train_test_split(df, y, test_size=.2, random_state=SEED)"
   ]
  },
  {
   "cell_type": "code",
   "execution_count": 72,
   "metadata": {},
   "outputs": [],
   "source": [
    "m = xgb.XGBClassifier(objective='binary:logistic',\n",
    "                       max_depth=4,\n",
    "                       n_estimators=800, \n",
    "                       learning_rate=.1, \n",
    "                       colsample_bytree=.1, \n",
    "                       gamma=5,\n",
    "                       n_jobs=-1,\n",
    "                       random_state=SEED\n",
    "                      )\n",
    "\n",
    "\n",
    "cv        = KFold(n_splits=5, shuffle=True, random_state=SEED)\n",
    "oof_preds = cross_val_predict(m, Xtr, ytr, method='predict_proba', cv=cv)\n",
    "\n",
    "m.fit(Xtr, ytr)\n",
    "val_preds = m.predict_proba(Xte)[:, 1]"
   ]
  },
  {
   "cell_type": "code",
   "execution_count": 73,
   "metadata": {},
   "outputs": [
    {
     "data": {
      "text/plain": [
       "0.7346603260869566"
      ]
     },
     "execution_count": 73,
     "metadata": {},
     "output_type": "execute_result"
    }
   ],
   "source": [
    "# without new features score on holdout set\n",
    "\n",
    "m = lgb.LGBMClassifier(objective='binary',\n",
    "                       max_depth=4,\n",
    "                       num_leaves=15,\n",
    "                       n_estimators=800, \n",
    "                       learning_rate=.1, \n",
    "                       colsample_bytree=.1, \n",
    "                       reg_lambda=20,\n",
    "                       min_child_weight=10,\n",
    "                       random_state=SEED\n",
    "                      )\n",
    "\n",
    "m.fit(Xtr, ytr)\n",
    "val_preds = m.predict_proba(Xte)[:, 1]\n",
    "\n",
    "roc_auc_score(yte, val_preds)"
   ]
  },
  {
   "cell_type": "code",
   "execution_count": 74,
   "metadata": {},
   "outputs": [],
   "source": [
    "Xtr.loc[:, 'ratio_ext_source_1_preds'] = Xtr['EXT_SOURCE_1'] / oof_preds[:, 1]\n",
    "Xtr.loc[:, 'ratio_ext_source_2_preds'] = Xtr['EXT_SOURCE_2'] / oof_preds[:, 1]\n",
    "Xtr.loc[:, 'ratio_ext_source_3_preds'] = Xtr['EXT_SOURCE_3'] / oof_preds[:, 1]\n",
    "\n",
    "Xtr.loc[:, 'diff_ext_source_1_preds'] = Xtr['EXT_SOURCE_1'] - oof_preds[:, 1]\n",
    "Xtr.loc[:, 'diff_ext_source_2_preds'] = Xtr['EXT_SOURCE_2'] - oof_preds[:, 1]\n",
    "Xtr.loc[:, 'diff_ext_source_3_preds'] = Xtr['EXT_SOURCE_3'] - oof_preds[:, 1]"
   ]
  },
  {
   "cell_type": "code",
   "execution_count": 75,
   "metadata": {},
   "outputs": [],
   "source": [
    "Xte.loc[:, 'ratio_ext_source_1_preds'] = Xte['EXT_SOURCE_1'] / val_preds\n",
    "Xte.loc[:, 'ratio_ext_source_2_preds'] = Xte['EXT_SOURCE_2'] / val_preds\n",
    "Xte.loc[:, 'ratio_ext_source_3_preds'] = Xte['EXT_SOURCE_3'] / val_preds\n",
    "\n",
    "Xte.loc[:, 'diff_ext_source_1_preds'] = Xte['EXT_SOURCE_1'] - val_preds\n",
    "Xte.loc[:, 'diff_ext_source_2_preds'] = Xte['EXT_SOURCE_2'] - val_preds\n",
    "Xte.loc[:, 'diff_ext_source_3_preds'] = Xte['EXT_SOURCE_3'] - val_preds"
   ]
  },
  {
   "cell_type": "code",
   "execution_count": 76,
   "metadata": {},
   "outputs": [
    {
     "data": {
      "text/plain": [
       "0.7126630434782609"
      ]
     },
     "execution_count": 76,
     "metadata": {},
     "output_type": "execute_result"
    }
   ],
   "source": [
    "m.fit(Xtr, ytr)\n",
    "new_val_preds = m.predict_proba(Xte)[:, 1]\n",
    "\n",
    "roc_auc_score(yte, new_val_preds)"
   ]
  },
  {
   "cell_type": "code",
   "execution_count": 77,
   "metadata": {},
   "outputs": [
    {
     "data": {
      "text/plain": [
       "<matplotlib.axes._subplots.AxesSubplot at 0x7f11dc5064e0>"
      ]
     },
     "execution_count": 77,
     "metadata": {},
     "output_type": "execute_result"
    },
    {
     "data": {
      "image/png": "[encoded data removed]",
      "text/plain": [
       "<Figure size 432x288 with 1 Axes>"
      ]
     },
     "metadata": {},
     "output_type": "display_data"
    }
   ],
   "source": [
    "lgb.plot_importance(m.booster_, max_num_features=7)"
   ]
  },
  {
   "cell_type": "markdown",
   "metadata": {},
   "source": [
    "### XGBoost Leaves"
   ]
  },
  {
   "cell_type": "code",
   "execution_count": 2,
   "metadata": {},
   "outputs": [],
   "source": [
    "from sklearn.base import BaseEstimator, ClassifierMixin"
   ]
  },
  {
   "cell_type": "code",
   "execution_count": 59,
   "metadata": {},
   "outputs": [],
   "source": [
    "class XGBoostLeaves(BaseEstimator, ClassifierMixin):\n",
    "    params = {\n",
    "        'objective': 'binary:logistic',\n",
    "        'eta': .01,\n",
    "        'max_depth': 2,\n",
    "        'colsample_bytree': .1,\n",
    "        'min_child_weight': 20,\n",
    "        'gamma': 5,\n",
    "        'nthread': 4,\n",
    "        'silent': 1\n",
    "    }\n",
    "\n",
    "    def __init__(self, num_leaves):\n",
    "        self.num_leaves = num_leaves\n",
    "\n",
    "    def fit(self, X, y=None):\n",
    "        dtrain     = xgb.DMatrix(X, y)\n",
    "        self.model = xgb.train(self.params, dtrain, self.num_leaves)\n",
    "\n",
    "    def predict(self, X):\n",
    "        return self.model.predict(xgb.DMatrix(X), pred_leaf=True)"
   ]
  },
  {
   "cell_type": "code",
   "execution_count": 60,
   "metadata": {},
   "outputs": [
    {
     "name": "stdout",
     "output_type": "stream",
     "text": [
      "CPU times: user 4.56 s, sys: 1.05 s, total: 5.61 s\n",
      "Wall time: 5.61 s\n"
     ]
    }
   ],
   "source": [
    "%%time \n",
    "\n",
    "data     = pd.read_hdf('../data/interim/dataset2/data.h5', key='data')\n",
    "v86_feat = np.load('../data/interim/dataset2/v86_features.npy')\n",
    "\n",
    "# sample\n",
    "data     = data.iloc[:307511].sample(n=5000, random_state=SEED)\n",
    "df, y     = data.loc[:, v86_feat], data.TARGET\n",
    "\n",
    "del data\n",
    "gc.collect();"
   ]
  },
  {
   "cell_type": "code",
   "execution_count": 61,
   "metadata": {},
   "outputs": [],
   "source": [
    "# split into training and test set\n",
    "Xtr, Xte, ytr, yte = train_test_split(df, y, test_size=.2, random_state=SEED)"
   ]
  },
  {
   "cell_type": "code",
   "execution_count": 62,
   "metadata": {},
   "outputs": [
    {
     "name": "stdout",
     "output_type": "stream",
     "text": [
      "CPU times: user 1.84 s, sys: 3.74 ms, total: 1.84 s\n",
      "Wall time: 650 ms\n"
     ]
    }
   ],
   "source": [
    "%%time\n",
    "\n",
    "num_leaves = 20\n",
    "fte        = XGBoostLeaves(num_leaves)\n",
    "train_fte  = cross_val_predict(fte, Xtr, ytr, cv=3)\n",
    "\n",
    "fte.fit(Xtr, ytr)\n",
    "test_fte  = fte.predict(Xte)"
   ]
  },
  {
   "cell_type": "code",
   "execution_count": 63,
   "metadata": {},
   "outputs": [
    {
     "data": {
      "text/plain": [
       "0.7346603260869566"
      ]
     },
     "execution_count": 63,
     "metadata": {},
     "output_type": "execute_result"
    }
   ],
   "source": [
    "# without leaves from XGBoost\n",
    "\n",
    "m = lgb.LGBMClassifier(objective='binary',\n",
    "                       max_depth=4,\n",
    "                       num_leaves=15,\n",
    "                       n_estimators=800, \n",
    "                       learning_rate=.1, \n",
    "                       colsample_bytree=.1, \n",
    "                       reg_lambda=20,\n",
    "                       min_child_weight=10,\n",
    "                       random_state=SEED\n",
    "                      )\n",
    "\n",
    "m.fit(Xtr, ytr)\n",
    "val_preds = m.predict_proba(Xte)[:, 1]\n",
    "\n",
    "roc_auc_score(yte, val_preds)"
   ]
  },
  {
   "cell_type": "code",
   "execution_count": 64,
   "metadata": {},
   "outputs": [],
   "source": [
    "train_fte_df = pd.DataFrame(train_fte, columns=[f'leaf_{i}' for i in range(train_fte.shape[1])])\n",
    "train_fte_df.index = Xtr.index\n",
    "\n",
    "test_fte_df = pd.DataFrame(test_fte, columns=[f'leaf_{i}' for i in range(test_fte.shape[1])])\n",
    "test_fte_df.index = Xte.index\n",
    "\n",
    "Xtr_new      = pd.concat((Xtr, train_fte_df), axis=1)\n",
    "Xte_new      = pd.concat((Xte, test_fte_df), axis=1)"
   ]
  },
  {
   "cell_type": "code",
   "execution_count": 65,
   "metadata": {},
   "outputs": [
    {
     "data": {
      "text/plain": [
       "0.7244429347826087"
      ]
     },
     "execution_count": 65,
     "metadata": {},
     "output_type": "execute_result"
    }
   ],
   "source": [
    "m = lgb.LGBMClassifier(objective='binary',\n",
    "                       max_depth=4,\n",
    "                       num_leaves=15,\n",
    "                       n_estimators=800, \n",
    "                       learning_rate=.1, \n",
    "                       colsample_bytree=.1, \n",
    "                       reg_lambda=20,\n",
    "                       min_child_weight=10,\n",
    "                       random_state=SEED\n",
    "                      )\n",
    "\n",
    "m.fit(Xtr_new, ytr)\n",
    "val_preds = m.predict_proba(Xte_new)[:, 1]\n",
    "\n",
    "roc_auc_score(yte, val_preds)"
   ]
  },
  {
   "cell_type": "code",
   "execution_count": 51,
   "metadata": {},
   "outputs": [
    {
     "data": {
      "text/html": [
       "<div>\n",
       "<style scoped>\n",
       "    .dataframe tbody tr th:only-of-type {\n",
       "        vertical-align: middle;\n",
       "    }\n",
       "\n",
       "    .dataframe tbody tr th {\n",
       "        vertical-align: top;\n",
       "    }\n",
       "\n",
       "    .dataframe thead th {\n",
       "        text-align: right;\n",
       "    }\n",
       "</style>\n",
       "<table border=\"1\" class=\"dataframe\">\n",
       "  <thead>\n",
       "    <tr style=\"text-align: right;\">\n",
       "      <th></th>\n",
       "      <th>feat</th>\n",
       "      <th>imp</th>\n",
       "    </tr>\n",
       "  </thead>\n",
       "  <tbody>\n",
       "    <tr>\n",
       "      <th>571</th>\n",
       "      <td>leaf_0</td>\n",
       "      <td>3</td>\n",
       "    </tr>\n",
       "    <tr>\n",
       "      <th>572</th>\n",
       "      <td>leaf_1</td>\n",
       "      <td>2</td>\n",
       "    </tr>\n",
       "    <tr>\n",
       "      <th>573</th>\n",
       "      <td>leaf_2</td>\n",
       "      <td>2</td>\n",
       "    </tr>\n",
       "    <tr>\n",
       "      <th>574</th>\n",
       "      <td>leaf_3</td>\n",
       "      <td>2</td>\n",
       "    </tr>\n",
       "    <tr>\n",
       "      <th>575</th>\n",
       "      <td>leaf_4</td>\n",
       "      <td>1</td>\n",
       "    </tr>\n",
       "    <tr>\n",
       "      <th>576</th>\n",
       "      <td>leaf_5</td>\n",
       "      <td>3</td>\n",
       "    </tr>\n",
       "    <tr>\n",
       "      <th>577</th>\n",
       "      <td>leaf_6</td>\n",
       "      <td>3</td>\n",
       "    </tr>\n",
       "    <tr>\n",
       "      <th>578</th>\n",
       "      <td>leaf_7</td>\n",
       "      <td>1</td>\n",
       "    </tr>\n",
       "    <tr>\n",
       "      <th>579</th>\n",
       "      <td>leaf_8</td>\n",
       "      <td>6</td>\n",
       "    </tr>\n",
       "    <tr>\n",
       "      <th>580</th>\n",
       "      <td>leaf_9</td>\n",
       "      <td>7</td>\n",
       "    </tr>\n",
       "  </tbody>\n",
       "</table>\n",
       "</div>"
      ],
      "text/plain": [
       "       feat  imp\n",
       "571  leaf_0    3\n",
       "572  leaf_1    2\n",
       "573  leaf_2    2\n",
       "574  leaf_3    2\n",
       "575  leaf_4    1\n",
       "576  leaf_5    3\n",
       "577  leaf_6    3\n",
       "578  leaf_7    1\n",
       "579  leaf_8    6\n",
       "580  leaf_9    7"
      ]
     },
     "execution_count": 51,
     "metadata": {},
     "output_type": "execute_result"
    }
   ],
   "source": [
    "feat_df.loc[feat_df.feat.isin([c for c in feat_df.feat if 'leaf_' in c])]"
   ]
  },
  {
   "cell_type": "code",
   "execution_count": 35,
   "metadata": {},
   "outputs": [
    {
     "data": {
      "text/html": [
       "<div>\n",
       "<style scoped>\n",
       "    .dataframe tbody tr th:only-of-type {\n",
       "        vertical-align: middle;\n",
       "    }\n",
       "\n",
       "    .dataframe tbody tr th {\n",
       "        vertical-align: top;\n",
       "    }\n",
       "\n",
       "    .dataframe thead th {\n",
       "        text-align: right;\n",
       "    }\n",
       "</style>\n",
       "<table border=\"1\" class=\"dataframe\">\n",
       "  <thead>\n",
       "    <tr style=\"text-align: right;\">\n",
       "      <th></th>\n",
       "      <th>feat</th>\n",
       "      <th>imp</th>\n",
       "    </tr>\n",
       "  </thead>\n",
       "  <tbody>\n",
       "    <tr>\n",
       "      <th>21</th>\n",
       "      <td>past_annuity_to_credit_cnt_payment_mean</td>\n",
       "      <td>69</td>\n",
       "    </tr>\n",
       "    <tr>\n",
       "      <th>131</th>\n",
       "      <td>dev_hour_process</td>\n",
       "      <td>55</td>\n",
       "    </tr>\n",
       "    <tr>\n",
       "      <th>369</th>\n",
       "      <td>past_annuity_to_credit_cnt_payment_median</td>\n",
       "      <td>53</td>\n",
       "    </tr>\n",
       "    <tr>\n",
       "      <th>409</th>\n",
       "      <td>CNT_INSTALMENT_FUTURE_sum</td>\n",
       "      <td>49</td>\n",
       "    </tr>\n",
       "    <tr>\n",
       "      <th>109</th>\n",
       "      <td>pca_0</td>\n",
       "      <td>49</td>\n",
       "    </tr>\n",
       "    <tr>\n",
       "      <th>293</th>\n",
       "      <td>ratio_age_employed</td>\n",
       "      <td>45</td>\n",
       "    </tr>\n",
       "    <tr>\n",
       "      <th>203</th>\n",
       "      <td>region_ext_source_3</td>\n",
       "      <td>44</td>\n",
       "    </tr>\n",
       "    <tr>\n",
       "      <th>267</th>\n",
       "      <td>diff_reg_age</td>\n",
       "      <td>42</td>\n",
       "    </tr>\n",
       "    <tr>\n",
       "      <th>346</th>\n",
       "      <td>ratio_completed_to_total_pos_cash</td>\n",
       "      <td>40</td>\n",
       "    </tr>\n",
       "    <tr>\n",
       "      <th>450</th>\n",
       "      <td>closed_credit_duration</td>\n",
       "      <td>39</td>\n",
       "    </tr>\n",
       "    <tr>\n",
       "      <th>195</th>\n",
       "      <td>std_document_modified</td>\n",
       "      <td>39</td>\n",
       "    </tr>\n",
       "    <tr>\n",
       "      <th>142</th>\n",
       "      <td>prev_app_end_bureau_start_max</td>\n",
       "      <td>38</td>\n",
       "    </tr>\n",
       "    <tr>\n",
       "      <th>236</th>\n",
       "      <td>mean_prev_annuity_goods</td>\n",
       "      <td>38</td>\n",
       "    </tr>\n",
       "    <tr>\n",
       "      <th>89</th>\n",
       "      <td>DAYS_REGISTRATION</td>\n",
       "      <td>38</td>\n",
       "    </tr>\n",
       "    <tr>\n",
       "      <th>411</th>\n",
       "      <td>ratio_debt_credit_sum</td>\n",
       "      <td>38</td>\n",
       "    </tr>\n",
       "    <tr>\n",
       "      <th>23</th>\n",
       "      <td>diff_credit_annuity_age</td>\n",
       "      <td>37</td>\n",
       "    </tr>\n",
       "    <tr>\n",
       "      <th>335</th>\n",
       "      <td>credit_share_left</td>\n",
       "      <td>36</td>\n",
       "    </tr>\n",
       "    <tr>\n",
       "      <th>322</th>\n",
       "      <td>ratio_payment_income</td>\n",
       "      <td>35</td>\n",
       "    </tr>\n",
       "    <tr>\n",
       "      <th>242</th>\n",
       "      <td>max_diff_bureau_prev_app_credit_date</td>\n",
       "      <td>35</td>\n",
       "    </tr>\n",
       "    <tr>\n",
       "      <th>82</th>\n",
       "      <td>EXT_SOURCE_DEV</td>\n",
       "      <td>35</td>\n",
       "    </tr>\n",
       "    <tr>\n",
       "      <th>105</th>\n",
       "      <td>mean_diff_actual_decided</td>\n",
       "      <td>33</td>\n",
       "    </tr>\n",
       "    <tr>\n",
       "      <th>453</th>\n",
       "      <td>median_ratio_end_curr_credit</td>\n",
       "      <td>33</td>\n",
       "    </tr>\n",
       "    <tr>\n",
       "      <th>442</th>\n",
       "      <td>mean_CODE_GENDER_ORGANIZATION_TYPE_AMT_ANNUITY</td>\n",
       "      <td>33</td>\n",
       "    </tr>\n",
       "    <tr>\n",
       "      <th>430</th>\n",
       "      <td>diff_dp_annuity</td>\n",
       "      <td>33</td>\n",
       "    </tr>\n",
       "    <tr>\n",
       "      <th>479</th>\n",
       "      <td>mean_hour_process</td>\n",
       "      <td>32</td>\n",
       "    </tr>\n",
       "    <tr>\n",
       "      <th>432</th>\n",
       "      <td>ratio_paid_unpaid</td>\n",
       "      <td>32</td>\n",
       "    </tr>\n",
       "    <tr>\n",
       "      <th>562</th>\n",
       "      <td>AMT_PAYMENT_var</td>\n",
       "      <td>32</td>\n",
       "    </tr>\n",
       "    <tr>\n",
       "      <th>459</th>\n",
       "      <td>ratio_id_change_age</td>\n",
       "      <td>32</td>\n",
       "    </tr>\n",
       "    <tr>\n",
       "      <th>454</th>\n",
       "      <td>total_active_loans_across_credits</td>\n",
       "      <td>32</td>\n",
       "    </tr>\n",
       "    <tr>\n",
       "      <th>28</th>\n",
       "      <td>median_annuity</td>\n",
       "      <td>31</td>\n",
       "    </tr>\n",
       "    <tr>\n",
       "      <th>...</th>\n",
       "      <td>...</td>\n",
       "      <td>...</td>\n",
       "    </tr>\n",
       "    <tr>\n",
       "      <th>457</th>\n",
       "      <td>PRODUCT_COMBINATION_3</td>\n",
       "      <td>0</td>\n",
       "    </tr>\n",
       "    <tr>\n",
       "      <th>103</th>\n",
       "      <td>MONTHS_BALANCE_amax</td>\n",
       "      <td>0</td>\n",
       "    </tr>\n",
       "    <tr>\n",
       "      <th>467</th>\n",
       "      <td>LIVINGAPARTMENTS_MEDI</td>\n",
       "      <td>0</td>\n",
       "    </tr>\n",
       "    <tr>\n",
       "      <th>97</th>\n",
       "      <td>NAME_INCOME_TYPE__1</td>\n",
       "      <td>0</td>\n",
       "    </tr>\n",
       "    <tr>\n",
       "      <th>102</th>\n",
       "      <td>NAME_GOODS_CATEGORY_2</td>\n",
       "      <td>0</td>\n",
       "    </tr>\n",
       "    <tr>\n",
       "      <th>477</th>\n",
       "      <td>STATUS1.0</td>\n",
       "      <td>0</td>\n",
       "    </tr>\n",
       "    <tr>\n",
       "      <th>501</th>\n",
       "      <td>NAME_GOODS_CATEGORY_22</td>\n",
       "      <td>0</td>\n",
       "    </tr>\n",
       "    <tr>\n",
       "      <th>427</th>\n",
       "      <td>OCCUPATION_TYPE__4</td>\n",
       "      <td>0</td>\n",
       "    </tr>\n",
       "    <tr>\n",
       "      <th>260</th>\n",
       "      <td>credit_dpd_sum</td>\n",
       "      <td>0</td>\n",
       "    </tr>\n",
       "    <tr>\n",
       "      <th>150</th>\n",
       "      <td>PRODUCT_COMBINATION_8</td>\n",
       "      <td>0</td>\n",
       "    </tr>\n",
       "    <tr>\n",
       "      <th>379</th>\n",
       "      <td>NAME_FAMILY_STATUS</td>\n",
       "      <td>0</td>\n",
       "    </tr>\n",
       "    <tr>\n",
       "      <th>380</th>\n",
       "      <td>STATUS2.0</td>\n",
       "      <td>0</td>\n",
       "    </tr>\n",
       "    <tr>\n",
       "      <th>98</th>\n",
       "      <td>NAME_CONTRACT_TYPE</td>\n",
       "      <td>0</td>\n",
       "    </tr>\n",
       "    <tr>\n",
       "      <th>387</th>\n",
       "      <td>std_cb_credit_annuity</td>\n",
       "      <td>0</td>\n",
       "    </tr>\n",
       "    <tr>\n",
       "      <th>45</th>\n",
       "      <td>most_recent_std_pos_cash_dpd</td>\n",
       "      <td>0</td>\n",
       "    </tr>\n",
       "    <tr>\n",
       "      <th>388</th>\n",
       "      <td>min_pos_installments_left</td>\n",
       "      <td>0</td>\n",
       "    </tr>\n",
       "    <tr>\n",
       "      <th>393</th>\n",
       "      <td>children_ratio</td>\n",
       "      <td>0</td>\n",
       "    </tr>\n",
       "    <tr>\n",
       "      <th>172</th>\n",
       "      <td>NAME_HOUSING_TYPE__3</td>\n",
       "      <td>0</td>\n",
       "    </tr>\n",
       "    <tr>\n",
       "      <th>397</th>\n",
       "      <td>NAME_HOUSING_TYPE__1</td>\n",
       "      <td>0</td>\n",
       "    </tr>\n",
       "    <tr>\n",
       "      <th>165</th>\n",
       "      <td>most_recent_max_pos_cash_dpd</td>\n",
       "      <td>0</td>\n",
       "    </tr>\n",
       "    <tr>\n",
       "      <th>162</th>\n",
       "      <td>mean_total_amt_overdue</td>\n",
       "      <td>0</td>\n",
       "    </tr>\n",
       "    <tr>\n",
       "      <th>404</th>\n",
       "      <td>cash_dpd_max</td>\n",
       "      <td>0</td>\n",
       "    </tr>\n",
       "    <tr>\n",
       "      <th>60</th>\n",
       "      <td>NAME_EDUCATION_TYPE__1</td>\n",
       "      <td>0</td>\n",
       "    </tr>\n",
       "    <tr>\n",
       "      <th>408</th>\n",
       "      <td>CNT_CHILDREN</td>\n",
       "      <td>0</td>\n",
       "    </tr>\n",
       "    <tr>\n",
       "      <th>156</th>\n",
       "      <td>ratio_check_hour_to_year</td>\n",
       "      <td>0</td>\n",
       "    </tr>\n",
       "    <tr>\n",
       "      <th>66</th>\n",
       "      <td>cnt_non_child</td>\n",
       "      <td>0</td>\n",
       "    </tr>\n",
       "    <tr>\n",
       "      <th>67</th>\n",
       "      <td>mean_credit_limit</td>\n",
       "      <td>0</td>\n",
       "    </tr>\n",
       "    <tr>\n",
       "      <th>153</th>\n",
       "      <td>ORGANIZATION_TYPE__31</td>\n",
       "      <td>0</td>\n",
       "    </tr>\n",
       "    <tr>\n",
       "      <th>507</th>\n",
       "      <td>total_cash_credit_dpd</td>\n",
       "      <td>0</td>\n",
       "    </tr>\n",
       "    <tr>\n",
       "      <th>423</th>\n",
       "      <td>PRODUCT_COMBINATION_2</td>\n",
       "      <td>0</td>\n",
       "    </tr>\n",
       "  </tbody>\n",
       "</table>\n",
       "<p>581 rows × 2 columns</p>\n",
       "</div>"
      ],
      "text/plain": [
       "                                               feat  imp\n",
       "21          past_annuity_to_credit_cnt_payment_mean   69\n",
       "131                                dev_hour_process   55\n",
       "369       past_annuity_to_credit_cnt_payment_median   53\n",
       "409                       CNT_INSTALMENT_FUTURE_sum   49\n",
       "109                                           pca_0   49\n",
       "293                              ratio_age_employed   45\n",
       "203                             region_ext_source_3   44\n",
       "267                                    diff_reg_age   42\n",
       "346               ratio_completed_to_total_pos_cash   40\n",
       "450                          closed_credit_duration   39\n",
       "195                           std_document_modified   39\n",
       "142                   prev_app_end_bureau_start_max   38\n",
       "236                         mean_prev_annuity_goods   38\n",
       "89                                DAYS_REGISTRATION   38\n",
       "411                           ratio_debt_credit_sum   38\n",
       "23                          diff_credit_annuity_age   37\n",
       "335                               credit_share_left   36\n",
       "322                            ratio_payment_income   35\n",
       "242            max_diff_bureau_prev_app_credit_date   35\n",
       "82                                   EXT_SOURCE_DEV   35\n",
       "105                        mean_diff_actual_decided   33\n",
       "453                    median_ratio_end_curr_credit   33\n",
       "442  mean_CODE_GENDER_ORGANIZATION_TYPE_AMT_ANNUITY   33\n",
       "430                                 diff_dp_annuity   33\n",
       "479                               mean_hour_process   32\n",
       "432                               ratio_paid_unpaid   32\n",
       "562                                 AMT_PAYMENT_var   32\n",
       "459                             ratio_id_change_age   32\n",
       "454               total_active_loans_across_credits   32\n",
       "28                                   median_annuity   31\n",
       "..                                              ...  ...\n",
       "457                           PRODUCT_COMBINATION_3    0\n",
       "103                             MONTHS_BALANCE_amax    0\n",
       "467                           LIVINGAPARTMENTS_MEDI    0\n",
       "97                              NAME_INCOME_TYPE__1    0\n",
       "102                           NAME_GOODS_CATEGORY_2    0\n",
       "477                                       STATUS1.0    0\n",
       "501                          NAME_GOODS_CATEGORY_22    0\n",
       "427                              OCCUPATION_TYPE__4    0\n",
       "260                                  credit_dpd_sum    0\n",
       "150                           PRODUCT_COMBINATION_8    0\n",
       "379                              NAME_FAMILY_STATUS    0\n",
       "380                                       STATUS2.0    0\n",
       "98                               NAME_CONTRACT_TYPE    0\n",
       "387                           std_cb_credit_annuity    0\n",
       "45                     most_recent_std_pos_cash_dpd    0\n",
       "388                       min_pos_installments_left    0\n",
       "393                                  children_ratio    0\n",
       "172                            NAME_HOUSING_TYPE__3    0\n",
       "397                            NAME_HOUSING_TYPE__1    0\n",
       "165                    most_recent_max_pos_cash_dpd    0\n",
       "162                          mean_total_amt_overdue    0\n",
       "404                                    cash_dpd_max    0\n",
       "60                           NAME_EDUCATION_TYPE__1    0\n",
       "408                                    CNT_CHILDREN    0\n",
       "156                        ratio_check_hour_to_year    0\n",
       "66                                    cnt_non_child    0\n",
       "67                                mean_credit_limit    0\n",
       "153                           ORGANIZATION_TYPE__31    0\n",
       "507                           total_cash_credit_dpd    0\n",
       "423                           PRODUCT_COMBINATION_2    0\n",
       "\n",
       "[581 rows x 2 columns]"
      ]
     },
     "execution_count": 35,
     "metadata": {},
     "output_type": "execute_result"
    }
   ],
   "source": [
    "feat_df = pd.DataFrame({'feat': Xtr_new.columns, 'imp': m.feature_importances_})\n",
    "feat_df.sort_values(by='imp', ascending=False)"
   ]
  },
  {
   "cell_type": "code",
   "execution_count": 30,
   "metadata": {},
   "outputs": [
    {
     "data": {
      "image/png": "[encoded data removed]",
      "text/plain": [
       "<Figure size 864x720 with 1 Axes>"
      ]
     },
     "metadata": {},
     "output_type": "display_data"
    }
   ],
   "source": [
    "fig, ax = plt.subplots(figsize=(12, 10))\n",
    "lgb.plot_importance(m.booster_, max_num_features=30, ax=ax);"
   ]
  }
 ],
 "metadata": {
  "kernelspec": {
   "display_name": "Python 3",
   "language": "python",
   "name": "python3"
  },
  "language_info": {
   "codemirror_mode": {
    "name": "ipython",
    "version": 3
   },
   "file_extension": ".py",
   "mimetype": "text/x-python",
   "name": "python",
   "nbconvert_exporter": "python",
   "pygments_lexer": "ipython3",
   "version": "3.6.1"
  }
 },
 "nbformat": 4,
 "nbformat_minor": 2
}
