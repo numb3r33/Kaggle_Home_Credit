{
 "cells": [
  {
   "cell_type": "code",
   "execution_count": 1,
   "metadata": {},
   "outputs": [
    {
     "name": "stdout",
     "output_type": "stream",
     "text": [
      "Libraries have been loaded\n"
     ]
    }
   ],
   "source": [
    "__imp"
   ]
  },
  {
   "cell_type": "markdown",
   "metadata": {},
   "source": [
    "## Load Additional Libraries"
   ]
  },
  {
   "cell_type": "code",
   "execution_count": 2,
   "metadata": {
    "collapsed": true
   },
   "outputs": [],
   "source": [
    "basepath = os.path.expanduser('../')"
   ]
  },
  {
   "cell_type": "markdown",
   "metadata": {},
   "source": [
    "## Load Data"
   ]
  },
  {
   "cell_type": "code",
   "execution_count": 3,
   "metadata": {},
   "outputs": [
    {
     "name": "stdout",
     "output_type": "stream",
     "text": [
      "CPU times: user 149 ms, sys: 429 ms, total: 578 ms\n",
      "Wall time: 3.97 s\n"
     ]
    }
   ],
   "source": [
    "%%time\n",
    "\n",
    "app_train = pd.read_pickle(os.path.join(basepath, 'data/interim/dataset1/application_train.pkl'))\n",
    "# app_test  = pd.read_pickle(os.path.join(basepath, 'data/interim/dataset1/application_test.pkl'))\n",
    "\n",
    "# bureau       = pd.read_pickle(os.path.join(basepath, 'data/interim/dataset1/bureau.pkl'))\n",
    "prev_app     = pd.read_pickle(os.path.join(basepath, 'data/interim/dataset1/previous_application.pkl'))\n",
    "# installments = pd.read_pickle(os.path.join(basepath, 'data/interim/dataset1/installments_payments.pkl')) \n",
    "pos_cash     = pd.read_pickle(os.path.join(basepath, 'data/interim/dataset1/POS_CASH_balance.pkl'))\n",
    "# credit_bal  = pd.read_pickle(os.path.join(basepath, 'data/interim/dataset1/credit_card_balance.pkl'))"
   ]
  },
  {
   "cell_type": "markdown",
   "metadata": {},
   "source": [
    "### Light GBM Feature Importance"
   ]
  },
  {
   "cell_type": "code",
   "execution_count": 6,
   "metadata": {
    "collapsed": true
   },
   "outputs": [],
   "source": [
    "feat_imp = pd.read_csv('../data/interim/dataset1/feat_df_v35_model.txt_F0.csv')"
   ]
  },
  {
   "cell_type": "code",
   "execution_count": 7,
   "metadata": {},
   "outputs": [
    {
     "data": {
      "image/png": "[encoded data removed]",
      "text/plain": [
       "<Figure size 748.8x514.8 with 1 Axes>"
      ]
     },
     "metadata": {},
     "output_type": "display_data"
    }
   ],
   "source": [
    "plt.scatter(np.arange(0, len(feat_imp)), feat_imp.imp)\n",
    "plt.xlabel('Feature Index')\n",
    "plt.ylabel('Importance');"
   ]
  },
  {
   "cell_type": "code",
   "execution_count": 4,
   "metadata": {},
   "outputs": [
    {
     "data": {
      "text/html": [
       "<div>\n",
       "<style scoped>\n",
       "    .dataframe tbody tr th:only-of-type {\n",
       "        vertical-align: middle;\n",
       "    }\n",
       "\n",
       "    .dataframe tbody tr th {\n",
       "        vertical-align: top;\n",
       "    }\n",
       "\n",
       "    .dataframe thead th {\n",
       "        text-align: right;\n",
       "    }\n",
       "</style>\n",
       "<table border=\"1\" class=\"dataframe\">\n",
       "  <thead>\n",
       "    <tr style=\"text-align: right;\">\n",
       "      <th></th>\n",
       "      <th>SK_ID_PREV</th>\n",
       "      <th>SK_ID_CURR</th>\n",
       "      <th>NUM_INSTALMENT_VERSION</th>\n",
       "      <th>NUM_INSTALMENT_NUMBER</th>\n",
       "      <th>DAYS_INSTALMENT</th>\n",
       "      <th>DAYS_ENTRY_PAYMENT</th>\n",
       "      <th>AMT_INSTALMENT</th>\n",
       "      <th>AMT_PAYMENT</th>\n",
       "    </tr>\n",
       "  </thead>\n",
       "  <tbody>\n",
       "    <tr>\n",
       "      <th>0</th>\n",
       "      <td>1054186</td>\n",
       "      <td>161674</td>\n",
       "      <td>1.0</td>\n",
       "      <td>6</td>\n",
       "      <td>-1180.0</td>\n",
       "      <td>-1187.0</td>\n",
       "      <td>6948.359863</td>\n",
       "      <td>6948.359863</td>\n",
       "    </tr>\n",
       "    <tr>\n",
       "      <th>1</th>\n",
       "      <td>1330831</td>\n",
       "      <td>151639</td>\n",
       "      <td>0.0</td>\n",
       "      <td>34</td>\n",
       "      <td>-2156.0</td>\n",
       "      <td>-2156.0</td>\n",
       "      <td>1716.525024</td>\n",
       "      <td>1716.525024</td>\n",
       "    </tr>\n",
       "    <tr>\n",
       "      <th>2</th>\n",
       "      <td>2085231</td>\n",
       "      <td>193053</td>\n",
       "      <td>2.0</td>\n",
       "      <td>1</td>\n",
       "      <td>-63.0</td>\n",
       "      <td>-63.0</td>\n",
       "      <td>25425.000000</td>\n",
       "      <td>25425.000000</td>\n",
       "    </tr>\n",
       "    <tr>\n",
       "      <th>3</th>\n",
       "      <td>2452527</td>\n",
       "      <td>199697</td>\n",
       "      <td>1.0</td>\n",
       "      <td>3</td>\n",
       "      <td>-2418.0</td>\n",
       "      <td>-2426.0</td>\n",
       "      <td>24350.130859</td>\n",
       "      <td>24350.130859</td>\n",
       "    </tr>\n",
       "    <tr>\n",
       "      <th>4</th>\n",
       "      <td>2714724</td>\n",
       "      <td>167756</td>\n",
       "      <td>1.0</td>\n",
       "      <td>2</td>\n",
       "      <td>-1383.0</td>\n",
       "      <td>-1366.0</td>\n",
       "      <td>2165.040039</td>\n",
       "      <td>2160.584961</td>\n",
       "    </tr>\n",
       "    <tr>\n",
       "      <th>5</th>\n",
       "      <td>1137312</td>\n",
       "      <td>164489</td>\n",
       "      <td>1.0</td>\n",
       "      <td>12</td>\n",
       "      <td>-1384.0</td>\n",
       "      <td>-1417.0</td>\n",
       "      <td>5970.375000</td>\n",
       "      <td>5970.375000</td>\n",
       "    </tr>\n",
       "    <tr>\n",
       "      <th>6</th>\n",
       "      <td>2234264</td>\n",
       "      <td>184693</td>\n",
       "      <td>4.0</td>\n",
       "      <td>11</td>\n",
       "      <td>-349.0</td>\n",
       "      <td>-352.0</td>\n",
       "      <td>29432.294922</td>\n",
       "      <td>29432.294922</td>\n",
       "    </tr>\n",
       "    <tr>\n",
       "      <th>7</th>\n",
       "      <td>1818599</td>\n",
       "      <td>111420</td>\n",
       "      <td>2.0</td>\n",
       "      <td>4</td>\n",
       "      <td>-968.0</td>\n",
       "      <td>-994.0</td>\n",
       "      <td>17862.164062</td>\n",
       "      <td>17862.164062</td>\n",
       "    </tr>\n",
       "    <tr>\n",
       "      <th>8</th>\n",
       "      <td>2723183</td>\n",
       "      <td>112102</td>\n",
       "      <td>0.0</td>\n",
       "      <td>14</td>\n",
       "      <td>-197.0</td>\n",
       "      <td>-197.0</td>\n",
       "      <td>70.739998</td>\n",
       "      <td>70.739998</td>\n",
       "    </tr>\n",
       "    <tr>\n",
       "      <th>9</th>\n",
       "      <td>1413990</td>\n",
       "      <td>109741</td>\n",
       "      <td>1.0</td>\n",
       "      <td>4</td>\n",
       "      <td>-570.0</td>\n",
       "      <td>-609.0</td>\n",
       "      <td>14308.469727</td>\n",
       "      <td>14308.469727</td>\n",
       "    </tr>\n",
       "    <tr>\n",
       "      <th>10</th>\n",
       "      <td>1782554</td>\n",
       "      <td>106597</td>\n",
       "      <td>1.0</td>\n",
       "      <td>3</td>\n",
       "      <td>-933.0</td>\n",
       "      <td>-937.0</td>\n",
       "      <td>34620.523438</td>\n",
       "      <td>34620.523438</td>\n",
       "    </tr>\n",
       "    <tr>\n",
       "      <th>11</th>\n",
       "      <td>2558880</td>\n",
       "      <td>154793</td>\n",
       "      <td>1.0</td>\n",
       "      <td>8</td>\n",
       "      <td>-1262.0</td>\n",
       "      <td>-1269.0</td>\n",
       "      <td>15031.080078</td>\n",
       "      <td>15031.080078</td>\n",
       "    </tr>\n",
       "    <tr>\n",
       "      <th>12</th>\n",
       "      <td>1570206</td>\n",
       "      <td>147645</td>\n",
       "      <td>0.0</td>\n",
       "      <td>20</td>\n",
       "      <td>-761.0</td>\n",
       "      <td>-761.0</td>\n",
       "      <td>21.510000</td>\n",
       "      <td>21.510000</td>\n",
       "    </tr>\n",
       "    <tr>\n",
       "      <th>13</th>\n",
       "      <td>1723268</td>\n",
       "      <td>197273</td>\n",
       "      <td>1.0</td>\n",
       "      <td>14</td>\n",
       "      <td>-755.0</td>\n",
       "      <td>-800.0</td>\n",
       "      <td>6093.990234</td>\n",
       "      <td>6093.990234</td>\n",
       "    </tr>\n",
       "    <tr>\n",
       "      <th>14</th>\n",
       "      <td>1594684</td>\n",
       "      <td>100193</td>\n",
       "      <td>0.0</td>\n",
       "      <td>56</td>\n",
       "      <td>-1153.0</td>\n",
       "      <td>-1153.0</td>\n",
       "      <td>301.859985</td>\n",
       "      <td>301.859985</td>\n",
       "    </tr>\n",
       "    <tr>\n",
       "      <th>15</th>\n",
       "      <td>1456258</td>\n",
       "      <td>118323</td>\n",
       "      <td>1.0</td>\n",
       "      <td>6</td>\n",
       "      <td>-2620.0</td>\n",
       "      <td>-2620.0</td>\n",
       "      <td>4844.924805</td>\n",
       "      <td>4844.924805</td>\n",
       "    </tr>\n",
       "    <tr>\n",
       "      <th>16</th>\n",
       "      <td>1053286</td>\n",
       "      <td>170192</td>\n",
       "      <td>1.0</td>\n",
       "      <td>7</td>\n",
       "      <td>-500.0</td>\n",
       "      <td>-503.0</td>\n",
       "      <td>6882.839844</td>\n",
       "      <td>6882.839844</td>\n",
       "    </tr>\n",
       "    <tr>\n",
       "      <th>17</th>\n",
       "      <td>1410565</td>\n",
       "      <td>197687</td>\n",
       "      <td>1.0</td>\n",
       "      <td>1</td>\n",
       "      <td>-1037.0</td>\n",
       "      <td>-1048.0</td>\n",
       "      <td>12514.049805</td>\n",
       "      <td>12510.450195</td>\n",
       "    </tr>\n",
       "    <tr>\n",
       "      <th>18</th>\n",
       "      <td>2391610</td>\n",
       "      <td>183431</td>\n",
       "      <td>0.0</td>\n",
       "      <td>20</td>\n",
       "      <td>-1680.0</td>\n",
       "      <td>-1693.0</td>\n",
       "      <td>7875.000000</td>\n",
       "      <td>7875.000000</td>\n",
       "    </tr>\n",
       "    <tr>\n",
       "      <th>19</th>\n",
       "      <td>2329072</td>\n",
       "      <td>183463</td>\n",
       "      <td>1.0</td>\n",
       "      <td>11</td>\n",
       "      <td>-1699.0</td>\n",
       "      <td>-1693.0</td>\n",
       "      <td>7283.294922</td>\n",
       "      <td>7283.294922</td>\n",
       "    </tr>\n",
       "    <tr>\n",
       "      <th>20</th>\n",
       "      <td>1354314</td>\n",
       "      <td>196570</td>\n",
       "      <td>1.0</td>\n",
       "      <td>14</td>\n",
       "      <td>-361.0</td>\n",
       "      <td>-365.0</td>\n",
       "      <td>15219.000000</td>\n",
       "      <td>15219.000000</td>\n",
       "    </tr>\n",
       "    <tr>\n",
       "      <th>21</th>\n",
       "      <td>2260765</td>\n",
       "      <td>106012</td>\n",
       "      <td>3.0</td>\n",
       "      <td>23</td>\n",
       "      <td>-56.0</td>\n",
       "      <td>-59.0</td>\n",
       "      <td>13494.915039</td>\n",
       "      <td>13494.915039</td>\n",
       "    </tr>\n",
       "    <tr>\n",
       "      <th>22</th>\n",
       "      <td>1995642</td>\n",
       "      <td>134723</td>\n",
       "      <td>1.0</td>\n",
       "      <td>38</td>\n",
       "      <td>-1277.0</td>\n",
       "      <td>-1282.0</td>\n",
       "      <td>12949.200195</td>\n",
       "      <td>12949.200195</td>\n",
       "    </tr>\n",
       "    <tr>\n",
       "      <th>23</th>\n",
       "      <td>2631836</td>\n",
       "      <td>140337</td>\n",
       "      <td>0.0</td>\n",
       "      <td>116</td>\n",
       "      <td>-322.0</td>\n",
       "      <td>-322.0</td>\n",
       "      <td>560.880005</td>\n",
       "      <td>560.880005</td>\n",
       "    </tr>\n",
       "    <tr>\n",
       "      <th>24</th>\n",
       "      <td>2702769</td>\n",
       "      <td>102122</td>\n",
       "      <td>1.0</td>\n",
       "      <td>1</td>\n",
       "      <td>-281.0</td>\n",
       "      <td>-286.0</td>\n",
       "      <td>5178.194824</td>\n",
       "      <td>5178.194824</td>\n",
       "    </tr>\n",
       "    <tr>\n",
       "      <th>25</th>\n",
       "      <td>1770345</td>\n",
       "      <td>128334</td>\n",
       "      <td>1.0</td>\n",
       "      <td>5</td>\n",
       "      <td>-240.0</td>\n",
       "      <td>-255.0</td>\n",
       "      <td>10649.924805</td>\n",
       "      <td>10649.924805</td>\n",
       "    </tr>\n",
       "    <tr>\n",
       "      <th>26</th>\n",
       "      <td>1818333</td>\n",
       "      <td>191655</td>\n",
       "      <td>1.0</td>\n",
       "      <td>6</td>\n",
       "      <td>-345.0</td>\n",
       "      <td>-356.0</td>\n",
       "      <td>16479.269531</td>\n",
       "      <td>16479.269531</td>\n",
       "    </tr>\n",
       "    <tr>\n",
       "      <th>27</th>\n",
       "      <td>1991673</td>\n",
       "      <td>162903</td>\n",
       "      <td>0.0</td>\n",
       "      <td>46</td>\n",
       "      <td>-2548.0</td>\n",
       "      <td>-2560.0</td>\n",
       "      <td>5400.000000</td>\n",
       "      <td>5400.000000</td>\n",
       "    </tr>\n",
       "    <tr>\n",
       "      <th>28</th>\n",
       "      <td>1184783</td>\n",
       "      <td>140804</td>\n",
       "      <td>0.0</td>\n",
       "      <td>106</td>\n",
       "      <td>-155.0</td>\n",
       "      <td>-155.0</td>\n",
       "      <td>503.459991</td>\n",
       "      <td>503.459991</td>\n",
       "    </tr>\n",
       "    <tr>\n",
       "      <th>29</th>\n",
       "      <td>1181315</td>\n",
       "      <td>174565</td>\n",
       "      <td>1.0</td>\n",
       "      <td>7</td>\n",
       "      <td>-1894.0</td>\n",
       "      <td>-1895.0</td>\n",
       "      <td>16274.790039</td>\n",
       "      <td>16274.790039</td>\n",
       "    </tr>\n",
       "    <tr>\n",
       "      <th>...</th>\n",
       "      <td>...</td>\n",
       "      <td>...</td>\n",
       "      <td>...</td>\n",
       "      <td>...</td>\n",
       "      <td>...</td>\n",
       "      <td>...</td>\n",
       "      <td>...</td>\n",
       "      <td>...</td>\n",
       "    </tr>\n",
       "    <tr>\n",
       "      <th>13605371</th>\n",
       "      <td>1860833</td>\n",
       "      <td>415656</td>\n",
       "      <td>2.0</td>\n",
       "      <td>1</td>\n",
       "      <td>-180.0</td>\n",
       "      <td>NaN</td>\n",
       "      <td>344249.968750</td>\n",
       "      <td>NaN</td>\n",
       "    </tr>\n",
       "    <tr>\n",
       "      <th>13605372</th>\n",
       "      <td>1860833</td>\n",
       "      <td>415656</td>\n",
       "      <td>1.0</td>\n",
       "      <td>1</td>\n",
       "      <td>-180.0</td>\n",
       "      <td>NaN</td>\n",
       "      <td>24127.199219</td>\n",
       "      <td>NaN</td>\n",
       "    </tr>\n",
       "    <tr>\n",
       "      <th>13605373</th>\n",
       "      <td>1829584</td>\n",
       "      <td>450349</td>\n",
       "      <td>1.0</td>\n",
       "      <td>18</td>\n",
       "      <td>-10.0</td>\n",
       "      <td>NaN</td>\n",
       "      <td>18730.349609</td>\n",
       "      <td>NaN</td>\n",
       "    </tr>\n",
       "    <tr>\n",
       "      <th>13605374</th>\n",
       "      <td>1659443</td>\n",
       "      <td>405841</td>\n",
       "      <td>0.0</td>\n",
       "      <td>101</td>\n",
       "      <td>-1919.0</td>\n",
       "      <td>NaN</td>\n",
       "      <td>67.500000</td>\n",
       "      <td>NaN</td>\n",
       "    </tr>\n",
       "    <tr>\n",
       "      <th>13605375</th>\n",
       "      <td>2497183</td>\n",
       "      <td>419772</td>\n",
       "      <td>0.0</td>\n",
       "      <td>39</td>\n",
       "      <td>-1877.0</td>\n",
       "      <td>NaN</td>\n",
       "      <td>67.500000</td>\n",
       "      <td>NaN</td>\n",
       "    </tr>\n",
       "    <tr>\n",
       "      <th>13605376</th>\n",
       "      <td>1421163</td>\n",
       "      <td>453693</td>\n",
       "      <td>0.0</td>\n",
       "      <td>60</td>\n",
       "      <td>-1387.0</td>\n",
       "      <td>NaN</td>\n",
       "      <td>67.500000</td>\n",
       "      <td>NaN</td>\n",
       "    </tr>\n",
       "    <tr>\n",
       "      <th>13605377</th>\n",
       "      <td>2596933</td>\n",
       "      <td>419968</td>\n",
       "      <td>1.0</td>\n",
       "      <td>15</td>\n",
       "      <td>-42.0</td>\n",
       "      <td>NaN</td>\n",
       "      <td>51394.679688</td>\n",
       "      <td>NaN</td>\n",
       "    </tr>\n",
       "    <tr>\n",
       "      <th>13605378</th>\n",
       "      <td>2181137</td>\n",
       "      <td>409380</td>\n",
       "      <td>0.0</td>\n",
       "      <td>108</td>\n",
       "      <td>-422.0</td>\n",
       "      <td>NaN</td>\n",
       "      <td>130.500000</td>\n",
       "      <td>NaN</td>\n",
       "    </tr>\n",
       "    <tr>\n",
       "      <th>13605379</th>\n",
       "      <td>1062206</td>\n",
       "      <td>409297</td>\n",
       "      <td>0.0</td>\n",
       "      <td>44</td>\n",
       "      <td>-1955.0</td>\n",
       "      <td>NaN</td>\n",
       "      <td>67.500000</td>\n",
       "      <td>NaN</td>\n",
       "    </tr>\n",
       "    <tr>\n",
       "      <th>13605380</th>\n",
       "      <td>1421163</td>\n",
       "      <td>453693</td>\n",
       "      <td>0.0</td>\n",
       "      <td>59</td>\n",
       "      <td>-1417.0</td>\n",
       "      <td>NaN</td>\n",
       "      <td>67.500000</td>\n",
       "      <td>NaN</td>\n",
       "    </tr>\n",
       "    <tr>\n",
       "      <th>13605381</th>\n",
       "      <td>1263000</td>\n",
       "      <td>406628</td>\n",
       "      <td>0.0</td>\n",
       "      <td>45</td>\n",
       "      <td>-808.0</td>\n",
       "      <td>NaN</td>\n",
       "      <td>67.500000</td>\n",
       "      <td>NaN</td>\n",
       "    </tr>\n",
       "    <tr>\n",
       "      <th>13605382</th>\n",
       "      <td>2263477</td>\n",
       "      <td>443619</td>\n",
       "      <td>1.0</td>\n",
       "      <td>9</td>\n",
       "      <td>-61.0</td>\n",
       "      <td>NaN</td>\n",
       "      <td>5152.095215</td>\n",
       "      <td>NaN</td>\n",
       "    </tr>\n",
       "    <tr>\n",
       "      <th>13605383</th>\n",
       "      <td>1499195</td>\n",
       "      <td>418486</td>\n",
       "      <td>6.0</td>\n",
       "      <td>22</td>\n",
       "      <td>-412.0</td>\n",
       "      <td>NaN</td>\n",
       "      <td>48635.593750</td>\n",
       "      <td>NaN</td>\n",
       "    </tr>\n",
       "    <tr>\n",
       "      <th>13605384</th>\n",
       "      <td>2454112</td>\n",
       "      <td>400586</td>\n",
       "      <td>0.0</td>\n",
       "      <td>27</td>\n",
       "      <td>-1720.0</td>\n",
       "      <td>NaN</td>\n",
       "      <td>67.500000</td>\n",
       "      <td>NaN</td>\n",
       "    </tr>\n",
       "    <tr>\n",
       "      <th>13605385</th>\n",
       "      <td>2239217</td>\n",
       "      <td>451572</td>\n",
       "      <td>0.0</td>\n",
       "      <td>76</td>\n",
       "      <td>-131.0</td>\n",
       "      <td>NaN</td>\n",
       "      <td>46.980000</td>\n",
       "      <td>NaN</td>\n",
       "    </tr>\n",
       "    <tr>\n",
       "      <th>13605386</th>\n",
       "      <td>1847946</td>\n",
       "      <td>405063</td>\n",
       "      <td>0.0</td>\n",
       "      <td>40</td>\n",
       "      <td>-2056.0</td>\n",
       "      <td>NaN</td>\n",
       "      <td>0.090000</td>\n",
       "      <td>NaN</td>\n",
       "    </tr>\n",
       "    <tr>\n",
       "      <th>13605387</th>\n",
       "      <td>2630714</td>\n",
       "      <td>441748</td>\n",
       "      <td>1.0</td>\n",
       "      <td>4</td>\n",
       "      <td>-36.0</td>\n",
       "      <td>NaN</td>\n",
       "      <td>14707.125000</td>\n",
       "      <td>NaN</td>\n",
       "    </tr>\n",
       "    <tr>\n",
       "      <th>13605388</th>\n",
       "      <td>2831819</td>\n",
       "      <td>417123</td>\n",
       "      <td>0.0</td>\n",
       "      <td>8</td>\n",
       "      <td>-15.0</td>\n",
       "      <td>NaN</td>\n",
       "      <td>4399.740234</td>\n",
       "      <td>NaN</td>\n",
       "    </tr>\n",
       "    <tr>\n",
       "      <th>13605389</th>\n",
       "      <td>2186857</td>\n",
       "      <td>428057</td>\n",
       "      <td>0.0</td>\n",
       "      <td>69</td>\n",
       "      <td>-1532.0</td>\n",
       "      <td>NaN</td>\n",
       "      <td>67.500000</td>\n",
       "      <td>NaN</td>\n",
       "    </tr>\n",
       "    <tr>\n",
       "      <th>13605390</th>\n",
       "      <td>1829584</td>\n",
       "      <td>450349</td>\n",
       "      <td>1.0</td>\n",
       "      <td>16</td>\n",
       "      <td>-70.0</td>\n",
       "      <td>NaN</td>\n",
       "      <td>18730.349609</td>\n",
       "      <td>NaN</td>\n",
       "    </tr>\n",
       "    <tr>\n",
       "      <th>13605391</th>\n",
       "      <td>1499195</td>\n",
       "      <td>418486</td>\n",
       "      <td>6.0</td>\n",
       "      <td>32</td>\n",
       "      <td>-112.0</td>\n",
       "      <td>NaN</td>\n",
       "      <td>48635.593750</td>\n",
       "      <td>NaN</td>\n",
       "    </tr>\n",
       "    <tr>\n",
       "      <th>13605392</th>\n",
       "      <td>2448869</td>\n",
       "      <td>434321</td>\n",
       "      <td>1.0</td>\n",
       "      <td>16</td>\n",
       "      <td>-117.0</td>\n",
       "      <td>NaN</td>\n",
       "      <td>11504.250000</td>\n",
       "      <td>NaN</td>\n",
       "    </tr>\n",
       "    <tr>\n",
       "      <th>13605393</th>\n",
       "      <td>1285736</td>\n",
       "      <td>434069</td>\n",
       "      <td>0.0</td>\n",
       "      <td>73</td>\n",
       "      <td>-853.0</td>\n",
       "      <td>NaN</td>\n",
       "      <td>67.500000</td>\n",
       "      <td>NaN</td>\n",
       "    </tr>\n",
       "    <tr>\n",
       "      <th>13605394</th>\n",
       "      <td>1659443</td>\n",
       "      <td>405841</td>\n",
       "      <td>0.0</td>\n",
       "      <td>102</td>\n",
       "      <td>-1888.0</td>\n",
       "      <td>NaN</td>\n",
       "      <td>67.500000</td>\n",
       "      <td>NaN</td>\n",
       "    </tr>\n",
       "    <tr>\n",
       "      <th>13605395</th>\n",
       "      <td>1499195</td>\n",
       "      <td>418486</td>\n",
       "      <td>6.0</td>\n",
       "      <td>2</td>\n",
       "      <td>-1012.0</td>\n",
       "      <td>NaN</td>\n",
       "      <td>48635.593750</td>\n",
       "      <td>NaN</td>\n",
       "    </tr>\n",
       "    <tr>\n",
       "      <th>13605396</th>\n",
       "      <td>2186857</td>\n",
       "      <td>428057</td>\n",
       "      <td>0.0</td>\n",
       "      <td>66</td>\n",
       "      <td>-1624.0</td>\n",
       "      <td>NaN</td>\n",
       "      <td>67.500000</td>\n",
       "      <td>NaN</td>\n",
       "    </tr>\n",
       "    <tr>\n",
       "      <th>13605397</th>\n",
       "      <td>1310347</td>\n",
       "      <td>414406</td>\n",
       "      <td>0.0</td>\n",
       "      <td>47</td>\n",
       "      <td>-1539.0</td>\n",
       "      <td>NaN</td>\n",
       "      <td>67.500000</td>\n",
       "      <td>NaN</td>\n",
       "    </tr>\n",
       "    <tr>\n",
       "      <th>13605398</th>\n",
       "      <td>1308766</td>\n",
       "      <td>402199</td>\n",
       "      <td>0.0</td>\n",
       "      <td>43</td>\n",
       "      <td>-7.0</td>\n",
       "      <td>NaN</td>\n",
       "      <td>43737.433594</td>\n",
       "      <td>NaN</td>\n",
       "    </tr>\n",
       "    <tr>\n",
       "      <th>13605399</th>\n",
       "      <td>1062206</td>\n",
       "      <td>409297</td>\n",
       "      <td>0.0</td>\n",
       "      <td>43</td>\n",
       "      <td>-1986.0</td>\n",
       "      <td>NaN</td>\n",
       "      <td>67.500000</td>\n",
       "      <td>NaN</td>\n",
       "    </tr>\n",
       "    <tr>\n",
       "      <th>13605400</th>\n",
       "      <td>2448869</td>\n",
       "      <td>434321</td>\n",
       "      <td>1.0</td>\n",
       "      <td>19</td>\n",
       "      <td>-27.0</td>\n",
       "      <td>NaN</td>\n",
       "      <td>11504.250000</td>\n",
       "      <td>NaN</td>\n",
       "    </tr>\n",
       "  </tbody>\n",
       "</table>\n",
       "<p>13605401 rows × 8 columns</p>\n",
       "</div>"
      ],
      "text/plain": [
       "          SK_ID_PREV  SK_ID_CURR  NUM_INSTALMENT_VERSION  \\\n",
       "0            1054186      161674                     1.0   \n",
       "1            1330831      151639                     0.0   \n",
       "2            2085231      193053                     2.0   \n",
       "3            2452527      199697                     1.0   \n",
       "4            2714724      167756                     1.0   \n",
       "5            1137312      164489                     1.0   \n",
       "6            2234264      184693                     4.0   \n",
       "7            1818599      111420                     2.0   \n",
       "8            2723183      112102                     0.0   \n",
       "9            1413990      109741                     1.0   \n",
       "10           1782554      106597                     1.0   \n",
       "11           2558880      154793                     1.0   \n",
       "12           1570206      147645                     0.0   \n",
       "13           1723268      197273                     1.0   \n",
       "14           1594684      100193                     0.0   \n",
       "15           1456258      118323                     1.0   \n",
       "16           1053286      170192                     1.0   \n",
       "17           1410565      197687                     1.0   \n",
       "18           2391610      183431                     0.0   \n",
       "19           2329072      183463                     1.0   \n",
       "20           1354314      196570                     1.0   \n",
       "21           2260765      106012                     3.0   \n",
       "22           1995642      134723                     1.0   \n",
       "23           2631836      140337                     0.0   \n",
       "24           2702769      102122                     1.0   \n",
       "25           1770345      128334                     1.0   \n",
       "26           1818333      191655                     1.0   \n",
       "27           1991673      162903                     0.0   \n",
       "28           1184783      140804                     0.0   \n",
       "29           1181315      174565                     1.0   \n",
       "...              ...         ...                     ...   \n",
       "13605371     1860833      415656                     2.0   \n",
       "13605372     1860833      415656                     1.0   \n",
       "13605373     1829584      450349                     1.0   \n",
       "13605374     1659443      405841                     0.0   \n",
       "13605375     2497183      419772                     0.0   \n",
       "13605376     1421163      453693                     0.0   \n",
       "13605377     2596933      419968                     1.0   \n",
       "13605378     2181137      409380                     0.0   \n",
       "13605379     1062206      409297                     0.0   \n",
       "13605380     1421163      453693                     0.0   \n",
       "13605381     1263000      406628                     0.0   \n",
       "13605382     2263477      443619                     1.0   \n",
       "13605383     1499195      418486                     6.0   \n",
       "13605384     2454112      400586                     0.0   \n",
       "13605385     2239217      451572                     0.0   \n",
       "13605386     1847946      405063                     0.0   \n",
       "13605387     2630714      441748                     1.0   \n",
       "13605388     2831819      417123                     0.0   \n",
       "13605389     2186857      428057                     0.0   \n",
       "13605390     1829584      450349                     1.0   \n",
       "13605391     1499195      418486                     6.0   \n",
       "13605392     2448869      434321                     1.0   \n",
       "13605393     1285736      434069                     0.0   \n",
       "13605394     1659443      405841                     0.0   \n",
       "13605395     1499195      418486                     6.0   \n",
       "13605396     2186857      428057                     0.0   \n",
       "13605397     1310347      414406                     0.0   \n",
       "13605398     1308766      402199                     0.0   \n",
       "13605399     1062206      409297                     0.0   \n",
       "13605400     2448869      434321                     1.0   \n",
       "\n",
       "          NUM_INSTALMENT_NUMBER  DAYS_INSTALMENT  DAYS_ENTRY_PAYMENT  \\\n",
       "0                             6          -1180.0             -1187.0   \n",
       "1                            34          -2156.0             -2156.0   \n",
       "2                             1            -63.0               -63.0   \n",
       "3                             3          -2418.0             -2426.0   \n",
       "4                             2          -1383.0             -1366.0   \n",
       "5                            12          -1384.0             -1417.0   \n",
       "6                            11           -349.0              -352.0   \n",
       "7                             4           -968.0              -994.0   \n",
       "8                            14           -197.0              -197.0   \n",
       "9                             4           -570.0              -609.0   \n",
       "10                            3           -933.0              -937.0   \n",
       "11                            8          -1262.0             -1269.0   \n",
       "12                           20           -761.0              -761.0   \n",
       "13                           14           -755.0              -800.0   \n",
       "14                           56          -1153.0             -1153.0   \n",
       "15                            6          -2620.0             -2620.0   \n",
       "16                            7           -500.0              -503.0   \n",
       "17                            1          -1037.0             -1048.0   \n",
       "18                           20          -1680.0             -1693.0   \n",
       "19                           11          -1699.0             -1693.0   \n",
       "20                           14           -361.0              -365.0   \n",
       "21                           23            -56.0               -59.0   \n",
       "22                           38          -1277.0             -1282.0   \n",
       "23                          116           -322.0              -322.0   \n",
       "24                            1           -281.0              -286.0   \n",
       "25                            5           -240.0              -255.0   \n",
       "26                            6           -345.0              -356.0   \n",
       "27                           46          -2548.0             -2560.0   \n",
       "28                          106           -155.0              -155.0   \n",
       "29                            7          -1894.0             -1895.0   \n",
       "...                         ...              ...                 ...   \n",
       "13605371                      1           -180.0                 NaN   \n",
       "13605372                      1           -180.0                 NaN   \n",
       "13605373                     18            -10.0                 NaN   \n",
       "13605374                    101          -1919.0                 NaN   \n",
       "13605375                     39          -1877.0                 NaN   \n",
       "13605376                     60          -1387.0                 NaN   \n",
       "13605377                     15            -42.0                 NaN   \n",
       "13605378                    108           -422.0                 NaN   \n",
       "13605379                     44          -1955.0                 NaN   \n",
       "13605380                     59          -1417.0                 NaN   \n",
       "13605381                     45           -808.0                 NaN   \n",
       "13605382                      9            -61.0                 NaN   \n",
       "13605383                     22           -412.0                 NaN   \n",
       "13605384                     27          -1720.0                 NaN   \n",
       "13605385                     76           -131.0                 NaN   \n",
       "13605386                     40          -2056.0                 NaN   \n",
       "13605387                      4            -36.0                 NaN   \n",
       "13605388                      8            -15.0                 NaN   \n",
       "13605389                     69          -1532.0                 NaN   \n",
       "13605390                     16            -70.0                 NaN   \n",
       "13605391                     32           -112.0                 NaN   \n",
       "13605392                     16           -117.0                 NaN   \n",
       "13605393                     73           -853.0                 NaN   \n",
       "13605394                    102          -1888.0                 NaN   \n",
       "13605395                      2          -1012.0                 NaN   \n",
       "13605396                     66          -1624.0                 NaN   \n",
       "13605397                     47          -1539.0                 NaN   \n",
       "13605398                     43             -7.0                 NaN   \n",
       "13605399                     43          -1986.0                 NaN   \n",
       "13605400                     19            -27.0                 NaN   \n",
       "\n",
       "          AMT_INSTALMENT   AMT_PAYMENT  \n",
       "0            6948.359863   6948.359863  \n",
       "1            1716.525024   1716.525024  \n",
       "2           25425.000000  25425.000000  \n",
       "3           24350.130859  24350.130859  \n",
       "4            2165.040039   2160.584961  \n",
       "5            5970.375000   5970.375000  \n",
       "6           29432.294922  29432.294922  \n",
       "7           17862.164062  17862.164062  \n",
       "8              70.739998     70.739998  \n",
       "9           14308.469727  14308.469727  \n",
       "10          34620.523438  34620.523438  \n",
       "11          15031.080078  15031.080078  \n",
       "12             21.510000     21.510000  \n",
       "13           6093.990234   6093.990234  \n",
       "14            301.859985    301.859985  \n",
       "15           4844.924805   4844.924805  \n",
       "16           6882.839844   6882.839844  \n",
       "17          12514.049805  12510.450195  \n",
       "18           7875.000000   7875.000000  \n",
       "19           7283.294922   7283.294922  \n",
       "20          15219.000000  15219.000000  \n",
       "21          13494.915039  13494.915039  \n",
       "22          12949.200195  12949.200195  \n",
       "23            560.880005    560.880005  \n",
       "24           5178.194824   5178.194824  \n",
       "25          10649.924805  10649.924805  \n",
       "26          16479.269531  16479.269531  \n",
       "27           5400.000000   5400.000000  \n",
       "28            503.459991    503.459991  \n",
       "29          16274.790039  16274.790039  \n",
       "...                  ...           ...  \n",
       "13605371   344249.968750           NaN  \n",
       "13605372    24127.199219           NaN  \n",
       "13605373    18730.349609           NaN  \n",
       "13605374       67.500000           NaN  \n",
       "13605375       67.500000           NaN  \n",
       "13605376       67.500000           NaN  \n",
       "13605377    51394.679688           NaN  \n",
       "13605378      130.500000           NaN  \n",
       "13605379       67.500000           NaN  \n",
       "13605380       67.500000           NaN  \n",
       "13605381       67.500000           NaN  \n",
       "13605382     5152.095215           NaN  \n",
       "13605383    48635.593750           NaN  \n",
       "13605384       67.500000           NaN  \n",
       "13605385       46.980000           NaN  \n",
       "13605386        0.090000           NaN  \n",
       "13605387    14707.125000           NaN  \n",
       "13605388     4399.740234           NaN  \n",
       "13605389       67.500000           NaN  \n",
       "13605390    18730.349609           NaN  \n",
       "13605391    48635.593750           NaN  \n",
       "13605392    11504.250000           NaN  \n",
       "13605393       67.500000           NaN  \n",
       "13605394       67.500000           NaN  \n",
       "13605395    48635.593750           NaN  \n",
       "13605396       67.500000           NaN  \n",
       "13605397       67.500000           NaN  \n",
       "13605398    43737.433594           NaN  \n",
       "13605399       67.500000           NaN  \n",
       "13605400    11504.250000           NaN  \n",
       "\n",
       "[13605401 rows x 8 columns]"
      ]
     },
     "execution_count": 4,
     "metadata": {},
     "output_type": "execute_result"
    }
   ],
   "source": [
    "installments"
   ]
  },
  {
   "cell_type": "markdown",
   "metadata": {},
   "source": [
    "** Type of loan **\n",
    "\n",
    "- Revolving loan: Arrangement which allows for the loan amount to be withdrawn, repaid, and redrawn again in any manner and any number of times, until the arrangement expires. Credit card loans and overdrafts are revolving loans. Also called evergreen loan."
   ]
  },
  {
   "cell_type": "code",
   "execution_count": 10,
   "metadata": {},
   "outputs": [
    {
     "data": {
      "text/plain": [
       "Cash loans         278232\n",
       "Revolving loans     29279\n",
       "Name: NAME_CONTRACT_TYPE, dtype: int64"
      ]
     },
     "execution_count": 10,
     "metadata": {},
     "output_type": "execute_result"
    }
   ],
   "source": [
    "app_train.NAME_CONTRACT_TYPE.value_counts()"
   ]
  },
  {
   "cell_type": "code",
   "execution_count": 15,
   "metadata": {},
   "outputs": [
    {
     "name": "stdout",
     "output_type": "stream",
     "text": [
      "TARGET                 0.0    1.0  default_ratio\n",
      "NAME_CONTRACT_TYPE                              \n",
      "Cash loans          255011  23221       0.083459\n",
      "Revolving loans      27675   1604       0.054783\n"
     ]
    }
   ],
   "source": [
    "# relationship with target\n",
    "ss = pd.crosstab(app_train.NAME_CONTRACT_TYPE, app_train.TARGET)\n",
    "ss.loc[:, 'default_ratio'] = ss[1] / (ss[0] + ss[1])\n",
    "print(ss)\n",
    "\n",
    "del ss\n",
    "gc.collect();"
   ]
  },
  {
   "cell_type": "markdown",
   "metadata": {},
   "source": [
    "** Social Information about client **"
   ]
  },
  {
   "cell_type": "code",
   "execution_count": 17,
   "metadata": {},
   "outputs": [
    {
     "data": {
      "text/plain": [
       "N    202924\n",
       "Y    104587\n",
       "Name: FLAG_OWN_CAR, dtype: int64"
      ]
     },
     "execution_count": 17,
     "metadata": {},
     "output_type": "execute_result"
    }
   ],
   "source": [
    "# does client own a car or house\n",
    "app_train.FLAG_OWN_CAR.value_counts(dropna=False)"
   ]
  },
  {
   "cell_type": "code",
   "execution_count": 18,
   "metadata": {},
   "outputs": [
    {
     "name": "stdout",
     "output_type": "stream",
     "text": [
      "TARGET           0.0    1.0  default_ratio\n",
      "FLAG_OWN_CAR                              \n",
      "N             185675  17249       0.085002\n",
      "Y              97011   7576       0.072437\n"
     ]
    }
   ],
   "source": [
    "# relationship with target variable\n",
    "ss = pd.crosstab(app_train.FLAG_OWN_CAR, app_train.TARGET)\n",
    "ss.loc[:, 'default_ratio'] = ss[1] / (ss[0] + ss[1])\n",
    "print(ss)\n",
    "\n",
    "del ss\n",
    "gc.collect();"
   ]
  },
  {
   "cell_type": "code",
   "execution_count": 19,
   "metadata": {},
   "outputs": [
    {
     "data": {
      "text/plain": [
       "Y    213312\n",
       "N     94199\n",
       "Name: FLAG_OWN_REALTY, dtype: int64"
      ]
     },
     "execution_count": 19,
     "metadata": {},
     "output_type": "execute_result"
    }
   ],
   "source": [
    "app_train.FLAG_OWN_REALTY.value_counts(dropna=False)"
   ]
  },
  {
   "cell_type": "code",
   "execution_count": 20,
   "metadata": {},
   "outputs": [
    {
     "name": "stdout",
     "output_type": "stream",
     "text": [
      "TARGET              0.0    1.0  default_ratio\n",
      "FLAG_OWN_REALTY                              \n",
      "N                 86357   7842       0.083249\n",
      "Y                196329  16983       0.079616\n"
     ]
    }
   ],
   "source": [
    "# relationship with target variable\n",
    "ss = pd.crosstab(app_train.FLAG_OWN_REALTY, app_train.TARGET)\n",
    "ss.loc[:, 'default_ratio'] = ss[1] / (ss[0] + ss[1])\n",
    "print(ss)\n",
    "\n",
    "del ss\n",
    "gc.collect();"
   ]
  },
  {
   "cell_type": "code",
   "execution_count": 21,
   "metadata": {},
   "outputs": [
    {
     "name": "stdout",
     "output_type": "stream",
     "text": [
      "TARGET     0.0    1.0     ratio\n",
      "row_0                          \n",
      "N_N      56400   5572  0.089912\n",
      "N_Y     129275  11677  0.082844\n",
      "Y_N      29957   2270  0.070438\n",
      "Y_Y      67054   5306  0.073328\n"
     ]
    }
   ],
   "source": [
    "# combination of car and realty\n",
    "ss = pd.crosstab(app_train.FLAG_OWN_CAR.astype(np.str) + '_' +\\\n",
    "                 app_train.FLAG_OWN_REALTY.astype(np.str),\n",
    "                 app_train.TARGET\n",
    "                )\n",
    "\n",
    "ss.loc[:, 'ratio'] = ss[1] / (ss[0] + ss[1])\n",
    "print(ss)\n",
    "\n",
    "del ss\n",
    "gc.collect();"
   ]
  },
  {
   "cell_type": "code",
   "execution_count": 29,
   "metadata": {},
   "outputs": [
    {
     "data": {
      "text/plain": [
       "Working                 158774\n",
       "Commercial associate     71617\n",
       "Pensioner                55362\n",
       "State servant            21703\n",
       "Unemployed                  22\n",
       "Student                     18\n",
       "Businessman                 10\n",
       "Maternity leave              5\n",
       "Name: NAME_INCOME_TYPE, dtype: int64"
      ]
     },
     "execution_count": 29,
     "metadata": {},
     "output_type": "execute_result"
    }
   ],
   "source": [
    "# income status of client\n",
    "app_train.NAME_INCOME_TYPE.value_counts(dropna=False)"
   ]
  },
  {
   "cell_type": "code",
   "execution_count": 31,
   "metadata": {},
   "outputs": [
    {
     "name": "stdout",
     "output_type": "stream",
     "text": [
      "TARGET                   0.0    1.0     ratio\n",
      "NAME_INCOME_TYPE                             \n",
      "Businessman               10      0  0.000000\n",
      "Commercial associate   66257   5360  0.074843\n",
      "Maternity leave            3      2  0.400000\n",
      "Pensioner              52380   2982  0.053864\n",
      "State servant          20454   1249  0.057550\n",
      "Student                   18      0  0.000000\n",
      "Unemployed                14      8  0.363636\n",
      "Working               143550  15224  0.095885\n"
     ]
    }
   ],
   "source": [
    "# relationship with target\n",
    "ss = pd.crosstab(app_train.NAME_INCOME_TYPE, app_train.TARGET)\n",
    "ss.loc[:, 'ratio'] = ss[1] / (ss[0] + ss[1])\n",
    "print(ss)\n",
    "\n",
    "del ss\n",
    "gc.collect();"
   ]
  },
  {
   "cell_type": "code",
   "execution_count": 32,
   "metadata": {},
   "outputs": [
    {
     "data": {
      "text/plain": [
       "Secondary / secondary special    218391\n",
       "Higher education                  74863\n",
       "Incomplete higher                 10277\n",
       "Lower secondary                    3816\n",
       "Academic degree                     164\n",
       "Name: NAME_EDUCATION_TYPE, dtype: int64"
      ]
     },
     "execution_count": 32,
     "metadata": {},
     "output_type": "execute_result"
    }
   ],
   "source": [
    "# education status of client\n",
    "app_train.NAME_EDUCATION_TYPE.value_counts(dropna=False)"
   ]
  },
  {
   "cell_type": "code",
   "execution_count": 33,
   "metadata": {},
   "outputs": [
    {
     "name": "stdout",
     "output_type": "stream",
     "text": [
      "TARGET                            0.0    1.0     ratio\n",
      "NAME_EDUCATION_TYPE                                   \n",
      "Academic degree                   161      3  0.018293\n",
      "Higher education                70854   4009  0.053551\n",
      "Incomplete higher                9405    872  0.084850\n",
      "Lower secondary                  3399    417  0.109277\n",
      "Secondary / secondary special  198867  19524  0.089399\n"
     ]
    }
   ],
   "source": [
    "# relationship with target\n",
    "ss = pd.crosstab(app_train.NAME_EDUCATION_TYPE, app_train.TARGET)\n",
    "ss.loc[:, 'ratio'] = ss[1] / (ss[0] + ss[1])\n",
    "print(ss)\n",
    "\n",
    "del ss\n",
    "gc.collect();"
   ]
  },
  {
   "cell_type": "code",
   "execution_count": 34,
   "metadata": {},
   "outputs": [
    {
     "name": "stdout",
     "output_type": "stream",
     "text": [
      "TARGET                                                 0.0    1.0     ratio\n",
      "row_0                                                                      \n",
      "Academic degree_Commercial associate                    42      1  0.023256\n",
      "Academic degree_Pensioner                               26      0  0.000000\n",
      "Academic degree_State servant                           23      0  0.000000\n",
      "Academic degree_Working                                 70      2  0.027778\n",
      "Higher education_Businessman                            10      0  0.000000\n",
      "Higher education_Commercial associate                22782   1243  0.051738\n",
      "Higher education_Maternity leave                         3      0  0.000000\n",
      "Higher education_Pensioner                            7848    340  0.041524\n",
      "Higher education_State servant                        8519    344  0.038813\n",
      "Higher education_Student                                 6      0  0.000000\n",
      "Higher education_Unemployed                              6      0  0.000000\n",
      "Higher education_Working                             31680   2082  0.061667\n",
      "Incomplete higher_Commercial associate                3121    279  0.082059\n",
      "Incomplete higher_Pensioner                            495     23  0.044402\n",
      "Incomplete higher_State servant                        718     52  0.067532\n",
      "Incomplete higher_Student                                1      0  0.000000\n",
      "Incomplete higher_Unemployed                             2      1  0.333333\n",
      "Incomplete higher_Working                             5068    517  0.092569\n",
      "Lower secondary_Commercial associate                   404     56  0.121739\n",
      "Lower secondary_Pensioner                             1427    102  0.066710\n",
      "Lower secondary_State servant                           94      8  0.078431\n",
      "Lower secondary_Working                               1474    251  0.145507\n",
      "Secondary / secondary special_Commercial associate   39908   3781  0.086544\n",
      "Secondary / secondary special_Maternity leave            0      2  1.000000\n",
      "Secondary / secondary special_Pensioner              42584   2517  0.055808\n",
      "Secondary / secondary special_State servant          11100    845  0.070741\n",
      "Secondary / secondary special_Student                   11      0  0.000000\n",
      "Secondary / secondary special_Unemployed                 6      7  0.538462\n",
      "Secondary / secondary special_Working               105258  12372  0.105177\n"
     ]
    }
   ],
   "source": [
    "# combination of education and income\n",
    "ss = pd.crosstab(app_train.NAME_EDUCATION_TYPE.astype(np.str) + '_' +\\\n",
    "                 app_train.NAME_INCOME_TYPE.astype(np.str), \n",
    "                 app_train.TARGET)\n",
    "ss.loc[:, 'ratio'] = ss[1] / (ss[0] + ss[1])\n",
    "print(ss)\n",
    "\n",
    "del ss\n",
    "gc.collect();"
   ]
  },
  {
   "cell_type": "code",
   "execution_count": 35,
   "metadata": {},
   "outputs": [
    {
     "data": {
      "text/plain": [
       "Married                 196432\n",
       "Single / not married     45444\n",
       "Civil marriage           29775\n",
       "Separated                19770\n",
       "Widow                    16088\n",
       "Unknown                      2\n",
       "Name: NAME_FAMILY_STATUS, dtype: int64"
      ]
     },
     "execution_count": 35,
     "metadata": {},
     "output_type": "execute_result"
    }
   ],
   "source": [
    "# family status\n",
    "app_train.NAME_FAMILY_STATUS.value_counts(dropna=False)"
   ]
  },
  {
   "cell_type": "code",
   "execution_count": 36,
   "metadata": {},
   "outputs": [
    {
     "name": "stdout",
     "output_type": "stream",
     "text": [
      "TARGET                   0.0    1.0     ratio\n",
      "NAME_FAMILY_STATUS                           \n",
      "Civil marriage         26814   2961  0.099446\n",
      "Married               181582  14850  0.075599\n",
      "Separated              18150   1620  0.081942\n",
      "Single / not married   40987   4457  0.098077\n",
      "Unknown                    2      0  0.000000\n",
      "Widow                  15151    937  0.058242\n"
     ]
    }
   ],
   "source": [
    "# relationship with target\n",
    "ss = pd.crosstab(app_train.NAME_FAMILY_STATUS, app_train.TARGET)\n",
    "ss.loc[:, 'ratio'] = ss[1] / (ss[0] + ss[1])\n",
    "\n",
    "print(ss)\n",
    "\n",
    "del ss\n",
    "gc.collect();"
   ]
  },
  {
   "cell_type": "code",
   "execution_count": 38,
   "metadata": {},
   "outputs": [
    {
     "data": {
      "text/plain": [
       "House / apartment      272868\n",
       "With parents            14840\n",
       "Municipal apartment     11183\n",
       "Rented apartment         4881\n",
       "Office apartment         2617\n",
       "Co-op apartment          1122\n",
       "Name: NAME_HOUSING_TYPE, dtype: int64"
      ]
     },
     "execution_count": 38,
     "metadata": {},
     "output_type": "execute_result"
    }
   ],
   "source": [
    "# house status\n",
    "app_train.NAME_HOUSING_TYPE.value_counts(dropna=False)"
   ]
  },
  {
   "cell_type": "code",
   "execution_count": 39,
   "metadata": {},
   "outputs": [
    {
     "name": "stdout",
     "output_type": "stream",
     "text": [
      "TARGET                  0.0    1.0     ratio\n",
      "NAME_HOUSING_TYPE                           \n",
      "Co-op apartment        1033     89  0.079323\n",
      "House / apartment    251596  21272  0.077957\n",
      "Municipal apartment   10228    955  0.085397\n",
      "Office apartment       2445    172  0.065724\n",
      "Rented apartment       4280    601  0.123131\n",
      "With parents          13104   1736  0.116981\n"
     ]
    }
   ],
   "source": [
    "# relationship with target\n",
    "ss = pd.crosstab(app_train.NAME_HOUSING_TYPE, app_train.TARGET)\n",
    "ss.loc[:, 'ratio'] = ss[1] / (ss[0] + ss[1])\n",
    "\n",
    "print(ss)\n",
    "\n",
    "del ss\n",
    "gc.collect();"
   ]
  },
  {
   "cell_type": "code",
   "execution_count": 40,
   "metadata": {},
   "outputs": [
    {
     "name": "stdout",
     "output_type": "stream",
     "text": [
      "TARGET                                       0.0    1.0     ratio\n",
      "row_0                                                            \n",
      "Civil marriage_Co-op apartment                70      5  0.066667\n",
      "Civil marriage_House / apartment           23549   2509  0.096285\n",
      "Civil marriage_Municipal apartment          1056    122  0.103565\n",
      "Civil marriage_Office apartment              205     22  0.096916\n",
      "Civil marriage_Rented apartment              532     84  0.136364\n",
      "Civil marriage_With parents                 1402    219  0.135102\n",
      "Married_Co-op apartment                      636     42  0.061947\n",
      "Married_House / apartment                 165170  13122  0.073598\n",
      "Married_Municipal apartment                 5873    513  0.080332\n",
      "Married_Office apartment                    1621    107  0.061921\n",
      "Married_Rented apartment                    2292    301  0.116082\n",
      "Married_With parents                        5990    765  0.113249\n",
      "Separated_Co-op apartment                     56     10  0.151515\n",
      "Separated_House / apartment                15836   1342  0.078123\n",
      "Separated_Municipal apartment                872     85  0.088819\n",
      "Separated_Office apartment                   162     11  0.063584\n",
      "Separated_Rented apartment                   292     48  0.141176\n",
      "Separated_With parents                       932    124  0.117424\n",
      "Single / not married_Co-op apartment         245     31  0.112319\n",
      "Single / not married_House / apartment     32965   3444  0.094592\n",
      "Single / not married_Municipal apartment    1692    183  0.097600\n",
      "Single / not married_Office apartment        356     26  0.068063\n",
      "Single / not married_Rented apartment       1077    161  0.130048\n",
      "Single / not married_With parents           4652    612  0.116261\n",
      "Unknown_House / apartment                      1      0  0.000000\n",
      "Unknown_Municipal apartment                    1      0  0.000000\n",
      "Widow_Co-op apartment                         26      1  0.037037\n",
      "Widow_House / apartment                    14075    855  0.057267\n",
      "Widow_Municipal apartment                    734     52  0.066158\n",
      "Widow_Office apartment                       101      6  0.056075\n",
      "Widow_Rented apartment                        87      7  0.074468\n",
      "Widow_With parents                           128     16  0.111111\n"
     ]
    }
   ],
   "source": [
    "# combination of family and housing\n",
    "ss = pd.crosstab(app_train.NAME_FAMILY_STATUS.astype(np.str) + '_' +\\\n",
    "                 app_train.NAME_HOUSING_TYPE.astype(np.str), \n",
    "                 app_train.TARGET)\n",
    "ss.loc[:, 'ratio'] = ss[1] / (ss[0] + ss[1])\n",
    "print(ss)\n",
    "\n",
    "del ss\n",
    "gc.collect();"
   ]
  },
  {
   "cell_type": "code",
   "execution_count": 41,
   "metadata": {},
   "outputs": [
    {
     "name": "stdout",
     "output_type": "stream",
     "text": [
      "TARGET                                               0.0  1.0     ratio\n",
      "row_0                                                                  \n",
      "Civil marriage_Co-op apartment_Higher education...    10    1  0.090909\n",
      "Civil marriage_Co-op apartment_Higher education...     1    0  0.000000\n",
      "Civil marriage_Co-op apartment_Higher education...     1    0  0.000000\n",
      "Civil marriage_Co-op apartment_Higher education...     6    2  0.250000\n",
      "Civil marriage_Co-op apartment_Incomplete highe...     1    0  0.000000\n",
      "Civil marriage_Co-op apartment_Incomplete highe...     1    0  0.000000\n",
      "Civil marriage_Co-op apartment_Lower secondary_...     1    0  0.000000\n",
      "Civil marriage_Co-op apartment_Lower secondary_...     1    0  0.000000\n",
      "Civil marriage_Co-op apartment_Secondary / seco...     6    1  0.142857\n",
      "Civil marriage_Co-op apartment_Secondary / seco...     3    0  0.000000\n",
      "Civil marriage_Co-op apartment_Secondary / seco...     4    0  0.000000\n",
      "Civil marriage_Co-op apartment_Secondary / seco...    35    1  0.027778\n",
      "Civil marriage_House / apartment_Academic degre...     1    0  0.000000\n",
      "Civil marriage_House / apartment_Academic degre...     1    0  0.000000\n",
      "Civil marriage_House / apartment_Academic degre...     5    0  0.000000\n",
      "Civil marriage_House / apartment_Higher educati...     1    0  0.000000\n",
      "Civil marriage_House / apartment_Higher educati...  1838  111  0.056952\n",
      "Civil marriage_House / apartment_Higher educati...   428   26  0.057269\n",
      "Civil marriage_House / apartment_Higher educati...   497   31  0.058712\n",
      "Civil marriage_House / apartment_Higher educati...     1    0  0.000000\n",
      "Civil marriage_House / apartment_Higher educati...     2    0  0.000000\n",
      "Civil marriage_House / apartment_Higher educati...  2314  181  0.072545\n",
      "Civil marriage_House / apartment_Incomplete hig...   339   37  0.098404\n",
      "Civil marriage_House / apartment_Incomplete hig...    33    0  0.000000\n",
      "Civil marriage_House / apartment_Incomplete hig...    56    1  0.017544\n",
      "Civil marriage_House / apartment_Incomplete hig...   422   44  0.094421\n",
      "Civil marriage_House / apartment_Lower secondar...    28    7  0.200000\n",
      "Civil marriage_House / apartment_Lower secondar...    87    8  0.084211\n",
      "Civil marriage_House / apartment_Lower secondar...     7    1  0.125000\n",
      "Civil marriage_House / apartment_Lower secondar...   156   22  0.123596\n",
      "...                                                  ...  ...       ...\n",
      "Widow_Office apartment_Higher education_Working        4    0  0.000000\n",
      "Widow_Office apartment_Incomplete higher_Working       1    1  0.500000\n",
      "Widow_Office apartment_Lower secondary_Pensioner       2    0  0.000000\n",
      "Widow_Office apartment_Secondary / secondary sp...     5    0  0.000000\n",
      "Widow_Office apartment_Secondary / secondary sp...    40    4  0.090909\n",
      "Widow_Office apartment_Secondary / secondary sp...     8    0  0.000000\n",
      "Widow_Office apartment_Secondary / secondary sp...    33    1  0.029412\n",
      "Widow_Rented apartment_Higher education_Commerc...     3    0  0.000000\n",
      "Widow_Rented apartment_Higher education_Pensioner      1    1  0.500000\n",
      "Widow_Rented apartment_Higher education_State s...     1    0  0.000000\n",
      "Widow_Rented apartment_Higher education_Working        6    0  0.000000\n",
      "Widow_Rented apartment_Incomplete higher_Commer...     0    1  1.000000\n",
      "Widow_Rented apartment_Incomplete higher_Working       1    0  0.000000\n",
      "Widow_Rented apartment_Lower secondary_Commerci...     1    0  0.000000\n",
      "Widow_Rented apartment_Lower secondary_Pensioner       1    0  0.000000\n",
      "Widow_Rented apartment_Lower secondary_Working         1    0  0.000000\n",
      "Widow_Rented apartment_Secondary / secondary sp...     7    1  0.125000\n",
      "Widow_Rented apartment_Secondary / secondary sp...    27    1  0.035714\n",
      "Widow_Rented apartment_Secondary / secondary sp...     4    0  0.000000\n",
      "Widow_Rented apartment_Secondary / secondary sp...    34    3  0.081081\n",
      "Widow_With parents_Higher education_Commercial ...     4    0  0.000000\n",
      "Widow_With parents_Higher education_Pensioner          3    1  0.250000\n",
      "Widow_With parents_Higher education_State servant      2    0  0.000000\n",
      "Widow_With parents_Higher education_Working           11    1  0.083333\n",
      "Widow_With parents_Incomplete higher_Working           4    1  0.200000\n",
      "Widow_With parents_Lower secondary_Working             2    0  0.000000\n",
      "Widow_With parents_Secondary / secondary specia...    24    2  0.076923\n",
      "Widow_With parents_Secondary / secondary specia...    18    3  0.142857\n",
      "Widow_With parents_Secondary / secondary specia...     6    0  0.000000\n",
      "Widow_With parents_Secondary / secondary specia...    54    8  0.129032\n",
      "\n",
      "[478 rows x 3 columns]\n"
     ]
    }
   ],
   "source": [
    "# combination of family, housing, education and income\n",
    "ss = pd.crosstab(app_train.NAME_FAMILY_STATUS.astype(np.str) + '_' +\\\n",
    "                 app_train.NAME_HOUSING_TYPE.astype(np.str) + '_' +\\\n",
    "                 app_train.NAME_EDUCATION_TYPE.astype(np.str) + '_' +\\\n",
    "                 app_train.NAME_INCOME_TYPE.astype(np.str), \n",
    "                 app_train.TARGET)\n",
    "ss.loc[:, 'ratio'] = ss[1] / (ss[0] + ss[1])\n",
    "print(ss)\n",
    "\n",
    "del ss\n",
    "gc.collect();"
   ]
  },
  {
   "cell_type": "markdown",
   "metadata": {},
   "source": [
    "** What kind of information was provided by clients ? **"
   ]
  },
  {
   "cell_type": "code",
   "execution_count": 56,
   "metadata": {},
   "outputs": [
    {
     "name": "stdout",
     "output_type": "stream",
     "text": [
      "CPU times: user 38 s, sys: 349 ms, total: 38.4 s\n",
      "Wall time: 38.5 s\n"
     ]
    }
   ],
   "source": [
    "%%time\n",
    "\n",
    "res = app_train.loc[:, [f'FLAG_DOCUMENT_{i}' for i in range(2, 22)]]\\\n",
    "               .apply(lambda x: ''.join(x.astype(np.str)), axis=1)"
   ]
  },
  {
   "cell_type": "code",
   "execution_count": 57,
   "metadata": {},
   "outputs": [
    {
     "name": "stdout",
     "output_type": "stream",
     "text": [
      "TARGET                   0.0    1.0     ratio\n",
      "row_0                                        \n",
      "00000000000000000000   27917   1632  0.055230\n",
      "00000000000000000001      79      7  0.081395\n",
      "00000000000000001000     307      8  0.025397\n",
      "00000000000010000000      17      0  0.000000\n",
      "00000000000010000001       1      0  0.000000\n",
      "00000000010000000000    1081     70  0.060817\n",
      "00000000100000000000       7      0  0.000000\n",
      "00000001000000000000    1069     72  0.063103\n",
      "00000001000000001000      13      0  0.000000\n",
      "00000001000000010000       3      0  0.000000\n",
      "00000001000000100000      26      2  0.071429\n",
      "00000001000001000000       3      0  0.000000\n",
      "00000001000010000000       5      0  0.000000\n",
      "00000001000100000000       5      0  0.000000\n",
      "00000010000000000000   21804   1784  0.075632\n",
      "00000010000000000001       1      0  0.000000\n",
      "00000010000000000100      15      0  0.000000\n",
      "00000010000000001000     249      7  0.027344\n",
      "00000010000000001001       1      1  0.500000\n",
      "00000010000000001010       4      0  0.000000\n",
      "00000010000000010000      14      0  0.000000\n",
      "00000010000000100000     325     20  0.057971\n",
      "00000010000000100001       0      1  1.000000\n",
      "00000010000000100010       8      0  0.000000\n",
      "00000010000000100011       0      1  1.000000\n",
      "00000010000001000000      95      4  0.040404\n",
      "00000010000010000000     200      8  0.038462\n",
      "00000010000010000010       3      0  0.000000\n",
      "00000010000100000000     457     10  0.021413\n",
      "00000010000100000001       1      0  0.000000\n",
      "...                      ...    ...       ...\n",
      "00001000000010000000      12      0  0.000000\n",
      "00001000000100000000       5      0  0.000000\n",
      "00001000010000000000       4      0  0.000000\n",
      "00010000000000000000    4271    372  0.080121\n",
      "00010000000000000001       2      0  0.000000\n",
      "00010000000000001000       2      0  0.000000\n",
      "00010000000000100000       1      0  0.000000\n",
      "00100000000000000000      25      0  0.000000\n",
      "01000000000000000000  193041  18995  0.089584\n",
      "01000000000000000001       2      2  0.500000\n",
      "01000000000000000100     146     11  0.070064\n",
      "01000000000000000110       5      0  0.000000\n",
      "01000000000000001000    1710    116  0.063527\n",
      "01000000000000001001       0      2  1.000000\n",
      "01000000000000001010      41      6  0.127660\n",
      "01000000000000010000      59      2  0.032787\n",
      "01000000000000010010       3      0  0.000000\n",
      "01000000000000100000    2460    120  0.046512\n",
      "01000000000000100001       1      0  0.000000\n",
      "01000000000000100010      45      4  0.081633\n",
      "01000000000001000000     253      7  0.026923\n",
      "01000000000001000010       7      0  0.000000\n",
      "01000000000010000000     627     21  0.032407\n",
      "01000000000010000010       8      1  0.111111\n",
      "01000000000100000000     567     20  0.034072\n",
      "01000000000100000001       1      0  0.000000\n",
      "01000000000100000010      14      0  0.000000\n",
      "01000000001000000000       1      0  0.000000\n",
      "01000000010000000000      37      5  0.119048\n",
      "10000000000000000000       9      4  0.307692\n",
      "\n",
      "[72 rows x 3 columns]\n"
     ]
    }
   ],
   "source": [
    "ss = pd.crosstab(res, app_train.TARGET)\n",
    "ss.loc[:, 'ratio'] = ss[1] / (ss[0] + ss[1])\n",
    "print(ss)\n",
    "\n",
    "del ss\n",
    "gc.collect();"
   ]
  },
  {
   "cell_type": "code",
   "execution_count": 9,
   "metadata": {},
   "outputs": [
    {
     "name": "stdout",
     "output_type": "stream",
     "text": [
      "CPU times: user 34.2 s, sys: 83.8 ms, total: 34.3 s\n",
      "Wall time: 34.2 s\n"
     ]
    }
   ],
   "source": [
    "%%time \n",
    "\n",
    "# discrepancy in information provided regarding living area\n",
    "df = app_train.loc[:, ['REG_REGION_NOT_LIVE_REGION',\n",
    "                       'REG_REGION_NOT_WORK_REGION',\n",
    "                       'LIVE_REGION_NOT_WORK_REGION',\n",
    "                       'REG_CITY_NOT_LIVE_CITY',\n",
    "                       'REG_CITY_NOT_WORK_CITY',\n",
    "                       'LIVE_CITY_NOT_WORK_CITY'\n",
    "                      ]]\n",
    "\n",
    "res = df.apply(np.sum, axis = 1)"
   ]
  },
  {
   "cell_type": "code",
   "execution_count": 12,
   "metadata": {},
   "outputs": [
    {
     "name": "stdout",
     "output_type": "stream",
     "text": [
      "TARGET     0.0    1.0     ratio\n",
      "row_0                          \n",
      "0       211676  16678  0.073036\n",
      "1         1265    120  0.086643\n",
      "2        57484   6593  0.102892\n",
      "3         2589    364  0.123264\n",
      "4         8603    941  0.098596\n",
      "5          772     97  0.111623\n",
      "6          297     32  0.097264\n"
     ]
    }
   ],
   "source": [
    "ss = pd.crosstab(res, app_train.TARGET)\n",
    "ss.loc[:, 'ratio']  = ss[1] / (ss[0] + ss[1])\n",
    "print(ss)\n",
    "\n",
    "del ss\n",
    "gc.collect();"
   ]
  },
  {
   "cell_type": "code",
   "execution_count": 18,
   "metadata": {},
   "outputs": [
    {
     "name": "stdout",
     "output_type": "stream",
     "text": [
      "CPU times: user 53.5 s, sys: 208 ms, total: 53.7 s\n",
      "Wall time: 53.7 s\n"
     ]
    }
   ],
   "source": [
    "%%time\n",
    "\n",
    "# normalized information about building where client lives\n",
    "res = app_train.loc[:, [\n",
    "                'APARTMENTS_AVG',\n",
    "                'BASEMENTAREA_AVG',\n",
    "                'YEARS_BEGINEXPLUATATION_AVG',\n",
    "                'YEARS_BUILD_AVG',\n",
    "                'COMMONAREA_AVG',\n",
    "                'ELEVATORS_AVG',\n",
    "                'ENTRANCES_AVG',\n",
    "                'FLOORSMAX_AVG',\n",
    "                'FLOORSMIN_AVG',\n",
    "                'LANDAREA_AVG',\n",
    "                'LIVINGAPARTMENTS_AVG',\n",
    "                'LIVINGAREA_AVG',\n",
    "                'NONLIVINGAPARTMENTS_AVG',\n",
    "                'NONLIVINGAREA_AVG'\n",
    "                ]].apply(lambda x: np.sum(pd.isnull(x)), axis=1)"
   ]
  },
  {
   "cell_type": "code",
   "execution_count": 20,
   "metadata": {},
   "outputs": [
    {
     "name": "stdout",
     "output_type": "stream",
     "text": [
      "TARGET     0.0    1.0     ratio\n",
      "row_0                          \n",
      "0        75892   5674  0.069563\n",
      "1         8505    583  0.064151\n",
      "2         4138    279  0.063165\n",
      "3         3645    270  0.068966\n",
      "4         2844    220  0.071802\n",
      "5        18737   1405  0.069755\n",
      "6         9277    661  0.066512\n",
      "7         8943    689  0.071532\n",
      "8         5201    435  0.077182\n",
      "9         3723    325  0.080287\n",
      "10        2222    185  0.076859\n",
      "11        1227     79  0.060490\n",
      "12        2699    248  0.084153\n",
      "13         539     56  0.094118\n",
      "14      135094  13716  0.092171\n"
     ]
    }
   ],
   "source": [
    "ss = pd.crosstab(res, app_train.TARGET)\n",
    "ss.loc[:, 'ratio'] = ss[1] / (ss[0] + ss[1])\n",
    "print(ss)\n",
    "\n",
    "del ss\n",
    "gc.collect();"
   ]
  },
  {
   "cell_type": "code",
   "execution_count": 27,
   "metadata": {
    "collapsed": true
   },
   "outputs": [],
   "source": [
    "res = app_train.loc[:, [\n",
    "                'APARTMENTS_AVG',\n",
    "                'BASEMENTAREA_AVG',\n",
    "                'YEARS_BEGINEXPLUATATION_AVG',\n",
    "                'YEARS_BUILD_AVG',\n",
    "                'COMMONAREA_AVG',\n",
    "                'ELEVATORS_AVG',\n",
    "                'ENTRANCES_AVG',\n",
    "                'FLOORSMAX_AVG',\n",
    "                'FLOORSMIN_AVG',\n",
    "                'LANDAREA_AVG',\n",
    "                'LIVINGAPARTMENTS_AVG',\n",
    "                'LIVINGAREA_AVG',\n",
    "                'NONLIVINGAPARTMENTS_AVG',\n",
    "                'NONLIVINGAREA_AVG'\n",
    "                ]].apply(np.mean, axis=1)"
   ]
  },
  {
   "cell_type": "code",
   "execution_count": 26,
   "metadata": {},
   "outputs": [
    {
     "data": {
      "image/png": "[encoded data removed]",
      "text/plain": [
       "<Figure size 748.8x514.8 with 1 Axes>"
      ]
     },
     "metadata": {},
     "output_type": "display_data"
    }
   ],
   "source": [
    "res[app_train.TARGET == 0].map(np.log1p).hist(bins=50)\n",
    "res[app_train.TARGET == 1].map(np.log1p).hist(bins=50);"
   ]
  },
  {
   "cell_type": "code",
   "execution_count": 28,
   "metadata": {},
   "outputs": [
    {
     "data": {
      "image/png": "[encoded data removed]",
      "text/plain": [
       "<Figure size 748.8x514.8 with 1 Axes>"
      ]
     },
     "metadata": {},
     "output_type": "display_data"
    }
   ],
   "source": [
    "res[app_train.TARGET == 0].map(np.log1p).hist(bins=50)\n",
    "res[app_train.TARGET == 1].map(np.log1p).hist(bins=50);"
   ]
  },
  {
   "cell_type": "code",
   "execution_count": 32,
   "metadata": {},
   "outputs": [
    {
     "name": "stdout",
     "output_type": "stream",
     "text": [
      "CPU times: user 1min 13s, sys: 82.3 ms, total: 1min 13s\n",
      "Wall time: 1min 14s\n"
     ]
    }
   ],
   "source": [
    "%%time\n",
    "\n",
    "res = app_train.loc[:, ['APARTMENTS_MODE',\n",
    "                'BASEMENTAREA_MODE',\n",
    "                'YEARS_BEGINEXPLUATATION_MODE',\n",
    "                'YEARS_BUILD_MODE',\n",
    "                'COMMONAREA_MODE',\n",
    "                'ELEVATORS_MODE',\n",
    "                'ENTRANCES_MODE',\n",
    "                'FLOORSMAX_MODE',\n",
    "                'FLOORSMIN_MODE',\n",
    "                'LANDAREA_MODE',\n",
    "                'LIVINGAPARTMENTS_MODE',\n",
    "                'LIVINGAREA_MODE',\n",
    "                'NONLIVINGAPARTMENTS_MODE',\n",
    "                'NONLIVINGAREA_MODE',\n",
    "                'TOTALAREA_MODE'\n",
    "                 ]].apply(np.mean, axis=1)"
   ]
  },
  {
   "cell_type": "code",
   "execution_count": 33,
   "metadata": {},
   "outputs": [
    {
     "data": {
      "image/png": "[encoded data removed]",
      "text/plain": [
       "<Figure size 748.8x514.8 with 1 Axes>"
      ]
     },
     "metadata": {},
     "output_type": "display_data"
    }
   ],
   "source": [
    "res[app_train.TARGET == 0].map(np.log1p).hist(bins=50)\n",
    "res[app_train.TARGET == 1].map(np.log1p).hist(bins=50);"
   ]
  },
  {
   "cell_type": "code",
   "execution_count": 35,
   "metadata": {},
   "outputs": [
    {
     "name": "stdout",
     "output_type": "stream",
     "text": [
      "CPU times: user 1min 2s, sys: 166 ms, total: 1min 2s\n",
      "Wall time: 1min 3s\n"
     ]
    }
   ],
   "source": [
    "%%time\n",
    "\n",
    "# information about client's surroundings\n",
    "res = app_train.loc[:, ['OBS_30_CNT_SOCIAL_CIRCLE',\n",
    "                        'DEF_30_CNT_SOCIAL_CIRCLE',\n",
    "                        'OBS_60_CNT_SOCIAL_CIRCLE',\n",
    "                        'DEF_60_CNT_SOCIAL_CIRCLE'\n",
    "                ]].apply(np.mean, axis=1)"
   ]
  },
  {
   "cell_type": "code",
   "execution_count": 41,
   "metadata": {},
   "outputs": [
    {
     "data": {
      "image/png": "[encoded data removed]",
      "text/plain": [
       "<Figure size 748.8x514.8 with 1 Axes>"
      ]
     },
     "metadata": {},
     "output_type": "display_data"
    }
   ],
   "source": [
    "res[(app_train.TARGET == 0)].map(np.log1p).hist(bins=50)\n",
    "res[(app_train.TARGET == 1)].map(np.log1p).hist(bins=50);"
   ]
  },
  {
   "cell_type": "code",
   "execution_count": 43,
   "metadata": {},
   "outputs": [
    {
     "name": "stdout",
     "output_type": "stream",
     "text": [
      "CPU times: user 40.1 s, sys: 186 ms, total: 40.3 s\n",
      "Wall time: 40.2 s\n"
     ]
    }
   ],
   "source": [
    "%%time\n",
    "\n",
    "# information about client's surroundings\n",
    "res = app_train.loc[:, ['APARTMENTS_MEDI',\n",
    "                        'BASEMENTAREA_MEDI',\n",
    "                        'YEARS_BEGINEXPLUATATION_MEDI',\n",
    "                        'YEARS_BUILD_MEDI',\n",
    "                        'COMMONAREA_MEDI',\n",
    "                        'ELEVATORS_MEDI',\n",
    "                        'ENTRANCES_MEDI',\n",
    "                        'FLOORSMAX_MEDI',\n",
    "                        'FLOORSMIN_MEDI',\n",
    "                        'LANDAREA_MEDI',\n",
    "                        'LIVINGAPARTMENTS_MEDI',\n",
    "                        'LIVINGAREA_MEDI',\n",
    "                        'NONLIVINGAPARTMENTS_MEDI',\n",
    "                        'NONLIVINGAREA_MEDI'\n",
    "                ]].apply(np.mean, axis=1)"
   ]
  },
  {
   "cell_type": "code",
   "execution_count": 44,
   "metadata": {},
   "outputs": [
    {
     "data": {
      "image/png": "[encoded data removed]",
      "text/plain": [
       "<Figure size 748.8x514.8 with 1 Axes>"
      ]
     },
     "metadata": {},
     "output_type": "display_data"
    }
   ],
   "source": [
    "res[(app_train.TARGET == 0)].map(np.log1p).hist(bins=50)\n",
    "res[(app_train.TARGET == 1)].map(np.log1p).hist(bins=50);"
   ]
  },
  {
   "cell_type": "code",
   "execution_count": 46,
   "metadata": {},
   "outputs": [
    {
     "name": "stdout",
     "output_type": "stream",
     "text": [
      "CPU times: user 18.4 s, sys: 181 ms, total: 18.6 s\n",
      "Wall time: 18.4 s\n"
     ]
    }
   ],
   "source": [
    "%%time\n",
    "\n",
    "res = app_train.loc[:, ['DAYS_REGISTRATION',\n",
    "                  'DAYS_ID_PUBLISH',\n",
    "                  'DAYS_LAST_PHONE_CHANGE'\n",
    "                 ]].apply(np.mean, axis=1)"
   ]
  },
  {
   "cell_type": "code",
   "execution_count": 47,
   "metadata": {},
   "outputs": [
    {
     "name": "stdout",
     "output_type": "stream",
     "text": [
      "CPU times: user 34.6 s, sys: 672 ms, total: 35.3 s\n",
      "Wall time: 34.5 s\n"
     ]
    }
   ],
   "source": [
    "%%time\n",
    "\n",
    "res = app_train.loc[:, ['AMT_REQ_CREDIT_BUREAU_HOUR',\n",
    "                        'AMT_REQ_CREDIT_BUREAU_DAY',\n",
    "                        'AMT_REQ_CREDIT_BUREAU_WEEK',\n",
    "                        'AMT_REQ_CREDIT_BUREAU_MON',\n",
    "                        'AMT_REQ_CREDIT_BUREAU_QRT',\n",
    "                        'AMT_REQ_CREDIT_BUREAU_YEAR'\n",
    "                        ]].apply(np.mean, axis=1)"
   ]
  },
  {
   "cell_type": "code",
   "execution_count": 52,
   "metadata": {},
   "outputs": [
    {
     "data": {
      "image/png": "[encoded data removed]",
      "text/plain": [
       "<Figure size 748.8x514.8 with 1 Axes>"
      ]
     },
     "metadata": {},
     "output_type": "display_data"
    }
   ],
   "source": [
    "res[app_train.TARGET == 0].map(np.log1p).hist(bins=50)\n",
    "res[app_train.TARGET == 1].map(np.log1p).hist(bins=50);"
   ]
  },
  {
   "cell_type": "markdown",
   "metadata": {},
   "source": [
    "** Relationship between DAYS_CREDIT_ENDDATE and DAYS_ENDDATE_FACT ( only for closed credits ) .**"
   ]
  },
  {
   "cell_type": "code",
   "execution_count": 56,
   "metadata": {},
   "outputs": [
    {
     "data": {
      "text/html": [
       "<div>\n",
       "<style scoped>\n",
       "    .dataframe tbody tr th:only-of-type {\n",
       "        vertical-align: middle;\n",
       "    }\n",
       "\n",
       "    .dataframe tbody tr th {\n",
       "        vertical-align: top;\n",
       "    }\n",
       "\n",
       "    .dataframe thead th {\n",
       "        text-align: right;\n",
       "    }\n",
       "</style>\n",
       "<table border=\"1\" class=\"dataframe\">\n",
       "  <thead>\n",
       "    <tr style=\"text-align: right;\">\n",
       "      <th></th>\n",
       "      <th>SK_ID_CURR</th>\n",
       "      <th>DAYS_CREDIT_ENDDATE</th>\n",
       "      <th>DAYS_ENDDATE_FACT</th>\n",
       "      <th>CREDIT_ACTIVE</th>\n",
       "    </tr>\n",
       "  </thead>\n",
       "  <tbody>\n",
       "    <tr>\n",
       "      <th>0</th>\n",
       "      <td>215354</td>\n",
       "      <td>-153.0</td>\n",
       "      <td>-153.0</td>\n",
       "      <td>Closed</td>\n",
       "    </tr>\n",
       "    <tr>\n",
       "      <th>1</th>\n",
       "      <td>215354</td>\n",
       "      <td>1075.0</td>\n",
       "      <td>NaN</td>\n",
       "      <td>Active</td>\n",
       "    </tr>\n",
       "    <tr>\n",
       "      <th>2</th>\n",
       "      <td>215354</td>\n",
       "      <td>528.0</td>\n",
       "      <td>NaN</td>\n",
       "      <td>Active</td>\n",
       "    </tr>\n",
       "    <tr>\n",
       "      <th>3</th>\n",
       "      <td>215354</td>\n",
       "      <td>NaN</td>\n",
       "      <td>NaN</td>\n",
       "      <td>Active</td>\n",
       "    </tr>\n",
       "    <tr>\n",
       "      <th>4</th>\n",
       "      <td>215354</td>\n",
       "      <td>1197.0</td>\n",
       "      <td>NaN</td>\n",
       "      <td>Active</td>\n",
       "    </tr>\n",
       "  </tbody>\n",
       "</table>\n",
       "</div>"
      ],
      "text/plain": [
       "   SK_ID_CURR  DAYS_CREDIT_ENDDATE  DAYS_ENDDATE_FACT CREDIT_ACTIVE\n",
       "0      215354               -153.0             -153.0        Closed\n",
       "1      215354               1075.0                NaN        Active\n",
       "2      215354                528.0                NaN        Active\n",
       "3      215354                  NaN                NaN        Active\n",
       "4      215354               1197.0                NaN        Active"
      ]
     },
     "execution_count": 56,
     "metadata": {},
     "output_type": "execute_result"
    }
   ],
   "source": [
    "bureau.loc[:, ['SK_ID_CURR', 'DAYS_CREDIT_ENDDATE', 'DAYS_ENDDATE_FACT', 'CREDIT_ACTIVE']].head()"
   ]
  },
  {
   "cell_type": "code",
   "execution_count": 4,
   "metadata": {},
   "outputs": [
    {
     "data": {
      "text/html": [
       "<div>\n",
       "<style scoped>\n",
       "    .dataframe tbody tr th:only-of-type {\n",
       "        vertical-align: middle;\n",
       "    }\n",
       "\n",
       "    .dataframe tbody tr th {\n",
       "        vertical-align: top;\n",
       "    }\n",
       "\n",
       "    .dataframe thead th {\n",
       "        text-align: right;\n",
       "    }\n",
       "</style>\n",
       "<table border=\"1\" class=\"dataframe\">\n",
       "  <thead>\n",
       "    <tr style=\"text-align: right;\">\n",
       "      <th></th>\n",
       "      <th>SK_ID_CURR</th>\n",
       "      <th>DAYS_CREDIT_ENDDATE</th>\n",
       "      <th>DAYS_ENDDATE_FACT</th>\n",
       "      <th>CREDIT_ACTIVE</th>\n",
       "    </tr>\n",
       "  </thead>\n",
       "  <tbody>\n",
       "    <tr>\n",
       "      <th>0</th>\n",
       "      <td>215354</td>\n",
       "      <td>-153.0</td>\n",
       "      <td>-153.0</td>\n",
       "      <td>Closed</td>\n",
       "    </tr>\n",
       "    <tr>\n",
       "      <th>7</th>\n",
       "      <td>162297</td>\n",
       "      <td>-1684.0</td>\n",
       "      <td>-1710.0</td>\n",
       "      <td>Closed</td>\n",
       "    </tr>\n",
       "    <tr>\n",
       "      <th>8</th>\n",
       "      <td>162297</td>\n",
       "      <td>-811.0</td>\n",
       "      <td>-840.0</td>\n",
       "      <td>Closed</td>\n",
       "    </tr>\n",
       "    <tr>\n",
       "      <th>11</th>\n",
       "      <td>162297</td>\n",
       "      <td>-629.0</td>\n",
       "      <td>-825.0</td>\n",
       "      <td>Closed</td>\n",
       "    </tr>\n",
       "    <tr>\n",
       "      <th>14</th>\n",
       "      <td>238881</td>\n",
       "      <td>-187.0</td>\n",
       "      <td>-187.0</td>\n",
       "      <td>Closed</td>\n",
       "    </tr>\n",
       "  </tbody>\n",
       "</table>\n",
       "</div>"
      ],
      "text/plain": [
       "    SK_ID_CURR  DAYS_CREDIT_ENDDATE  DAYS_ENDDATE_FACT CREDIT_ACTIVE\n",
       "0       215354               -153.0             -153.0        Closed\n",
       "7       162297              -1684.0            -1710.0        Closed\n",
       "8       162297               -811.0             -840.0        Closed\n",
       "11      162297               -629.0             -825.0        Closed\n",
       "14      238881               -187.0             -187.0        Closed"
      ]
     },
     "execution_count": 4,
     "metadata": {},
     "output_type": "execute_result"
    }
   ],
   "source": [
    "bureau.loc[bureau.CREDIT_ACTIVE == 'Closed', ['SK_ID_CURR', 'DAYS_CREDIT_ENDDATE', 'DAYS_ENDDATE_FACT', 'CREDIT_ACTIVE']].head()"
   ]
  },
  {
   "cell_type": "code",
   "execution_count": 228,
   "metadata": {},
   "outputs": [],
   "source": [
    "res = bureau.loc[bureau.CREDIT_ACTIVE == 'Closed', ['SK_ID_CURR', 'DAYS_ENDDATE_FACT']]\n",
    "res = res.groupby('SK_ID_CURR')['DAYS_ENDDATE_FACT'].max() # most recently ended credit for a client\n",
    "\n",
    "tmp   = bureau.loc[bureau.CREDIT_ACTIVE == 'Active', ['SK_ID_CURR', 'DAYS_CREDIT_ENDDATE']]\n",
    "tmp   = bureau.groupby('SK_ID_CURR')['DAYS_CREDIT_ENDDATE'].max() # credit to be expired soon\n",
    "\n",
    "res  = tmp.add(-res, fill_value=np.nan).astype(np.float32)\n",
    "res   = app_train.SK_ID_CURR.map(res)"
   ]
  },
  {
   "cell_type": "code",
   "execution_count": 230,
   "metadata": {},
   "outputs": [
    {
     "data": {
      "image/png": "[encoded data removed]",
      "text/plain": [
       "<Figure size 748.8x514.8 with 1 Axes>"
      ]
     },
     "metadata": {},
     "output_type": "display_data"
    }
   ],
   "source": [
    "res[app_train.TARGET == 0].hist(bins=100)\n",
    "res[app_train.TARGET == 1].hist(bins=100);"
   ]
  },
  {
   "cell_type": "code",
   "execution_count": 226,
   "metadata": {},
   "outputs": [],
   "source": [
    "res = bureau.loc[bureau.CREDIT_ACTIVE == 'Closed', ['SK_ID_CURR', 'DAYS_ENDDATE_FACT']]\n",
    "res = res.groupby('SK_ID_CURR')['DAYS_ENDDATE_FACT'].max() # most recently ended credit for a client\n",
    "\n",
    "tmp = bureau.loc[bureau.CREDIT_ACTIVE == 'Active', ['SK_ID_CURR', 'DAYS_CREDIT']]\n",
    "tmp = tmp.groupby('SK_ID_CURR')['DAYS_CREDIT'].max() # most recently applied credit at Home credit\n",
    "\n",
    "res   = tmp.add(-res, fill_value=np.nan).astype(np.float32)\n",
    "res   = app_train.SK_ID_CURR.map(res)"
   ]
  },
  {
   "cell_type": "code",
   "execution_count": 227,
   "metadata": {},
   "outputs": [
    {
     "data": {
      "image/png": "[encoded data removed]",
      "text/plain": [
       "<Figure size 748.8x514.8 with 1 Axes>"
      ]
     },
     "metadata": {},
     "output_type": "display_data"
    }
   ],
   "source": [
    "res[app_train.TARGET == 0].hist(bins=100)\n",
    "res[app_train.TARGET == 1].hist(bins=100);"
   ]
  },
  {
   "cell_type": "code",
   "execution_count": 59,
   "metadata": {},
   "outputs": [],
   "source": [
    "res = bureau.loc[(bureau.CREDIT_ACTIVE == 'Active') & (bureau.AMT_CREDIT_SUM_DEBT > 0), ['SK_ID_CURR', 'CREDIT_ACTIVE', 'AMT_CREDIT_SUM_DEBT', 'AMT_CREDIT_SUM']]\n",
    "total_sum   = res.groupby(res.SK_ID_CURR)['AMT_CREDIT_SUM'].mean().astype(np.float32)\n",
    "total_debit = res.groupby(res.SK_ID_CURR)['AMT_CREDIT_SUM_DEBT'].mean().astype(np.float32)\n",
    "\n",
    "\n",
    "tmp = total_debit.div(total_sum, fill_value=np.nan).replace([np.inf, -np.inf], np.nan).astype(np.float32)\n",
    "tmp = app_train.SK_ID_CURR.map(tmp)"
   ]
  },
  {
   "cell_type": "code",
   "execution_count": 60,
   "metadata": {},
   "outputs": [
    {
     "data": {
      "image/png": "[encoded data removed]",
      "text/plain": [
       "<Figure size 748.8x514.8 with 1 Axes>"
      ]
     },
     "metadata": {},
     "output_type": "display_data"
    }
   ],
   "source": [
    "tmp[(app_train.TARGET == 0)].map(np.log1p).hist(bins=100)\n",
    "tmp[(app_train.TARGET == 1)].map(np.log1p).hist(bins=100);"
   ]
  },
  {
   "cell_type": "code",
   "execution_count": 70,
   "metadata": {},
   "outputs": [],
   "source": [
    "# active loans\n",
    "res      = bureau.loc[(bureau.CREDIT_ACTIVE == 'Active') & (bureau.DAYS_CREDIT_ENDDATE > 0), ['SK_ID_CURR', 'DAYS_CREDIT', 'DAYS_CREDIT_ENDDATE']]\n",
    "duration = (res.DAYS_CREDIT_ENDDATE - res.DAYS_CREDIT).astype(np.float32)\n",
    "\n",
    "duration = duration.groupby(res.SK_ID_CURR).mean()\n",
    "duration = app_train.SK_ID_CURR.map(duration)"
   ]
  },
  {
   "cell_type": "code",
   "execution_count": 74,
   "metadata": {},
   "outputs": [
    {
     "data": {
      "image/png": "[encoded data removed]",
      "text/plain": [
       "<Figure size 748.8x514.8 with 1 Axes>"
      ]
     },
     "metadata": {},
     "output_type": "display_data"
    }
   ],
   "source": [
    "duration[app_train.TARGET == 0].map(np.log1p).hist(bins=100)\n",
    "duration[app_train.TARGET == 1].map(np.log1p).hist(bins=100);"
   ]
  },
  {
   "cell_type": "code",
   "execution_count": 101,
   "metadata": {
    "collapsed": true
   },
   "outputs": [],
   "source": [
    "# active loans\n",
    "res = bureau.loc[(bureau.CREDIT_ACTIVE == 'Active') & (bureau.DAYS_CREDIT_ENDDATE > 0), ['SK_ID_CURR', 'DAYS_CREDIT', 'DAYS_CREDIT_ENDDATE']]\n",
    "d1  = (res.DAYS_CREDIT_ENDDATE - res.DAYS_CREDIT).astype(np.float32)\n",
    "\n",
    "d1  = d1.groupby(res.SK_ID_CURR).mean().astype(np.float32)\n",
    "d1  = app_train.SK_ID_CURR.map(d1).astype(np.float32)"
   ]
  },
  {
   "cell_type": "code",
   "execution_count": 102,
   "metadata": {},
   "outputs": [],
   "source": [
    "# closed loans\n",
    "res  = bureau.loc[(bureau.CREDIT_ACTIVE == 'Closed') & (bureau.DAYS_CREDIT_ENDDATE < 0), ['SK_ID_CURR', 'DAYS_CREDIT', 'DAYS_ENDDATE_FACT']]\n",
    "d2   = -(res.DAYS_CREDIT - res.DAYS_ENDDATE_FACT).astype(np.float32)\n",
    "\n",
    "d2   = d2.groupby(res.SK_ID_CURR).mean().astype(np.float32)\n",
    "d2   = app_train.SK_ID_CURR.map(d2).astype(np.float32)"
   ]
  },
  {
   "cell_type": "code",
   "execution_count": 106,
   "metadata": {},
   "outputs": [
    {
     "data": {
      "image/png": "[encoded data removed]",
      "text/plain": [
       "<Figure size 748.8x514.8 with 1 Axes>"
      ]
     },
     "metadata": {},
     "output_type": "display_data"
    }
   ],
   "source": [
    "d2[app_train.TARGET == 0].hist(bins=100)\n",
    "d2[app_train.TARGET == 1].hist(bins=100);"
   ]
  },
  {
   "cell_type": "code",
   "execution_count": 103,
   "metadata": {},
   "outputs": [
    {
     "data": {
      "text/plain": [
       "<matplotlib.axes._subplots.AxesSubplot at 0x7f7944e06fd0>"
      ]
     },
     "execution_count": 103,
     "metadata": {},
     "output_type": "execute_result"
    },
    {
     "data": {
      "image/png": "[encoded data removed]",
      "text/plain": [
       "<Figure size 748.8x514.8 with 1 Axes>"
      ]
     },
     "metadata": {},
     "output_type": "display_data"
    }
   ],
   "source": [
    "((d1 / d2).replace([np.inf, -np.inf], np.nan))[app_train.TARGET == 0].map(np.log1p).hist(bins=100)\n",
    "((d1 / d2).replace([np.inf, -np.inf], np.nan))[app_train.TARGET == 1].map(np.log1p).hist(bins=100);"
   ]
  },
  {
   "cell_type": "code",
   "execution_count": 113,
   "metadata": {},
   "outputs": [],
   "source": [
    "res = bureau.loc[bureau.CREDIT_ACTIVE == 'Active', ['SK_ID_CURR', 'DAYS_CREDIT', 'DAYS_CREDIT_UPDATE']]\n",
    "res = -res.groupby(res.SK_ID_CURR)['DAYS_CREDIT_UPDATE'].mean()\n",
    "\n",
    "res = app_train.SK_ID_CURR.map(res)"
   ]
  },
  {
   "cell_type": "code",
   "execution_count": 118,
   "metadata": {},
   "outputs": [
    {
     "data": {
      "image/png": "[encoded data removed]",
      "text/plain": [
       "<Figure size 748.8x514.8 with 1 Axes>"
      ]
     },
     "metadata": {},
     "output_type": "display_data"
    }
   ],
   "source": [
    "res[app_train.TARGET == 0].map(np.log1p).hist(bins=100)\n",
    "res[app_train.TARGET == 1].map(np.log1p).hist(bins=100);"
   ]
  },
  {
   "cell_type": "code",
   "execution_count": 132,
   "metadata": {},
   "outputs": [],
   "source": [
    "tmp = bureau.loc[bureau.CREDIT_ACTIVE == 'Active', :]\n",
    "res = tmp.DAYS_CREDIT_ENDDATE.isnull()\n",
    "res = res.groupby(tmp.SK_ID_CURR).sum()\n",
    "\n",
    "res = app_train.SK_ID_CURR.map(res)"
   ]
  },
  {
   "cell_type": "code",
   "execution_count": 137,
   "metadata": {},
   "outputs": [
    {
     "name": "stdout",
     "output_type": "stream",
     "text": [
      "TARGET         0.0    1.0     ratio\n",
      "SK_ID_CURR                         \n",
      "0.0         153167  12298  0.074324\n",
      "1.0          38642   4375  0.101704\n",
      "2.0           6358    864  0.119634\n",
      "3.0           1037    172  0.142266\n",
      "4.0            166     30  0.153061\n",
      "5.0             27      7  0.205882\n",
      "6.0              4      1  0.200000\n",
      "9.0              2      0  0.000000\n"
     ]
    },
    {
     "data": {
      "text/plain": [
       "35326"
      ]
     },
     "execution_count": 137,
     "metadata": {},
     "output_type": "execute_result"
    }
   ],
   "source": [
    "ss = pd.crosstab(res, app_train.TARGET)\n",
    "ss.loc[:, 'ratio'] = ss[1] / (ss[0] + ss[1])\n",
    "print(ss)\n",
    "     \n",
    "del ss\n",
    "gc.collect()"
   ]
  },
  {
   "cell_type": "code",
   "execution_count": 140,
   "metadata": {},
   "outputs": [
    {
     "name": "stdout",
     "output_type": "stream",
     "text": [
      "TARGET         0.0  1.0     ratio\n",
      "row_0                            \n",
      "0_FRIDAY        10    0  0.000000\n",
      "0_MONDAY         6    1  0.142857\n",
      "0_SATURDAY       2    0  0.000000\n",
      "0_SUNDAY         4    1  0.200000\n",
      "0_THURSDAY       6    1  0.142857\n",
      "0_TUESDAY        2    2  0.500000\n",
      "0_WEDNESDAY      4    1  0.200000\n",
      "10_FRIDAY     5461  466  0.078623\n",
      "10_MONDAY     5333  482  0.082889\n",
      "10_SATURDAY   4747  363  0.071037\n",
      "10_SUNDAY     2131  172  0.074685\n",
      "10_THURSDAY   5519  482  0.080320\n",
      "10_TUESDAY    5829  522  0.082192\n",
      "10_WEDNESDAY  5676  539  0.086726\n",
      "11_FRIDAY     5320  499  0.085754\n",
      "11_MONDAY     5522  479  0.079820\n",
      "11_SATURDAY   4477  345  0.071547\n",
      "11_SUNDAY     2135  180  0.077754\n",
      "11_THURSDAY   5495  517  0.085995\n",
      "11_TUESDAY    5780  524  0.083122\n",
      "11_WEDNESDAY  5494  462  0.077569\n",
      "12_FRIDAY     5005  441  0.080977\n",
      "12_MONDAY     5027  445  0.081323\n",
      "12_SATURDAY   3993  333  0.076976\n",
      "12_SUNDAY     1981  153  0.071696\n",
      "12_THURSDAY   4937  463  0.085741\n",
      "12_TUESDAY    5378  546  0.092167\n",
      "12_WEDNESDAY  5085  446  0.080636\n",
      "13_FRIDAY     4553  414  0.083350\n",
      "13_MONDAY     4646  349  0.069870\n",
      "...            ...  ...       ...\n",
      "5_TUESDAY      597   80  0.118168\n",
      "5_WEDNESDAY    523   59  0.101375\n",
      "6_FRIDAY       845  105  0.110526\n",
      "6_MONDAY       869   94  0.097612\n",
      "6_SATURDAY     667   74  0.099865\n",
      "6_SUNDAY       256   40  0.135135\n",
      "6_THURSDAY     819  101  0.109783\n",
      "6_TUESDAY      889  116  0.115423\n",
      "6_WEDNESDAY    852  115  0.118925\n",
      "7_FRIDAY      1369  149  0.098155\n",
      "7_MONDAY      1345  149  0.099732\n",
      "7_SATURDAY    1008   90  0.081967\n",
      "7_SUNDAY       458   53  0.103718\n",
      "7_THURSDAY    1303  142  0.098270\n",
      "7_TUESDAY     1371  167  0.108583\n",
      "7_WEDNESDAY   1360  167  0.109365\n",
      "8_FRIDAY      2213  245  0.099675\n",
      "8_MONDAY      2288  196  0.078905\n",
      "8_SATURDAY    1804  183  0.092099\n",
      "8_SUNDAY       712   91  0.113325\n",
      "8_THURSDAY    2231  193  0.079620\n",
      "8_TUESDAY     2297  231  0.091377\n",
      "8_WEDNESDAY   2209  234  0.095784\n",
      "9_FRIDAY      4245  382  0.082559\n",
      "9_MONDAY      4084  331  0.074972\n",
      "9_SATURDAY    2519  234  0.084998\n",
      "9_SUNDAY      1070  100  0.085470\n",
      "9_THURSDAY    4265  341  0.074034\n",
      "9_TUESDAY     4531  420  0.084831\n",
      "9_WEDNESDAY   4423  439  0.090292\n",
      "\n",
      "[168 rows x 3 columns]\n"
     ]
    }
   ],
   "source": [
    "ss = app_train.HOUR_APPR_PROCESS_START.astype(np.str) + '_' + app_train.WEEKDAY_APPR_PROCESS_START.astype(np.str)\n",
    "\n",
    "ss = pd.crosstab(ss, app_train.TARGET)\n",
    "ss.loc[:, 'ratio'] = ss[1] / (ss[0] + ss[1])\n",
    "print(ss)\n",
    "\n",
    "del ss\n",
    "gc.collect();"
   ]
  },
  {
   "cell_type": "code",
   "execution_count": 143,
   "metadata": {},
   "outputs": [
    {
     "name": "stdout",
     "output_type": "stream",
     "text": [
      "TARGET         0.0   1.0     ratio\n",
      "SK_ID_CURR                        \n",
      "1.0         102096  8077  0.073312\n",
      "2.0          90448  8903  0.089612\n",
      "3.0           6683   736  0.099205\n",
      "4.0            172    30  0.148515\n",
      "5.0              4     1  0.200000\n"
     ]
    }
   ],
   "source": [
    "res = bureau.loc[bureau.CREDIT_ACTIVE == 'Active', :].groupby('SK_ID_CURR')['CREDIT_TYPE'].nunique()\n",
    "res = app_train.SK_ID_CURR.map(res)\n",
    "\n",
    "ss  = pd.crosstab(res, app_train.TARGET)\n",
    "ss.loc[:, 'ratio'] = ss[1] / (ss[0] + ss[1])\n",
    "\n",
    "print(ss)\n",
    "\n",
    "del ss\n",
    "gc.collect();"
   ]
  },
  {
   "cell_type": "code",
   "execution_count": 147,
   "metadata": {},
   "outputs": [
    {
     "name": "stdout",
     "output_type": "stream",
     "text": [
      "TARGET                  0.0   1.0     ratio\n",
      "AMT_CREDIT_SUM_LIMIT                       \n",
      "0.0                   74798  6697  0.082177\n",
      "1.0                   37833  3334  0.080987\n",
      "2.0                   14671  1186  0.074793\n",
      "3.0                    5058   437  0.079527\n",
      "4.0                    1657   140  0.077908\n",
      "5.0                     464    54  0.104247\n",
      "6.0                     162    17  0.094972\n",
      "7.0                      51     4  0.072727\n",
      "8.0                      17     1  0.055556\n",
      "9.0                       7     2  0.222222\n",
      "10.0                      3     0  0.000000\n",
      "11.0                      1     0  0.000000\n",
      "12.0                      2     0  0.000000\n",
      "15.0                      1     0  0.000000\n"
     ]
    },
    {
     "data": {
      "text/plain": [
       "327"
      ]
     },
     "execution_count": 147,
     "metadata": {},
     "output_type": "execute_result"
    }
   ],
   "source": [
    "tmp = bureau.loc[bureau.CREDIT_ACTIVE == 'Active', ['SK_ID_CURR', 'AMT_CREDIT_SUM_LIMIT']]\n",
    "res = tmp.AMT_CREDIT_SUM_LIMIT.isnull()\n",
    "res = res.groupby(tmp.SK_ID_CURR).sum()\n",
    "\n",
    "ss  = pd.crosstab(res, app_train.TARGET)\n",
    "ss.loc[:, 'ratio'] = ss[1] / (ss[0] + ss[1])\n",
    "print(ss)\n",
    "\n",
    "del ss\n",
    "gc.collect()"
   ]
  },
  {
   "cell_type": "code",
   "execution_count": 175,
   "metadata": {},
   "outputs": [],
   "source": [
    "res = bureau.loc[(bureau.CREDIT_ACTIVE == 'Active') & (bureau.AMT_ANNUITY.notnull()), ['SK_ID_CURR', 'AMT_ANNUITY']]\n",
    "res = res.groupby('SK_ID_CURR')['AMT_ANNUITY'].sum().astype(np.float32)\n",
    "r1  = app_train.SK_ID_CURR.map(res)"
   ]
  },
  {
   "cell_type": "code",
   "execution_count": 176,
   "metadata": {},
   "outputs": [],
   "source": [
    "res = bureau.loc[(bureau.CREDIT_ACTIVE == 'Active') & (bureau.AMT_CREDIT_SUM.notnull()), ['SK_ID_CURR', 'AMT_CREDIT_SUM']]\n",
    "res = res.groupby('SK_ID_CURR')['AMT_CREDIT_SUM'].sum().astype(np.float32)\n",
    "r2  = app_train.SK_ID_CURR.map(res)"
   ]
  },
  {
   "cell_type": "code",
   "execution_count": 181,
   "metadata": {},
   "outputs": [],
   "source": [
    "tmp = r1.div(r2, fill_value=np.nan).replace([np.inf, -np.inf], np.nan)"
   ]
  },
  {
   "cell_type": "code",
   "execution_count": 186,
   "metadata": {},
   "outputs": [
    {
     "data": {
      "image/png": "[encoded data removed]",
      "text/plain": [
       "<Figure size 748.8x514.8 with 1 Axes>"
      ]
     },
     "metadata": {},
     "output_type": "display_data"
    }
   ],
   "source": [
    "tmp[app_train.TARGET == 0].map(np.log1p).hist(bins=100)\n",
    "tmp[app_train.TARGET == 1].map(np.log1p).hist(bins=100);"
   ]
  },
  {
   "cell_type": "code",
   "execution_count": 166,
   "metadata": {},
   "outputs": [
    {
     "data": {
      "image/png": "[encoded data removed]",
      "text/plain": [
       "<Figure size 748.8x514.8 with 1 Axes>"
      ]
     },
     "metadata": {},
     "output_type": "display_data"
    }
   ],
   "source": [
    "res[app_train.TARGET == 0].map(np.log1p).hist()\n",
    "res[app_train.TARGET == 1].map(np.log1p).hist();"
   ]
  },
  {
   "cell_type": "code",
   "execution_count": 31,
   "metadata": {},
   "outputs": [
    {
     "data": {
      "text/plain": [
       "Approved        1036781\n",
       "Canceled         316319\n",
       "Refused          290678\n",
       "Unused offer      26436\n",
       "Name: NAME_CONTRACT_STATUS, dtype: int64"
      ]
     },
     "execution_count": 31,
     "metadata": {},
     "output_type": "execute_result"
    }
   ],
   "source": [
    "prev_app.NAME_CONTRACT_STATUS.value_counts()"
   ]
  },
  {
   "cell_type": "code",
   "execution_count": 32,
   "metadata": {},
   "outputs": [
    {
     "data": {
      "text/plain": [
       "0    1036781\n",
       "1     316319\n",
       "2     290678\n",
       "3      26436\n",
       "dtype: int64"
      ]
     },
     "execution_count": 32,
     "metadata": {},
     "output_type": "execute_result"
    }
   ],
   "source": [
    "prev_app.NAME_CONTRACT_STATUS.cat.codes.value_counts()"
   ]
  },
  {
   "cell_type": "code",
   "execution_count": 4,
   "metadata": {},
   "outputs": [],
   "source": [
    "zz = prev_app.loc[prev_app.NAME_CONTRACT_STATUS == 'Approved', ['SK_ID_CURR', 'SK_ID_PREV']]\n",
    "zz = zz.merge(installments.loc[:, ['SK_ID_CURR', 'SK_ID_PREV', 'NUM_INSTALMENT_NUMBER', 'AMT_PAYMENT']], how='left')"
   ]
  },
  {
   "cell_type": "code",
   "execution_count": 15,
   "metadata": {
    "collapsed": true
   },
   "outputs": [],
   "source": [
    "ss = app_train.set_index('SK_ID_CURR')['AMT_INCOME_TOTAL']"
   ]
  },
  {
   "cell_type": "code",
   "execution_count": 29,
   "metadata": {},
   "outputs": [],
   "source": [
    "res = zz.div(ss, fill_value=np.nan)\n",
    "res = res.reset_index()\n",
    "res = res.groupby('SK_ID_CURR')[0].max()\n",
    "\n",
    "res = app_train.SK_ID_CURR.map(res)"
   ]
  },
  {
   "cell_type": "code",
   "execution_count": 30,
   "metadata": {},
   "outputs": [
    {
     "data": {
      "image/png": "[encoded data removed]",
      "text/plain": [
       "<Figure size 748.8x514.8 with 1 Axes>"
      ]
     },
     "metadata": {},
     "output_type": "display_data"
    }
   ],
   "source": [
    "res[app_train.TARGET == 0].map(np.log1p).hist(bins=100)\n",
    "res[app_train.TARGET == 1].map(np.log1p).hist(bins=100);"
   ]
  },
  {
   "cell_type": "code",
   "execution_count": 4,
   "metadata": {},
   "outputs": [],
   "source": [
    "zz = prev_app.loc[prev_app.NAME_CONTRACT_STATUS == 'Approved', ['SK_ID_CURR', 'SK_ID_PREV']]\n",
    "zz = zz.merge(installments.loc[:, ['SK_ID_CURR', 'SK_ID_PREV', 'DAYS_INSTALMENT', 'DAYS_ENTRY_PAYMENT']], how='left')"
   ]
  },
  {
   "cell_type": "code",
   "execution_count": 19,
   "metadata": {},
   "outputs": [],
   "source": [
    "res = (zz.DAYS_INSTALMENT - zz.DAYS_ENTRY_PAYMENT)\n",
    "res = res.groupby(zz.SK_ID_CURR).sum()\n",
    "res = app_train.SK_ID_CURR.map(res).replace([np.inf, -np.inf], np.nan)"
   ]
  },
  {
   "cell_type": "code",
   "execution_count": 26,
   "metadata": {},
   "outputs": [
    {
     "data": {
      "image/png": "[encoded data removed]",
      "text/plain": [
       "<Figure size 748.8x514.8 with 1 Axes>"
      ]
     },
     "metadata": {},
     "output_type": "display_data"
    }
   ],
   "source": [
    "res[(res > 0) & (app_train.TARGET == 0)].map(np.log1p).hist(bins=100)\n",
    "res[(res > 0) & (app_train.TARGET == 1)].map(np.log1p).hist(bins=100);"
   ]
  },
  {
   "cell_type": "code",
   "execution_count": 28,
   "metadata": {},
   "outputs": [
    {
     "data": {
      "text/plain": [
       "6807"
      ]
     },
     "execution_count": 28,
     "metadata": {},
     "output_type": "execute_result"
    }
   ],
   "source": [
    "res[res < 0].shape[0]"
   ]
  },
  {
   "cell_type": "code",
   "execution_count": 30,
   "metadata": {},
   "outputs": [
    {
     "data": {
      "text/plain": [
       "282091"
      ]
     },
     "execution_count": 30,
     "metadata": {},
     "output_type": "execute_result"
    }
   ],
   "source": [
    "res[res > 0].shape[0]"
   ]
  },
  {
   "cell_type": "code",
   "execution_count": 27,
   "metadata": {},
   "outputs": [
    {
     "data": {
      "image/png": "[encoded data removed]",
      "text/plain": [
       "<Figure size 748.8x514.8 with 1 Axes>"
      ]
     },
     "metadata": {},
     "output_type": "display_data"
    }
   ],
   "source": [
    "(-res[(res < 0) & (app_train.TARGET == 0)]).map(np.log1p).hist(bins=100)\n",
    "(-res[(res < 0) & (app_train.TARGET == 1)]).map(np.log1p).hist(bins=100);"
   ]
  },
  {
   "cell_type": "code",
   "execution_count": 14,
   "metadata": {
    "collapsed": true
   },
   "outputs": [],
   "source": [
    "res = bureau.loc[(bureau.CREDIT_ACTIVE == 'Active') & (bureau.AMT_CREDIT_SUM_DEBT > 0), ['SK_ID_CURR', 'CREDIT_ACTIVE', 'AMT_CREDIT_SUM_DEBT', 'AMT_CREDIT_SUM']]\n",
    "total_debt = res.groupby(res.SK_ID_CURR)['AMT_CREDIT_SUM_DEBT'].sum().astype(np.float32)\n",
    "\n",
    "res = app_train.SK_ID_CURR.map(total_debt)\n",
    "res = (res / app_train.AMT_INCOME_TOTAL).replace([np.inf, -np.inf], np.nan)"
   ]
  },
  {
   "cell_type": "code",
   "execution_count": 15,
   "metadata": {},
   "outputs": [
    {
     "data": {
      "image/png": "[encoded data removed]",
      "text/plain": [
       "<Figure size 748.8x514.8 with 1 Axes>"
      ]
     },
     "metadata": {},
     "output_type": "display_data"
    }
   ],
   "source": [
    "res[app_train.TARGET == 0].map(np.log1p).hist(bins=100)\n",
    "res[app_train.TARGET == 1].map(np.log1p).hist(bins=100);"
   ]
  },
  {
   "cell_type": "code",
   "execution_count": 5,
   "metadata": {
    "collapsed": true
   },
   "outputs": [],
   "source": [
    "zz = prev_app.loc[prev_app.NAME_CONTRACT_STATUS == 'Approved', ['SK_ID_CURR', 'SK_ID_PREV']]\n",
    "zz = zz.merge(installments.loc[:, ['SK_ID_CURR', 'SK_ID_PREV', 'AMT_INSTALMENT', 'AMT_PAYMENT']], how='left')"
   ]
  },
  {
   "cell_type": "code",
   "execution_count": 12,
   "metadata": {},
   "outputs": [],
   "source": [
    "res = (zz.AMT_INSTALMENT - zz.AMT_PAYMENT)\n",
    "res = res.groupby(zz.SK_ID_CURR).std()\n",
    "res = app_train.SK_ID_CURR.map(res).replace([np.inf, -np.inf], np.nan)"
   ]
  },
  {
   "cell_type": "code",
   "execution_count": 14,
   "metadata": {},
   "outputs": [
    {
     "data": {
      "image/png": "[encoded data removed]",
      "text/plain": [
       "<Figure size 748.8x514.8 with 1 Axes>"
      ]
     },
     "metadata": {},
     "output_type": "display_data"
    }
   ],
   "source": [
    "res[(res > 0) & (app_train.TARGET == 0)].map(np.log1p).hist(bins=100)\n",
    "res[(res > 0) & (app_train.TARGET == 1)].map(np.log1p).hist(bins=100);"
   ]
  },
  {
   "cell_type": "code",
   "execution_count": 15,
   "metadata": {},
   "outputs": [],
   "source": [
    "res = prev_app.loc[prev_app.NAME_CONTRACT_STATUS == 'Approved', ['SK_ID_CURR', 'SK_ID_PREV', \n",
    "                                                           'AMT_DOWN_PAYMENT', \n",
    "                                                           'RATE_DOWN_PAYMENT',\n",
    "                                                           'CNT_PAYMENT'\n",
    "                                                          ]]\n",
    "\n",
    "tmp = res.AMT_DOWN_PAYMENT * res.RATE_DOWN_PAYMENT * res.CNT_PAYMENT\n",
    "tmp = tmp.groupby(res.SK_ID_CURR).sum()\n",
    "tmp = app_train.SK_ID_CURR.map(tmp)"
   ]
  },
  {
   "cell_type": "code",
   "execution_count": 21,
   "metadata": {},
   "outputs": [
    {
     "data": {
      "image/png": "[encoded data removed]",
      "text/plain": [
       "<Figure size 748.8x514.8 with 1 Axes>"
      ]
     },
     "metadata": {},
     "output_type": "display_data"
    }
   ],
   "source": [
    "tmp[(tmp > 0 ) & (app_train.TARGET == 0)].map(np.log1p).hist(bins=100)\n",
    "tmp[(tmp > 0) & (app_train.TARGET == 1)].map(np.log1p).hist(bins=100);"
   ]
  },
  {
   "cell_type": "code",
   "execution_count": 57,
   "metadata": {},
   "outputs": [],
   "source": [
    "res = bureau.loc[bureau.CREDIT_ACTIVE == 'Active', ['SK_ID_CURR', 'AMT_ANNUITY']]\n",
    "res = res.groupby(res.SK_ID_CURR)['AMT_ANNUITY'].sum().map(lambda x: np.log(x + 1))\n",
    "res = app_train.SK_ID_CURR.map(res)\n",
    "res = res.div(app_train.AMT_CREDIT.map(lambda x: np.log(x + 1)), fill_value=np.nan)"
   ]
  },
  {
   "cell_type": "code",
   "execution_count": 58,
   "metadata": {},
   "outputs": [
    {
     "data": {
      "image/png": "[encoded data removed]",
      "text/plain": [
       "<Figure size 748.8x514.8 with 1 Axes>"
      ]
     },
     "metadata": {},
     "output_type": "display_data"
    }
   ],
   "source": [
    "res[(res > 0) & (app_train.TARGET == 0)].hist(bins=100)\n",
    "res[(res > 0) & (app_train.TARGET == 1)].hist(bins=100);"
   ]
  },
  {
   "cell_type": "code",
   "execution_count": 4,
   "metadata": {
    "collapsed": true
   },
   "outputs": [],
   "source": [
    "zz = prev_app.loc[prev_app.NAME_CONTRACT_STATUS == 'Approved', ['SK_ID_CURR', 'SK_ID_PREV']]\n",
    "zz = zz.merge(pos_cash.loc[:, ['SK_ID_CURR', 'SK_ID_PREV', 'CNT_INSTALMENT', 'CNT_INSTALMENT_FUTURE']], how='left')"
   ]
  },
  {
   "cell_type": "code",
   "execution_count": 7,
   "metadata": {},
   "outputs": [],
   "source": [
    "res = zz.groupby('SK_ID_CURR')['CNT_INSTALMENT_FUTURE'].sum()\n",
    "res = app_train.SK_ID_CURR.map(res)"
   ]
  },
  {
   "cell_type": "code",
   "execution_count": 12,
   "metadata": {},
   "outputs": [
    {
     "data": {
      "image/png": "[encoded data removed]",
      "text/plain": [
       "<Figure size 748.8x514.8 with 1 Axes>"
      ]
     },
     "metadata": {},
     "output_type": "display_data"
    }
   ],
   "source": [
    "res[app_train.TARGET == 0].map(np.log1p).hist(bins=100)\n",
    "res[app_train.TARGET == 1].map(np.log1p).hist(bins=100);"
   ]
  }
 ],
 "metadata": {
  "kernelspec": {
   "display_name": "Python 3",
   "language": "python",
   "name": "python3"
  },
  "language_info": {
   "codemirror_mode": {
    "name": "ipython",
    "version": 3
   },
   "file_extension": ".py",
   "mimetype": "text/x-python",
   "name": "python",
   "nbconvert_exporter": "python",
   "pygments_lexer": "ipython3",
   "version": "3.6.1"
  }
 },
 "nbformat": 4,
 "nbformat_minor": 2
}
