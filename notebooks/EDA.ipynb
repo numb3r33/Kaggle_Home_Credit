{
 "cells": [
  {
   "cell_type": "code",
   "execution_count": 1,
   "metadata": {},
   "outputs": [
    {
     "name": "stdout",
     "output_type": "stream",
     "text": [
      "Libraries have been loaded\n"
     ]
    }
   ],
   "source": [
    "__imp"
   ]
  },
  {
   "cell_type": "markdown",
   "metadata": {},
   "source": [
    "## Load Additional Libraries"
   ]
  },
  {
   "cell_type": "code",
   "execution_count": 2,
   "metadata": {
    "collapsed": true
   },
   "outputs": [],
   "source": [
    "basepath = os.path.expanduser('../')"
   ]
  },
  {
   "cell_type": "markdown",
   "metadata": {},
   "source": [
    "## Load Data"
   ]
  },
  {
   "cell_type": "code",
   "execution_count": 7,
   "metadata": {},
   "outputs": [
    {
     "name": "stdout",
     "output_type": "stream",
     "text": [
      "CPU times: user 67.7 ms, sys: 238 ms, total: 306 ms\n",
      "Wall time: 2.24 s\n"
     ]
    }
   ],
   "source": [
    "%%time\n",
    "\n",
    "app_train = pd.read_pickle(os.path.join(basepath, 'data/interim/dataset1/application_train.pkl'))\n",
    "# app_test  = pd.read_feather(os.path.join(basepath, 'data/processed/application_test.feather'))\n",
    "\n",
    "bureau       = pd.read_pickle(os.path.join(basepath, 'data/interim/dataset1/bureau.pkl'))\n",
    "# prev_app     = pd.read_pickle(os.path.join(basepath, 'data/processed/prev_app.pkl'))\n",
    "# installments = pd.read_pickle(os.path.join(basepath, 'data/processed/installments_payments.pkl')) \n",
    "# pos_cash     = pd.read_pickle(os.path.join(basepath, 'data/processed/pos_cash.pkl'))\n",
    "# credit_bal  = pd.read_pickle(os.path.join(basepath, 'data/processed/credit_card_balance.pkl'))"
   ]
  },
  {
   "cell_type": "code",
   "execution_count": 4,
   "metadata": {},
   "outputs": [
    {
     "data": {
      "text/plain": [
       "14981     117491\n",
       "168780    295636\n",
       "58653     167989\n",
       "36682     142486\n",
       "69900     181082\n",
       "109580    227086\n",
       "127783    248201\n",
       "141197    263704\n",
       "217823    352370\n",
       "299252    446680\n",
       "Name: SK_ID_CURR, dtype: int32"
      ]
     },
     "execution_count": 4,
     "metadata": {},
     "output_type": "execute_result"
    }
   ],
   "source": [
    "app_train.sample(n=10).SK_ID_CURR"
   ]
  },
  {
   "cell_type": "code",
   "execution_count": 12,
   "metadata": {},
   "outputs": [
    {
     "data": {
      "text/html": [
       "<div>\n",
       "<style scoped>\n",
       "    .dataframe tbody tr th:only-of-type {\n",
       "        vertical-align: middle;\n",
       "    }\n",
       "\n",
       "    .dataframe tbody tr th {\n",
       "        vertical-align: top;\n",
       "    }\n",
       "\n",
       "    .dataframe thead th {\n",
       "        text-align: right;\n",
       "    }\n",
       "</style>\n",
       "<table border=\"1\" class=\"dataframe\">\n",
       "  <thead>\n",
       "    <tr style=\"text-align: right;\">\n",
       "      <th></th>\n",
       "      <th>SK_ID_CURR</th>\n",
       "      <th>SK_ID_BUREAU</th>\n",
       "      <th>CREDIT_ACTIVE</th>\n",
       "      <th>CREDIT_CURRENCY</th>\n",
       "      <th>DAYS_CREDIT</th>\n",
       "      <th>CREDIT_DAY_OVERDUE</th>\n",
       "      <th>DAYS_CREDIT_ENDDATE</th>\n",
       "      <th>DAYS_ENDDATE_FACT</th>\n",
       "      <th>AMT_CREDIT_MAX_OVERDUE</th>\n",
       "      <th>CNT_CREDIT_PROLONG</th>\n",
       "      <th>AMT_CREDIT_SUM</th>\n",
       "      <th>AMT_CREDIT_SUM_DEBT</th>\n",
       "      <th>AMT_CREDIT_SUM_LIMIT</th>\n",
       "      <th>AMT_CREDIT_SUM_OVERDUE</th>\n",
       "      <th>CREDIT_TYPE</th>\n",
       "      <th>DAYS_CREDIT_UPDATE</th>\n",
       "      <th>AMT_ANNUITY</th>\n",
       "    </tr>\n",
       "  </thead>\n",
       "  <tbody>\n",
       "    <tr>\n",
       "      <th>1040560</th>\n",
       "      <td>181082</td>\n",
       "      <td>5767024</td>\n",
       "      <td>Closed</td>\n",
       "      <td>currency 1</td>\n",
       "      <td>-434</td>\n",
       "      <td>0</td>\n",
       "      <td>-250.0</td>\n",
       "      <td>-248.0</td>\n",
       "      <td>NaN</td>\n",
       "      <td>0</td>\n",
       "      <td>31860.0</td>\n",
       "      <td>0.0</td>\n",
       "      <td>0.0</td>\n",
       "      <td>0.0</td>\n",
       "      <td>Consumer credit</td>\n",
       "      <td>-91</td>\n",
       "      <td>NaN</td>\n",
       "    </tr>\n",
       "    <tr>\n",
       "      <th>1040561</th>\n",
       "      <td>181082</td>\n",
       "      <td>5767025</td>\n",
       "      <td>Closed</td>\n",
       "      <td>currency 1</td>\n",
       "      <td>-391</td>\n",
       "      <td>0</td>\n",
       "      <td>-210.0</td>\n",
       "      <td>-210.0</td>\n",
       "      <td>NaN</td>\n",
       "      <td>0</td>\n",
       "      <td>17509.5</td>\n",
       "      <td>0.0</td>\n",
       "      <td>0.0</td>\n",
       "      <td>0.0</td>\n",
       "      <td>Consumer credit</td>\n",
       "      <td>-205</td>\n",
       "      <td>NaN</td>\n",
       "    </tr>\n",
       "    <tr>\n",
       "      <th>1040562</th>\n",
       "      <td>181082</td>\n",
       "      <td>5767026</td>\n",
       "      <td>Closed</td>\n",
       "      <td>currency 1</td>\n",
       "      <td>-1036</td>\n",
       "      <td>0</td>\n",
       "      <td>-670.0</td>\n",
       "      <td>-915.0</td>\n",
       "      <td>NaN</td>\n",
       "      <td>0</td>\n",
       "      <td>152955.0</td>\n",
       "      <td>0.0</td>\n",
       "      <td>0.0</td>\n",
       "      <td>0.0</td>\n",
       "      <td>Consumer credit</td>\n",
       "      <td>-914</td>\n",
       "      <td>NaN</td>\n",
       "    </tr>\n",
       "    <tr>\n",
       "      <th>1040563</th>\n",
       "      <td>181082</td>\n",
       "      <td>5767027</td>\n",
       "      <td>Active</td>\n",
       "      <td>currency 1</td>\n",
       "      <td>-152</td>\n",
       "      <td>0</td>\n",
       "      <td>929.0</td>\n",
       "      <td>NaN</td>\n",
       "      <td>NaN</td>\n",
       "      <td>0</td>\n",
       "      <td>49500.0</td>\n",
       "      <td>19309.5</td>\n",
       "      <td>0.0</td>\n",
       "      <td>0.0</td>\n",
       "      <td>Credit card</td>\n",
       "      <td>-6</td>\n",
       "      <td>NaN</td>\n",
       "    </tr>\n",
       "    <tr>\n",
       "      <th>1040564</th>\n",
       "      <td>181082</td>\n",
       "      <td>5767028</td>\n",
       "      <td>Closed</td>\n",
       "      <td>currency 1</td>\n",
       "      <td>-838</td>\n",
       "      <td>0</td>\n",
       "      <td>-650.0</td>\n",
       "      <td>-649.0</td>\n",
       "      <td>0.0</td>\n",
       "      <td>0</td>\n",
       "      <td>18396.0</td>\n",
       "      <td>0.0</td>\n",
       "      <td>0.0</td>\n",
       "      <td>0.0</td>\n",
       "      <td>Consumer credit</td>\n",
       "      <td>-646</td>\n",
       "      <td>NaN</td>\n",
       "    </tr>\n",
       "  </tbody>\n",
       "</table>\n",
       "</div>"
      ],
      "text/plain": [
       "         SK_ID_CURR  SK_ID_BUREAU CREDIT_ACTIVE CREDIT_CURRENCY  DAYS_CREDIT  \\\n",
       "1040560      181082       5767024        Closed      currency 1         -434   \n",
       "1040561      181082       5767025        Closed      currency 1         -391   \n",
       "1040562      181082       5767026        Closed      currency 1        -1036   \n",
       "1040563      181082       5767027        Active      currency 1         -152   \n",
       "1040564      181082       5767028        Closed      currency 1         -838   \n",
       "\n",
       "         CREDIT_DAY_OVERDUE  DAYS_CREDIT_ENDDATE  DAYS_ENDDATE_FACT  \\\n",
       "1040560                   0               -250.0             -248.0   \n",
       "1040561                   0               -210.0             -210.0   \n",
       "1040562                   0               -670.0             -915.0   \n",
       "1040563                   0                929.0                NaN   \n",
       "1040564                   0               -650.0             -649.0   \n",
       "\n",
       "         AMT_CREDIT_MAX_OVERDUE  CNT_CREDIT_PROLONG  AMT_CREDIT_SUM  \\\n",
       "1040560                     NaN                   0         31860.0   \n",
       "1040561                     NaN                   0         17509.5   \n",
       "1040562                     NaN                   0        152955.0   \n",
       "1040563                     NaN                   0         49500.0   \n",
       "1040564                     0.0                   0         18396.0   \n",
       "\n",
       "         AMT_CREDIT_SUM_DEBT  AMT_CREDIT_SUM_LIMIT  AMT_CREDIT_SUM_OVERDUE  \\\n",
       "1040560                  0.0                   0.0                     0.0   \n",
       "1040561                  0.0                   0.0                     0.0   \n",
       "1040562                  0.0                   0.0                     0.0   \n",
       "1040563              19309.5                   0.0                     0.0   \n",
       "1040564                  0.0                   0.0                     0.0   \n",
       "\n",
       "             CREDIT_TYPE  DAYS_CREDIT_UPDATE  AMT_ANNUITY  \n",
       "1040560  Consumer credit                 -91          NaN  \n",
       "1040561  Consumer credit                -205          NaN  \n",
       "1040562  Consumer credit                -914          NaN  \n",
       "1040563      Credit card                  -6          NaN  \n",
       "1040564  Consumer credit                -646          NaN  "
      ]
     },
     "execution_count": 12,
     "metadata": {},
     "output_type": "execute_result"
    }
   ],
   "source": [
    "bureau.loc[bureau.SK_ID_CURR == 181082]"
   ]
  },
  {
   "cell_type": "code",
   "execution_count": 21,
   "metadata": {},
   "outputs": [],
   "source": [
    "# find all active records and take mean of days credit\n",
    "res = bureau.loc[bureau.CREDIT_ACTIVE == 'Active', ['SK_ID_CURR', 'DAYS_CREDIT']]\n",
    "res = -res.groupby('SK_ID_CURR')['DAYS_CREDIT'].mean()\n",
    "\n",
    "res = app_train.SK_ID_CURR.map(res)"
   ]
  },
  {
   "cell_type": "code",
   "execution_count": 22,
   "metadata": {},
   "outputs": [
    {
     "data": {
      "image/png": "[encoded data removed]",
      "text/plain": [
       "<Figure size 748.8x514.8 with 1 Axes>"
      ]
     },
     "metadata": {},
     "output_type": "display_data"
    }
   ],
   "source": [
    "res[(app_train.TARGET == 0)].map(np.log)hist(bins=100)\n",
    "res[(app_train.TARGET == 1)].hist(bins=100);"
   ]
  },
  {
   "cell_type": "code",
   "execution_count": null,
   "metadata": {
    "collapsed": true
   },
   "outputs": [],
   "source": []
  }
 ],
 "metadata": {
  "kernelspec": {
   "display_name": "Python 3",
   "language": "python",
   "name": "python3"
  },
  "language_info": {
   "codemirror_mode": {
    "name": "ipython",
    "version": 3
   },
   "file_extension": ".py",
   "mimetype": "text/x-python",
   "name": "python",
   "nbconvert_exporter": "python",
   "pygments_lexer": "ipython3",
   "version": "3.6.1"
  }
 },
 "nbformat": 4,
 "nbformat_minor": 2
}
