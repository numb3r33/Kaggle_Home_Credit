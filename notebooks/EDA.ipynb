{
 "cells": [
  {
   "cell_type": "code",
   "execution_count": 1,
   "metadata": {},
   "outputs": [
    {
     "name": "stdout",
     "output_type": "stream",
     "text": [
      "Libraries have been loaded\n"
     ]
    }
   ],
   "source": [
    "__imp"
   ]
  },
  {
   "cell_type": "markdown",
   "metadata": {},
   "source": [
    "## Load Additional Libraries"
   ]
  },
  {
   "cell_type": "code",
   "execution_count": 2,
   "metadata": {
    "collapsed": true
   },
   "outputs": [],
   "source": [
    "import scipy as sp\n",
    "\n",
    "basepath = os.path.expanduser('../')"
   ]
  },
  {
   "cell_type": "markdown",
   "metadata": {},
   "source": [
    "## Load Data"
   ]
  },
  {
   "cell_type": "code",
   "execution_count": 3,
   "metadata": {},
   "outputs": [
    {
     "name": "stdout",
     "output_type": "stream",
     "text": [
      "CPU times: user 123 ms, sys: 337 ms, total: 459 ms\n",
      "Wall time: 465 ms\n"
     ]
    }
   ],
   "source": [
    "%%time\n",
    "\n",
    "app_train = pd.read_pickle(os.path.join(basepath, 'data/interim/dataset1/application_train.pkl'))\n",
    "# app_test  = pd.read_pickle(os.path.join(basepath, 'data/interim/dataset1/application_test.pkl'))\n",
    "\n",
    "# bureau       = pd.read_pickle(os.path.join(basepath, 'data/interim/dataset1/bureau.pkl'))\n",
    "# bureau_bal   = pd.read_pickle(os.path.join(basepath, 'data/interim/dataset1/bureau_balance.pkl'))\n",
    "prev_app     = pd.read_pickle(os.path.join(basepath, 'data/interim/dataset1/previous_application.pkl'))\n",
    "# installments = pd.read_pickle(os.path.join(basepath, 'data/interim/dataset1/installments_payments.pkl')) \n",
    "# pos_cash     = pd.read_pickle(os.path.join(basepath, 'data/interim/dataset1/POS_CASH_balance.pkl'))\n",
    "credit_bal   = pd.read_pickle(os.path.join(basepath, 'data/interim/dataset1/credit_card_balance.pkl'))"
   ]
  },
  {
   "cell_type": "code",
   "execution_count": 16,
   "metadata": {},
   "outputs": [
    {
     "data": {
      "text/plain": [
       "0.0    0.919271\n",
       "1.0    0.080729\n",
       "Name: TARGET, dtype: float64"
      ]
     },
     "execution_count": 16,
     "metadata": {},
     "output_type": "execute_result"
    }
   ],
   "source": [
    "app_train.TARGET.value_counts(normalize=True)"
   ]
  },
  {
   "cell_type": "code",
   "execution_count": 20,
   "metadata": {},
   "outputs": [
    {
     "name": "stdout",
     "output_type": "stream",
     "text": [
      "Number of null values: 0.011505046655782065\n"
     ]
    }
   ],
   "source": [
    "res = app_train.loc[:, ['SK_ID_CURR', 'TARGET']]\\\n",
    "               .merge(prev_app.loc[:, ['SK_ID_CURR', 'SK_ID_PREV', 'NAME_CONTRACT_STATUS']], how='left')\n",
    "print('Number of null values: {}'.format(res[res.NAME_CONTRACT_STATUS.isnull()].shape[0] / len(res)))"
   ]
  },
  {
   "cell_type": "code",
   "execution_count": 15,
   "metadata": {},
   "outputs": [
    {
     "name": "stdout",
     "output_type": "stream",
     "text": [
      "TARGET                   0.0    1.0     ratio\n",
      "NAME_CONTRACT_STATUS                         \n",
      "Approved              818856  67243  0.075887\n",
      "Canceled              235641  23800  0.091736\n",
      "Refused               215952  29438  0.119964\n",
      "Unused offer           20892   1879  0.082517\n"
     ]
    }
   ],
   "source": [
    "ss = pd.crosstab(res.NAME_CONTRACT_STATUS, res.TARGET)\n",
    "ss.loc[:, 'ratio'] = ss[1] / (ss[0] + ss[1])\n",
    "\n",
    "print(ss)\n",
    "del ss\n",
    "gc.collect();"
   ]
  },
  {
   "cell_type": "code",
   "execution_count": 21,
   "metadata": {},
   "outputs": [
    {
     "name": "stdout",
     "output_type": "stream",
     "text": [
      "Number of null values: 0.019308390838309104\n"
     ]
    }
   ],
   "source": [
    "res = app_train.loc[:, ['SK_ID_CURR', 'TARGET']]\\\n",
    "               .merge(prev_app.loc[prev_app.NAME_CONTRACT_STATUS == 'Approved', ['SK_ID_CURR', 'SK_ID_PREV', 'NAME_CONTRACT_STATUS']], how='left')\n",
    "    \n",
    "print('Number of null values: {}'.format(res[res.NAME_CONTRACT_STATUS.isnull()].shape[0] / len(res)))"
   ]
  },
  {
   "cell_type": "code",
   "execution_count": 22,
   "metadata": {},
   "outputs": [
    {
     "name": "stdout",
     "output_type": "stream",
     "text": [
      "Number of null values: 0.4578298612261852\n"
     ]
    }
   ],
   "source": [
    "res = app_train.loc[:, ['SK_ID_CURR', 'TARGET']]\\\n",
    "               .merge(prev_app.loc[prev_app.NAME_CONTRACT_STATUS == 'Refused', ['SK_ID_CURR', 'SK_ID_PREV', 'NAME_CONTRACT_STATUS']], how='left')\n",
    "    \n",
    "print('Number of null values: {}'.format(res[res.NAME_CONTRACT_STATUS.isnull()].shape[0] / len(res)))"
   ]
  },
  {
   "cell_type": "code",
   "execution_count": 55,
   "metadata": {},
   "outputs": [
    {
     "name": "stdout",
     "output_type": "stream",
     "text": [
      "0.05676870095703893\n"
     ]
    }
   ],
   "source": [
    "res = app_train.loc[:, ['SK_ID_CURR', 'TARGET']]\\\n",
    "               .merge(prev_app.loc[prev_app.NAME_CONTRACT_STATUS == 'Approved', \n",
    "                                   ['SK_ID_CURR', 'SK_ID_PREV', 'AMT_CREDIT', 'AMT_ANNUITY']], how='left')\n",
    "    \n",
    "tmp   = (res.AMT_CREDIT / res.AMT_ANNUITY).replace([np.inf, -np.inf], np.nan)\n",
    "tmp_a = tmp.groupby(res.SK_ID_CURR).mean()\n",
    "\n",
    "tmp = app_train.SK_ID_CURR.map(tmp_a)\n",
    "print(tmp[tmp.isnull()].shape[0] / len(tmp))"
   ]
  },
  {
   "cell_type": "code",
   "execution_count": 56,
   "metadata": {},
   "outputs": [
    {
     "data": {
      "image/png": "[encoded data removed]",
      "text/plain": [
       "<Figure size 748.8x514.8 with 1 Axes>"
      ]
     },
     "metadata": {},
     "output_type": "display_data"
    }
   ],
   "source": [
    "tmp[app_train.TARGET == 0].hist(bins=100)\n",
    "tmp[app_train.TARGET == 1].hist(bins=100);"
   ]
  },
  {
   "cell_type": "code",
   "execution_count": 57,
   "metadata": {},
   "outputs": [
    {
     "name": "stdout",
     "output_type": "stream",
     "text": [
      "0.7022382939146893\n"
     ]
    }
   ],
   "source": [
    "res = app_train.loc[:, ['SK_ID_CURR', 'TARGET']]\\\n",
    "               .merge(prev_app.loc[prev_app.NAME_CONTRACT_STATUS == 'Refused', \n",
    "                                   ['SK_ID_CURR', 'SK_ID_PREV', 'AMT_CREDIT', 'AMT_ANNUITY']], how='left')\n",
    "    \n",
    "tmp    = (res.AMT_CREDIT / res.AMT_ANNUITY).replace([np.inf, -np.inf], np.nan)\n",
    "tmp_r  = tmp.groupby(res.SK_ID_CURR).mean()\n",
    "\n",
    "tmp    = app_train.SK_ID_CURR.map(tmp_r)\n",
    "print(tmp[tmp.isnull()].shape[0] / len(tmp))"
   ]
  },
  {
   "cell_type": "code",
   "execution_count": 58,
   "metadata": {},
   "outputs": [
    {
     "data": {
      "image/png": "[encoded data removed]",
      "text/plain": [
       "<Figure size 748.8x514.8 with 1 Axes>"
      ]
     },
     "metadata": {},
     "output_type": "display_data"
    }
   ],
   "source": [
    "tmp[app_train.TARGET == 0].hist(bins=100)\n",
    "tmp[app_train.TARGET == 1].hist(bins=100);"
   ]
  },
  {
   "cell_type": "code",
   "execution_count": 69,
   "metadata": {},
   "outputs": [
    {
     "name": "stdout",
     "output_type": "stream",
     "text": [
      "0.05494762788973403\n"
     ]
    }
   ],
   "source": [
    "diff = tmp_a.subtract(tmp_r, fill_value=0)\n",
    "tmp  = app_train.SK_ID_CURR.map(diff)\n",
    "\n",
    "print(tmp[tmp.isnull()].shape[0] / len(tmp))"
   ]
  },
  {
   "cell_type": "code",
   "execution_count": 71,
   "metadata": {},
   "outputs": [
    {
     "data": {
      "image/png": "[encoded data removed]",
      "text/plain": [
       "<Figure size 748.8x514.8 with 1 Axes>"
      ]
     },
     "metadata": {},
     "output_type": "display_data"
    }
   ],
   "source": [
    "tmp[app_train.TARGET == 0].hist(bins=50)\n",
    "tmp[app_train.TARGET == 1].hist(bins=50);"
   ]
  },
  {
   "cell_type": "code",
   "execution_count": null,
   "metadata": {
    "collapsed": true
   },
   "outputs": [],
   "source": []
  }
 ],
 "metadata": {
  "kernelspec": {
   "display_name": "Python 3",
   "language": "python",
   "name": "python3"
  },
  "language_info": {
   "codemirror_mode": {
    "name": "ipython",
    "version": 3
   },
   "file_extension": ".py",
   "mimetype": "text/x-python",
   "name": "python",
   "nbconvert_exporter": "python",
   "pygments_lexer": "ipython3",
   "version": "3.6.1"
  }
 },
 "nbformat": 4,
 "nbformat_minor": 2
}
