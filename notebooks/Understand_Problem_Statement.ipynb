{
 "cells": [
  {
   "cell_type": "code",
   "execution_count": 30,
   "metadata": {},
   "outputs": [
    {
     "name": "stdout",
     "output_type": "stream",
     "text": [
      "Libraries have been loaded\n"
     ]
    }
   ],
   "source": [
    "__imp"
   ]
  },
  {
   "cell_type": "markdown",
   "metadata": {},
   "source": [
    "## Load Additional Libraries"
   ]
  },
  {
   "cell_type": "code",
   "execution_count": 31,
   "metadata": {
    "collapsed": true
   },
   "outputs": [],
   "source": [
    "basepath = os.path.expanduser('../')"
   ]
  },
  {
   "cell_type": "markdown",
   "metadata": {},
   "source": [
    "## Load Data"
   ]
  },
  {
   "cell_type": "code",
   "execution_count": 3,
   "metadata": {},
   "outputs": [
    {
     "name": "stdout",
     "output_type": "stream",
     "text": [
      "CPU times: user 5.54 s, sys: 274 ms, total: 5.82 s\n",
      "Wall time: 6.46 s\n"
     ]
    }
   ],
   "source": [
    "%%time\n",
    "\n",
    "app_train = pd.read_csv(os.path.join(basepath, 'data/raw/application_train.csv.zip'))\n",
    "app_test  = pd.read_csv(os.path.join(basepath, 'data/raw/application_test.csv.zip'))"
   ]
  },
  {
   "cell_type": "markdown",
   "metadata": {},
   "source": [
    "### Dataset Size ( Original )\n",
    "\n",
    "|Table Name|Size| Reduced Size |\n",
    "|----------|----| -------------|\n",
    "|application_train|543.7 MB| 103.5 MB|\n",
    "|application_test|85.9 MB| 16.0 MB |\n",
    "|bureau|512.1 MB|\n",
    "|bureau_balance|2.1 GB|\n",
    "|credit_card_balance|875.7 MB|\n",
    "|installments_payments|830.4 MB|\n",
    "|pos_cash|1.1 GB|\n",
    "|prev_app|1.9 GB|"
   ]
  },
  {
   "cell_type": "code",
   "execution_count": 6,
   "metadata": {},
   "outputs": [
    {
     "name": "stdout",
     "output_type": "stream",
     "text": [
      "<class 'pandas.core.frame.DataFrame'>\n",
      "RangeIndex: 307511 entries, 0 to 307510\n",
      "Columns: 122 entries, SK_ID_CURR to AMT_REQ_CREDIT_BUREAU_YEAR\n",
      "dtypes: float64(65), int64(41), object(16)\n",
      "memory usage: 543.7 MB\n"
     ]
    }
   ],
   "source": [
    "app_train.info(memory_usage='deep')"
   ]
  },
  {
   "cell_type": "code",
   "execution_count": 7,
   "metadata": {},
   "outputs": [
    {
     "name": "stdout",
     "output_type": "stream",
     "text": [
      "<class 'pandas.core.frame.DataFrame'>\n",
      "RangeIndex: 48744 entries, 0 to 48743\n",
      "Columns: 121 entries, SK_ID_CURR to AMT_REQ_CREDIT_BUREAU_YEAR\n",
      "dtypes: float64(65), int64(40), object(16)\n",
      "memory usage: 85.9 MB\n"
     ]
    }
   ],
   "source": [
    "app_test.info(memory_usage='deep')"
   ]
  },
  {
   "cell_type": "code",
   "execution_count": 9,
   "metadata": {},
   "outputs": [
    {
     "data": {
      "text/plain": [
       "SK_ID_CURR                     307511\n",
       "TARGET                              2\n",
       "CNT_CHILDREN                       15\n",
       "DAYS_BIRTH                      17460\n",
       "DAYS_EMPLOYED                   12574\n",
       "DAYS_ID_PUBLISH                  6168\n",
       "FLAG_MOBIL                          2\n",
       "FLAG_EMP_PHONE                      2\n",
       "FLAG_WORK_PHONE                     2\n",
       "FLAG_CONT_MOBILE                    2\n",
       "FLAG_PHONE                          2\n",
       "FLAG_EMAIL                          2\n",
       "REGION_RATING_CLIENT                3\n",
       "REGION_RATING_CLIENT_W_CITY         3\n",
       "HOUR_APPR_PROCESS_START            24\n",
       "REG_REGION_NOT_LIVE_REGION          2\n",
       "REG_REGION_NOT_WORK_REGION          2\n",
       "LIVE_REGION_NOT_WORK_REGION         2\n",
       "REG_CITY_NOT_LIVE_CITY              2\n",
       "REG_CITY_NOT_WORK_CITY              2\n",
       "LIVE_CITY_NOT_WORK_CITY             2\n",
       "FLAG_DOCUMENT_2                     2\n",
       "FLAG_DOCUMENT_3                     2\n",
       "FLAG_DOCUMENT_4                     2\n",
       "FLAG_DOCUMENT_5                     2\n",
       "FLAG_DOCUMENT_6                     2\n",
       "FLAG_DOCUMENT_7                     2\n",
       "FLAG_DOCUMENT_8                     2\n",
       "FLAG_DOCUMENT_9                     2\n",
       "FLAG_DOCUMENT_10                    2\n",
       "FLAG_DOCUMENT_11                    2\n",
       "FLAG_DOCUMENT_12                    2\n",
       "FLAG_DOCUMENT_13                    2\n",
       "FLAG_DOCUMENT_14                    2\n",
       "FLAG_DOCUMENT_15                    2\n",
       "FLAG_DOCUMENT_16                    2\n",
       "FLAG_DOCUMENT_17                    2\n",
       "FLAG_DOCUMENT_18                    2\n",
       "FLAG_DOCUMENT_19                    2\n",
       "FLAG_DOCUMENT_20                    2\n",
       "FLAG_DOCUMENT_21                    2\n",
       "dtype: int64"
      ]
     },
     "execution_count": 9,
     "metadata": {},
     "output_type": "execute_result"
    }
   ],
   "source": [
    "# number of unique values for every feature of type int64 ( train )\n",
    "app_train.select_dtypes(include=['int64']).nunique()"
   ]
  },
  {
   "cell_type": "code",
   "execution_count": 12,
   "metadata": {},
   "outputs": [
    {
     "data": {
      "text/plain": [
       "SK_ID_CURR                     48744\n",
       "CNT_CHILDREN                      11\n",
       "DAYS_BIRTH                     15477\n",
       "DAYS_EMPLOYED                   7863\n",
       "DAYS_ID_PUBLISH                 5880\n",
       "FLAG_MOBIL                         2\n",
       "FLAG_EMP_PHONE                     2\n",
       "FLAG_WORK_PHONE                    2\n",
       "FLAG_CONT_MOBILE                   2\n",
       "FLAG_PHONE                         2\n",
       "FLAG_EMAIL                         2\n",
       "REGION_RATING_CLIENT               3\n",
       "REGION_RATING_CLIENT_W_CITY        4\n",
       "HOUR_APPR_PROCESS_START           24\n",
       "REG_REGION_NOT_LIVE_REGION         2\n",
       "REG_REGION_NOT_WORK_REGION         2\n",
       "LIVE_REGION_NOT_WORK_REGION        2\n",
       "REG_CITY_NOT_LIVE_CITY             2\n",
       "REG_CITY_NOT_WORK_CITY             2\n",
       "LIVE_CITY_NOT_WORK_CITY            2\n",
       "FLAG_DOCUMENT_2                    1\n",
       "FLAG_DOCUMENT_3                    2\n",
       "FLAG_DOCUMENT_4                    2\n",
       "FLAG_DOCUMENT_5                    2\n",
       "FLAG_DOCUMENT_6                    2\n",
       "FLAG_DOCUMENT_7                    2\n",
       "FLAG_DOCUMENT_8                    2\n",
       "FLAG_DOCUMENT_9                    2\n",
       "FLAG_DOCUMENT_10                   1\n",
       "FLAG_DOCUMENT_11                   2\n",
       "FLAG_DOCUMENT_12                   1\n",
       "FLAG_DOCUMENT_13                   1\n",
       "FLAG_DOCUMENT_14                   1\n",
       "FLAG_DOCUMENT_15                   1\n",
       "FLAG_DOCUMENT_16                   1\n",
       "FLAG_DOCUMENT_17                   1\n",
       "FLAG_DOCUMENT_18                   2\n",
       "FLAG_DOCUMENT_19                   1\n",
       "FLAG_DOCUMENT_20                   1\n",
       "FLAG_DOCUMENT_21                   1\n",
       "dtype: int64"
      ]
     },
     "execution_count": 12,
     "metadata": {},
     "output_type": "execute_result"
    }
   ],
   "source": [
    "# number of unique values for every feature of type int64 ( test )\n",
    "app_test.select_dtypes(include=['int64']).nunique()"
   ]
  },
  {
   "cell_type": "code",
   "execution_count": 14,
   "metadata": {},
   "outputs": [
    {
     "data": {
      "text/plain": [
       "NAME_CONTRACT_TYPE             2\n",
       "CODE_GENDER                    3\n",
       "FLAG_OWN_CAR                   2\n",
       "FLAG_OWN_REALTY                2\n",
       "NAME_TYPE_SUITE                7\n",
       "NAME_INCOME_TYPE               8\n",
       "NAME_EDUCATION_TYPE            5\n",
       "NAME_FAMILY_STATUS             6\n",
       "NAME_HOUSING_TYPE              6\n",
       "OCCUPATION_TYPE               18\n",
       "WEEKDAY_APPR_PROCESS_START     7\n",
       "ORGANIZATION_TYPE             58\n",
       "FONDKAPREMONT_MODE             4\n",
       "HOUSETYPE_MODE                 3\n",
       "WALLSMATERIAL_MODE             7\n",
       "EMERGENCYSTATE_MODE            2\n",
       "dtype: int64"
      ]
     },
     "execution_count": 14,
     "metadata": {},
     "output_type": "execute_result"
    }
   ],
   "source": [
    "# number of unique values for every feature of type object ( train )\n",
    "app_train.select_dtypes(include=['object']).nunique()"
   ]
  },
  {
   "cell_type": "code",
   "execution_count": 16,
   "metadata": {},
   "outputs": [
    {
     "data": {
      "text/plain": [
       "NAME_CONTRACT_TYPE             2\n",
       "CODE_GENDER                    2\n",
       "FLAG_OWN_CAR                   2\n",
       "FLAG_OWN_REALTY                2\n",
       "NAME_TYPE_SUITE                7\n",
       "NAME_INCOME_TYPE               7\n",
       "NAME_EDUCATION_TYPE            5\n",
       "NAME_FAMILY_STATUS             5\n",
       "NAME_HOUSING_TYPE              6\n",
       "OCCUPATION_TYPE               18\n",
       "WEEKDAY_APPR_PROCESS_START     7\n",
       "ORGANIZATION_TYPE             58\n",
       "FONDKAPREMONT_MODE             4\n",
       "HOUSETYPE_MODE                 3\n",
       "WALLSMATERIAL_MODE             7\n",
       "EMERGENCYSTATE_MODE            2\n",
       "dtype: int64"
      ]
     },
     "execution_count": 16,
     "metadata": {},
     "output_type": "execute_result"
    }
   ],
   "source": [
    "# number of unique values for every feature of type object ( test )\n",
    "app_test.select_dtypes(include=['object']).nunique()"
   ]
  },
  {
   "cell_type": "code",
   "execution_count": 21,
   "metadata": {},
   "outputs": [
    {
     "data": {
      "text/plain": [
       "AMT_INCOME_TOTAL                1.170000e+08\n",
       "AMT_CREDIT                      4.050000e+06\n",
       "AMT_ANNUITY                     2.580255e+05\n",
       "AMT_GOODS_PRICE                 4.050000e+06\n",
       "REGION_POPULATION_RELATIVE      7.250800e-02\n",
       "DAYS_REGISTRATION               0.000000e+00\n",
       "OWN_CAR_AGE                     9.100000e+01\n",
       "CNT_FAM_MEMBERS                 2.000000e+01\n",
       "EXT_SOURCE_1                    9.626928e-01\n",
       "EXT_SOURCE_2                    8.549997e-01\n",
       "EXT_SOURCE_3                    8.960095e-01\n",
       "APARTMENTS_AVG                  1.000000e+00\n",
       "BASEMENTAREA_AVG                1.000000e+00\n",
       "YEARS_BEGINEXPLUATATION_AVG     1.000000e+00\n",
       "YEARS_BUILD_AVG                 1.000000e+00\n",
       "COMMONAREA_AVG                  1.000000e+00\n",
       "ELEVATORS_AVG                   1.000000e+00\n",
       "ENTRANCES_AVG                   1.000000e+00\n",
       "FLOORSMAX_AVG                   1.000000e+00\n",
       "FLOORSMIN_AVG                   1.000000e+00\n",
       "LANDAREA_AVG                    1.000000e+00\n",
       "LIVINGAPARTMENTS_AVG            1.000000e+00\n",
       "LIVINGAREA_AVG                  1.000000e+00\n",
       "NONLIVINGAPARTMENTS_AVG         1.000000e+00\n",
       "NONLIVINGAREA_AVG               1.000000e+00\n",
       "APARTMENTS_MODE                 1.000000e+00\n",
       "BASEMENTAREA_MODE               1.000000e+00\n",
       "YEARS_BEGINEXPLUATATION_MODE    1.000000e+00\n",
       "YEARS_BUILD_MODE                1.000000e+00\n",
       "COMMONAREA_MODE                 1.000000e+00\n",
       "                                    ...     \n",
       "LIVINGAPARTMENTS_MODE           1.000000e+00\n",
       "LIVINGAREA_MODE                 1.000000e+00\n",
       "NONLIVINGAPARTMENTS_MODE        1.000000e+00\n",
       "NONLIVINGAREA_MODE              1.000000e+00\n",
       "APARTMENTS_MEDI                 1.000000e+00\n",
       "BASEMENTAREA_MEDI               1.000000e+00\n",
       "YEARS_BEGINEXPLUATATION_MEDI    1.000000e+00\n",
       "YEARS_BUILD_MEDI                1.000000e+00\n",
       "COMMONAREA_MEDI                 1.000000e+00\n",
       "ELEVATORS_MEDI                  1.000000e+00\n",
       "ENTRANCES_MEDI                  1.000000e+00\n",
       "FLOORSMAX_MEDI                  1.000000e+00\n",
       "FLOORSMIN_MEDI                  1.000000e+00\n",
       "LANDAREA_MEDI                   1.000000e+00\n",
       "LIVINGAPARTMENTS_MEDI           1.000000e+00\n",
       "LIVINGAREA_MEDI                 1.000000e+00\n",
       "NONLIVINGAPARTMENTS_MEDI        1.000000e+00\n",
       "NONLIVINGAREA_MEDI              1.000000e+00\n",
       "TOTALAREA_MODE                  1.000000e+00\n",
       "OBS_30_CNT_SOCIAL_CIRCLE        3.480000e+02\n",
       "DEF_30_CNT_SOCIAL_CIRCLE        3.400000e+01\n",
       "OBS_60_CNT_SOCIAL_CIRCLE        3.440000e+02\n",
       "DEF_60_CNT_SOCIAL_CIRCLE        2.400000e+01\n",
       "DAYS_LAST_PHONE_CHANGE          0.000000e+00\n",
       "AMT_REQ_CREDIT_BUREAU_HOUR      4.000000e+00\n",
       "AMT_REQ_CREDIT_BUREAU_DAY       9.000000e+00\n",
       "AMT_REQ_CREDIT_BUREAU_WEEK      8.000000e+00\n",
       "AMT_REQ_CREDIT_BUREAU_MON       2.700000e+01\n",
       "AMT_REQ_CREDIT_BUREAU_QRT       2.610000e+02\n",
       "AMT_REQ_CREDIT_BUREAU_YEAR      2.500000e+01\n",
       "Length: 65, dtype: float64"
      ]
     },
     "execution_count": 21,
     "metadata": {},
     "output_type": "execute_result"
    }
   ],
   "source": [
    "# maximum feature value of type float64 ( train )\n",
    "app_train.select_dtypes(include=['float64']).max()"
   ]
  },
  {
   "cell_type": "code",
   "execution_count": 22,
   "metadata": {},
   "outputs": [
    {
     "data": {
      "text/plain": [
       "AMT_INCOME_TOTAL                4.410000e+06\n",
       "AMT_CREDIT                      2.245500e+06\n",
       "AMT_ANNUITY                     1.805760e+05\n",
       "AMT_GOODS_PRICE                 2.245500e+06\n",
       "REGION_POPULATION_RELATIVE      7.250800e-02\n",
       "DAYS_REGISTRATION               0.000000e+00\n",
       "OWN_CAR_AGE                     7.400000e+01\n",
       "CNT_FAM_MEMBERS                 2.100000e+01\n",
       "EXT_SOURCE_1                    9.391445e-01\n",
       "EXT_SOURCE_2                    8.549997e-01\n",
       "EXT_SOURCE_3                    8.825303e-01\n",
       "APARTMENTS_AVG                  1.000000e+00\n",
       "BASEMENTAREA_AVG                1.000000e+00\n",
       "YEARS_BEGINEXPLUATATION_AVG     1.000000e+00\n",
       "YEARS_BUILD_AVG                 1.000000e+00\n",
       "COMMONAREA_AVG                  1.000000e+00\n",
       "ELEVATORS_AVG                   1.000000e+00\n",
       "ENTRANCES_AVG                   1.000000e+00\n",
       "FLOORSMAX_AVG                   1.000000e+00\n",
       "FLOORSMIN_AVG                   1.000000e+00\n",
       "LANDAREA_AVG                    1.000000e+00\n",
       "LIVINGAPARTMENTS_AVG            1.000000e+00\n",
       "LIVINGAREA_AVG                  1.000000e+00\n",
       "NONLIVINGAPARTMENTS_AVG         1.000000e+00\n",
       "NONLIVINGAREA_AVG               1.000000e+00\n",
       "APARTMENTS_MODE                 1.000000e+00\n",
       "BASEMENTAREA_MODE               1.000000e+00\n",
       "YEARS_BEGINEXPLUATATION_MODE    1.000000e+00\n",
       "YEARS_BUILD_MODE                1.000000e+00\n",
       "COMMONAREA_MODE                 1.000000e+00\n",
       "                                    ...     \n",
       "LIVINGAPARTMENTS_MODE           1.000000e+00\n",
       "LIVINGAREA_MODE                 1.000000e+00\n",
       "NONLIVINGAPARTMENTS_MODE        1.000000e+00\n",
       "NONLIVINGAREA_MODE              1.000000e+00\n",
       "APARTMENTS_MEDI                 1.000000e+00\n",
       "BASEMENTAREA_MEDI               1.000000e+00\n",
       "YEARS_BEGINEXPLUATATION_MEDI    1.000000e+00\n",
       "YEARS_BUILD_MEDI                1.000000e+00\n",
       "COMMONAREA_MEDI                 1.000000e+00\n",
       "ELEVATORS_MEDI                  1.000000e+00\n",
       "ENTRANCES_MEDI                  1.000000e+00\n",
       "FLOORSMAX_MEDI                  1.000000e+00\n",
       "FLOORSMIN_MEDI                  1.000000e+00\n",
       "LANDAREA_MEDI                   1.000000e+00\n",
       "LIVINGAPARTMENTS_MEDI           1.000000e+00\n",
       "LIVINGAREA_MEDI                 1.000000e+00\n",
       "NONLIVINGAPARTMENTS_MEDI        1.000000e+00\n",
       "NONLIVINGAREA_MEDI              1.000000e+00\n",
       "TOTALAREA_MODE                  1.000000e+00\n",
       "OBS_30_CNT_SOCIAL_CIRCLE        3.540000e+02\n",
       "DEF_30_CNT_SOCIAL_CIRCLE        3.400000e+01\n",
       "OBS_60_CNT_SOCIAL_CIRCLE        3.510000e+02\n",
       "DEF_60_CNT_SOCIAL_CIRCLE        2.400000e+01\n",
       "DAYS_LAST_PHONE_CHANGE          0.000000e+00\n",
       "AMT_REQ_CREDIT_BUREAU_HOUR      2.000000e+00\n",
       "AMT_REQ_CREDIT_BUREAU_DAY       2.000000e+00\n",
       "AMT_REQ_CREDIT_BUREAU_WEEK      2.000000e+00\n",
       "AMT_REQ_CREDIT_BUREAU_MON       6.000000e+00\n",
       "AMT_REQ_CREDIT_BUREAU_QRT       7.000000e+00\n",
       "AMT_REQ_CREDIT_BUREAU_YEAR      1.700000e+01\n",
       "Length: 65, dtype: float64"
      ]
     },
     "execution_count": 22,
     "metadata": {},
     "output_type": "execute_result"
    }
   ],
   "source": [
    "# maximum feature value of type float64 ( test )\n",
    "app_test.select_dtypes(include=['float64']).max()"
   ]
  },
  {
   "cell_type": "code",
   "execution_count": 41,
   "metadata": {},
   "outputs": [
    {
     "name": "stdout",
     "output_type": "stream",
     "text": [
      "CPU times: user 3.47 s, sys: 163 ms, total: 3.64 s\n",
      "Wall time: 3.63 s\n"
     ]
    }
   ],
   "source": [
    "%%time\n",
    "\n",
    "bureau         = pd.read_csv(os.path.join(basepath, 'data/raw/bureau.csv.zip'))\n",
    "# bureau_balance = pd.read_csv(os.path.join(basepath, 'data/raw/bureau_balance.csv.zip'))"
   ]
  },
  {
   "cell_type": "code",
   "execution_count": 42,
   "metadata": {},
   "outputs": [
    {
     "name": "stdout",
     "output_type": "stream",
     "text": [
      "<class 'pandas.core.frame.DataFrame'>\n",
      "RangeIndex: 1716428 entries, 0 to 1716427\n",
      "Data columns (total 17 columns):\n",
      "SK_ID_CURR                int64\n",
      "SK_ID_BUREAU              int64\n",
      "CREDIT_ACTIVE             object\n",
      "CREDIT_CURRENCY           object\n",
      "DAYS_CREDIT               int64\n",
      "CREDIT_DAY_OVERDUE        int64\n",
      "DAYS_CREDIT_ENDDATE       float64\n",
      "DAYS_ENDDATE_FACT         float64\n",
      "AMT_CREDIT_MAX_OVERDUE    float64\n",
      "CNT_CREDIT_PROLONG        int64\n",
      "AMT_CREDIT_SUM            float64\n",
      "AMT_CREDIT_SUM_DEBT       float64\n",
      "AMT_CREDIT_SUM_LIMIT      float64\n",
      "AMT_CREDIT_SUM_OVERDUE    float64\n",
      "CREDIT_TYPE               object\n",
      "DAYS_CREDIT_UPDATE        int64\n",
      "AMT_ANNUITY               float64\n",
      "dtypes: float64(8), int64(6), object(3)\n",
      "memory usage: 512.1 MB\n"
     ]
    }
   ],
   "source": [
    "bureau.info(memory_usage='deep')"
   ]
  },
  {
   "cell_type": "code",
   "execution_count": 25,
   "metadata": {},
   "outputs": [
    {
     "data": {
      "text/plain": [
       "SK_ID_CURR             305811\n",
       "SK_ID_BUREAU          1716428\n",
       "DAYS_CREDIT              2923\n",
       "CREDIT_DAY_OVERDUE        942\n",
       "CNT_CREDIT_PROLONG         10\n",
       "DAYS_CREDIT_UPDATE       2982\n",
       "dtype: int64"
      ]
     },
     "execution_count": 25,
     "metadata": {},
     "output_type": "execute_result"
    }
   ],
   "source": [
    "bureau.select_dtypes(include=['int64']).nunique()"
   ]
  },
  {
   "cell_type": "code",
   "execution_count": 27,
   "metadata": {},
   "outputs": [
    {
     "data": {
      "text/plain": [
       "CREDIT_ACTIVE       4\n",
       "CREDIT_CURRENCY     4\n",
       "CREDIT_TYPE        15\n",
       "dtype: int64"
      ]
     },
     "execution_count": 27,
     "metadata": {},
     "output_type": "execute_result"
    }
   ],
   "source": [
    "bureau.select_dtypes(include=['object']).nunique()"
   ]
  },
  {
   "cell_type": "code",
   "execution_count": 28,
   "metadata": {},
   "outputs": [
    {
     "data": {
      "text/plain": [
       "DAYS_CREDIT_ENDDATE        14096\n",
       "DAYS_ENDDATE_FACT           2917\n",
       "AMT_CREDIT_MAX_OVERDUE     68251\n",
       "AMT_CREDIT_SUM            236708\n",
       "AMT_CREDIT_SUM_DEBT       226537\n",
       "AMT_CREDIT_SUM_LIMIT       51726\n",
       "AMT_CREDIT_SUM_OVERDUE      1616\n",
       "AMT_ANNUITY                40321\n",
       "dtype: int64"
      ]
     },
     "execution_count": 28,
     "metadata": {},
     "output_type": "execute_result"
    }
   ],
   "source": [
    "bureau.select_dtypes(include=['float64']).nunique()"
   ]
  },
  {
   "cell_type": "code",
   "execution_count": 29,
   "metadata": {},
   "outputs": [
    {
     "data": {
      "text/plain": [
       "DAYS_CREDIT_ENDDATE       3.119900e+04\n",
       "DAYS_ENDDATE_FACT         0.000000e+00\n",
       "AMT_CREDIT_MAX_OVERDUE    1.159872e+08\n",
       "AMT_CREDIT_SUM            5.850000e+08\n",
       "AMT_CREDIT_SUM_DEBT       1.701000e+08\n",
       "AMT_CREDIT_SUM_LIMIT      4.705600e+06\n",
       "AMT_CREDIT_SUM_OVERDUE    3.756681e+06\n",
       "AMT_ANNUITY               1.184534e+08\n",
       "dtype: float64"
      ]
     },
     "execution_count": 29,
     "metadata": {},
     "output_type": "execute_result"
    }
   ],
   "source": [
    "bureau.select_dtypes(include=['float64']).max()"
   ]
  },
  {
   "cell_type": "code",
   "execution_count": 31,
   "metadata": {},
   "outputs": [
    {
     "name": "stdout",
     "output_type": "stream",
     "text": [
      "<class 'pandas.core.frame.DataFrame'>\n",
      "RangeIndex: 27299925 entries, 0 to 27299924\n",
      "Data columns (total 3 columns):\n",
      "SK_ID_BUREAU      int64\n",
      "MONTHS_BALANCE    int64\n",
      "STATUS            object\n",
      "dtypes: int64(2), object(1)\n",
      "memory usage: 2.1 GB\n"
     ]
    }
   ],
   "source": [
    "bureau_balance.info(memory_usage='deep')"
   ]
  },
  {
   "cell_type": "code",
   "execution_count": 33,
   "metadata": {},
   "outputs": [
    {
     "data": {
      "text/plain": [
       "SK_ID_BUREAU      817395\n",
       "MONTHS_BALANCE        97\n",
       "dtype: int64"
      ]
     },
     "execution_count": 33,
     "metadata": {},
     "output_type": "execute_result"
    }
   ],
   "source": [
    "bureau_balance.select_dtypes(include=['int64']).nunique()"
   ]
  },
  {
   "cell_type": "code",
   "execution_count": 34,
   "metadata": {},
   "outputs": [
    {
     "data": {
      "text/plain": [
       "STATUS    8\n",
       "dtype: int64"
      ]
     },
     "execution_count": 34,
     "metadata": {},
     "output_type": "execute_result"
    }
   ],
   "source": [
    "bureau_balance.select_dtypes(include=['object']).nunique()"
   ]
  },
  {
   "cell_type": "code",
   "execution_count": 48,
   "metadata": {
    "collapsed": true
   },
   "outputs": [],
   "source": [
    "float_cols = bureau.select_dtypes(include=['float64']).columns\n",
    "int_cols   = bureau.select_dtypes(include=['int64']).columns\n",
    "obj_cols   = bureau.select_dtypes(include=['object']).columns\n",
    "\n",
    "for f in float_cols:\n",
    "    bureau[f] = bureau[f].astype(np.float32)\n",
    "    \n",
    "for f in int_cols:\n",
    "    if f not in ['SK_ID_CURR', 'SK_ID_BUREAU']:\n",
    "        bureau[f] = bureau[f].astype(np.int16)\n",
    "    else:\n",
    "        bureau[f] = bureau[f].astype(np.int32)\n",
    "        \n",
    "for f in obj_cols:\n",
    "    bureau[f] = np.array(list(map(np.int8, pd.factorize(bureau[f])[0])))"
   ]
  },
  {
   "cell_type": "code",
   "execution_count": 49,
   "metadata": {},
   "outputs": [
    {
     "name": "stdout",
     "output_type": "stream",
     "text": [
      "<class 'pandas.core.frame.DataFrame'>\n",
      "RangeIndex: 1716428 entries, 0 to 1716427\n",
      "Data columns (total 17 columns):\n",
      "SK_ID_CURR                int32\n",
      "SK_ID_BUREAU              int32\n",
      "CREDIT_ACTIVE             int8\n",
      "CREDIT_CURRENCY           int8\n",
      "DAYS_CREDIT               int16\n",
      "CREDIT_DAY_OVERDUE        int16\n",
      "DAYS_CREDIT_ENDDATE       float32\n",
      "DAYS_ENDDATE_FACT         float32\n",
      "AMT_CREDIT_MAX_OVERDUE    float32\n",
      "CNT_CREDIT_PROLONG        int16\n",
      "AMT_CREDIT_SUM            float32\n",
      "AMT_CREDIT_SUM_DEBT       float32\n",
      "AMT_CREDIT_SUM_LIMIT      float32\n",
      "AMT_CREDIT_SUM_OVERDUE    float32\n",
      "CREDIT_TYPE               int8\n",
      "DAYS_CREDIT_UPDATE        int16\n",
      "AMT_ANNUITY               float32\n",
      "dtypes: float32(8), int16(4), int32(2), int8(3)\n",
      "memory usage: 83.5 MB\n"
     ]
    }
   ],
   "source": [
    "bureau.info(memory_usage='deep')"
   ]
  },
  {
   "cell_type": "code",
   "execution_count": 36,
   "metadata": {},
   "outputs": [
    {
     "name": "stdout",
     "output_type": "stream",
     "text": [
      "CPU times: user 25.5 s, sys: 1.72 s, total: 27.2 s\n",
      "Wall time: 37.9 s\n"
     ]
    }
   ],
   "source": [
    "%%time\n",
    "\n",
    "credit_card_balance   = pd.read_csv(os.path.join(basepath, 'data/raw/credit_card_balance.csv.zip'))\n",
    "installments_payments = pd.read_csv(os.path.join(basepath, 'data/raw/installments_payments.csv.zip'))"
   ]
  },
  {
   "cell_type": "code",
   "execution_count": 37,
   "metadata": {},
   "outputs": [
    {
     "name": "stdout",
     "output_type": "stream",
     "text": [
      "<class 'pandas.core.frame.DataFrame'>\n",
      "RangeIndex: 3840312 entries, 0 to 3840311\n",
      "Data columns (total 23 columns):\n",
      "SK_ID_PREV                    int64\n",
      "SK_ID_CURR                    int64\n",
      "MONTHS_BALANCE                int64\n",
      "AMT_BALANCE                   float64\n",
      "AMT_CREDIT_LIMIT_ACTUAL       int64\n",
      "AMT_DRAWINGS_ATM_CURRENT      float64\n",
      "AMT_DRAWINGS_CURRENT          float64\n",
      "AMT_DRAWINGS_OTHER_CURRENT    float64\n",
      "AMT_DRAWINGS_POS_CURRENT      float64\n",
      "AMT_INST_MIN_REGULARITY       float64\n",
      "AMT_PAYMENT_CURRENT           float64\n",
      "AMT_PAYMENT_TOTAL_CURRENT     float64\n",
      "AMT_RECEIVABLE_PRINCIPAL      float64\n",
      "AMT_RECIVABLE                 float64\n",
      "AMT_TOTAL_RECEIVABLE          float64\n",
      "CNT_DRAWINGS_ATM_CURRENT      float64\n",
      "CNT_DRAWINGS_CURRENT          int64\n",
      "CNT_DRAWINGS_OTHER_CURRENT    float64\n",
      "CNT_DRAWINGS_POS_CURRENT      float64\n",
      "CNT_INSTALMENT_MATURE_CUM     float64\n",
      "NAME_CONTRACT_STATUS          object\n",
      "SK_DPD                        int64\n",
      "SK_DPD_DEF                    int64\n",
      "dtypes: float64(15), int64(7), object(1)\n",
      "memory usage: 875.7 MB\n"
     ]
    }
   ],
   "source": [
    "credit_card_balance.info(memory_usage='deep')"
   ]
  },
  {
   "cell_type": "code",
   "execution_count": 38,
   "metadata": {},
   "outputs": [
    {
     "name": "stdout",
     "output_type": "stream",
     "text": [
      "<class 'pandas.core.frame.DataFrame'>\n",
      "RangeIndex: 13605401 entries, 0 to 13605400\n",
      "Data columns (total 8 columns):\n",
      "SK_ID_PREV                int64\n",
      "SK_ID_CURR                int64\n",
      "NUM_INSTALMENT_VERSION    float64\n",
      "NUM_INSTALMENT_NUMBER     int64\n",
      "DAYS_INSTALMENT           float64\n",
      "DAYS_ENTRY_PAYMENT        float64\n",
      "AMT_INSTALMENT            float64\n",
      "AMT_PAYMENT               float64\n",
      "dtypes: float64(5), int64(3)\n",
      "memory usage: 830.4 MB\n"
     ]
    }
   ],
   "source": [
    "installments_payments.info(memory_usage='deep')"
   ]
  },
  {
   "cell_type": "code",
   "execution_count": 39,
   "metadata": {},
   "outputs": [
    {
     "data": {
      "text/plain": [
       "SK_ID_PREV                 104307\n",
       "SK_ID_CURR                 103558\n",
       "MONTHS_BALANCE                 96\n",
       "AMT_CREDIT_LIMIT_ACTUAL       181\n",
       "CNT_DRAWINGS_CURRENT          129\n",
       "SK_DPD                        917\n",
       "SK_DPD_DEF                    378\n",
       "dtype: int64"
      ]
     },
     "execution_count": 39,
     "metadata": {},
     "output_type": "execute_result"
    }
   ],
   "source": [
    "credit_card_balance.select_dtypes(include=['int64']).nunique()"
   ]
  },
  {
   "cell_type": "code",
   "execution_count": 41,
   "metadata": {},
   "outputs": [
    {
     "data": {
      "text/plain": [
       "AMT_BALANCE                   1505902.185\n",
       "AMT_DRAWINGS_ATM_CURRENT      2115000.000\n",
       "AMT_DRAWINGS_CURRENT          2287098.315\n",
       "AMT_DRAWINGS_OTHER_CURRENT    1529847.000\n",
       "AMT_DRAWINGS_POS_CURRENT      2239274.160\n",
       "AMT_INST_MIN_REGULARITY        202882.005\n",
       "AMT_PAYMENT_CURRENT           4289207.445\n",
       "AMT_PAYMENT_TOTAL_CURRENT     4278315.690\n",
       "AMT_RECEIVABLE_PRINCIPAL      1472316.795\n",
       "AMT_RECIVABLE                 1493338.185\n",
       "AMT_TOTAL_RECEIVABLE          1493338.185\n",
       "CNT_DRAWINGS_ATM_CURRENT           51.000\n",
       "CNT_DRAWINGS_OTHER_CURRENT         12.000\n",
       "CNT_DRAWINGS_POS_CURRENT          165.000\n",
       "CNT_INSTALMENT_MATURE_CUM         120.000\n",
       "dtype: float64"
      ]
     },
     "execution_count": 41,
     "metadata": {},
     "output_type": "execute_result"
    }
   ],
   "source": [
    "credit_card_balance.select_dtypes(include=['float64']).max()"
   ]
  },
  {
   "cell_type": "code",
   "execution_count": 42,
   "metadata": {},
   "outputs": [
    {
     "data": {
      "text/plain": [
       "NUM_INSTALMENT_VERSION        65\n",
       "DAYS_INSTALMENT             2922\n",
       "DAYS_ENTRY_PAYMENT          3039\n",
       "AMT_INSTALMENT            902539\n",
       "AMT_PAYMENT               944235\n",
       "dtype: int64"
      ]
     },
     "execution_count": 42,
     "metadata": {},
     "output_type": "execute_result"
    }
   ],
   "source": [
    "installments_payments.select_dtypes(include=['float64']).nunique()"
   ]
  },
  {
   "cell_type": "code",
   "execution_count": 43,
   "metadata": {},
   "outputs": [
    {
     "data": {
      "text/plain": [
       "NUM_INSTALMENT_VERSION        178.000\n",
       "DAYS_INSTALMENT                -1.000\n",
       "DAYS_ENTRY_PAYMENT             -1.000\n",
       "AMT_INSTALMENT            3771487.845\n",
       "AMT_PAYMENT               3771487.845\n",
       "dtype: float64"
      ]
     },
     "execution_count": 43,
     "metadata": {},
     "output_type": "execute_result"
    }
   ],
   "source": [
    "installments_payments.select_dtypes(include=['float64']).max()"
   ]
  },
  {
   "cell_type": "code",
   "execution_count": 45,
   "metadata": {},
   "outputs": [
    {
     "name": "stdout",
     "output_type": "stream",
     "text": [
      "CPU times: user 16.5 s, sys: 1.01 s, total: 17.5 s\n",
      "Wall time: 21.2 s\n"
     ]
    }
   ],
   "source": [
    "%%time\n",
    "\n",
    "pos_cash = pd.read_csv(os.path.join(basepath, 'data/raw/POS_CASH_balance.csv.zip'))\n",
    "prev_app = pd.read_csv(os.path.join(basepath, 'data/raw/previous_application.csv.zip'))"
   ]
  },
  {
   "cell_type": "code",
   "execution_count": 46,
   "metadata": {},
   "outputs": [
    {
     "name": "stdout",
     "output_type": "stream",
     "text": [
      "<class 'pandas.core.frame.DataFrame'>\n",
      "RangeIndex: 10001358 entries, 0 to 10001357\n",
      "Data columns (total 8 columns):\n",
      "SK_ID_PREV               int64\n",
      "SK_ID_CURR               int64\n",
      "MONTHS_BALANCE           int64\n",
      "CNT_INSTALMENT           float64\n",
      "CNT_INSTALMENT_FUTURE    float64\n",
      "NAME_CONTRACT_STATUS     object\n",
      "SK_DPD                   int64\n",
      "SK_DPD_DEF               int64\n",
      "dtypes: float64(2), int64(5), object(1)\n",
      "memory usage: 1.1 GB\n"
     ]
    }
   ],
   "source": [
    "pos_cash.info(memory_usage='deep')"
   ]
  },
  {
   "cell_type": "code",
   "execution_count": 49,
   "metadata": {},
   "outputs": [
    {
     "data": {
      "text/plain": [
       "SK_ID_PREV        936325\n",
       "SK_ID_CURR        337252\n",
       "MONTHS_BALANCE        96\n",
       "SK_DPD              3400\n",
       "SK_DPD_DEF          2307\n",
       "dtype: int64"
      ]
     },
     "execution_count": 49,
     "metadata": {},
     "output_type": "execute_result"
    }
   ],
   "source": [
    "pos_cash.select_dtypes(include=['int64']).nunique()"
   ]
  },
  {
   "cell_type": "code",
   "execution_count": 50,
   "metadata": {},
   "outputs": [
    {
     "data": {
      "text/plain": [
       "CNT_INSTALMENT           92.0\n",
       "CNT_INSTALMENT_FUTURE    85.0\n",
       "dtype: float64"
      ]
     },
     "execution_count": 50,
     "metadata": {},
     "output_type": "execute_result"
    }
   ],
   "source": [
    "pos_cash.select_dtypes(include=['float64']).max()"
   ]
  },
  {
   "cell_type": "code",
   "execution_count": 51,
   "metadata": {},
   "outputs": [
    {
     "data": {
      "text/plain": [
       "CNT_INSTALMENT           73\n",
       "CNT_INSTALMENT_FUTURE    79\n",
       "dtype: int64"
      ]
     },
     "execution_count": 51,
     "metadata": {},
     "output_type": "execute_result"
    }
   ],
   "source": [
    "pos_cash.select_dtypes(include=['float64']).nunique()"
   ]
  },
  {
   "cell_type": "code",
   "execution_count": 47,
   "metadata": {},
   "outputs": [
    {
     "name": "stdout",
     "output_type": "stream",
     "text": [
      "<class 'pandas.core.frame.DataFrame'>\n",
      "RangeIndex: 1670214 entries, 0 to 1670213\n",
      "Data columns (total 37 columns):\n",
      "SK_ID_PREV                     1670214 non-null int64\n",
      "SK_ID_CURR                     1670214 non-null int64\n",
      "NAME_CONTRACT_TYPE             1670214 non-null object\n",
      "AMT_ANNUITY                    1297979 non-null float64\n",
      "AMT_APPLICATION                1670214 non-null float64\n",
      "AMT_CREDIT                     1670213 non-null float64\n",
      "AMT_DOWN_PAYMENT               774370 non-null float64\n",
      "AMT_GOODS_PRICE                1284699 non-null float64\n",
      "WEEKDAY_APPR_PROCESS_START     1670214 non-null object\n",
      "HOUR_APPR_PROCESS_START        1670214 non-null int64\n",
      "FLAG_LAST_APPL_PER_CONTRACT    1670214 non-null object\n",
      "NFLAG_LAST_APPL_IN_DAY         1670214 non-null int64\n",
      "RATE_DOWN_PAYMENT              774370 non-null float64\n",
      "RATE_INTEREST_PRIMARY          5951 non-null float64\n",
      "RATE_INTEREST_PRIVILEGED       5951 non-null float64\n",
      "NAME_CASH_LOAN_PURPOSE         1670214 non-null object\n",
      "NAME_CONTRACT_STATUS           1670214 non-null object\n",
      "DAYS_DECISION                  1670214 non-null int64\n",
      "NAME_PAYMENT_TYPE              1670214 non-null object\n",
      "CODE_REJECT_REASON             1670214 non-null object\n",
      "NAME_TYPE_SUITE                849809 non-null object\n",
      "NAME_CLIENT_TYPE               1670214 non-null object\n",
      "NAME_GOODS_CATEGORY            1670214 non-null object\n",
      "NAME_PORTFOLIO                 1670214 non-null object\n",
      "NAME_PRODUCT_TYPE              1670214 non-null object\n",
      "CHANNEL_TYPE                   1670214 non-null object\n",
      "SELLERPLACE_AREA               1670214 non-null int64\n",
      "NAME_SELLER_INDUSTRY           1670214 non-null object\n",
      "CNT_PAYMENT                    1297984 non-null float64\n",
      "NAME_YIELD_GROUP               1670214 non-null object\n",
      "PRODUCT_COMBINATION            1669868 non-null object\n",
      "DAYS_FIRST_DRAWING             997149 non-null float64\n",
      "DAYS_FIRST_DUE                 997149 non-null float64\n",
      "DAYS_LAST_DUE_1ST_VERSION      997149 non-null float64\n",
      "DAYS_LAST_DUE                  997149 non-null float64\n",
      "DAYS_TERMINATION               997149 non-null float64\n",
      "NFLAG_INSURED_ON_APPROVAL      997149 non-null float64\n",
      "dtypes: float64(15), int64(6), object(16)\n",
      "memory usage: 1.9 GB\n"
     ]
    }
   ],
   "source": [
    "prev_app.info(memory_usage='deep')"
   ]
  },
  {
   "cell_type": "markdown",
   "metadata": {},
   "source": [
    "### Data Type Maps"
   ]
  },
  {
   "cell_type": "code",
   "execution_count": 22,
   "metadata": {},
   "outputs": [
    {
     "name": "stdout",
     "output_type": "stream",
     "text": [
      "CPU times: user 6 s, sys: 122 ms, total: 6.12 s\n",
      "Wall time: 6.13 s\n"
     ]
    }
   ],
   "source": [
    "%%time\n",
    "\n",
    "# for application train and application test\n",
    "app_train = pd.read_csv(os.path.join(basepath, 'data/raw/application_train.csv.zip'))\n",
    "app_test  = pd.read_csv(os.path.join(basepath, 'data/raw/application_test.csv.zip'))"
   ]
  },
  {
   "cell_type": "code",
   "execution_count": 23,
   "metadata": {},
   "outputs": [
    {
     "name": "stdout",
     "output_type": "stream",
     "text": [
      "CPU times: user 6.6 s, sys: 1.89 s, total: 8.49 s\n",
      "Wall time: 8.5 s\n"
     ]
    }
   ],
   "source": [
    "%%time\n",
    "\n",
    "# for int64\n",
    "for col in app_test.select_dtypes(include=['int64']):\n",
    "    if col == 'SK_ID_CURR':\n",
    "        app_train[col] = app_train[col].astype(np.int32)\n",
    "        app_test[col]  = app_test[col].astype(np.int32)\n",
    "    elif col in ['DAYS_BITH', 'DAYS_EMPLOYED', 'DAYS_ID_PUBLISH']:\n",
    "        app_train[col] = app_train[col].astype(np.int16)\n",
    "        app_test[col]  = app_test[col].astype(np.int16)\n",
    "    else:\n",
    "        app_train[col] = app_train[col].astype(np.int8)\n",
    "        app_test[col]  = app_test[col].astype(np.int8)\n",
    "        \n",
    "app_train['TARGET'] = app_train['TARGET'].astype(np.int8)\n",
    "\n",
    "# for float 64\n",
    "for col in app_test.select_dtypes(include=['float64']):\n",
    "    app_train[col] = app_train[col].astype(np.float32)\n",
    "    app_test[col]  = app_test[col].astype(np.float32)\n",
    "\n",
    "# object cols\n",
    "obj_cols = app_test.select_dtypes(include=['object']).columns\n",
    "ntrain = len(app_train)\n",
    "data = pd.concat((app_train, app_test))\n",
    "del app_train, app_test\n",
    "gc.collect();\n",
    "\n",
    "for col in obj_cols:\n",
    "    data[col] = np.array(list(map(np.int8, pd.factorize(data[col])[0])))\n",
    "    \n",
    "app_train = data.iloc[:ntrain]\n",
    "app_test  = data.iloc[ntrain:]\n",
    "\n",
    "app_test.drop('TARGET', axis=1, inplace=True)"
   ]
  },
  {
   "cell_type": "code",
   "execution_count": 27,
   "metadata": {},
   "outputs": [
    {
     "data": {
      "text/plain": [
       "['AMT_ANNUITY',\n",
       " 'AMT_CREDIT',\n",
       " 'AMT_GOODS_PRICE',\n",
       " 'AMT_INCOME_TOTAL',\n",
       " 'AMT_REQ_CREDIT_BUREAU_DAY',\n",
       " 'AMT_REQ_CREDIT_BUREAU_HOUR',\n",
       " 'AMT_REQ_CREDIT_BUREAU_MON',\n",
       " 'AMT_REQ_CREDIT_BUREAU_QRT',\n",
       " 'AMT_REQ_CREDIT_BUREAU_WEEK',\n",
       " 'AMT_REQ_CREDIT_BUREAU_YEAR',\n",
       " 'APARTMENTS_AVG',\n",
       " 'APARTMENTS_MEDI',\n",
       " 'APARTMENTS_MODE',\n",
       " 'BASEMENTAREA_AVG',\n",
       " 'BASEMENTAREA_MEDI',\n",
       " 'BASEMENTAREA_MODE',\n",
       " 'CNT_CHILDREN',\n",
       " 'CNT_FAM_MEMBERS',\n",
       " 'CODE_GENDER',\n",
       " 'COMMONAREA_AVG',\n",
       " 'COMMONAREA_MEDI',\n",
       " 'COMMONAREA_MODE',\n",
       " 'DAYS_BIRTH',\n",
       " 'DAYS_EMPLOYED',\n",
       " 'DAYS_ID_PUBLISH',\n",
       " 'DAYS_LAST_PHONE_CHANGE',\n",
       " 'DAYS_REGISTRATION',\n",
       " 'DEF_30_CNT_SOCIAL_CIRCLE',\n",
       " 'DEF_60_CNT_SOCIAL_CIRCLE',\n",
       " 'ELEVATORS_AVG',\n",
       " 'ELEVATORS_MEDI',\n",
       " 'ELEVATORS_MODE',\n",
       " 'EMERGENCYSTATE_MODE',\n",
       " 'ENTRANCES_AVG',\n",
       " 'ENTRANCES_MEDI',\n",
       " 'ENTRANCES_MODE',\n",
       " 'EXT_SOURCE_1',\n",
       " 'EXT_SOURCE_2',\n",
       " 'EXT_SOURCE_3',\n",
       " 'FLAG_CONT_MOBILE',\n",
       " 'FLAG_DOCUMENT_10',\n",
       " 'FLAG_DOCUMENT_11',\n",
       " 'FLAG_DOCUMENT_12',\n",
       " 'FLAG_DOCUMENT_13',\n",
       " 'FLAG_DOCUMENT_14',\n",
       " 'FLAG_DOCUMENT_15',\n",
       " 'FLAG_DOCUMENT_16',\n",
       " 'FLAG_DOCUMENT_17',\n",
       " 'FLAG_DOCUMENT_18',\n",
       " 'FLAG_DOCUMENT_19',\n",
       " 'FLAG_DOCUMENT_2',\n",
       " 'FLAG_DOCUMENT_20',\n",
       " 'FLAG_DOCUMENT_21',\n",
       " 'FLAG_DOCUMENT_3',\n",
       " 'FLAG_DOCUMENT_4',\n",
       " 'FLAG_DOCUMENT_5',\n",
       " 'FLAG_DOCUMENT_6',\n",
       " 'FLAG_DOCUMENT_7',\n",
       " 'FLAG_DOCUMENT_8',\n",
       " 'FLAG_DOCUMENT_9',\n",
       " 'FLAG_EMAIL',\n",
       " 'FLAG_EMP_PHONE',\n",
       " 'FLAG_MOBIL',\n",
       " 'FLAG_OWN_CAR',\n",
       " 'FLAG_OWN_REALTY',\n",
       " 'FLAG_PHONE',\n",
       " 'FLAG_WORK_PHONE',\n",
       " 'FLOORSMAX_AVG',\n",
       " 'FLOORSMAX_MEDI',\n",
       " 'FLOORSMAX_MODE',\n",
       " 'FLOORSMIN_AVG',\n",
       " 'FLOORSMIN_MEDI',\n",
       " 'FLOORSMIN_MODE',\n",
       " 'FONDKAPREMONT_MODE',\n",
       " 'HOUR_APPR_PROCESS_START',\n",
       " 'HOUSETYPE_MODE',\n",
       " 'LANDAREA_AVG',\n",
       " 'LANDAREA_MEDI',\n",
       " 'LANDAREA_MODE',\n",
       " 'LIVE_CITY_NOT_WORK_CITY',\n",
       " 'LIVE_REGION_NOT_WORK_REGION',\n",
       " 'LIVINGAPARTMENTS_AVG',\n",
       " 'LIVINGAPARTMENTS_MEDI',\n",
       " 'LIVINGAPARTMENTS_MODE',\n",
       " 'LIVINGAREA_AVG',\n",
       " 'LIVINGAREA_MEDI',\n",
       " 'LIVINGAREA_MODE',\n",
       " 'NAME_CONTRACT_TYPE',\n",
       " 'NAME_EDUCATION_TYPE',\n",
       " 'NAME_FAMILY_STATUS',\n",
       " 'NAME_HOUSING_TYPE',\n",
       " 'NAME_INCOME_TYPE',\n",
       " 'NAME_TYPE_SUITE',\n",
       " 'NONLIVINGAPARTMENTS_AVG',\n",
       " 'NONLIVINGAPARTMENTS_MEDI',\n",
       " 'NONLIVINGAPARTMENTS_MODE',\n",
       " 'NONLIVINGAREA_AVG',\n",
       " 'NONLIVINGAREA_MEDI',\n",
       " 'NONLIVINGAREA_MODE',\n",
       " 'OBS_30_CNT_SOCIAL_CIRCLE',\n",
       " 'OBS_60_CNT_SOCIAL_CIRCLE',\n",
       " 'OCCUPATION_TYPE',\n",
       " 'ORGANIZATION_TYPE',\n",
       " 'OWN_CAR_AGE',\n",
       " 'REGION_POPULATION_RELATIVE',\n",
       " 'REGION_RATING_CLIENT',\n",
       " 'REGION_RATING_CLIENT_W_CITY',\n",
       " 'REG_CITY_NOT_LIVE_CITY',\n",
       " 'REG_CITY_NOT_WORK_CITY',\n",
       " 'REG_REGION_NOT_LIVE_REGION',\n",
       " 'REG_REGION_NOT_WORK_REGION',\n",
       " 'SK_ID_CURR',\n",
       " 'TARGET',\n",
       " 'TOTALAREA_MODE',\n",
       " 'WALLSMATERIAL_MODE',\n",
       " 'WEEKDAY_APPR_PROCESS_START',\n",
       " 'YEARS_BEGINEXPLUATATION_AVG',\n",
       " 'YEARS_BEGINEXPLUATATION_MEDI',\n",
       " 'YEARS_BEGINEXPLUATATION_MODE',\n",
       " 'YEARS_BUILD_AVG',\n",
       " 'YEARS_BUILD_MEDI',\n",
       " 'YEARS_BUILD_MODE']"
      ]
     },
     "execution_count": 27,
     "metadata": {},
     "output_type": "execute_result"
    }
   ],
   "source": [
    "app_train.columns.tolist()"
   ]
  }
 ],
 "metadata": {
  "kernelspec": {
   "display_name": "Python 3",
   "language": "python",
   "name": "python3"
  },
  "language_info": {
   "codemirror_mode": {
    "name": "ipython",
    "version": 3
   },
   "file_extension": ".py",
   "mimetype": "text/x-python",
   "name": "python",
   "nbconvert_exporter": "python",
   "pygments_lexer": "ipython3",
   "version": "3.6.1"
  }
 },
 "nbformat": 4,
 "nbformat_minor": 2
}
